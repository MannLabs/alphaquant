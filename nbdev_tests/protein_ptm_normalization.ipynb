{
 "cells": [
  {
   "cell_type": "code",
   "execution_count": 1,
   "metadata": {},
   "outputs": [],
   "source": [
    "# default_exp protein_ptm_normalization"
   ]
  },
  {
   "cell_type": "code",
   "execution_count": 2,
   "metadata": {},
   "outputs": [],
   "source": [
    "#hide\n",
    "%reload_ext autoreload\n",
    "%autoreload 2"
   ]
  },
  {
   "cell_type": "markdown",
   "metadata": {},
   "source": [
    "## Module Tests"
   ]
  },
  {
   "cell_type": "code",
   "execution_count": 3,
   "metadata": {},
   "outputs": [],
   "source": [
    "#hide\n",
    "import alphaquant.ptm.protein_ptm_normalization as aqptmnorm\n",
    "\n",
    "def test_p_value_damping():\n",
    "    check_that_half_fc_is_half_logp_value()\n",
    "    check_that_half_fc_is_half_logp_value_minus()\n",
    "    check_that_unsignificant_protein_retains_ptm_p_value()\n",
    "    check_that_no_protfc_is_ptmp_value()\n",
    "    check_that_same_fc_equals_p_value1()\n",
    "\n",
    "\n",
    "def check_that_half_fc_is_half_logp_value():\n",
    "    reginfos = aqptmnorm.RegulationInfos(log2fc_ptm=1.5, p_value_ptm=1e-10, log2fc_protein=0.75,p_value_protein=0.001)\n",
    "    p_valuedamper = aqptmnorm.PvalDamper(reginfos)\n",
    "    damped_p_value = p_valuedamper.get_p_value()\n",
    "    assert damped_p_value == 1e-5\n",
    "\n",
    "def check_that_half_fc_is_half_logp_value_minus():\n",
    "    reginfos = aqptmnorm.RegulationInfos(log2fc_ptm=-1.5, p_value_ptm=1e-10, log2fc_protein=-0.75,p_value_protein=0.001)\n",
    "    p_valuedamper = aqptmnorm.PvalDamper(reginfos)\n",
    "    damped_p_value = p_valuedamper.get_p_value()\n",
    "    assert damped_p_value == 1e-5\n",
    "\n",
    "def check_that_unsignificant_protein_retains_ptm_p_value():\n",
    "    reginfos = aqptmnorm.RegulationInfos(log2fc_ptm=1.5, p_value_ptm=1e-10, log2fc_protein=0.75,p_value_protein=0.1)\n",
    "    p_valuedamper = aqptmnorm.PvalDamper(reginfos)\n",
    "    damped_p_value = p_valuedamper.get_p_value()\n",
    "    assert damped_p_value == 1e-10\n",
    "\n",
    "def check_that_no_protfc_is_ptmp_value():\n",
    "    reginfos =aqptmnorm.RegulationInfos(log2fc_ptm=1.5, p_value_ptm=1e-10, log2fc_protein=0,p_value_protein=0.001)\n",
    "    p_valuedamper = aqptmnorm.PvalDamper(reginfos)\n",
    "    damped_p_value = p_valuedamper.get_p_value()\n",
    "    assert damped_p_value == 1e-10\n",
    "\n",
    "def check_that_same_fc_equals_p_value1():\n",
    "    reginfos = aqptmnorm.RegulationInfos(log2fc_ptm=1.5, p_value_ptm=1e-10, log2fc_protein=1.5,p_value_protein=0.001)\n",
    "    p_valuedamper = aqptmnorm.PvalDamper(reginfos)\n",
    "    damped_p_value = p_valuedamper.get_p_value()\n",
    "    assert damped_p_value == 1\n",
    "\n",
    "test_p_value_damping()"
   ]
  },
  {
   "cell_type": "markdown",
   "metadata": {},
   "source": [
    "### Simulate Results outputs"
   ]
  },
  {
   "cell_type": "code",
   "execution_count": 10,
   "metadata": {},
   "outputs": [],
   "source": [
    "#hide\n",
    "import pandas as pd\n",
    "import os\n",
    "import shutil\n",
    "import random\n",
    "import numpy as np\n",
    "import glob\n",
    "\n",
    "\n",
    "RESULTS_DIR_SIMULATED_PROTEOME = \"../test_data/unit_tests/protein_ptm_normalization/toy_data/results_proteome\"\n",
    "RESULTS_DIR_SIMULATED_PTM = \"../test_data/unit_tests/protein_ptm_normalization/toy_data/results_ptm\"\n",
    "\n",
    "class ResultsDirSimulator():\n",
    "    def __init__(self, results_dir_protein, results_dir_ptm, resultswriterconfig_vec):\n",
    "        self._results_dir_protein = results_dir_protein\n",
    "        self._results_dir_ptm = results_dir_ptm\n",
    "        self._resultswriterconfig_vec = resultswriterconfig_vec\n",
    "        self._create_toy_results_dirs()\n",
    "        self._write_out_simulated_dataframes()\n",
    "\n",
    "    \n",
    "    def _create_toy_results_dirs(self):\n",
    "        self._create_or_replace_folder(self._results_dir_protein)\n",
    "        self._create_or_replace_folder(self._results_dir_ptm)\n",
    "    \n",
    "    @staticmethod\n",
    "    def _create_or_replace_folder(folder):\n",
    "        if os.path.exists(folder):\n",
    "            shutil.rmtree(folder)\n",
    "        os.makedirs(folder)\n",
    "\n",
    "    def _write_out_simulated_dataframes(self):\n",
    "        for idx, resultswriterconfig in enumerate(self._resultswriterconfig_vec):\n",
    "            condpairname = f\"condpair{idx}\" #make up a name for the tables\n",
    "            resultswriterconfig.filenames_w_config.append(condpairname)\n",
    "            resutstable_simulator = ResultsTableSimulator(resultswriterconfig)\n",
    "            self._save_dataframe(resutstable_simulator.protein_df, self._results_dir_protein, condpairname)\n",
    "            self._save_dataframe(resutstable_simulator.ptm_df, self._results_dir_ptm, condpairname)\n",
    "\n",
    "    @staticmethod\n",
    "    def _save_dataframe(df, results_dir, name):\n",
    "        df.to_csv(f\"{results_dir}/{name}.results.tsv\", sep = \"\\t\", index = None)\n",
    "\n",
    "\n",
    "class ResultsTableSimulator():\n",
    "    def __init__(self, resultswriterconfig):\n",
    "        self.protein_df = None\n",
    "        self.ptm_df = None\n",
    "        self._resultswriterconfig = resultswriterconfig\n",
    "        self._simulate_dataframes_as_specified()\n",
    "    \n",
    "    def _simulate_dataframes_as_specified(self):\n",
    "        protein_df_initial = self._simulate_protein_df()\n",
    "        ptm_df_initial = self._simulate_ptm_df(protein_df_initial, offset_fc_to_protein=self._resultswriterconfig.offset_fc)\n",
    "        self.protein_df =self._remove_rows_from_df(protein_df_initial, nrows_to_remove=self._resultswriterconfig.number_missing_proteins)\n",
    "        self.ptm_df = self._remove_rows_from_df(ptm_df_initial, nrows_to_remove=self._resultswriterconfig.number_missing_ptms)\n",
    "\n",
    "    def _simulate_protein_df(self):\n",
    "        proteins = [f'name{x}' for x in range(self._resultswriterconfig.length)]\n",
    "        fcs = self._get_fcs()\n",
    "        np.random.seed(42)\n",
    "        p_value = [10**(-np.random.uniform(0, 10)) for x in range(self._resultswriterconfig.length)]\n",
    "        return pd.DataFrame(data = {'protein' : proteins, 'log2fc' : fcs, 'p_value' : p_value})\n",
    "\n",
    "    def _get_fcs(self):\n",
    "        np.random.seed(42)\n",
    "        if self._resultswriterconfig.fc_for_all_proteins is not None:\n",
    "            return [self._resultswriterconfig.fc_for_all_proteins for x in range( self._resultswriterconfig.length)]\n",
    "        else:\n",
    "            return [np.random.uniform(low = -2, high= 2) for x in range(self._resultswriterconfig.length)]\n",
    "    \n",
    "    @staticmethod\n",
    "    def _simulate_ptm_df(protein_df, offset_fc_to_protein):\n",
    "        ptm_df = protein_df.copy()\n",
    "        ptm_df[\"swissprot\"] = protein_df[\"protein\"]\n",
    "        ptm_df[\"protein\"] = [f\"{x}_protname_ptmsite\" for x in protein_df[\"protein\"]]\n",
    "        ptm_df[\"log2fc\"] = [x + offset_fc_to_protein for x in ptm_df[\"log2fc\"]]\n",
    "        return ptm_df\n",
    "    \n",
    "    @staticmethod\n",
    "    def _remove_rows_from_df(results_df, nrows_to_remove):\n",
    "        all_idxs = list(results_df.index)\n",
    "        randomly_sampled_idxs_to_remove = random.sample(all_idxs, nrows_to_remove)\n",
    "        return results_df.drop(index = randomly_sampled_idxs_to_remove)\n",
    "\n",
    "\n",
    "class ResultsWriterConfig():\n",
    "    def __init__(self, length, offset_fc, number_missing_proteins, number_missing_ptms, fc_for_all_proteins = None):\n",
    "        self.length = length\n",
    "        self.offset_fc = offset_fc\n",
    "        self.number_missing_proteins = number_missing_proteins\n",
    "        self.number_missing_ptms = number_missing_ptms\n",
    "        self.filenames_w_config = []\n",
    "        self.fc_for_all_proteins = fc_for_all_proteins\n",
    "\n",
    "\n"
   ]
  },
  {
   "cell_type": "markdown",
   "metadata": {},
   "source": [
    "### Check that normalized outputs are as expected from simulation"
   ]
  },
  {
   "cell_type": "code",
   "execution_count": 11,
   "metadata": {},
   "outputs": [
    {
     "name": "stderr",
     "output_type": "stream",
     "text": [
      "2024-03-19 17:05:19,167 - alphaquant.ptm.protein_ptm_normalization - INFO - 36 of 37 genes in PTM dataset could be mapped to the proteome dataset.\n",
      "2024-03-19 17:05:20,514 - alphaquant.ptm.protein_ptm_normalization - INFO - 35 of 36 genes in PTM dataset could be mapped to the proteome dataset.\n",
      "2024-03-19 17:05:21,885 - alphaquant.ptm.protein_ptm_normalization - INFO - 34 of 35 genes in PTM dataset could be mapped to the proteome dataset.\n",
      "2024-03-19 17:05:23,255 - alphaquant.ptm.protein_ptm_normalization - INFO - 4 of 5 genes in PTM dataset could be mapped to the proteome dataset.\n",
      "2024-03-19 17:05:24,610 - alphaquant.ptm.protein_ptm_normalization - INFO - 34 of 35 genes in PTM dataset could be mapped to the proteome dataset.\n",
      "2024-03-19 17:05:25,994 - alphaquant.ptm.protein_ptm_normalization - INFO - 3 of 4 genes in PTM dataset could be mapped to the proteome dataset.\n",
      "2024-03-19 17:05:27,283 - alphaquant.ptm.protein_ptm_normalization - INFO - 36 of 37 genes in PTM dataset could be mapped to the proteome dataset.\n",
      "2024-03-19 17:05:28,646 - alphaquant.ptm.protein_ptm_normalization - INFO - 36 of 37 genes in PTM dataset could be mapped to the proteome dataset.\n",
      "2024-03-19 17:05:30,011 - alphaquant.ptm.protein_ptm_normalization - INFO - 50 of 50 genes in PTM dataset could be mapped to the proteome dataset.\n",
      "2024-03-19 17:05:31,388 - alphaquant.ptm.protein_ptm_normalization - INFO - 3 of 4 genes in PTM dataset could be mapped to the proteome dataset.\n",
      "2024-03-19 17:05:32,672 - alphaquant.ptm.protein_ptm_normalization - INFO - 34 of 35 genes in PTM dataset could be mapped to the proteome dataset.\n",
      "2024-03-19 17:05:34,039 - alphaquant.ptm.protein_ptm_normalization - INFO - 35 of 36 genes in PTM dataset could be mapped to the proteome dataset.\n",
      "2024-03-19 17:05:35,472 - alphaquant.ptm.protein_ptm_normalization - INFO - 2 of 3 genes in PTM dataset could be mapped to the proteome dataset.\n",
      "2024-03-19 17:05:36,760 - alphaquant.ptm.protein_ptm_normalization - INFO - 33 of 34 genes in PTM dataset could be mapped to the proteome dataset.\n",
      "2024-03-19 17:05:38,152 - alphaquant.ptm.protein_ptm_normalization - INFO - 2 of 3 genes in PTM dataset could be mapped to the proteome dataset.\n",
      "2024-03-19 17:05:39,515 - alphaquant.ptm.protein_ptm_normalization - INFO - 34 of 35 genes in PTM dataset could be mapped to the proteome dataset.\n",
      "2024-03-19 17:05:40,890 - alphaquant.ptm.protein_ptm_normalization - INFO - 33 of 34 genes in PTM dataset could be mapped to the proteome dataset.\n",
      "2024-03-19 17:05:42,260 - alphaquant.ptm.protein_ptm_normalization - INFO - 4 of 5 genes in PTM dataset could be mapped to the proteome dataset.\n",
      "2024-03-19 17:05:43,622 - alphaquant.ptm.protein_ptm_normalization - INFO - 37 of 38 genes in PTM dataset could be mapped to the proteome dataset.\n",
      "2024-03-19 17:05:44,930 - alphaquant.ptm.protein_ptm_normalization - INFO - 1 of 2 genes in PTM dataset could be mapped to the proteome dataset.\n",
      "2024-03-19 17:05:46,281 - alphaquant.ptm.protein_ptm_normalization - INFO - 34 of 35 genes in PTM dataset could be mapped to the proteome dataset.\n",
      "2024-03-19 17:05:47,651 - alphaquant.ptm.protein_ptm_normalization - INFO - 33 of 34 genes in PTM dataset could be mapped to the proteome dataset.\n",
      "2024-03-19 17:05:49,064 - alphaquant.ptm.protein_ptm_normalization - INFO - 34 of 35 genes in PTM dataset could be mapped to the proteome dataset.\n",
      "2024-03-19 17:05:50,375 - alphaquant.ptm.protein_ptm_normalization - INFO - 35 of 36 genes in PTM dataset could be mapped to the proteome dataset.\n",
      "2024-03-19 17:05:51,760 - alphaquant.ptm.protein_ptm_normalization - INFO - 3 of 4 genes in PTM dataset could be mapped to the proteome dataset.\n",
      "2024-03-19 17:05:53,133 - alphaquant.ptm.protein_ptm_normalization - INFO - 35 of 36 genes in PTM dataset could be mapped to the proteome dataset.\n",
      "2024-03-19 17:05:54,471 - alphaquant.ptm.protein_ptm_normalization - INFO - 4 of 5 genes in PTM dataset could be mapped to the proteome dataset.\n",
      "2024-03-19 17:05:55,815 - alphaquant.ptm.protein_ptm_normalization - INFO - 34 of 35 genes in PTM dataset could be mapped to the proteome dataset.\n",
      "2024-03-19 17:05:57,234 - alphaquant.ptm.protein_ptm_normalization - INFO - 34 of 35 genes in PTM dataset could be mapped to the proteome dataset.\n",
      "2024-03-19 17:05:58,611 - alphaquant.ptm.protein_ptm_normalization - INFO - 3 of 4 genes in PTM dataset could be mapped to the proteome dataset.\n",
      "2024-03-19 17:05:59,954 - alphaquant.ptm.protein_ptm_normalization - INFO - 50 of 50 genes in PTM dataset could be mapped to the proteome dataset.\n",
      "2024-03-19 17:06:01,339 - alphaquant.ptm.protein_ptm_normalization - INFO - 35 of 36 genes in PTM dataset could be mapped to the proteome dataset.\n",
      "2024-03-19 17:06:01,409 - alphaquant.ptm.protein_ptm_normalization - INFO - wrote proteome normalized tables to: ../test_data/unit_tests/protein_ptm_normalization/toy_data/results_ptm_protnormed\n"
     ]
    }
   ],
   "source": [
    "import itertools\n",
    "\n",
    "class PTMNormalizationTester():\n",
    "    def __init__(self, simulate_new = True):\n",
    "        self._results_config_vec = self._create_results_config_vec()\n",
    "        self._filename2results_config = {}\n",
    "        self._results_ptm = RESULTS_DIR_SIMULATED_PTM\n",
    "        self._results_proteome = RESULTS_DIR_SIMULATED_PROTEOME\n",
    "        self._simulate_results_dir(simulate_new)\n",
    "        self._localizer = self._get_ptmtable_localizer()\n",
    "\n",
    "    def _create_results_config_vec(self):\n",
    "        config1 = ResultsWriterConfig(50, 1, 8, 9)\n",
    "        config2 = ResultsWriterConfig(50, -0.5, 8, 9)\n",
    "        config3 = ResultsWriterConfig(50, +1.5, 38, 38)\n",
    "        config4 = ResultsWriterConfig(50, 1.5,0, 0, 0.5)\n",
    "        \n",
    "        results_config_vec = [config1 for _ in range(10)] + [config2 for _ in range(10)] + [config3 for _ in range(10)] + [config4 for _ in range(2)]\n",
    "        return results_config_vec\n",
    "\n",
    "    def _simulate_results_dir(self, simulate_new):\n",
    "        if simulate_new:\n",
    "            ResultsDirSimulator(self._results_proteome, self._results_ptm, self._results_config_vec)\n",
    "\n",
    "    def _get_ptmtable_localizer(self):\n",
    "        return aqptmnorm.PTMtableLocalizer(self._results_ptm, self._results_proteome)\n",
    "\n",
    "    def test_correct_localization(self):\n",
    "        ptmfile2name = self._localizer.get_ptmfile2name()\n",
    "        assert len(ptmfile2name) == len(self._results_config_vec)\n",
    "        list_of_filelists = [x.filenames_w_config for x in self._results_config_vec]\n",
    "        all_files = list(set(itertools.chain.from_iterable(list_of_filelists)))\n",
    "        assert sorted(all_files) == sorted(list(ptmfile2name.values()))\n",
    "\n",
    "    def test_correct_normalization(self):\n",
    "        ptmnorm = aqptmnorm.PTMResultsNormalizer(self._results_ptm, self._results_proteome)\n",
    "        self._check_that_fcs_are_as_expected(ptmnorm.results_dir_protnormed)\n",
    "        \n",
    "\n",
    "    def _check_that_fcs_are_as_expected(self, results_dir_protnormed):\n",
    "        all_files = glob.glob(f\"{results_dir_protnormed}/*results.tsv\")\n",
    "        for file in all_files:\n",
    "            df = pd.read_csv(file, sep = \"\\t\")\n",
    "            assert self._fcs_match_resultsconfig(list(df['log2fc']))\n",
    "\n",
    "    def _fcs_match_resultsconfig(self, log2fcs_list):\n",
    "        for resconf in set(self._results_config_vec):\n",
    "            comparevec = [resconf.offset_fc for x in log2fcs_list]\n",
    "            if np.allclose(log2fcs_list, comparevec):\n",
    "                return True\n",
    "        return False\n",
    "\n",
    "\n",
    "simulate_new = True\n",
    "ptmnormtester = PTMNormalizationTester(simulate_new=simulate_new) \n",
    "if simulate_new:\n",
    "    ptmnormtester.test_correct_localization()\n",
    "ptmnormtester.test_correct_normalization()\n"
   ]
  },
  {
   "cell_type": "markdown",
   "metadata": {},
   "source": [
    "### Check dampened PTMs"
   ]
  },
  {
   "cell_type": "code",
   "execution_count": 12,
   "metadata": {},
   "outputs": [
    {
     "data": {
      "image/png": "[encoded data removed]",
      "text/plain": [
       "<Figure size 432x288 with 1 Axes>"
      ]
     },
     "metadata": {
      "needs_background": "light"
     },
     "output_type": "display_data"
    }
   ],
   "source": [
    "import alphaquant.plotting.base_functions as aqplot\n",
    "import matplotlib.pyplot as plt\n",
    "\n",
    "\n",
    "results_df_ptm = pd.read_csv(\"../test_data/unit_tests/protein_ptm_normalization/toy_data/results_ptm/condpair0.results.tsv\", sep = \"\\t\")\n",
    "results_df_protnormed = pd.read_csv(\"../test_data/unit_tests/protein_ptm_normalization/toy_data/results_ptm_protnormed/condpair0.results.tsv\", sep = \"\\t\")\n",
    "\n",
    "histogram_input = [np.log10(results_df_ptm[\"p_value\"]), np.log10(results_df_protnormed[\"p_value\"])]\n",
    "labels = [\"unnormed\", \"normed\"]\n",
    "plt.hist(histogram_input, cumulative=True, histtype='step', label=labels, density=True)\n",
    "plt.legend()\n",
    "\n",
    "\n",
    "assert min(histogram_input[0])<=min(histogram_input[1])"
   ]
  },
  {
   "cell_type": "code",
   "execution_count": 13,
   "metadata": {},
   "outputs": [
    {
     "data": {
      "image/png": "[encoded data removed]",
      "text/plain": [
       "<Figure size 432x288 with 1 Axes>"
      ]
     },
     "metadata": {
      "needs_background": "light"
     },
     "output_type": "display_data"
    }
   ],
   "source": [
    "import matplotlib.pyplot as plt\n",
    "\n",
    "\n",
    "results_df_ptm_nochange = pd.read_csv(\"../test_data/unit_tests/protein_ptm_normalization/toy_data/results_ptm/condpair31.results.tsv\", sep = \"\\t\")\n",
    "results_df_protnormed = pd.read_csv(\"../test_data/unit_tests/protein_ptm_normalization/toy_data/results_ptm_protnormed/condpair31.results.tsv\", sep = \"\\t\")\n",
    "\n",
    "histogram_input = [np.log10(results_df_ptm[\"p_value\"]), np.log10(results_df_protnormed[\"p_value\"])]\n",
    "labels = [\"unnormed\", \"normed\"]\n",
    "plt.hist(histogram_input, cumulative=True, histtype='step', label=labels, density=True)\n",
    "plt.legend()\n",
    "\n",
    "\n",
    "\n",
    "assert min(histogram_input[0])<=min(histogram_input[1])"
   ]
  }
 ],
 "metadata": {
  "kernelspec": {
   "display_name": "Python 3.8.5 ('base')",
   "language": "python",
   "name": "python3"
  },
  "language_info": {
   "codemirror_mode": {
    "name": "ipython",
    "version": 3
   },
   "file_extension": ".py",
   "mimetype": "text/x-python",
   "name": "python",
   "nbconvert_exporter": "python",
   "pygments_lexer": "ipython3",
   "version": "3.8.13"
  }
 },
 "nbformat": 4,
 "nbformat_minor": 2
}
