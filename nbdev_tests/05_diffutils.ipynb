{
 "cells": [
  {
   "cell_type": "code",
   "execution_count": 1,
   "metadata": {},
   "outputs": [],
   "source": [
    "# default_exp diffquant_utils"
   ]
  },
  {
   "cell_type": "code",
   "execution_count": 1,
   "metadata": {},
   "outputs": [],
   "source": [
    "import alphaquant.diffquant.diffutils as aqutils"
   ]
  },
  {
   "cell_type": "markdown",
   "metadata": {},
   "source": [
    "## Reformatting and transformation functions"
   ]
  },
  {
   "cell_type": "code",
   "execution_count": 2,
   "metadata": {},
   "outputs": [
    {
     "data": {
      "text/plain": [
       "<function alphaquant.diffquant.diffutils.get_samples_used_from_samplemap_file(samplemap_file, cond1, cond2)>"
      ]
     },
     "execution_count": 2,
     "metadata": {},
     "output_type": "execute_result"
    }
   ],
   "source": [
    "#export\n",
    "\n",
    "aqutils.get_samples_used_from_samplemap_file"
   ]
  },
  {
   "cell_type": "code",
   "execution_count": 4,
   "metadata": {},
   "outputs": [],
   "source": [
    "#hide\n",
    "from anytree import Node\n",
    "\n",
    "def test_find_node_parent_at_level():\n",
    "\n",
    "    udo = Node(\"Udo\", type = 'granddad')\n",
    "    marc = Node(\"Marc\", parent=udo, type = 'dad')\n",
    "    lian = Node(\"Lian\", parent=marc, type = 'base')\n",
    "    dan = Node(\"Dan\", parent=udo, type ='dad')\n",
    "    jet = Node(\"Jet\", parent=dan, type ='base')\n",
    "    jan = Node(\"Jan\", parent=dan, type ='base')\n",
    "    joe = Node(\"Joe\", parent=dan, type ='base')\n",
    "\n",
    "    assert aqutils.find_node_parent_at_level(lian, 'dad').name == 'Marc'\n",
    "    assert aqutils.find_node_parent_at_level(lian, 'granddad').name == 'Udo'\n",
    "    assert aqutils.find_node_parent_at_level(jet, 'dad').name == 'Dan'\n",
    "\n",
    "test_find_node_parent_at_level()\n"
   ]
  },
  {
   "cell_type": "code",
   "execution_count": 5,
   "metadata": {},
   "outputs": [
    {
     "name": "stdout",
     "output_type": "stream",
     "text": [
      "Node('/Udo', cluster=-1, type='gene')\n",
      "├── Node('/Udo/Marc', cluster=0, type='dad')\n",
      "│   └── Node('/Udo/Marc/Lian', cluster=0, type='base')\n",
      "└── Node('/Udo/Dan', cluster=1, type='dad')\n",
      "    ├── Node('/Udo/Dan/Jet', cluster=0, type='base')\n",
      "    ├── Node('/Udo/Dan/Jan', cluster=0, type='base')\n",
      "    └── Node('/Udo/Dan/Joe', cluster=0, type='base')\n"
     ]
    }
   ],
   "source": [
    "#hide\n",
    "from anytree import Node\n",
    "from anytree import RenderTree\n",
    "\n",
    "\n",
    "def test_check_if_node_is_included():\n",
    "\n",
    "    udo = Node(\"Udo\", type = 'gene', cluster =-1)\n",
    "    marc = Node(\"Marc\", parent=udo, type = 'dad', cluster = 0)\n",
    "    lian = Node(\"Lian\", parent=marc, type = 'base', cluster = 0)\n",
    "    dan = Node(\"Dan\", parent=udo, type ='dad', cluster = 1)\n",
    "    jet = Node(\"Jet\", parent=dan, type ='base', cluster = 0)\n",
    "    jan = Node(\"Jan\", parent=dan, type ='base', cluster = 0)\n",
    "    joe = Node(\"Joe\", parent=dan, type ='base', cluster = 0)\n",
    "    print(RenderTree(udo))\n",
    "    assert aqutils.check_if_node_is_included(jet) == False\n",
    "    assert aqutils.check_if_node_is_included(lian) == True\n",
    "    assert aqutils.check_if_node_is_included(dan) == False\n",
    "    assert aqutils.check_if_node_is_included(marc) == True\n",
    "\n",
    "test_check_if_node_is_included()\n"
   ]
  },
  {
   "cell_type": "markdown",
   "metadata": {},
   "source": [
    "## I/O functions"
   ]
  },
  {
   "cell_type": "code",
   "execution_count": 6,
   "metadata": {},
   "outputs": [
    {
     "data": {
      "text/plain": [
       "<function alphaquant.diffquant.diffutils.write_chunk_to_file(chunk, filepath, write_header)>"
      ]
     },
     "execution_count": 6,
     "metadata": {},
     "output_type": "execute_result"
    }
   ],
   "source": [
    "#export\n",
    "aqutils.write_chunk_to_file"
   ]
  },
  {
   "cell_type": "markdown",
   "metadata": {},
   "source": [
    "## Documentation functions"
   ]
  },
  {
   "cell_type": "code",
   "execution_count": 9,
   "metadata": {},
   "outputs": [
    {
     "data": {
      "text/plain": [
       "<function alphaquant.diffquant.diffutils.remove_old_method_parameters_file_if_exists(results_dir)>"
      ]
     },
     "execution_count": 9,
     "metadata": {},
     "output_type": "execute_result"
    }
   ],
   "source": [
    "aqutils.remove_old_method_parameters_file_if_exists"
   ]
  }
 ],
 "metadata": {
  "kernelspec": {
   "display_name": "Python 3.8.5 64-bit ('base': conda)",
   "name": "python3"
  },
  "language_info": {
   "codemirror_mode": {
    "name": "ipython",
    "version": 3
   },
   "file_extension": ".py",
   "mimetype": "text/x-python",
   "name": "python",
   "nbconvert_exporter": "python",
   "pygments_lexer": "ipython3",
   "version": "3.8.13"
  }
 },
 "nbformat": 4,
 "nbformat_minor": 2
}
