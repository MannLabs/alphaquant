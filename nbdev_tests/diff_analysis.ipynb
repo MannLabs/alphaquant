{
 "cells": [
  {
   "cell_type": "code",
   "execution_count": null,
   "metadata": {},
   "outputs": [],
   "source": [
    "# default_exp diff_analysis"
   ]
  },
  {
   "cell_type": "markdown",
   "metadata": {},
   "source": [
    "## Unit Tests\n",
    "\n",
    "Simulate random, unbiased data and check that the resulting p-value distributions is reasonably similary to a uniform distribution"
   ]
  },
  {
   "cell_type": "code",
   "execution_count": null,
   "metadata": {},
   "outputs": [],
   "source": [
    "import pandas as pd\n",
    "import numpy as np\n",
    "import alphaquant.diffquant.background_distributions as aqbg\n",
    "num_vals = 10000\n",
    "rand1 = np.random.normal(loc=0 ,size=num_vals)\n",
    "rand2 = np.random.normal(loc=0, size=num_vals)\n",
    "rand3 = np.random.normal(loc=0, size=num_vals)\n",
    "rand4 = np.random.normal(loc=0, size=num_vals)\n",
    "rand5 = np.random.normal(loc=0, size=num_vals)\n",
    "\n",
    "randarray = pd.DataFrame({1:rand1, 2:rand2, 3:rand3, 4:rand4, 5:rand5})\n",
    "#display(randarray)\n",
    "condbg = aqbg.ConditionBackgrounds(randarray, {})"
   ]
  },
  {
   "cell_type": "code",
   "execution_count": null,
   "metadata": {},
   "outputs": [],
   "source": [
    "#hide\n",
    "import numpy as np\n",
    "import alphaquant.diffquant.diff_analysis as aqdiff\n",
    "\n",
    "def test_diffreg_pep(condbg, noNanvals_from, bg_idx1, noNanvals_to, bg_idx2):\n",
    "    bgdist_from = condbg.backgrounds[bg_idx1]\n",
    "    bgdist_to = condbg.backgrounds[bg_idx2]\n",
    "    p2z = {}\n",
    "    diffbg = aqbg.SubtractedBackgrounds(bgdist_from, bgdist_to, p2z)\n",
    "    diffion = aqdiff.DifferentialIon(noNanvals_from, noNanvals_to, diffbg ,\"\", outlier_correction=False)\n",
    "    #print(f'from {noNanvals_from} to {noNanvals_to} pval {diffion.p_val}')\n",
    "    return diffion.p_val\n",
    "\n",
    "\n",
    "noNanvals_from = np.array([1,2,1,2])\n",
    "noNanvals_to = np.array([2.1,1.1,1.9,0.9])\n",
    "bg_idx1 = np.random.randint(0, len(condbg.backgrounds))\n",
    "bg_idx2 = np.random.randint(0, len(condbg.backgrounds))\n",
    "pval = test_diffreg_pep(condbg, noNanvals_from, 0, noNanvals_to, 1)\n",
    "\n",
    "assert(pval>0.95)"
   ]
  },
  {
   "cell_type": "code",
   "execution_count": null,
   "metadata": {},
   "outputs": [],
   "source": [
    "#hide\n",
    "import random\n",
    "import matplotlib.pyplot as plt\n",
    "p2z= {}\n",
    "def test_noreg_pepdist(condbg, num_samplings):\n",
    "    res = []\n",
    "    bg_idxs = list(range(len(condbg.backgrounds)))\n",
    "\n",
    "    for i in range(num_samplings):\n",
    "        vals1 = 20+np.random.randn(3)\n",
    "        vals2 =  20+np.random.randn(3)\n",
    "        pval = test_diffreg_pep(condbg, vals1, 0, vals2, 1)\n",
    "        res.append(pval)\n",
    "    return res\n",
    "\n",
    "pvals = test_noreg_pepdist(condbg, 1000)\n"
   ]
  },
  {
   "cell_type": "code",
   "execution_count": null,
   "metadata": {},
   "outputs": [],
   "source": [
    "#hide\n",
    "import scipy.stats\n",
    "unidist = np.random.uniform(size=1000)\n",
    "\n",
    "res = scipy.stats.ks_2samp(pvals, unidist)\n",
    "print(res)\n",
    "plt.hist(pvals,99,cumulative=True,density=True, histtype='step')\n",
    "x = np.linspace(0,1,100)\n",
    "plt.plot(x, x)\n",
    "plt.show()\n",
    "\n",
    "assert res[0]>0.01"
   ]
  }
 ],
 "metadata": {
  "kernelspec": {
   "display_name": "Python 3.8.5 64-bit ('base': conda)",
   "language": "python",
   "name": "python3"
  },
  "language_info": {
   "codemirror_mode": {
    "name": "ipython",
    "version": 3
   },
   "file_extension": ".py",
   "mimetype": "text/x-python",
   "name": "python",
   "nbconvert_exporter": "python",
   "pygments_lexer": "ipython3",
   "version": "3.8.13"
  }
 },
 "nbformat": 4,
 "nbformat_minor": 2
}
