{
 "cells": [
  {
   "cell_type": "code",
   "execution_count": null,
   "metadata": {},
   "outputs": [],
   "source": [
    "# default_exp classify_ions"
   ]
  },
  {
   "cell_type": "code",
   "execution_count": 4,
   "metadata": {},
   "outputs": [],
   "source": [
    "import alphaquant.classify.classify_ions as aqclassify\n",
    "import numpy.random\n",
    "import copy\n",
    "import numpy as np\n",
    "def test_iterative_cross_predict():\n",
    "    X = numpy.random.rand( 200, 3)\n",
    "    y = numpy.random.rand(200)\n",
    "    ionnames = numpy.random.rand(200)\n",
    "    select_idxs = numpy.random.randint(low = 0, high = 199, size = 15)\n",
    "    control_ionnames = copy.copy(ionnames[select_idxs])\n",
    "    \n",
    "\n",
    "    y_test_all, _, ionnames_all, _ = aqclassify.random_forest_iterative_cross_predict(X, y, ionnames, 5, aqclassify.RandomForestRegressor())\n",
    "\n",
    "    idxs_ionnames = [x for x in range(len(ionnames_all)) if ionnames_all[x] in control_ionnames]\n",
    "    control_idxs_y = [x for x in select_idxs if ionnames[x] in ionnames_all]\n",
    "    control_ys = y[control_idxs_y]\n",
    "\n",
    "    y_test_all_control = np.array(y_test_all)[idxs_ionnames]\n",
    "\n",
    "    assert set(control_ys).intersection(set(y_test_all_control)) == set(y_test_all_control)\n",
    "\n",
    "\n",
    "test_iterative_cross_predict()\n"
   ]
  },
  {
   "cell_type": "code",
   "execution_count": null,
   "metadata": {},
   "outputs": [],
   "source": [
    "#export\n",
    "import alphaquant.diffquant_utils as aqutils\n",
    "import alphaquant.visualizations as aqplot\n",
    "from sklearn.ensemble import RandomForestRegressor\n",
    "from sklearn.metrics import mean_squared_error, r2_score\n",
    "\n",
    "def test_fc_name_mapping(fcs, ionnames, nodes):\n",
    "    number_samplings = min(math.ceil(len(fcs)/5), 30)\n",
    "    sample_idxs = random.sample(range(len(fcs)), number_samplings)\n",
    "    name2node = {x.name : x for x in nodes}\n",
    "    for idx in sample_idxs:\n",
    "        fc_ml_input = fcs[idx]\n",
    "        name_ml_input = ionnames[idx]\n",
    "        fc_node = name2node.get(name_ml_input).fc\n",
    "        assert fc_ml_input == fc_node\n",
    "\n",
    "\n",
    "\n"
   ]
  }
 ],
 "metadata": {
  "kernelspec": {
   "display_name": "Python 3.8.5 64-bit ('base': conda)",
   "name": "python3"
  },
  "language_info": {
   "codemirror_mode": {
    "name": "ipython",
    "version": 3
   },
   "file_extension": ".py",
   "mimetype": "text/x-python",
   "name": "python",
   "nbconvert_exporter": "python",
   "pygments_lexer": "ipython3",
   "version": "3.8.13"
  }
 },
 "nbformat": 4,
 "nbformat_minor": 2
}
