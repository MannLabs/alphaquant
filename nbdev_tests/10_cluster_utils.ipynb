{
 "cells": [
  {
   "cell_type": "code",
   "execution_count": 2,
   "metadata": {},
   "outputs": [
    {
     "name": "stdout",
     "output_type": "stream",
     "text": [
      "All tests passed!\n"
     ]
    }
   ],
   "source": [
    "import anytree\n",
    "import alphaquant.cluster.cluster_utils as aq_cluster_utils\n",
    "\n",
    "\n",
    "def test_remove_unnecessary_attributes():\n",
    "    \n",
    "    # Prepare a small tree with attributes\n",
    "    root = anytree.Node(\"root\", fcs=\"root_fcs\", another_attr=\"root_other\")\n",
    "    child1 = anytree.Node(\"child1\", parent=root, fcs=\"child1_fcs\", another_attr=\"child1_other\")\n",
    "    child2 = anytree.Node(\"child2\", parent=root, fcs=\"child2_fcs\", another_attr=\"child2_other\")\n",
    "    # Leaf nodes\n",
    "    leaf1 = anytree.Node(\"leaf1\", parent=child1, fcs=\"leaf1_fcs\")\n",
    "    leaf2 = anytree.Node(\"leaf2\", parent=child2, fcs=\"leaf2_fcs\")\n",
    "\n",
    "    # Invoke the spell to remove the 'fcs' attribute\n",
    "    aq_cluster_utils.remove_unnecessary_attributes(root, [\"fcs\"])\n",
    "\n",
    "    # Check if 'fcs' attribute is removed from all nodes\n",
    "    all_nodes = [root, child1, child2, leaf1, leaf2]\n",
    "    for node in all_nodes:\n",
    "        assert not hasattr(node, \"fcs\"), f\"Attribute 'fcs' was not removed from {node.name}.\"\n",
    "\n",
    "    # Check if 'another_attr' remained untouched in nodes where it existed\n",
    "    nodes_with_another_attr = [root, child1, child2]\n",
    "    for node in nodes_with_another_attr:\n",
    "        assert hasattr(node, \"another_attr\"), f\"Attribute 'another_attr' was wrongly removed from {node.name}.\"\n",
    "\n",
    "    print(\"All tests passed!\")\n",
    "\n",
    "# Call the test function to verify the integrity of our magic\n",
    "test_remove_unnecessary_attributes()\n"
   ]
  },
  {
   "cell_type": "code",
   "execution_count": 4,
   "metadata": {},
   "outputs": [
    {
     "name": "stdout",
     "output_type": "stream",
     "text": [
      "[Node('/root/node1/leaf1', cluster=0, is_included=True), Node('/root/node2/leaf3', cluster=0, is_included=True)]\n",
      "[Node('/root/node2/leaf3', cluster=0, is_included=True)]\n",
      "All tests passed!\n"
     ]
    }
   ],
   "source": [
    "from anytree import Node\n",
    "import alphaquant.cluster.cluster_utils as aq_cluster_utils\n",
    "\n",
    "\n",
    "# Test function using anytree\n",
    "def test_traverse_and_add_included_leaves_anytree():\n",
    "    # Constructing the tree\n",
    "    root = Node(\"root\",  is_included=True, cluster=0)\n",
    "    node1 = Node(\"node1\", parent=root, is_included=True, cluster=0)\n",
    "    node2 = Node(\"node2\", parent=root, is_included=True, cluster=0)\n",
    "    leaf1 = Node(\"leaf1\", parent=node1, is_included=True, cluster=0)\n",
    "    leaf2 = Node(\"leaf2\", parent=node1, is_included=False, cluster=1)\n",
    "    leaf3 = Node(\"leaf3\", parent=node2, is_included=True, cluster=0)\n",
    "\n",
    "    list_of_included_leaves = []\n",
    "    aq_cluster_utils.traverse_and_add_included_leaves(root, list_of_included_leaves)\n",
    "    print(list_of_included_leaves)\n",
    "    # Assert conditions\n",
    "    assert leaf1 in list_of_included_leaves, \"leaf1 is missing from the result.\"\n",
    "    assert leaf3 in list_of_included_leaves, \"leaf3 is missing from the result.\"\n",
    "    assert len(list_of_included_leaves) == 2, \"The number of included leaves is incorrect.\"\n",
    "\n",
    "\n",
    "    root = Node(\"root\",  is_included=True, cluster=0)\n",
    "    node1 = Node(\"node1\", parent=root, is_included=False, cluster=1)\n",
    "    node2 = Node(\"node2\", parent=root, is_included=True, cluster=0)\n",
    "    leaf1 = Node(\"leaf1\", parent=node1, is_included=True, cluster=0)\n",
    "    leaf2 = Node(\"leaf2\", parent=node1, is_included=False, cluster=1)\n",
    "    leaf3 = Node(\"leaf3\", parent=node2, is_included=True, cluster=0)\n",
    "\n",
    "    list_of_included_leaves = []\n",
    "    aq_cluster_utils.traverse_and_add_included_leaves(root, list_of_included_leaves)\n",
    "    print(list_of_included_leaves)\n",
    "    # Assert conditions\n",
    "    assert leaf1  not in list_of_included_leaves, \"leaf1 should be excluded\"\n",
    "    assert leaf3 in list_of_included_leaves, \"leaf3 is missing from the result.\"\n",
    "    assert len(list_of_included_leaves) == 1, \"The number of included leaves is incorrect.\"\n",
    "\n",
    "    print(\"All tests passed!\")\n",
    "\n",
    "# Call the test function\n",
    "test_traverse_and_add_included_leaves_anytree()\n"
   ]
  },
  {
   "cell_type": "code",
   "execution_count": 3,
   "metadata": {},
   "outputs": [
    {
     "name": "stdout",
     "output_type": "stream",
     "text": [
      "Level 0 matches expected nodes.\n",
      "Level 1 matches expected nodes.\n",
      "Level 2 matches expected nodes.\n"
     ]
    }
   ],
   "source": [
    "import alphaquant.cluster.cluster_utils as aq_cluster_utils\n",
    "import anytree\n",
    "\n",
    "\n",
    "def test_iterate_through_tree_levels_bottom_to_top():\n",
    "    root = anytree.Node(\"root\", level=0)\n",
    "    child1 = anytree.Node(\"child1\", parent=root, level=1)\n",
    "    child2 = anytree.Node(\"child2\", parent=root, level=1)\n",
    "    child1_1 = anytree.Node(\"child1_1\", parent=child1, level=2)\n",
    "    child2_1 = anytree.Node(\"child2_1\", parent=child2, level=2)\n",
    "\n",
    "    expected_levels = [\n",
    "        [\"child1_1\", \"child2_1\"],  # Level 2 nodes\n",
    "        [\"child1\", \"child2\"],      # Level 1 nodes\n",
    "        [\"root\"]                   # Level 0 node\n",
    "    ]\n",
    "\n",
    "    for index, nodes in enumerate(aq_cluster_utils.iterate_through_tree_levels_bottom_to_top(root)):\n",
    "        actual_level_node_names = [node.name for node in nodes]\n",
    "        assert actual_level_node_names == expected_levels[index], f\"Level {index} does not match expected nodes.\"\n",
    "        print(f\"Level {index} matches expected nodes.\")\n",
    "\n",
    "test_iterate_through_tree_levels_bottom_to_top()\n",
    "\n"
   ]
  }
 ],
 "metadata": {
  "kernelspec": {
   "display_name": "alphaquant",
   "language": "python",
   "name": "python3"
  },
  "language_info": {
   "codemirror_mode": {
    "name": "ipython",
    "version": 3
   },
   "file_extension": ".py",
   "mimetype": "text/x-python",
   "name": "python",
   "nbconvert_exporter": "python",
   "pygments_lexer": "ipython3",
   "version": "3.8.13"
  }
 },
 "nbformat": 4,
 "nbformat_minor": 2
}
