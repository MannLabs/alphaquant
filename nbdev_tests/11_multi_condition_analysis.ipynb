{
 "cells": [
  {
   "cell_type": "code",
   "execution_count": 2,
   "metadata": {},
   "outputs": [],
   "source": [
    "# default_exp multi_condition_analysis"
   ]
  },
  {
   "cell_type": "markdown",
   "metadata": {},
   "source": [
    "We build up multi-condition analyses with AlphaQuant from pairwise comparisons. We want to create the following types of analyses or overviews:\n",
    "\n",
    "Representations where we see all samples:\n",
    "- Overview of protein pseudointensities\n",
    "- Z-scored type of analysis. Meaning that you see the regulation between individual samples for every protein\n",
    "Wo estimate both these maps from the directLFQ algorithm\n",
    "\n",
    "Representations where we see the individual conditions:\n",
    "- protein pseudointensities per condition\n",
    "- step-wise indication of up- and downregulation\n",
    "- We want to show some equivalent of one-way ANOVA, which tests the null hypothesis that two or more groups have the same population mean\n",
    "\n",
    "Representations somewhat in-between:\n",
    "- pseudo intensities, such that t-test p-values have same significance as alphaquant p-values. Intensities retain the fold changes\n"
   ]
  },
  {
   "cell_type": "code",
   "execution_count": 3,
   "metadata": {},
   "outputs": [],
   "source": [
    "#export\n",
    "\n",
    "# class StepWiseRegulationOverview():\n",
    "#     def __init__(self, results_dir, sorted_list_of_conditions):\n",
    "#         self._multicond_data = #spongebob\n",
    "        \n"
   ]
  },
  {
   "cell_type": "code",
   "execution_count": null,
   "metadata": {},
   "outputs": [],
   "source": []
  },
  {
   "cell_type": "code",
   "execution_count": null,
   "metadata": {},
   "outputs": [],
   "source": []
  }
 ],
 "metadata": {
  "kernelspec": {
   "display_name": "Python 3.8.13 ('alphaquant')",
   "language": "python",
   "name": "python3"
  },
  "language_info": {
   "codemirror_mode": {
    "name": "ipython",
    "version": 3
   },
   "file_extension": ".py",
   "mimetype": "text/x-python",
   "name": "python",
   "nbconvert_exporter": "python",
   "pygments_lexer": "ipython3",
   "version": "3.8.13"
  },
  "vscode": {
   "interpreter": {
    "hash": "931024bdde5a0139e842e686d0aa86179bbd98c103c57a8c1ff07e7a4f076145"
   }
  }
 },
 "nbformat": 4,
 "nbformat_minor": 2
}
