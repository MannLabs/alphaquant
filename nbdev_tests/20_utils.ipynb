{
 "cells": [
  {
   "cell_type": "code",
   "execution_count": null,
   "metadata": {},
   "outputs": [],
   "source": [
    "import numpy as np\n",
    "import alphaquant.utils.diffquant_utils as aq_utils_diffquant\n",
    "\n",
    "def test_find_non_outlier_indices_iqr():\n",
    "    test_data = np.array([10, 12, 12, 13, 12, 11, 14, 12, 10,110, 120, 130])  # Includes outliers\n",
    "    expected_non_outliers_indices = np.array([0, 1, 2, 3, 4, 5, 6, 7, 8])  # Indices of non-outliers\n",
    "    \n",
    "    # Using a stricter threshold to clearly differentiate outliers\n",
    "    calculated_non_outliers_indices = aq_utils_diffquant.find_non_outlier_indices_ipr(test_data, threshold=1.5)\n",
    "    print(calculated_non_outliers_indices)\n",
    "    \n",
    "    # Ensure the function identifies the correct non-outlier indices\n",
    "    assert np.array_equal(calculated_non_outliers_indices, expected_non_outliers_indices), \"Test Failed: The non-outlier indices do not match the expected results.\"\n",
    "\n",
    "    print(\"Test Passed: Non-outlier indices correctly identified.\")\n",
    "\n",
    "# Running the test\n",
    "test_find_non_outlier_indices_iqr()"
   ]
  }
 ],
 "metadata": {
  "kernelspec": {
   "display_name": "alphaquant",
   "language": "python",
   "name": "python3"
  },
  "language_info": {
   "codemirror_mode": {
    "name": "ipython",
    "version": 3
   },
   "file_extension": ".py",
   "mimetype": "text/x-python",
   "name": "python",
   "nbconvert_exporter": "python",
   "pygments_lexer": "ipython3",
   "version": "3.9.19"
  }
 },
 "nbformat": 4,
 "nbformat_minor": 2
}
