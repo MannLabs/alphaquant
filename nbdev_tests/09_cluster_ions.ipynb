{
 "cells": [
  {
   "cell_type": "code",
   "execution_count": 33,
   "metadata": {},
   "outputs": [],
   "source": [
    "# default_exp cluster_ions"
   ]
  },
  {
   "cell_type": "markdown",
   "metadata": {},
   "source": [
    "## Module Tests"
   ]
  },
  {
   "cell_type": "code",
   "execution_count": 34,
   "metadata": {},
   "outputs": [],
   "source": [
    "import alphaquant.cluster.cluster_ions as aqclust\n",
    "import alphaquant.cluster.cluster_utils as aqclustutils"
   ]
  },
  {
   "cell_type": "code",
   "execution_count": 35,
   "metadata": {},
   "outputs": [],
   "source": [
    "#hide\n",
    "\n",
    "def test_exchange_cluster_idxs():\n",
    "    assert aqclustutils.exchange_cluster_idxs([1,2,1,2,2,2]) == [1,0,1,0,0,0]\n",
    "\n",
    "test_exchange_cluster_idxs()"
   ]
  },
  {
   "cell_type": "code",
   "execution_count": 36,
   "metadata": {},
   "outputs": [
    {
     "name": "stdout",
     "output_type": "stream",
     "text": [
      "4709\n",
      "t_ion2nonan_sw 0.00898599624633789\n",
      "t_intensity_selection 0.1514899730682373\n",
      "t_ion2nonan_sw 0.008934736251831055\n",
      "t_intensity_selection 0.40739989280700684\n",
      "diffions ['pep23_LVL0_mod0_LVL1_mod0_LVL2_mod2_LVL3_mod0', 'pep23_LVL0_mod0_LVL1_mod0_LVL2_mod1_LVL3_mod0', 'pep12_LVL0_mod0_LVL1_mod0_LVL2_mod2_LVL3_mod0', 'pep23_LVL0_mod0_LVL1_mod0_LVL2_mod0_LVL3_mod0', 'pep12_LVL0_mod0_LVL1_mod0_LVL2_mod0_LVL3_mod0', 'pep23_LVL0_mod0_LVL1_mod0_LVL2_mod3_LVL3_mod0', 'pep12_LVL0_mod0_LVL1_mod0_LVL2_mod1_LVL3_mod0']\n",
      "level frgion\n",
      "accuracy:0.0\tprecision:[0. 0.]\trecall[0. 0.]\tfscore[0. 0.]\n"
     ]
    },
    {
     "name": "stderr",
     "output_type": "stream",
     "text": [
      "/Users/constantin/opt/anaconda3/envs/alphaquant/lib/python3.8/site-packages/sklearn/metrics/_classification.py:1318: UndefinedMetricWarning: Precision and F-score are ill-defined and being set to 0.0 in labels with no predicted samples. Use `zero_division` parameter to control this behavior.\n",
      "  _warn_prf(average, modifier, msg_start, len(result))\n",
      "/Users/constantin/opt/anaconda3/envs/alphaquant/lib/python3.8/site-packages/sklearn/metrics/_classification.py:1318: UndefinedMetricWarning: Recall and F-score are ill-defined and being set to 0.0 in labels with no true samples. Use `zero_division` parameter to control this behavior.\n",
      "  _warn_prf(average, modifier, msg_start, len(result))\n"
     ]
    }
   ],
   "source": [
    "import uuid\n",
    "import alphaquant.diffquant.background_distributions as aqbg\n",
    "import alphaquant.benchm.benchmarking as aqbm\n",
    "import alphaquant.diffquant.diff_analysis as aqdiff\n",
    "import alphaquant.diffquant.diffutils as aqutils\n",
    "import itertools\n",
    "import numpy as np\n",
    "import matplotlib.pyplot as plt\n",
    "import pandas as pd\n",
    "\n",
    "def simulate_normed_input():\n",
    "\n",
    "    sample2cond_df = pd.DataFrame({'sample' : ['A1', 'A2', 'A3', 'B1', 'B2', 'B3','B4', 'B5', 'B6', 'B7', 'B8', 'B9','B10', 'B11', 'B12'],\n",
    "    'condition' : ['A', 'A', 'A', 'B', 'B', 'B','B', 'B', 'B','B', 'B', 'B','B', 'B', 'B']})\n",
    "    unnormed_df = aqbm.generate_random_input(10000, sample2cond_df,simulate_nas=True)\n",
    "    df_c1, df_c2 = get_c1_c2_dfs(unnormed_df, sample2cond_df, [\"A\", \"B\"])\n",
    "    p2z = {}\n",
    "    normed_c1 = aqbg.ConditionBackgrounds(df_c1, p2z)\n",
    "    normed_c2 = aqbg.ConditionBackgrounds(df_c2, p2z)\n",
    "    return normed_c1, normed_c2\n",
    "\n",
    "def get_c1_c2_dfs(unnormed_df, labelmap_df, condpair, minrep = 2):\n",
    "    c1_samples = labelmap_df[labelmap_df[\"condition\"]== condpair[0]]\n",
    "    c2_samples = labelmap_df[labelmap_df[\"condition\"]== condpair[1]]\n",
    "    df_c1 = unnormed_df.loc[:, c1_samples[\"sample\"]].dropna(thresh=minrep, axis=0)\n",
    "    df_c2 = unnormed_df.loc[:, c2_samples[\"sample\"]].dropna(thresh=minrep, axis=0)\n",
    "\n",
    "    return df_c1, df_c2\n",
    "\n",
    "def generate_diffions():\n",
    "    normed_c1, normed_c2 = simulate_normed_input()\n",
    "    ion2diffDist = {}\n",
    "    p2z = {}\n",
    "    diffions = []\n",
    "    ions_to_check = normed_c1.ion2nonNanvals.keys() & normed_c2.ion2nonNanvals.keys()\n",
    "    for idx, ion in enumerate(ions_to_check):\n",
    "        if not ((\"pep12_\" in ion) | (\"pep23_\" in ion)):\n",
    "            continue\n",
    "\n",
    "        vals1 = normed_c1.ion2nonNanvals.get(ion)\n",
    "        vals2 = normed_c2.ion2nonNanvals.get(ion)\n",
    "        bg1 = normed_c1.ion2background.get(ion)\n",
    "        bg2 = normed_c2.ion2background.get(ion)\n",
    "        diffDist = aqbg.get_subtracted_bg(ion2diffDist, bg1, bg2,p2z)\n",
    "        diffIon = aqdiff.DifferentialIon(vals1, vals2, diffDist, ion, outlier_correction = False)\n",
    "        diffions.append(diffIon)\n",
    "        #if idx>100:\n",
    "         #   break\n",
    "    \n",
    "    return diffions, normed_c1, normed_c2\n",
    "\n",
    "\n",
    "def add_shifts_to_diffions(ion2shift,diffions, normed_c1, normed_c2):\n",
    "    ion2diffdist = {}\n",
    "    ionname2diffion = {}\n",
    "    for ion in diffions:\n",
    "        shift = ion2shift.get(ion.name)\n",
    "        vals1 = normed_c1.ion2nonNanvals.get(ion.name)\n",
    "        vals2 = normed_c2.ion2nonNanvals.get(ion.name)\n",
    "        bg1 = normed_c1.ion2background.get(ion.name)\n",
    "        bg2 = normed_c2.ion2background.get(ion.name)\n",
    "\n",
    "        ion.fc = ion.fc+shift\n",
    "        if shift>0:\n",
    "            vals2 = vals2+shift\n",
    "            normed_c2.ion2nonNanvals[ion.name] = vals2\n",
    "            normed_c2.ion2allvals[ion.name] = np.array([x + shift for x in  normed_c2.ion2allvals[ion.name] if x!=0])\n",
    "            \n",
    "        if shift<0:\n",
    "            vals1 = vals1+shift\n",
    "            normed_c1.ion2nonNanvals[ion.name] = vals1\n",
    "            normed_c1.ion2allvals[ion.name] =  np.array([x + shift for x in  normed_c1.ion2allvals[ion.name] if x!=0])\n",
    "\n",
    "        diffDist = aqbg.get_subtracted_bg(ion2diffdist, bg1, bg2, {})\n",
    "\n",
    "        diffIon = aqdiff.DifferentialIon(vals1, vals2, diffDist, ion.name, outlier_correction = False)\n",
    "        ionname2diffion[ion.name] = diffIon\n",
    "        #if idx>100:\n",
    "         #   break\n",
    "\n",
    "    return ionname2diffion\n",
    "    \n",
    "\n",
    "\n",
    "import alphaquant.diffquant.diffutils as aqutils\n",
    "\n",
    "def test_tree_construction():\n",
    "\n",
    "    diffions, normed_c1, normed_c2 = generate_diffions()\n",
    "    regex_patterns = [[(\"(.*_LVL0.*_LVL1.*_LVL2.*_LVL3)(_mod[0-1])\",\"frgion\"), (\"(.*_LVL0.*_LVL1.*_LVL2.*_LVL3)(_mod[2-3])\", \"ms1_isotopes\")], [(\"(.*_LVL0.*_LVL1.*_LVL2)(.*_LVL3)\", \"mod_seq_charge\")], [(\"(.*_LVL0.*_LVL1)(.*_LVL2)\", \"mod_seq\")], \n",
    "    [(\"(.*)(.*_LVL0.*_LVL1.*)\", \"seq\")]]\n",
    "    node = aqclust.create_hierarchical_ion_grouping(regex_patterns,\"testgene\",diffions)\n",
    "    #print(anytree.RenderTree(node))\n",
    "    #dotexporter.UniqueDotExporter(node).to_picture(\"tmp.png\")\n",
    "    print(f'diffions {[x.name for x in diffions]}')\n",
    "    typefilter = aqclust.TypeFilter()\n",
    "\n",
    "    deedpair2doublediffdist = {}\n",
    "    dpair2diffdist = {}\n",
    "    p2z = {}\n",
    "    aqbm.add_perturbations_to_proteins([node])\n",
    "    ion2shift = {x.name:x.applied_shift for x in node.leaves}\n",
    "    ionname2diffion = add_shifts_to_diffions(ion2shift, diffions, normed_c1, normed_c2)\n",
    "    node_clust = aqclust.cluster_along_specified_levels(typefilter,node,ionname2diffion, normed_c1, normed_c2,dpair2diffdist,p2z, deedpair2doublediffdist, pval_threshold_basis=0.05, fcfc_threshold=0, take_median_ion=False)\n",
    "    aqbm.count_correctly_excluded([node], [node_clust])\n",
    "    #logging.info(anytree.RenderTree(node_clust))\n",
    "    #print(anytree.RenderTree(node_clust))\n",
    "\n",
    "\n",
    "\n",
    "test_tree_construction()\n"
   ]
  },
  {
   "cell_type": "code",
   "execution_count": null,
   "metadata": {},
   "outputs": [],
   "source": []
  },
  {
   "cell_type": "code",
   "execution_count": 37,
   "metadata": {},
   "outputs": [
    {
     "name": "stdout",
     "output_type": "stream",
     "text": [
      "[0. 1. 2. 3. 4.]\n"
     ]
    }
   ],
   "source": [
    "import numpy as np\n",
    "\n",
    "my_generator = (x for x in range(5))\n",
    "my_array = np.fromiter(my_generator, dtype='float')\n",
    "print(my_array)"
   ]
  },
  {
   "cell_type": "code",
   "execution_count": 43,
   "metadata": {},
   "outputs": [
    {
     "name": "stdout",
     "output_type": "stream",
     "text": [
      "('S1', 'S2')\n",
      "t_ion2nonan_sw 0.0474700927734375\n",
      "t_intensity_selection 0.9016718864440918\n",
      "t_ion2nonan_sw 0.048877716064453125\n",
      "t_intensity_selection 0.8897809982299805\n"
     ]
    },
    {
     "data": {
      "image/png": "[encoded data removed]",
      "text/plain": [
       "<Figure size 432x288 with 1 Axes>"
      ]
     },
     "metadata": {
      "needs_background": "light"
     },
     "output_type": "display_data"
    },
    {
     "name": "stdout",
     "output_type": "stream",
     "text": [
      "[1.0, 1.0, 1.0, 1.0, 1.0, 1.0, 1.0, 1.0, 1.0, 1.0, 1.0, 1.0, 1.0, 1.0, 1.0, 1.0, 1.0, 1.0, 1.0, 1.0, 1.0, 1.0, 1.0, 1.0, 1.0, 1.0, 1.0, 1.0, 1.0, 1.0, 1.0, 1.0, 1.0, 1.0, 1.0, 1.0, 1.0, 1.0, 1.0, 1.0, 1.0, 1.0, 1.0, 1.0, 1.0]\n"
     ]
    }
   ],
   "source": [
    "import anytree\n",
    "import sklearn.metrics\n",
    "import random\n",
    "import math\n",
    "\n",
    "\n",
    "def select_shifts_for_ions(diffions):\n",
    "    ion2shift = {}\n",
    "    num_shifted= 0\n",
    "    for diffion in diffions:\n",
    "        perturb = np.random.uniform(0, 1) < 0.3 #randomly select ~30% of the samples for perturbation\n",
    "        if perturb:\n",
    "            applied_shift = random.sample([-1, 1],1)[0]\n",
    "            ion2shift[diffion.name] = applied_shift\n",
    "            num_shifted+=1\n",
    "        else:\n",
    "            ion2shift[diffion.name] = 0\n",
    "    return ion2shift, num_shifted\n",
    "\n",
    "def compare_clustered_and_shifted(ion2shift, ion2clust):\n",
    "    is_shifted_vec = []\n",
    "    clust_nonzero_vec = []\n",
    "    for ion in ion2shift:\n",
    "        is_shifted = ion2shift.get(ion)!=0\n",
    "        clust_nonzero = ion2clust.get(ion)!=0\n",
    "        if (not is_shifted) and (not clust_nonzero):\n",
    "            continue\n",
    "        clust_nonzero_vec.append(clust_nonzero)\n",
    "        is_shifted_vec.append(is_shifted)\n",
    "    \n",
    "    \n",
    "    accuracy = sklearn.metrics.accuracy_score(y_true = is_shifted_vec, y_pred = clust_nonzero_vec)\n",
    "    recall = sklearn.metrics.recall_score(y_true=is_shifted_vec, y_pred = clust_nonzero_vec)\n",
    "    precision = sklearn.metrics.precision_score(y_true=is_shifted_vec, y_pred = clust_nonzero_vec)\n",
    "    length = len(clust_nonzero_vec)\n",
    "    #print(f\"accuracy is {accuracy}\")\n",
    "    #print(f\"precision {precision}\\trecall {recall}\")\n",
    "\n",
    "    return accuracy, precision, recall, length\n",
    "\n",
    "\n",
    "\n",
    "def check_correct_clustering(diffions, normed_c1, normed_c2):\n",
    "    diffions_grouped = [[x] for x in diffions]\n",
    "    ion2shift, num_shifted = select_shifts_for_ions(diffions)\n",
    "    if num_shifted==0 or num_shifted>(math.ceil(len(diffions)/2-1)):\n",
    "        return None\n",
    "    ionname2diffion = add_shifts_to_diffions(ion2shift, diffions, normed_c1, normed_c2)\n",
    "    fcs_ions = [x.fc for x in ionname2diffion.values()]\n",
    "    type_node = anytree.Node(\"root\")\n",
    "    for diffion in ionname2diffion.values():\n",
    "        anytree.Node(diffion.name, parent=type_node)\n",
    "    childnode2clust = aqclust.find_fold_change_clusters(type_node, diffions_grouped, normed_c1, normed_c2, {}, {}, {},0.05, 0,False) #the clustering is performed on the child nodes\n",
    "    chilnodename2clust = {x.name : y for x,y in childnode2clust}\n",
    "    accuracy, precision, recall, length = compare_clustered_and_shifted(ion2shift, chilnodename2clust)\n",
    "    \n",
    "    clusts = {x for x in chilnodename2clust.values()}\n",
    "    num_clusts = len(clusts)\n",
    "    if num_clusts>2:\n",
    "        return None\n",
    "\n",
    "    return accuracy, precision, recall, length\n",
    "\n",
    "diffions_real, normed_c1_real, normed_c2_real = aqbm.load_real_example_ions(input_file=\"../test_data/unit_tests/cluster_ions/filtered_fragions.aq_reformat.tsv\",\n",
    "samplemap_file=\"../test_data/unit_tests/cluster_ions/samples.map.tsv\",num_ions=1000)\n",
    "\n",
    "diffions_subsetted = [diffions_real[i:i + 10] for i in range(0, len(diffions_real), 10)]\n",
    "accuracies = []\n",
    "precisions = []\n",
    "recalls = []\n",
    "for diffions in diffions_subsetted:\n",
    "    try:\n",
    "        accuracy,precison,recall, length = check_correct_clustering(diffions, normed_c1_real, normed_c2_real)\n",
    "    except:\n",
    "        continue\n",
    "    accuracies.append(accuracy)\n",
    "    precisions.append(precison)\n",
    "    recalls.append(recall)\n",
    "\n",
    "plt.hist(accuracies, cumulative=True, density=True, histtype='step', label='accuracy')\n",
    "plt.hist(precisions,cumulative=True, density=True, histtype='step', label='precision')\n",
    "plt.hist(recalls,cumulative=True, density=True, histtype='step', label='recall')\n",
    "plt.legend()\n",
    "plt.show()\n",
    "print(recalls)\n",
    "num_total_recalls = sum([x==1 for x in recalls])\n",
    "assert num_total_recalls == len(recalls)\n"
   ]
  },
  {
   "cell_type": "code",
   "execution_count": null,
   "metadata": {},
   "outputs": [],
   "source": []
  }
 ],
 "metadata": {
  "kernelspec": {
   "display_name": "Python 3.8.5 64-bit ('base': conda)",
   "name": "python3"
  },
  "language_info": {
   "codemirror_mode": {
    "name": "ipython",
    "version": 3
   },
   "file_extension": ".py",
   "mimetype": "text/x-python",
   "name": "python",
   "nbconvert_exporter": "python",
   "pygments_lexer": "ipython3",
   "version": "3.8.13"
  }
 },
 "nbformat": 4,
 "nbformat_minor": 2
}
