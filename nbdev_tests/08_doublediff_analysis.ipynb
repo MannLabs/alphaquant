{
 "cells": [
  {
   "cell_type": "code",
   "execution_count": 1,
   "metadata": {},
   "outputs": [],
   "source": [
    "# default_exp doublediff_analysis"
   ]
  },
  {
   "cell_type": "code",
   "execution_count": 2,
   "metadata": {},
   "outputs": [],
   "source": [
    "%reload_ext autoreload\n",
    "%autoreload 2"
   ]
  },
  {
   "cell_type": "markdown",
   "metadata": {},
   "source": [
    "## Unit Tests"
   ]
  },
  {
   "cell_type": "code",
   "execution_count": 11,
   "metadata": {},
   "outputs": [
    {
     "name": "stdout",
     "output_type": "stream",
     "text": [
      "t_ion2nonan_sw 0.0009598731994628906\n",
      "t_intensity_selection 0.027847766876220703\n",
      "t_ion2nonan_sw 0.0009529590606689453\n",
      "t_intensity_selection 0.05416703224182129\n",
      "pval: 0.003670341499028673\n",
      "ion1: [ 9.35907156  8.91881437 10.72583848]\n",
      "ion1: [11.59534858 13.36919345  9.54545254]\n",
      "ion1: [10.57338241  8.79403439 13.36170185]\n",
      "ion2: [ 2.48038265  5.71419414 10.61143394]\n",
      "pval: 0.0005855149298965578\n",
      "ion1: [ 9.35907156  8.91881437 10.72583848]\n",
      "ion1: [11.59534858 13.36919345  9.54545254]\n",
      "ion1: [10.57338241  8.79403439 13.36170185]\n",
      "ion2: [2.81785808 6.21643893 7.62782862]\n",
      "pval: 0.0023857144561487686\n",
      "ion1: [ 9.35907156  8.91881437 10.72583848]\n",
      "ion1: [11.59534858 13.36919345  9.54545254]\n",
      "ion1: [10.57338241  8.79403439 13.36170185]\n",
      "ion2: [11.62506681  5.9793713   7.29933514]\n",
      "ion2: [8.97384639 6.47163209 6.68057603]\n",
      "t_ion2nonan_sw 0.0009341239929199219\n",
      "t_intensity_selection 0.026690006256103516\n",
      "t_ion2nonan_sw 0.0009009838104248047\n",
      "t_intensity_selection 0.04844808578491211\n"
     ]
    }
   ],
   "source": [
    "#hide\n",
    "import uuid\n",
    "import alphaquant.diffquant.background_distributions as aqbg\n",
    "import alphaquant.benchm.benchmarking as aqbm\n",
    "import alphaquant.diffquant.doublediff_analysis as aqdd\n",
    "import itertools\n",
    "import numpy as np\n",
    "import matplotlib.pyplot as plt\n",
    "import pandas as pd\n",
    "\n",
    "\n",
    "def test_doublediff(num_ionsets = 10, fixed_size = None, simulate_nas = True):\n",
    "\n",
    "    sample2cond_df = generate_sample2cond_df(3, 3)\n",
    "    unnormed_df = aqbm.generate_random_input(1000, sample2cond_df,simulate_nas, systematic_offset=1)\n",
    "    df_c1, df_c2 = get_c1_c2_dfs(unnormed_df, sample2cond_df, [\"A\", \"B\"])\n",
    "    p2z = {}\n",
    "    normed_c1 = aqbg.ConditionBackgrounds(df_c1, p2z)\n",
    "    normed_c2 = aqbg.ConditionBackgrounds(df_c2, p2z)\n",
    "    pvals = test_calc_doublediff_score(normed_c1, normed_c2, num_ionsets, fixed_size)\n",
    "    return pvals\n",
    "\n",
    "def generate_sample2cond_df(reps_sample1, reps_sample2):\n",
    "    return pd.DataFrame({\n",
    "        'sample' : [f'A{i}' for i in range(reps_sample1)] +[f'B{i}' for i in range(reps_sample2)],\n",
    "        'condition' : ['A']*reps_sample1 + ['B']*reps_sample2})\n",
    "\n",
    "\n",
    "def test_calc_doublediff_score(normed_c1, normed_c2, num_ionsets, fixed_size = None):\n",
    "    pvals = []\n",
    "    fcfcs = []\n",
    "    allions = list(set(normed_c1.ion2background.keys()).intersection(set(normed_c2.ion2background.keys())))\n",
    "    allions = np.array(allions)\n",
    "    if fixed_size is not None:\n",
    "        ionsets = [allions[np.random.randint(len(allions), size=fixed_size)] for _ in range(num_ionsets)]\n",
    "    else:\n",
    "        ionsets = [allions[np.random.randint(len(allions), size=np.random.randint(1,10))] for _ in range(num_ionsets)]\n",
    "\n",
    "    count_iters = 0\n",
    "    ion2diffDist={}\n",
    "    p2z ={} \n",
    "    deedpair2doublediffdist = {}\n",
    "\n",
    "    ions1 = ionsets[0]\n",
    "\n",
    "    for ions2 in ionsets[1:]:\n",
    "        systematic_offset = 0\n",
    "        #add_systematic_offset_to_ions(ions2, normed_c2, systematic_offset=systematic_offset)\n",
    "        fcfc, p = aqdd.calc_doublediff_score(ions1, ions2, normed_c1, normed_c2, ion2diffDist,p2z, deedpair2doublediffdist)\n",
    "        #add_systematic_offset_to_ions(ions2, normed_c2, systematic_offset=-systematic_offset)\n",
    "        pvals.append(p)\n",
    "        fcfcs.append(fcfc)\n",
    "\n",
    "        if p < 1e-2:\n",
    "            print(f\"pval: {p}\")\n",
    "            for ion1 in ions1:\n",
    "                print(f\"ion1: {normed_c1.ion2allvals[ion1]}\")\n",
    "            for ion2 in ions2:\n",
    "                print(f\"ion2: {normed_c2.ion2allvals[ion2]}\")\n",
    "    \n",
    "    return pvals, fcfcs\n",
    "\n",
    "\n",
    "def add_systematic_offset_to_ions(ions, normed_c2, systematic_offset):\n",
    "    for ion in ions:\n",
    "        print(normed_c2.ion2allvals[ion])\n",
    "        normed_c2.ion2allvals[ion] = normed_c2.ion2allvals.get(ion) + systematic_offset\n",
    "        print(normed_c2.ion2allvals[ion])\n",
    "\n",
    "\n",
    "def get_c1_c2_dfs(unnormed_df, labelmap_df, condpair, minrep = 2):\n",
    "    c1_samples = labelmap_df[labelmap_df[\"condition\"]== condpair[0]]\n",
    "    c2_samples = labelmap_df[labelmap_df[\"condition\"]== condpair[1]]\n",
    "    df_c1 = unnormed_df.loc[:, c1_samples[\"sample\"]].dropna(thresh=minrep, axis=0)\n",
    "    df_c2 = unnormed_df.loc[:, c2_samples[\"sample\"]].dropna(thresh=minrep, axis=0)\n",
    "\n",
    "    return df_c1, df_c2\n",
    "\n",
    "\n",
    "pvals_differentsizes, fcfcs_differentsizes = test_doublediff(num_ionsets=500)\n",
    "pvals_fixedsize, fcfcs_fixedsize = test_doublediff(500, fixed_size = 4, simulate_nas=False)\n",
    "\n"
   ]
  },
  {
   "cell_type": "code",
   "execution_count": 12,
   "metadata": {},
   "outputs": [
    {
     "data": {
      "image/png": "[encoded data removed]",
      "text/plain": [
       "<Figure size 432x288 with 1 Axes>"
      ]
     },
     "metadata": {
      "needs_background": "light"
     },
     "output_type": "display_data"
    },
    {
     "name": "stdout",
     "output_type": "stream",
     "text": [
      "0.18264879417232424\n"
     ]
    },
    {
     "data": {
      "text/plain": [
       "<AxesSubplot:>"
      ]
     },
     "execution_count": 12,
     "metadata": {},
     "output_type": "execute_result"
    },
    {
     "data": {
      "image/png": "[encoded data removed]",
      "text/plain": [
       "<Figure size 432x288 with 1 Axes>"
      ]
     },
     "metadata": {
      "needs_background": "light"
     },
     "output_type": "display_data"
    }
   ],
   "source": [
    "#hide\n",
    "import alphaquant.viz.visualizations as aqviz\n",
    "import scipy.stats as stats\n",
    "import seaborn as sns\n",
    "\n",
    "plt.hist(pvals_differentsizes, cumulative=True, bins = 1000, histtype = \"step\", density = True)\n",
    "x = np.linspace(0,1,100)\n",
    "plt.plot(x, x)\n",
    "plt.show()\n",
    "np.random.seed(42)\n",
    "unidist = np.random.uniform(size=1000)\n",
    "\n",
    "pval = stats.ks_2samp(pvals_differentsizes, unidist)[1]\n",
    "print(pval)\n",
    "#assert pval > 0.1\n",
    "sns.scatterplot(x = fcfcs_differentsizes,y = -np.log10(pvals_differentsizes))\n",
    "\n"
   ]
  },
  {
   "cell_type": "code",
   "execution_count": 5,
   "metadata": {},
   "outputs": [
    {
     "ename": "SyntaxError",
     "evalue": "invalid syntax (3891463511.py, line 1)",
     "output_type": "error",
     "traceback": [
      "\u001b[0;36m  Input \u001b[0;32mIn [5]\u001b[0;36m\u001b[0m\n\u001b[0;31m    def plot_dependence_of_pval_on_peptide_shift_and_number()\u001b[0m\n\u001b[0m                                                             ^\u001b[0m\n\u001b[0;31mSyntaxError\u001b[0m\u001b[0;31m:\u001b[0m invalid syntax\n"
     ]
    }
   ],
   "source": [
    "import random\n",
    "def plot_dependence_of_pval_on_ion_shift_and_number(normed_c1, normed_c2, ion2diffDist,p2z, deedpair2doublediffdist):\n",
    "    ions1 = sample_ions(ion2diffDist, 4)\n",
    "    ions2 = sample_ions(ion2diffDist, 4)\n",
    "\n",
    "    \n",
    "    pass\n",
    "\n",
    "def sample_ions(ion2diffdist, num_ions):\n",
    "    return random.sample(list(ion2diffdist.keys()), num_ions)\n",
    "    \n"
   ]
  }
 ],
 "metadata": {
  "kernelspec": {
   "display_name": "Python 3.8.5 64-bit ('base': conda)",
   "name": "python3"
  },
  "language_info": {
   "codemirror_mode": {
    "name": "ipython",
    "version": 3
   },
   "file_extension": ".py",
   "mimetype": "text/x-python",
   "name": "python",
   "nbconvert_exporter": "python",
   "pygments_lexer": "ipython3",
   "version": "3.8.13"
  }
 },
 "nbformat": 4,
 "nbformat_minor": 2
}
