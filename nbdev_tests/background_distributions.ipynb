{
 "cells": [
  {
   "cell_type": "code",
   "execution_count": null,
   "metadata": {},
   "outputs": [],
   "source": [
    "# default_exp background_distributions"
   ]
  },
  {
   "cell_type": "markdown",
   "metadata": {},
   "source": [
    "# Calculating Background Distributions\n",
    "In order to differentially assess changes of ions/peptides/proteins between conditions, assumptions about the underlying distributions have to be made. This is necessary to distinguish systematic regulation between conditons from random noise. As introduced in the [MS-EmpiRe paper](https://doi.org/10.1074/mcp.RA119.001509) and refined in the [EmpiReS paper](https://doi.org/10.1101/2020.08.23.234237 ), replicate measurements can be utilized to estimate the empirical *background distributions*, which should reflect the noise underlying the measurements. This approach can then be utilized to:\n",
    "* estimate the background distribtuions in each condition\n",
    "* estimate the background in condition1 - condition2 (i.e. the distribution of fold changes between conditions)\n",
    "* the previous two approaches suffice to perform differential quantification. The approach can however also be used for more complex scenarios. For example, if we want to compare, if two peptides change differently from each other, between two conditions, we can also estimate the underlying background (condition1-condition2)_peptide1 - (condition1-condition2)_peptide2"
   ]
  },
  {
   "cell_type": "markdown",
   "metadata": {},
   "source": [
    "## Capturing the background of an experimental condition\n",
    "\n",
    "In the context of AlphaQuant, where proteomics measurements are analysed, we use the word *condition* to describe a set of measurments that was acquired to capture a certain biological state (eg. condition \"native\" as opposed to conditon \"heat shock\"). We try to characterize conditions by sorting their ions by mean intensity (intensity is a good predictor for variation, as described in the [MS-EmpiRe paper](https://doi.org/10.1074/mcp.RA119.001509)) and then creating a set of background distributions over the whole intensity range. As a result, we can assign a background distribution to each ion as well as each *differential ion* (i.e. the expected variation in the fold changes of this ion).\n"
   ]
  },
  {
   "cell_type": "code",
   "execution_count": null,
   "metadata": {},
   "outputs": [],
   "source": [
    "#hide\n",
    "import alphaquant.diffquant.background_distributions as aqbg\n",
    "\n",
    "aqbg.ConditionBackgrounds\n"
   ]
  },
  {
   "cell_type": "markdown",
   "metadata": {},
   "source": [
    "## Estimate the Background Distribution for a given set of quantified ions\n",
    "The BackGroundDistribution object is created for a subset of ions. The sets of ions are chosen such that we can assume a certain similarity in how they are distributed (see also notes to the ConditionBackground below). The essential information the BackGroundDistribution object receives is a list of ions with their measured intensity values. The background distribution is constructed from these values in two steps:\n",
    "\n",
    "1. For each ion, randomly select one of the intensities and subtract if from the other intensites. This rescales the values to fold change values.\n",
    "2. Subsequently, compare the differences in the rescaled values between different ions. This gives an estimate of the variation of the whole distribution.\n",
    "\n",
    "We  directly derive some basic properties of the distribution and transform it into a 2d representation (binned fc value vs. counts) for memory efficiency. We also transform the distribution into a cumulative one and subsequently transform this distribution into a z-value distribution for quick lookups"
   ]
  },
  {
   "cell_type": "code",
   "execution_count": null,
   "metadata": {},
   "outputs": [],
   "source": [
    "#hide\n",
    "\n",
    "aqbg.BackGroundDistribution\n"
   ]
  },
  {
   "cell_type": "code",
   "execution_count": null,
   "metadata": {},
   "outputs": [],
   "source": [
    "#hide\n",
    "from numba import jit\n",
    "from time import time\n",
    "\n",
    "aqbg.SubtractedBackgrounds\n"
   ]
  },
  {
   "cell_type": "markdown",
   "metadata": {},
   "source": [
    "## Utility functions for Background calculation"
   ]
  },
  {
   "cell_type": "code",
   "execution_count": null,
   "metadata": {},
   "outputs": [],
   "source": [
    "#hide\n",
    "aqbg.get_subtracted_bg\n",
    "\n"
   ]
  },
  {
   "cell_type": "markdown",
   "metadata": {},
   "source": [
    "## Unit Tests"
   ]
  },
  {
   "cell_type": "code",
   "execution_count": null,
   "metadata": {},
   "outputs": [],
   "source": [
    "import uuid\n",
    "import pandas as pd\n",
    "import numpy as np\n",
    "def generate_random_input(num_pep,sample2cond_df ):\n",
    "    pepnames = list(map(lambda _idx : str(uuid.uuid4()), range(num_pep))) #gives uuid strings for each peptide\n",
    "    randarrays = 10+ 1.5*np.random.randn(num_pep,sample2cond_df.shape[0])\n",
    "    df_intens = pd.DataFrame(randarrays, columns= sample2cond_df[\"sample\"].tolist())\n",
    "    df_intens.insert(0, \"peptides\", pepnames )\n",
    "    df_intens = df_intens.set_index(\"peptides\")\n",
    "    return df_intens\n",
    "\n",
    "sample2cond_df = pd.DataFrame({'sample' : ['A1', 'A2', 'A3', 'B1', 'B2', 'B3'], 'condition' : ['A', 'A', 'A', 'B', 'B', 'B']})\n",
    "fixed_input = generate_random_input(1000, sample2cond_df)"
   ]
  },
  {
   "cell_type": "code",
   "execution_count": null,
   "metadata": {},
   "outputs": [],
   "source": [
    "#hide\n",
    "\n",
    "\n",
    "def test_condition_backgrounds(unnormed_df):\n",
    "    condbg = aqbg.ConditionBackgrounds(unnormed_df, {})\n",
    "    nonbg_ions = list(set(condbg.ion2nonNanvals.keys()).difference(condbg.ion2background.keys()))\n",
    "    display(condbg.normed_condition_df)\n",
    "    \n",
    "    assert condbg.ion2background.keys() == condbg.ion2nonNanvals.keys()\n",
    "\n",
    "\n",
    "test_condition_backgrounds(fixed_input)\n"
   ]
  },
  {
   "cell_type": "code",
   "execution_count": null,
   "metadata": {},
   "outputs": [],
   "source": [
    "#hide\n",
    "#test subtract background distribution\n",
    "from scipy.stats import norm\n",
    "from scipy.stats import normaltest\n",
    "import matplotlib.pyplot as plt\n",
    "import numpy as np\n",
    "\n",
    "idx2nonnanvals = {}\n",
    "\n",
    "for idx in range(2000):\n",
    "    nonnanvals =  np.random.normal(loc=0, size=3)\n",
    "    idx2nonnanvals[idx] = nonnanvals\n",
    "    \n",
    "bgdist1 = aqbg.BackGroundDistribution(0, 999, idx2nonnanvals, idx2ion= dict(zip(idx2nonnanvals.keys(), idx2nonnanvals.keys())),p2z={})\n",
    "bgdist2 = aqbg.BackGroundDistribution(1000, 1999, idx2nonnanvals,idx2ion= dict(zip(idx2nonnanvals.keys(), idx2nonnanvals.keys())), p2z={})\n",
    "\n",
    "freqdist = aqbg.get_normed_freqs(bgdist1.cumulative)\n",
    "plt.bar(range(len(freqdist)),freqdist,width=1,color='g')\n",
    "plt.show()\n",
    "\n",
    "subtracted_bgs = aqbg.SubtractedBackgrounds(bgdist1, bgdist2, {})\n",
    "\n",
    "def tranform_fc2count_to_fc_space(fc2counts, num_fcs, rescale_factor):\n",
    "    fc2counts_fcscales = {}\n",
    "    for fc, count in fc2counts.items():\n",
    "        fc2counts_fcscales[fc*rescale_factor] = count/num_fcs\n",
    "\n",
    "    return fc2counts_fcscales\n",
    "\n",
    "\n",
    "fc2counts_rescaled = tranform_fc2count_to_fc_space(subtracted_bgs.fc2counts, subtracted_bgs.cumulative[-1],1/100.0)\n",
    "\n",
    "plt.bar(list(fc2counts_rescaled.keys()), fc2counts_rescaled.values(),width=0.01,color='g')\n",
    "axes2 = plt.twinx()\n",
    "x = np.linspace(-4, 4, 1000)\n",
    "axes2.plot(x, norm.pdf(x, 0, subtracted_bgs.SD)*1.3, color = \"red\")\n",
    "axes2.set_ylim(0.0, 0.4)\n",
    "plt.show()\n",
    "\n"
   ]
  }
 ],
 "metadata": {
  "kernelspec": {
   "display_name": "Python 3.8.5 64-bit ('base': conda)",
   "name": "python3"
  },
  "language_info": {
   "codemirror_mode": {
    "name": "ipython",
    "version": 3
   },
   "file_extension": ".py",
   "mimetype": "text/x-python",
   "name": "python",
   "nbconvert_exporter": "python",
   "pygments_lexer": "ipython3",
   "version": "3.8.13"
  }
 },
 "nbformat": 4,
 "nbformat_minor": 2
}
