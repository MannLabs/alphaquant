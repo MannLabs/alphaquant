{
 "cells": [
  {
   "cell_type": "code",
   "execution_count": 2,
   "metadata": {},
   "outputs": [],
   "source": [
    "# default_exp background_distributions"
   ]
  },
  {
   "cell_type": "markdown",
   "metadata": {},
   "source": [
    "# Calculating Background Distributions\n",
    "In order to differentially assess changes of ions/peptides/proteins between conditions, assumptions about the underlying distributions have to be made. This is necessary to distinguish systematic regulation between conditons from random noise. As introduced in the [MS-EmpiRe paper](https://doi.org/10.1074/mcp.RA119.001509) and refined in the [EmpiReS paper](https://doi.org/10.1101/2020.08.23.234237 ), replicate measurements can be utilized to estimate the empirical *background distributions*, which should reflect the noise underlying the measurements. This approach can then be utilized to:\n",
    "* estimate the background distribtuions in each condition\n",
    "* estimate the background in condition1 - condition2 (i.e. the distribution of fold changes between conditions)\n",
    "* the previous two approaches suffice to perform differential quantification. The approach can however also be used for more complex scenarios. For example, if we want to compare, if two peptides change differently from each other, between two conditions, we can also estimate the underlying background (condition1-condition2)_peptide1 - (condition1-condition2)_peptide2"
   ]
  },
  {
   "cell_type": "markdown",
   "metadata": {},
   "source": [
    "## Capturing the background of an experimental condition\n",
    "\n",
    "In the context of AlphaQuant, where proteomics measurements are analysed, we use the word *condition* to describe a set of measurments that was acquired to capture a certain biological state (eg. condition \"native\" as opposed to conditon \"heat shock\"). We try to characterize conditions by sorting their ions by mean intensity (intensity is a good predictor for variation, as described in the [MS-EmpiRe paper](https://doi.org/10.1074/mcp.RA119.001509)) and then creating a set of background distributions over the whole intensity range. As a result, we can assign a background distribution to each ion as well as each *differential ion* (i.e. the expected variation in the fold changes of this ion).\n"
   ]
  },
  {
   "cell_type": "code",
   "execution_count": 2,
   "metadata": {},
   "outputs": [
    {
     "data": {
      "text/plain": [
       "alphaquant.diffquant.background_distributions.ConditionBackgrounds"
      ]
     },
     "execution_count": 2,
     "metadata": {},
     "output_type": "execute_result"
    }
   ],
   "source": [
    "#hide\n",
    "import alphaquant.diffquant.background_distributions as aqbg\n",
    "\n",
    "aqbg.ConditionBackgrounds\n"
   ]
  },
  {
   "cell_type": "markdown",
   "metadata": {},
   "source": [
    "## Estimate the Background Distribution for a given set of quantified ions\n",
    "The BackGroundDistribution object is created for a subset of ions. The sets of ions are chosen such that we can assume a certain similarity in how they are distributed (see also notes to the ConditionBackground below). The essential information the BackGroundDistribution object receives is a list of ions with their measured intensity values. The background distribution is constructed from these values in two steps:\n",
    "\n",
    "1. For each ion, randomly select one of the intensities and subtract if from the other intensites. This rescales the values to fold change values.\n",
    "2. Subsequently, compare the differences in the rescaled values between different ions. This gives an estimate of the variation of the whole distribution.\n",
    "\n",
    "We  directly derive some basic properties of the distribution and transform it into a 2d representation (binned fc value vs. counts) for memory efficiency. We also transform the distribution into a cumulative one and subsequently transform this distribution into a z-value distribution for quick lookups"
   ]
  },
  {
   "cell_type": "code",
   "execution_count": 3,
   "metadata": {},
   "outputs": [
    {
     "data": {
      "text/plain": [
       "alphaquant.diffquant.background_distributions.BackGroundDistribution"
      ]
     },
     "execution_count": 3,
     "metadata": {},
     "output_type": "execute_result"
    }
   ],
   "source": [
    "#hide\n",
    "\n",
    "aqbg.BackGroundDistribution\n"
   ]
  },
  {
   "cell_type": "code",
   "execution_count": 5,
   "metadata": {},
   "outputs": [
    {
     "data": {
      "text/plain": [
       "alphaquant.diffquant.background_distributions.SubtractedBackgrounds"
      ]
     },
     "execution_count": 5,
     "metadata": {},
     "output_type": "execute_result"
    }
   ],
   "source": [
    "#hide\n",
    "from numba import jit\n",
    "from time import time\n",
    "\n",
    "aqbg.SubtractedBackgrounds\n"
   ]
  },
  {
   "cell_type": "markdown",
   "metadata": {},
   "source": [
    "## Utility functions for Background calculation"
   ]
  },
  {
   "cell_type": "code",
   "execution_count": 6,
   "metadata": {},
   "outputs": [
    {
     "data": {
      "text/plain": [
       "<function alphaquant.diffquant.background_distributions.get_subtracted_bg(bgpair2diffDist, bg1, bg2, p2z)>"
      ]
     },
     "execution_count": 6,
     "metadata": {},
     "output_type": "execute_result"
    }
   ],
   "source": [
    "#hide\n",
    "aqbg.get_subtracted_bg\n",
    "\n"
   ]
  },
  {
   "cell_type": "markdown",
   "metadata": {},
   "source": [
    "## Unit Tests"
   ]
  },
  {
   "cell_type": "code",
   "execution_count": 8,
   "metadata": {},
   "outputs": [],
   "source": [
    "import uuid\n",
    "import pandas as pd\n",
    "import numpy as np\n",
    "def generate_random_input(num_pep,sample2cond_df ):\n",
    "    pepnames = list(map(lambda _idx : str(uuid.uuid4()), range(num_pep))) #gives uuid strings for each peptide\n",
    "    randarrays = 10+ 1.5*np.random.randn(num_pep,sample2cond_df.shape[0])\n",
    "    df_intens = pd.DataFrame(randarrays, columns= sample2cond_df[\"sample\"].tolist())\n",
    "    df_intens.insert(0, \"peptides\", pepnames )\n",
    "    df_intens = df_intens.set_index(\"peptides\")\n",
    "    return df_intens\n",
    "\n",
    "sample2cond_df = pd.DataFrame({'sample' : ['A1', 'A2', 'A3', 'B1', 'B2', 'B3'], 'condition' : ['A', 'A', 'A', 'B', 'B', 'B']})\n",
    "fixed_input = generate_random_input(1000, sample2cond_df)"
   ]
  },
  {
   "cell_type": "code",
   "execution_count": 10,
   "metadata": {},
   "outputs": [
    {
     "name": "stdout",
     "output_type": "stream",
     "text": [
      "t_ion2nonan_sw 0.002804994583129883\n",
      "t_intensity_selection 0.07848095893859863\n"
     ]
    },
    {
     "data": {
      "text/html": [
       "<div>\n",
       "<style scoped>\n",
       "    .dataframe tbody tr th:only-of-type {\n",
       "        vertical-align: middle;\n",
       "    }\n",
       "\n",
       "    .dataframe tbody tr th {\n",
       "        vertical-align: top;\n",
       "    }\n",
       "\n",
       "    .dataframe thead th {\n",
       "        text-align: right;\n",
       "    }\n",
       "</style>\n",
       "<table border=\"1\" class=\"dataframe\">\n",
       "  <thead>\n",
       "    <tr style=\"text-align: right;\">\n",
       "      <th></th>\n",
       "      <th>A1</th>\n",
       "      <th>A2</th>\n",
       "      <th>A3</th>\n",
       "      <th>B1</th>\n",
       "      <th>B2</th>\n",
       "      <th>B3</th>\n",
       "    </tr>\n",
       "    <tr>\n",
       "      <th>peptides</th>\n",
       "      <th></th>\n",
       "      <th></th>\n",
       "      <th></th>\n",
       "      <th></th>\n",
       "      <th></th>\n",
       "      <th></th>\n",
       "    </tr>\n",
       "  </thead>\n",
       "  <tbody>\n",
       "    <tr>\n",
       "      <th>23e18edc-5dd1-4ca0-b19f-b5839ba142bf</th>\n",
       "      <td>10.561112</td>\n",
       "      <td>6.237216</td>\n",
       "      <td>7.324758</td>\n",
       "      <td>10.908210</td>\n",
       "      <td>7.106339</td>\n",
       "      <td>8.859802</td>\n",
       "    </tr>\n",
       "    <tr>\n",
       "      <th>5724453b-0705-4d2e-a2dc-fea4e0b42409</th>\n",
       "      <td>7.593485</td>\n",
       "      <td>10.592333</td>\n",
       "      <td>6.677844</td>\n",
       "      <td>10.823161</td>\n",
       "      <td>7.821828</td>\n",
       "      <td>8.428079</td>\n",
       "    </tr>\n",
       "    <tr>\n",
       "      <th>1767350b-f292-4d1d-bef7-54f96dacce9b</th>\n",
       "      <td>11.960467</td>\n",
       "      <td>9.698599</td>\n",
       "      <td>7.832656</td>\n",
       "      <td>7.093703</td>\n",
       "      <td>7.436212</td>\n",
       "      <td>8.702345</td>\n",
       "    </tr>\n",
       "    <tr>\n",
       "      <th>1929813f-d949-4881-b6b8-0374740ec664</th>\n",
       "      <td>9.854877</td>\n",
       "      <td>8.481756</td>\n",
       "      <td>8.093604</td>\n",
       "      <td>7.331206</td>\n",
       "      <td>7.268282</td>\n",
       "      <td>9.585128</td>\n",
       "    </tr>\n",
       "    <tr>\n",
       "      <th>9f664b5b-6113-4522-be57-74250885ff2e</th>\n",
       "      <td>10.816099</td>\n",
       "      <td>7.566755</td>\n",
       "      <td>8.728947</td>\n",
       "      <td>9.795063</td>\n",
       "      <td>7.894794</td>\n",
       "      <td>6.997274</td>\n",
       "    </tr>\n",
       "    <tr>\n",
       "      <th>...</th>\n",
       "      <td>...</td>\n",
       "      <td>...</td>\n",
       "      <td>...</td>\n",
       "      <td>...</td>\n",
       "      <td>...</td>\n",
       "      <td>...</td>\n",
       "    </tr>\n",
       "    <tr>\n",
       "      <th>06c8b180-7cca-46f1-b7bb-7e5b30d83028</th>\n",
       "      <td>11.764066</td>\n",
       "      <td>12.510350</td>\n",
       "      <td>13.280409</td>\n",
       "      <td>6.524015</td>\n",
       "      <td>11.524662</td>\n",
       "      <td>9.159514</td>\n",
       "    </tr>\n",
       "    <tr>\n",
       "      <th>ca0c9e0c-1cbd-4ae2-857c-bbef34942cc5</th>\n",
       "      <td>11.465145</td>\n",
       "      <td>12.221560</td>\n",
       "      <td>10.654489</td>\n",
       "      <td>13.427721</td>\n",
       "      <td>7.388200</td>\n",
       "      <td>11.845227</td>\n",
       "    </tr>\n",
       "    <tr>\n",
       "      <th>b62165c0-a27f-43d5-a1c8-64fadb995a8d</th>\n",
       "      <td>9.981527</td>\n",
       "      <td>11.985018</td>\n",
       "      <td>12.394870</td>\n",
       "      <td>12.013487</td>\n",
       "      <td>11.936284</td>\n",
       "      <td>10.724222</td>\n",
       "    </tr>\n",
       "    <tr>\n",
       "      <th>9dcb5e06-e2d3-4206-9aaf-f1d57b30865f</th>\n",
       "      <td>13.593856</td>\n",
       "      <td>11.967226</td>\n",
       "      <td>12.685267</td>\n",
       "      <td>12.189997</td>\n",
       "      <td>10.640913</td>\n",
       "      <td>8.451041</td>\n",
       "    </tr>\n",
       "    <tr>\n",
       "      <th>613e039e-6c0b-4109-9fb5-cfb6f41fd627</th>\n",
       "      <td>13.131490</td>\n",
       "      <td>12.838627</td>\n",
       "      <td>9.934259</td>\n",
       "      <td>13.627335</td>\n",
       "      <td>11.873411</td>\n",
       "      <td>8.904714</td>\n",
       "    </tr>\n",
       "  </tbody>\n",
       "</table>\n",
       "<p>1000 rows × 6 columns</p>\n",
       "</div>"
      ],
      "text/plain": [
       "                                             A1         A2         A3  \\\n",
       "peptides                                                                \n",
       "23e18edc-5dd1-4ca0-b19f-b5839ba142bf  10.561112   6.237216   7.324758   \n",
       "5724453b-0705-4d2e-a2dc-fea4e0b42409   7.593485  10.592333   6.677844   \n",
       "1767350b-f292-4d1d-bef7-54f96dacce9b  11.960467   9.698599   7.832656   \n",
       "1929813f-d949-4881-b6b8-0374740ec664   9.854877   8.481756   8.093604   \n",
       "9f664b5b-6113-4522-be57-74250885ff2e  10.816099   7.566755   8.728947   \n",
       "...                                         ...        ...        ...   \n",
       "06c8b180-7cca-46f1-b7bb-7e5b30d83028  11.764066  12.510350  13.280409   \n",
       "ca0c9e0c-1cbd-4ae2-857c-bbef34942cc5  11.465145  12.221560  10.654489   \n",
       "b62165c0-a27f-43d5-a1c8-64fadb995a8d   9.981527  11.985018  12.394870   \n",
       "9dcb5e06-e2d3-4206-9aaf-f1d57b30865f  13.593856  11.967226  12.685267   \n",
       "613e039e-6c0b-4109-9fb5-cfb6f41fd627  13.131490  12.838627   9.934259   \n",
       "\n",
       "                                             B1         B2         B3  \n",
       "peptides                                                               \n",
       "23e18edc-5dd1-4ca0-b19f-b5839ba142bf  10.908210   7.106339   8.859802  \n",
       "5724453b-0705-4d2e-a2dc-fea4e0b42409  10.823161   7.821828   8.428079  \n",
       "1767350b-f292-4d1d-bef7-54f96dacce9b   7.093703   7.436212   8.702345  \n",
       "1929813f-d949-4881-b6b8-0374740ec664   7.331206   7.268282   9.585128  \n",
       "9f664b5b-6113-4522-be57-74250885ff2e   9.795063   7.894794   6.997274  \n",
       "...                                         ...        ...        ...  \n",
       "06c8b180-7cca-46f1-b7bb-7e5b30d83028   6.524015  11.524662   9.159514  \n",
       "ca0c9e0c-1cbd-4ae2-857c-bbef34942cc5  13.427721   7.388200  11.845227  \n",
       "b62165c0-a27f-43d5-a1c8-64fadb995a8d  12.013487  11.936284  10.724222  \n",
       "9dcb5e06-e2d3-4206-9aaf-f1d57b30865f  12.189997  10.640913   8.451041  \n",
       "613e039e-6c0b-4109-9fb5-cfb6f41fd627  13.627335  11.873411   8.904714  \n",
       "\n",
       "[1000 rows x 6 columns]"
      ]
     },
     "metadata": {},
     "output_type": "display_data"
    }
   ],
   "source": [
    "#hide\n",
    "\n",
    "\n",
    "def test_condition_backgrounds(unnormed_df):\n",
    "    condbg = aqbg.ConditionBackgrounds(unnormed_df, {})\n",
    "    nonbg_ions = list(set(condbg.ion2nonNanvals.keys()).difference(condbg.ion2background.keys()))\n",
    "    display(condbg.normed_condition_df)\n",
    "    \n",
    "    assert condbg.ion2background.keys() == condbg.ion2nonNanvals.keys()\n",
    "\n",
    "\n",
    "test_condition_backgrounds(fixed_input)\n"
   ]
  },
  {
   "cell_type": "code",
   "execution_count": 11,
   "metadata": {},
   "outputs": [
    {
     "data": {
      "image/png": "[encoded data removed]",
      "text/plain": [
       "<Figure size 432x288 with 1 Axes>"
      ]
     },
     "metadata": {
      "needs_background": "light"
     },
     "output_type": "display_data"
    },
    {
     "data": {
      "image/png": "[encoded data removed]",
      "text/plain": [
       "<Figure size 432x288 with 2 Axes>"
      ]
     },
     "metadata": {
      "needs_background": "light"
     },
     "output_type": "display_data"
    }
   ],
   "source": [
    "#hide\n",
    "#test subtract background distribution\n",
    "from scipy.stats import norm\n",
    "from scipy.stats import normaltest\n",
    "import matplotlib.pyplot as plt\n",
    "import numpy as np\n",
    "\n",
    "idx2nonnanvals = {}\n",
    "\n",
    "for idx in range(2000):\n",
    "    nonnanvals =  np.random.normal(loc=0, size=3)\n",
    "    idx2nonnanvals[idx] = nonnanvals\n",
    "    \n",
    "bgdist1 = aqbg.BackGroundDistribution(0, 999, idx2nonnanvals, idx2ion= dict(zip(idx2nonnanvals.keys(), idx2nonnanvals.keys())),p2z={})\n",
    "bgdist2 = aqbg.BackGroundDistribution(1000, 1999, idx2nonnanvals,idx2ion= dict(zip(idx2nonnanvals.keys(), idx2nonnanvals.keys())), p2z={})\n",
    "\n",
    "freqdist = aqbg.get_normed_freqs(bgdist1.cumulative)\n",
    "plt.bar(range(len(freqdist)),freqdist,width=1,color='g')\n",
    "plt.show()\n",
    "\n",
    "subtracted_bgs = aqbg.SubtractedBackgrounds(bgdist1, bgdist2, {})\n",
    "\n",
    "def tranform_fc2count_to_fc_space(fc2counts, num_fcs, rescale_factor):\n",
    "    fc2counts_fcscales = {}\n",
    "    for fc, count in fc2counts.items():\n",
    "        fc2counts_fcscales[fc*rescale_factor] = count/num_fcs\n",
    "\n",
    "    return fc2counts_fcscales\n",
    "\n",
    "\n",
    "fc2counts_rescaled = tranform_fc2count_to_fc_space(subtracted_bgs.fc2counts, subtracted_bgs.cumulative[-1],1/100.0)\n",
    "\n",
    "plt.bar(list(fc2counts_rescaled.keys()), fc2counts_rescaled.values(),width=0.01,color='g')\n",
    "axes2 = plt.twinx()\n",
    "x = np.linspace(-4, 4, 1000)\n",
    "axes2.plot(x, norm.pdf(x, 0, subtracted_bgs.SD)*1.3, color = \"red\")\n",
    "axes2.set_ylim(0.0, 0.4)\n",
    "plt.show()\n",
    "\n"
   ]
  }
 ],
 "metadata": {
  "kernelspec": {
   "display_name": "Python 3.8.5 64-bit ('base': conda)",
   "name": "python3"
  },
  "language_info": {
   "codemirror_mode": {
    "name": "ipython",
    "version": 3
   },
   "file_extension": ".py",
   "mimetype": "text/x-python",
   "name": "python",
   "nbconvert_exporter": "python",
   "pygments_lexer": "ipython3",
   "version": "3.8.13"
  }
 },
 "nbformat": 4,
 "nbformat_minor": 2
}
