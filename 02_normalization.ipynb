{
 "cells": [
  {
   "cell_type": "code",
   "execution_count": null,
   "metadata": {},
   "outputs": [],
   "source": [
    "# default_exp normalization"
   ]
  },
  {
   "cell_type": "code",
   "execution_count": null,
   "metadata": {},
   "outputs": [],
   "source": [
    "#export\n",
    "from ms_empire.visualizations import *\n",
    "from ms_empire.benchmarking import *"
   ]
  },
  {
   "cell_type": "markdown",
   "metadata": {},
   "source": [
    "# Normalization\n",
    "The normalization step of MS-EmpiRe aims at reducing systematic biases between samples. Such biases can for example occur when more material is pipetted in one of the samples. In principle, two steps are performed:\n",
    "\n",
    "1. Normalize between samples of the same condition (i.e. replicates)\n",
    "\n",
    "2. Normalize between different conditions\n",
    "\n",
    "\n"
   ]
  },
  {
   "cell_type": "markdown",
   "metadata": {},
   "source": [
    "## Within-condition normalization\n",
    "It is common practice and highly recommended to measure multiple samples of a given condition. This ensures that observed changes between conditions are not just due to random variation. Examples of samples within the same condition could be biological replicates, but also patients with the same clinical condition. \n",
    "We want to ensure that systematic changes between within-condition samples are corrected for as follows:\n",
    "\n",
    "* Our assumed input values are log2 transformed peptide ion intensities, which are stored in a 2d numpy array called \"samples\". Each row in samples represents a peptide and each column represents a sample\n",
    "\n",
    "* In a first step, we determine the all pairwise distances between the samples (details explained below)\n",
    "* We then choose the pair of samples with the closest distance between each other\n",
    "* We randomly choose one \"anchor\" sample and one \"shift\" sample and we subtract the distance between the samples from each peptide intensity measured in the \"shift\" sample. This is equivalent to rescaling the intensities of the original sample by a constant factor such that the distributions are aligned\n",
    "* We then construct a virtual \"merged\" sample by computing the average intensities of anchor and shift sample\n",
    "* We repeat the steps above until all samples are merged. Keeping track of the shift factors allows us then to determine an ideal shift for each sample\n",
    "\n"
   ]
  },
  {
   "cell_type": "code",
   "execution_count": null,
   "metadata": {},
   "outputs": [],
   "source": [
    "#export\n",
    "import numpy as np\n",
    "import matplotlib.pyplot as plt\n",
    "import pandas as pd\n",
    "import time\n",
    "\n",
    "def normalize_withincond(samples):##row is the sample column is the features\n",
    "\n",
    "    \"finds optimal scaling factors for samples measured in the same condition and corrects the samples by these scaling factors. Takes a 2d numpy array as input  \"\n",
    "    num_samples = samples.shape[0]\n",
    "    mergedsamples = np.copy(samples) #the virtual \"merged\" samples will be stored in this array\n",
    "    sampleidx2shift = dict(zip(range(num_samples), np.zeros(num_samples))) #the scaling factors applied to the samples are stored here\n",
    "    sampleidx2counts = dict(zip(range(num_samples), np.ones(num_samples)))#keeps track of how many distributions are merged\n",
    "    sampleidx2anchoridx = {} #keeps track of the shifted samples\n",
    "    exclusion_set = set() #already clustered samples are stored here\n",
    "    distance_matrix = create_distance_matrix(samples)\n",
    "    variance_matrix = create_distance_matrix(samples, metric = 'variance')\n",
    "    #print(f\"distance matrix start\\n{distance_matrix}\")\n",
    "\n",
    "    for rep in range(num_samples-1):\n",
    "        #anchor_idx, shift_idx, min_distance = get_bestmatch_pair(mergedsamples, exclusion_set, sampleidx2counts)\n",
    "        anchor_idx, shift_idx, min_distance = get_bestmatch_pair(distance_matrix,variance_matrix, sampleidx2counts)\n",
    "        \n",
    "        # #determine the closest pair of samples (one \"shift\" sample to be shifted and one \"anchor sample which stays the same\") and the distance between this pair\n",
    "        #update the sets\n",
    "\n",
    "        if(anchor_idx == None):\n",
    "            break\n",
    "        sampleidx2anchoridx.update({shift_idx : anchor_idx})\n",
    "        sampleidx2shift.update({shift_idx : min_distance })\n",
    "        exclusion_set.add(shift_idx)\n",
    "\n",
    "        anchor_sample = mergedsamples[anchor_idx]\n",
    "        shift_sample = samples[shift_idx]\n",
    "        shifted_sample = shift_sample + min_distance\n",
    "\n",
    "        #print(f\"\\n\\nanchor {anchor_sample}\\nshift {shift_sample}\\nshifted sample{shifted_sample}\\nshiftfactor {min_distance}\\tsamples {shift_idx}\\t{anchor_idx}\")\n",
    "        merged_sample = merge_distribs(anchor_sample, shifted_sample, sampleidx2counts[anchor_idx], sampleidx2counts[shift_idx])\n",
    "        mergedsamples[anchor_idx] = merged_sample\n",
    "\n",
    "        #print(f\"shift, anchor: {shift_idx}, {anchor_idx} achtual shift {distance_matrix[shift_idx][anchor_idx]} or {distance_matrix[anchor_idx][shift_idx]}\")\n",
    "        #print(f\"distance matrix before\\n{distance_matrix}\")\n",
    "\n",
    "\n",
    "        update_distance_matrix(variance_matrix, mergedsamples, anchor_idx, shift_idx, metric='variance')\n",
    "        update_distance_matrix(distance_matrix, mergedsamples, anchor_idx, shift_idx)\n",
    "\n",
    "        #print(f\"distance matrix after\\n{distance_matrix}\")\n",
    "        sampleidx2counts[anchor_idx]+=1\n",
    "\n",
    "    for i in exclusion_set:\n",
    "        shift = get_total_shift(sampleidx2anchoridx, sampleidx2shift, i)\n",
    "        samples[i] = samples[i]+shift\n",
    "    return samples"
   ]
  },
  {
   "cell_type": "markdown",
   "metadata": {},
   "source": [
    "### Find the best matching pair\n",
    "Take all pairs of the columns in the \"samples\" array that have not been already merged and compute the distance between the pairs as follows:\n",
    "* Subtract sample1 from sample2 (or sample2 from sample1, the order does not matter)\n",
    "* This results in a distribution of differences. As the samples array contains log2 intensities, this corresponds to taking log2 fold changes\n",
    "* Take the median of the distribution, this is a good approximation for the change between the two distributions\n",
    "* Select the two samples with the lowest absolute change"
   ]
  },
  {
   "cell_type": "code",
   "execution_count": null,
   "metadata": {},
   "outputs": [],
   "source": [
    "#export\n",
    "def get_bestmatch_pair(distance_matrix, variance_matrix, sample2counts):\n",
    "    \n",
    "    i,j = np.unravel_index(np.argmin(variance_matrix, axis=None), variance_matrix.shape)\n",
    "    min_distance = distance_matrix[i,j]\n",
    "    #print(f\"idxs are {i}, {j} median is {distance_matrix[i][j]} variance is {variance_matrix[i][j]}\")\n",
    "    if(min_distance == np.inf):\n",
    "        return None, None, None\n",
    "    anchor_idx, shift_idx, min_distance = determine_anchor_and_shift_sample(sample2counts,i, j, min_distance) #direction flip of distance if necessary\n",
    "    return anchor_idx, shift_idx, min_distance\n"
   ]
  },
  {
   "cell_type": "code",
   "execution_count": null,
   "metadata": {},
   "outputs": [],
   "source": [
    "#export\n",
    "def create_distance_matrix(samples, metric = 'median'):\n",
    "    num_samples = samples.shape[0]\n",
    "    distance_matrix = np.full((num_samples, num_samples), np.inf)\n",
    "    for i in range(num_samples):\n",
    "        for j in range(i+1, num_samples):#do every comparison once\n",
    "            distance_matrix[i,j] = calc_distance(metric, samples[i], samples[j]) #the median of the shifted distribution is taken as the distance measure\n",
    "            \n",
    "    return distance_matrix\n"
   ]
  },
  {
   "cell_type": "code",
   "execution_count": null,
   "metadata": {},
   "outputs": [],
   "source": [
    "#export\n",
    "def calc_distance(metric, samples_1, samples_2):\n",
    "    res = None\n",
    "\n",
    "    if metric == 'median':\n",
    "        res = np.nanmedian(get_fcdistrib(samples_1, samples_2))#the median of the shifted distribution is taken as the distance measure\n",
    "    if(metric == 'variance'):\n",
    "        fcdist = get_fcdistrib(samples_1, samples_2)\n",
    "        #if sum(~np.isnan(fcdist))<2:\n",
    "         #   return np.nan\n",
    "        res = np.nanvar(fcdist)\n",
    "    if res == None:\n",
    "        raise Exception(f\"distance metric {metric} not implemented\")\n",
    "    if(np.isnan(res)):\n",
    "        return np.inf\n",
    "    else:\n",
    "        return res"
   ]
  },
  {
   "cell_type": "code",
   "execution_count": null,
   "metadata": {},
   "outputs": [],
   "source": [
    "#export\n",
    "def update_distance_matrix(distance_matrix, merged_samples, merged_sample_idx, shift_idx,metric ='median'):\n",
    "    \"determine the distances to the newly merged sample\"\n",
    "    for i in range(0, merged_sample_idx):#update rows of distance matrix\n",
    "        if distance_matrix[i, merged_sample_idx]==np.inf:#do not compare already merged samples\n",
    "            continue\n",
    "        distance = calc_distance(metric,merged_samples[i], merged_samples[merged_sample_idx])\n",
    "        distance_matrix[i, merged_sample_idx] = distance\n",
    "    \n",
    "    for j in range(merged_sample_idx+1, merged_samples.shape[0]):#update columns of distance matrix\n",
    "        if distance_matrix[merged_sample_idx, j] == np.inf:\n",
    "            continue\n",
    "        distance = calc_distance(metric,merged_samples[merged_sample_idx], merged_samples[j])\n",
    "        distance_matrix[merged_sample_idx, j] = distance\n",
    "    \n",
    "    distance_matrix[shift_idx] = np.inf #shifted samples are excluded by setting distance to infinity\n",
    "    distance_matrix[:, shift_idx] = np.inf\n",
    "        "
   ]
  },
  {
   "cell_type": "code",
   "execution_count": null,
   "metadata": {},
   "outputs": [],
   "source": [
    "#export\n",
    "def get_fcdistrib(logvals_rep1, logvals_rep2):\n",
    "    \"generates difference distribution between two samples\"\n",
    "    dist = np.subtract(logvals_rep1, logvals_rep2)\n",
    "    return dist"
   ]
  },
  {
   "cell_type": "code",
   "execution_count": null,
   "metadata": {},
   "outputs": [],
   "source": [
    "#export\n",
    "def determine_anchor_and_shift_sample(sample2counts, i_min, j_min, min_distance):\n",
    "    \"given two samples, declare the sample with fewer merges as the shift\"\n",
    "    counts_i = sample2counts[i_min]\n",
    "    counts_j = sample2counts[j_min]\n",
    "    anchor_idx = i_min if counts_i>=counts_j else j_min\n",
    "    shift_idx = j_min if anchor_idx == i_min else i_min\n",
    "    flip = 1 if anchor_idx == i_min else -1\n",
    "    return anchor_idx, shift_idx, flip*min_distance"
   ]
  },
  {
   "cell_type": "markdown",
   "metadata": {},
   "source": [
    "### Shifting samples\n",
    "When we have computed the distance between two samples, we want to correct one of the samples by this distance. This results in two distributions with the same median value. We always shift the sample which has been merged from fewer distributions (see below for details). The sample to which the shift is applied is call \"shift\" sample and the sample which is not shifted is called \"anchor\" sample.\n",
    "A \"total shift\" is calculated after all samples are merged, just by following up how many shifts have been applied to a sample in total"
   ]
  },
  {
   "cell_type": "code",
   "execution_count": null,
   "metadata": {},
   "outputs": [],
   "source": [
    "#export\n",
    "def shift_samples(samples, sampleidx2anchoridx, sample2shift):\n",
    "    for sample_idx in range(samples.shape[0]):\n",
    "        samples[sample_idx] = samples[sample_idx]+get_total_shift(sampleidx2anchoridx, sample2shift, sample_idx)"
   ]
  },
  {
   "cell_type": "code",
   "execution_count": null,
   "metadata": {},
   "outputs": [],
   "source": [
    "#export\n",
    "def get_total_shift(sampleidx2anchoridx, sample2shift,sample_idx):\n",
    "\n",
    "    total_shift = 0.0\n",
    "\n",
    "    while(True):\n",
    "        total_shift +=sample2shift[sample_idx]\n",
    "        if sample_idx not in sampleidx2anchoridx: #every shifted sample has an anchor\n",
    "            break\n",
    "        sample_idx = sampleidx2anchoridx[sample_idx]\n",
    "\n",
    "    return total_shift"
   ]
  },
  {
   "cell_type": "code",
   "execution_count": null,
   "metadata": {},
   "outputs": [
    {
     "data": {
      "text/plain": "' #hide\\ndef test_shift_samples():\\n    #assume we shift sample 1 to 2, and then sample 2 to 3\\n    sampleidx2anchoridx_test = {0:1, 1:2}\\n    #the first shift is 5 and the second shift is 10\\n    sample2shift_test = {0:5, 1:5,2:0}\\n    samples_test = np.array([[1,1,1], [6,6,6], [11,11,11]])\\n    print(shift_samples(samples_test, sampleidx2anchoridx_test,sample2shift_test))\\n    assert shift_samples(samples_test, sampleidx2anchoridx_test,sample2shift_test) == np.array([[1,1,1], [1,1,1], [1,1,1]])\\n\\ntest_shift_samples() '"
     },
     "execution_count": null,
     "metadata": {},
     "output_type": "execute_result"
    }
   ],
   "source": [
    "\"\"\" #hide\n",
    "def test_shift_samples():\n",
    "    #assume we shift sample 1 to 2, and then sample 2 to 3\n",
    "    sampleidx2anchoridx_test = {0:1, 1:2}\n",
    "    #the first shift is 5 and the second shift is 10\n",
    "    sample2shift_test = {0:5, 1:5,2:0}\n",
    "    samples_test = np.array([[1,1,1], [6,6,6], [11,11,11]])\n",
    "    print(shift_samples(samples_test, sampleidx2anchoridx_test,sample2shift_test))\n",
    "    assert shift_samples(samples_test, sampleidx2anchoridx_test,sample2shift_test) == np.array([[1,1,1], [1,1,1], [1,1,1]])\n",
    "\n",
    "test_shift_samples() \"\"\""
   ]
  },
  {
   "cell_type": "markdown",
   "metadata": {},
   "source": [
    "### Merging distributions\n",
    "After we shift two distributions on top of each other, we calculate a \"merged\" distribution. Each intensity in the merged distribution is the average of the intensity in both distributions. For the merging we have to take into account the following: If for example the anchor sample has already been merged from 10 samples, and the shift distribution has not been merged at all, we want to weigh the distribution coming from many samples higher. We hence multiply each sample by the number of merges."
   ]
  },
  {
   "cell_type": "code",
   "execution_count": null,
   "metadata": {},
   "outputs": [],
   "source": [
    "#export\n",
    "import time\n",
    "import numpy as np\n",
    "\n",
    "def merge_distribs(anchor_distrib, shifted_distrib,counts_anchor_distrib, counts_shifted_distrib):\n",
    "    \"Calculate the average peptide intensities to merge two peptide distributions\"\n",
    "\n",
    "    t_alt = time.time()\n",
    "    res = np.zeros(len(anchor_distrib))\n",
    "\n",
    "    nans_anchor = np.isnan(anchor_distrib)\n",
    "    nans_shifted = np.isnan(shifted_distrib)\n",
    "    nans_anchor_and_shifted = nans_anchor & nans_shifted\n",
    "    nans_only_anchor = nans_anchor & ~nans_shifted\n",
    "    nans_only_shifted = nans_shifted &~nans_anchor\n",
    "    no_nans = ~nans_anchor & ~nans_shifted\n",
    "\n",
    "    idx_anchor_and_shifted = np.where(nans_anchor_and_shifted)\n",
    "    idx_only_anchor = np.where(nans_only_anchor)\n",
    "    idx_only_shifted = np.where(nans_only_shifted)\n",
    "    idx_no_nans = np.where(no_nans)\n",
    "\n",
    "    res[idx_anchor_and_shifted] = np.nan\n",
    "    res[idx_only_anchor] = shifted_distrib[idx_only_anchor]\n",
    "    res[idx_only_shifted] = anchor_distrib[idx_only_shifted]\n",
    "    res[idx_no_nans] = (anchor_distrib[idx_no_nans] *counts_anchor_distrib + shifted_distrib[idx_no_nans]*counts_shifted_distrib)/(counts_anchor_distrib+counts_shifted_distrib)\n",
    "    return res"
   ]
  },
  {
   "cell_type": "markdown",
   "metadata": {},
   "source": [
    "## Testing functions"
   ]
  },
  {
   "cell_type": "code",
   "execution_count": null,
   "metadata": {},
   "outputs": [],
   "source": [
    "#hide\n",
    "def test_merged_distribs():\n",
    "    anchor_distrib = np.array([1, 1, 1, 1, 1])\n",
    "    shift_distrib = np.array([2, 2, 2, 2, 2])\n",
    "    counts_anchor_distrib = 4\n",
    "    counts_shifted_distib = 1\n",
    "    assert (merge_distribs(anchor_distrib, shift_distrib, counts_anchor_distrib, counts_shifted_distib)== np.array([1.2, 1.2, 1.2, 1.2, 1.2])).any()\n",
    "\n",
    "test_merged_distribs()"
   ]
  },
  {
   "cell_type": "code",
   "execution_count": null,
   "metadata": {},
   "outputs": [],
   "source": [
    "#hide\n",
    "def generate_randarrays(number_arrays,size_of_array):\n",
    "    randarray = []\n",
    "    for i in range(number_arrays):\n",
    "        shift = np.random.uniform(low=-10, high=+10)\n",
    "        randarray.append(np.random.normal(loc=shift, size=size_of_array))\n",
    "    return np.array(randarray)\n"
   ]
  },
  {
   "cell_type": "code",
   "execution_count": null,
   "metadata": {
    "tags": []
   },
   "outputs": [
    {
     "name": "stdout",
     "output_type": "stream",
     "text": [
      "array generated sample 0 mean 0.5041734040836925\n",
      "array generated sample 1 mean 9.166796941164474\n",
      "array generated sample 2 mean 0.3520946561667859\n",
      "array generated sample 3 mean -8.669018864709185\n",
      "array generated sample 4 mean 7.462476513105191\n",
      "STDev 6.422475322979969\n",
      "idxs are 1, 4 median is 1.5660027182694143 variance is 0.4999007787480266\n",
      "\n",
      "\n",
      "anchor [ 9.15274847  8.41563996  8.85164404  8.4322702  10.06407258 10.0636532\n",
      "  9.76076845 10.13145708 10.59482923  8.43638427]\n",
      "shift [6.38293706 7.33650028 7.27590012 7.19990692 7.77217072 8.5073917\n",
      " 7.34637853 9.20971207 7.69492104 7.35005321]\n",
      "shifted sample[ 7.94893978  8.902503    8.84190283  8.76590964  9.33817344 10.07339441\n",
      "  8.91238125 10.77571479  9.26092376  8.91605593]\n",
      "shiftfactor 1.5660027182694143\tsamples 4\t1\n",
      "idxs are 0, 1 median is -8.778662611572116 variance is 0.8724761430795247\n",
      "\n",
      "\n",
      "anchor [ 8.55084413  8.65907148  8.84677344  8.59908992  9.70112301 10.06852381\n",
      "  9.33657485 10.45358593  9.9278765   8.6762201 ]\n",
      "shift [ 1.57143365 -0.45037957  0.92264512  0.72682319 -0.27723219  1.62064964\n",
      "  0.07376823  0.81380281  0.31203653  0.73675705]\n",
      "shifted sample[10.35009626  8.32828304  9.70130773  9.5054858   8.50143042 10.39931225\n",
      "  8.85243085  9.59246542  9.09069914  9.51541966]\n",
      "shiftfactor 8.778662611572116\tsamples 0\t1\n",
      "idxs are 2, 3 median is 8.864010345783743 variance is 1.491288468102839\n",
      "\n",
      "\n",
      "anchor [ 1.79573455 -0.06489173 -1.03744126  0.49914775  0.86302534  0.14974537\n",
      "  2.40828424 -0.41865214 -1.65638738  1.02685658]\n",
      "shift [ -6.77143067  -8.51595497  -7.40132364  -9.05145878 -10.06020727\n",
      "  -9.01111011  -6.83554669  -8.80170914  -9.66984756  -9.42674838]\n",
      "shifted sample[ 2.09257967  0.34805538  1.46268671 -0.18744843 -1.19619693 -0.14709976\n",
      "  2.02846365  0.06230121 -0.80583722 -0.56273803]\n",
      "shiftfactor 8.864010345783743\tsamples 3\t2\n",
      "idxs are 1, 2 median is 8.832183850807064 variance is 1.4835207322874737\n",
      "\n",
      "\n",
      "anchor [ 9.15059484  8.54880867  9.1316182   8.90122188  9.30122548 10.17878662\n",
      "  9.17519351 10.16654576  9.64881738  8.95595329]\n",
      "shift [ 1.79573455 -0.06489173 -1.03744126  0.49914775  0.86302534  0.14974537\n",
      "  2.40828424 -0.41865214 -1.65638738  1.02685658]\n",
      "shifted sample[10.6279184   8.76729212  7.79474259  9.3313316   9.69520919  8.98192922\n",
      " 11.24046809  8.41353171  7.17579647  9.85904044]\n",
      "shiftfactor 8.832183850807064\tsamples 2\t1\n",
      "STDev 0.9233815701672734\n"
     ]
    },
    {
     "data": {
      "image/png": "[encoded data removed]",
      "image/svg+xml": "<?xml version=\"1.0\" encoding=\"utf-8\" standalone=\"no\"?>\n<!DOCTYPE svg PUBLIC \"-//W3C//DTD SVG 1.1//EN\"\n  \"http://www.w3.org/Graphics/SVG/1.1/DTD/svg11.dtd\">\n<!-- Created with matplotlib (https://matplotlib.org/) -->\n<svg height=\"248.518125pt\" version=\"1.1\" viewBox=\"0 0 372.103125 248.518125\" width=\"372.103125pt\" xmlns=\"http://www.w3.org/2000/svg\" xmlns:xlink=\"http://www.w3.org/1999/xlink\">\n <metadata>\n  <rdf:RDF xmlns:cc=\"http://creativecommons.org/ns#\" xmlns:dc=\"http://purl.org/dc/elements/1.1/\" xmlns:rdf=\"http://www.w3.org/1999/02/22-rdf-syntax-ns#\">\n   <cc:Work>\n    <dc:type rdf:resource=\"http://purl.org/dc/dcmitype/StillImage\"/>\n    <dc:date>2021-01-20T21:31:59.081557</dc:date>\n    <dc:format>image/svg+xml</dc:format>\n    <dc:creator>\n     <cc:Agent>\n      <dc:title>Matplotlib v3.3.2, https://matplotlib.org/</dc:title>\n     </cc:Agent>\n    </dc:creator>\n   </cc:Work>\n  </rdf:RDF>\n </metadata>\n <defs>\n  <style type=\"text/css\">*{stroke-linecap:butt;stroke-linejoin:round;}</style>\n </defs>\n <g id=\"figure_1\">\n  <g id=\"patch_1\">\n   <path d=\"M 0 248.518125 \nL 372.103125 248.518125 \nL 372.103125 0 \nL 0 0 \nz\n\" style=\"fill:none;\"/>\n  </g>\n  <g id=\"axes_1\">\n   <g id=\"patch_2\">\n    <path d=\"M 30.103125 224.64 \nL 364.903125 224.64 \nL 364.903125 7.2 \nL 30.103125 7.2 \nz\n\" style=\"fill:#ffffff;\"/>\n   </g>\n   <g id=\"patch_3\">\n    <path clip-path=\"url(#pec33097682)\" d=\"M 186.927549 224.64 \nL 189.979328 224.64 \nL 189.979328 121.097143 \nL 186.927549 121.097143 \nz\n\" style=\"fill:#1f77b4;\"/>\n   </g>\n   <g id=\"patch_4\">\n    <path clip-path=\"url(#pec33097682)\" d=\"M 189.979328 224.64 \nL 193.031106 224.64 \nL 193.031106 224.64 \nL 189.979328 224.64 \nz\n\" style=\"fill:#1f77b4;\"/>\n   </g>\n   <g id=\"patch_5\">\n    <path clip-path=\"url(#pec33097682)\" d=\"M 193.031106 224.64 \nL 196.082885 224.64 \nL 196.082885 172.868571 \nL 193.031106 172.868571 \nz\n\" style=\"fill:#1f77b4;\"/>\n   </g>\n   <g id=\"patch_6\">\n    <path clip-path=\"url(#pec33097682)\" d=\"M 196.082885 224.64 \nL 199.134663 224.64 \nL 199.134663 172.868571 \nL 196.082885 172.868571 \nz\n\" style=\"fill:#1f77b4;\"/>\n   </g>\n   <g id=\"patch_7\">\n    <path clip-path=\"url(#pec33097682)\" d=\"M 199.134663 224.64 \nL 202.186442 224.64 \nL 202.186442 224.64 \nL 199.134663 224.64 \nz\n\" style=\"fill:#1f77b4;\"/>\n   </g>\n   <g id=\"patch_8\">\n    <path clip-path=\"url(#pec33097682)\" d=\"M 202.186442 224.64 \nL 205.238221 224.64 \nL 205.238221 121.097143 \nL 202.186442 121.097143 \nz\n\" style=\"fill:#1f77b4;\"/>\n   </g>\n   <g id=\"patch_9\">\n    <path clip-path=\"url(#pec33097682)\" d=\"M 205.238221 224.64 \nL 208.289999 224.64 \nL 208.289999 121.097143 \nL 205.238221 121.097143 \nz\n\" style=\"fill:#1f77b4;\"/>\n   </g>\n   <g id=\"patch_10\">\n    <path clip-path=\"url(#pec33097682)\" d=\"M 208.289999 224.64 \nL 211.341778 224.64 \nL 211.341778 224.64 \nL 208.289999 224.64 \nz\n\" style=\"fill:#1f77b4;\"/>\n   </g>\n   <g id=\"patch_11\">\n    <path clip-path=\"url(#pec33097682)\" d=\"M 211.341778 224.64 \nL 214.393556 224.64 \nL 214.393556 224.64 \nL 211.341778 224.64 \nz\n\" style=\"fill:#1f77b4;\"/>\n   </g>\n   <g id=\"patch_12\">\n    <path clip-path=\"url(#pec33097682)\" d=\"M 214.393556 224.64 \nL 217.445335 224.64 \nL 217.445335 121.097143 \nL 214.393556 121.097143 \nz\n\" style=\"fill:#1f77b4;\"/>\n   </g>\n   <g id=\"patch_13\">\n    <path clip-path=\"url(#pec33097682)\" d=\"M 317.573358 224.64 \nL 320.784516 224.64 \nL 320.784516 69.325714 \nL 317.573358 69.325714 \nz\n\" style=\"fill:#ff7f0e;\"/>\n   </g>\n   <g id=\"patch_14\">\n    <path clip-path=\"url(#pec33097682)\" d=\"M 320.784516 224.64 \nL 323.995675 224.64 \nL 323.995675 224.64 \nL 320.784516 224.64 \nz\n\" style=\"fill:#ff7f0e;\"/>\n   </g>\n   <g id=\"patch_15\">\n    <path clip-path=\"url(#pec33097682)\" d=\"M 323.995675 224.64 \nL 327.206833 224.64 \nL 327.206833 172.868571 \nL 323.995675 172.868571 \nz\n\" style=\"fill:#ff7f0e;\"/>\n   </g>\n   <g id=\"patch_16\">\n    <path clip-path=\"url(#pec33097682)\" d=\"M 327.206833 224.64 \nL 330.417992 224.64 \nL 330.417992 172.868571 \nL 327.206833 172.868571 \nz\n\" style=\"fill:#ff7f0e;\"/>\n   </g>\n   <g id=\"patch_17\">\n    <path clip-path=\"url(#pec33097682)\" d=\"M 330.417992 224.64 \nL 333.62915 224.64 \nL 333.62915 224.64 \nL 330.417992 224.64 \nz\n\" style=\"fill:#ff7f0e;\"/>\n   </g>\n   <g id=\"patch_18\">\n    <path clip-path=\"url(#pec33097682)\" d=\"M 333.62915 224.64 \nL 336.840309 224.64 \nL 336.840309 224.64 \nL 333.62915 224.64 \nz\n\" style=\"fill:#ff7f0e;\"/>\n   </g>\n   <g id=\"patch_19\">\n    <path clip-path=\"url(#pec33097682)\" d=\"M 336.840309 224.64 \nL 340.051468 224.64 \nL 340.051468 172.868571 \nL 336.840309 172.868571 \nz\n\" style=\"fill:#ff7f0e;\"/>\n   </g>\n   <g id=\"patch_20\">\n    <path clip-path=\"url(#pec33097682)\" d=\"M 340.051468 224.64 \nL 343.262626 224.64 \nL 343.262626 69.325714 \nL 340.051468 69.325714 \nz\n\" style=\"fill:#ff7f0e;\"/>\n   </g>\n   <g id=\"patch_21\">\n    <path clip-path=\"url(#pec33097682)\" d=\"M 343.262626 224.64 \nL 346.473785 224.64 \nL 346.473785 224.64 \nL 343.262626 224.64 \nz\n\" style=\"fill:#ff7f0e;\"/>\n   </g>\n   <g id=\"patch_22\">\n    <path clip-path=\"url(#pec33097682)\" d=\"M 346.473785 224.64 \nL 349.684943 224.64 \nL 349.684943 172.868571 \nL 346.473785 172.868571 \nz\n\" style=\"fill:#ff7f0e;\"/>\n   </g>\n   <g id=\"patch_23\">\n    <path clip-path=\"url(#pec33097682)\" d=\"M 169.156342 224.64 \nL 175.145866 224.64 \nL 175.145866 172.868571 \nL 169.156342 172.868571 \nz\n\" style=\"fill:#2ca02c;\"/>\n   </g>\n   <g id=\"patch_24\">\n    <path clip-path=\"url(#pec33097682)\" d=\"M 175.145866 224.64 \nL 181.135389 224.64 \nL 181.135389 172.868571 \nL 175.145866 172.868571 \nz\n\" style=\"fill:#2ca02c;\"/>\n   </g>\n   <g id=\"patch_25\">\n    <path clip-path=\"url(#pec33097682)\" d=\"M 181.135389 224.64 \nL 187.124913 224.64 \nL 187.124913 224.64 \nL 181.135389 224.64 \nz\n\" style=\"fill:#2ca02c;\"/>\n   </g>\n   <g id=\"patch_26\">\n    <path clip-path=\"url(#pec33097682)\" d=\"M 187.124913 224.64 \nL 193.114436 224.64 \nL 193.114436 121.097143 \nL 187.124913 121.097143 \nz\n\" style=\"fill:#2ca02c;\"/>\n   </g>\n   <g id=\"patch_27\">\n    <path clip-path=\"url(#pec33097682)\" d=\"M 193.114436 224.64 \nL 199.103959 224.64 \nL 199.103959 172.868571 \nL 193.114436 172.868571 \nz\n\" style=\"fill:#2ca02c;\"/>\n   </g>\n   <g id=\"patch_28\">\n    <path clip-path=\"url(#pec33097682)\" d=\"M 199.103959 224.64 \nL 205.093483 224.64 \nL 205.093483 172.868571 \nL 199.103959 172.868571 \nz\n\" style=\"fill:#2ca02c;\"/>\n   </g>\n   <g id=\"patch_29\">\n    <path clip-path=\"url(#pec33097682)\" d=\"M 205.093483 224.64 \nL 211.083006 224.64 \nL 211.083006 121.097143 \nL 205.093483 121.097143 \nz\n\" style=\"fill:#2ca02c;\"/>\n   </g>\n   <g id=\"patch_30\">\n    <path clip-path=\"url(#pec33097682)\" d=\"M 211.083006 224.64 \nL 217.072529 224.64 \nL 217.072529 224.64 \nL 211.083006 224.64 \nz\n\" style=\"fill:#2ca02c;\"/>\n   </g>\n   <g id=\"patch_31\">\n    <path clip-path=\"url(#pec33097682)\" d=\"M 217.072529 224.64 \nL 223.062053 224.64 \nL 223.062053 172.868571 \nL 217.072529 172.868571 \nz\n\" style=\"fill:#2ca02c;\"/>\n   </g>\n   <g id=\"patch_32\">\n    <path clip-path=\"url(#pec33097682)\" d=\"M 223.062053 224.64 \nL 229.051576 224.64 \nL 229.051576 172.868571 \nL 223.062053 172.868571 \nz\n\" style=\"fill:#2ca02c;\"/>\n   </g>\n   <g id=\"patch_33\">\n    <path clip-path=\"url(#pec33097682)\" d=\"M 45.321307 224.64 \nL 50.167505 224.64 \nL 50.167505 172.868571 \nL 45.321307 172.868571 \nz\n\" style=\"fill:#d62728;\"/>\n   </g>\n   <g id=\"patch_34\">\n    <path clip-path=\"url(#pec33097682)\" d=\"M 50.167505 224.64 \nL 55.013703 224.64 \nL 55.013703 121.097143 \nL 50.167505 121.097143 \nz\n\" style=\"fill:#d62728;\"/>\n   </g>\n   <g id=\"patch_35\">\n    <path clip-path=\"url(#pec33097682)\" d=\"M 55.013703 224.64 \nL 59.859901 224.64 \nL 59.859901 224.64 \nL 55.013703 224.64 \nz\n\" style=\"fill:#d62728;\"/>\n   </g>\n   <g id=\"patch_36\">\n    <path clip-path=\"url(#pec33097682)\" d=\"M 59.859901 224.64 \nL 64.7061 224.64 \nL 64.7061 69.325714 \nL 59.859901 69.325714 \nz\n\" style=\"fill:#d62728;\"/>\n   </g>\n   <g id=\"patch_37\">\n    <path clip-path=\"url(#pec33097682)\" d=\"M 64.7061 224.64 \nL 69.552298 224.64 \nL 69.552298 172.868571 \nL 64.7061 172.868571 \nz\n\" style=\"fill:#d62728;\"/>\n   </g>\n   <g id=\"patch_38\">\n    <path clip-path=\"url(#pec33097682)\" d=\"M 69.552298 224.64 \nL 74.398496 224.64 \nL 74.398496 224.64 \nL 69.552298 224.64 \nz\n\" style=\"fill:#d62728;\"/>\n   </g>\n   <g id=\"patch_39\">\n    <path clip-path=\"url(#pec33097682)\" d=\"M 74.398496 224.64 \nL 79.244694 224.64 \nL 79.244694 224.64 \nL 74.398496 224.64 \nz\n\" style=\"fill:#d62728;\"/>\n   </g>\n   <g id=\"patch_40\">\n    <path clip-path=\"url(#pec33097682)\" d=\"M 79.244694 224.64 \nL 84.090892 224.64 \nL 84.090892 224.64 \nL 79.244694 224.64 \nz\n\" style=\"fill:#d62728;\"/>\n   </g>\n   <g id=\"patch_41\">\n    <path clip-path=\"url(#pec33097682)\" d=\"M 84.090892 224.64 \nL 88.937091 224.64 \nL 88.937091 172.868571 \nL 84.090892 172.868571 \nz\n\" style=\"fill:#d62728;\"/>\n   </g>\n   <g id=\"patch_42\">\n    <path clip-path=\"url(#pec33097682)\" d=\"M 88.937091 224.64 \nL 93.783289 224.64 \nL 93.783289 121.097143 \nL 88.937091 121.097143 \nz\n\" style=\"fill:#d62728;\"/>\n   </g>\n   <g id=\"patch_43\">\n    <path clip-path=\"url(#pec33097682)\" d=\"M 287.620332 224.64 \nL 291.785744 224.64 \nL 291.785744 172.868571 \nL 287.620332 172.868571 \nz\n\" style=\"fill:#9467bd;\"/>\n   </g>\n   <g id=\"patch_44\">\n    <path clip-path=\"url(#pec33097682)\" d=\"M 291.785744 224.64 \nL 295.951157 224.64 \nL 295.951157 224.64 \nL 291.785744 224.64 \nz\n\" style=\"fill:#9467bd;\"/>\n   </g>\n   <g id=\"patch_45\">\n    <path clip-path=\"url(#pec33097682)\" d=\"M 295.951157 224.64 \nL 300.11657 224.64 \nL 300.11657 172.868571 \nL 295.951157 172.868571 \nz\n\" style=\"fill:#9467bd;\"/>\n   </g>\n   <g id=\"patch_46\">\n    <path clip-path=\"url(#pec33097682)\" d=\"M 300.11657 224.64 \nL 304.281983 224.64 \nL 304.281983 17.554286 \nL 300.11657 17.554286 \nz\n\" style=\"fill:#9467bd;\"/>\n   </g>\n   <g id=\"patch_47\">\n    <path clip-path=\"url(#pec33097682)\" d=\"M 304.281983 224.64 \nL 308.447395 224.64 \nL 308.447395 121.097143 \nL 304.281983 121.097143 \nz\n\" style=\"fill:#9467bd;\"/>\n   </g>\n   <g id=\"patch_48\">\n    <path clip-path=\"url(#pec33097682)\" d=\"M 308.447395 224.64 \nL 312.612808 224.64 \nL 312.612808 224.64 \nL 308.447395 224.64 \nz\n\" style=\"fill:#9467bd;\"/>\n   </g>\n   <g id=\"patch_49\">\n    <path clip-path=\"url(#pec33097682)\" d=\"M 312.612808 224.64 \nL 316.778221 224.64 \nL 316.778221 224.64 \nL 312.612808 224.64 \nz\n\" style=\"fill:#9467bd;\"/>\n   </g>\n   <g id=\"patch_50\">\n    <path clip-path=\"url(#pec33097682)\" d=\"M 316.778221 224.64 \nL 320.943634 224.64 \nL 320.943634 172.868571 \nL 316.778221 172.868571 \nz\n\" style=\"fill:#9467bd;\"/>\n   </g>\n   <g id=\"patch_51\">\n    <path clip-path=\"url(#pec33097682)\" d=\"M 320.943634 224.64 \nL 325.109046 224.64 \nL 325.109046 224.64 \nL 320.943634 224.64 \nz\n\" style=\"fill:#9467bd;\"/>\n   </g>\n   <g id=\"patch_52\">\n    <path clip-path=\"url(#pec33097682)\" d=\"M 325.109046 224.64 \nL 329.274459 224.64 \nL 329.274459 172.868571 \nL 325.109046 172.868571 \nz\n\" style=\"fill:#9467bd;\"/>\n   </g>\n   <g id=\"matplotlib.axis_1\">\n    <g id=\"xtick_1\">\n     <g id=\"line2d_1\">\n      <defs>\n       <path d=\"M 0 0 \nL 0 3.5 \n\" id=\"mc4b17b64ab\" style=\"stroke:#000000;stroke-width:0.8;\"/>\n      </defs>\n      <g>\n       <use style=\"stroke:#000000;stroke-width:0.8;\" x=\"46.208495\" xlink:href=\"#mc4b17b64ab\" y=\"224.64\"/>\n      </g>\n     </g>\n     <g id=\"text_1\">\n      <!-- −10 -->\n      <g transform=\"translate(35.656151 239.238437)scale(0.1 -0.1)\">\n       <defs>\n        <path d=\"M 10.59375 35.5 \nL 73.1875 35.5 \nL 73.1875 27.203125 \nL 10.59375 27.203125 \nz\n\" id=\"DejaVuSans-8722\"/>\n        <path d=\"M 12.40625 8.296875 \nL 28.515625 8.296875 \nL 28.515625 63.921875 \nL 10.984375 60.40625 \nL 10.984375 69.390625 \nL 28.421875 72.90625 \nL 38.28125 72.90625 \nL 38.28125 8.296875 \nL 54.390625 8.296875 \nL 54.390625 0 \nL 12.40625 0 \nz\n\" id=\"DejaVuSans-49\"/>\n        <path d=\"M 31.78125 66.40625 \nQ 24.171875 66.40625 20.328125 58.90625 \nQ 16.5 51.421875 16.5 36.375 \nQ 16.5 21.390625 20.328125 13.890625 \nQ 24.171875 6.390625 31.78125 6.390625 \nQ 39.453125 6.390625 43.28125 13.890625 \nQ 47.125 21.390625 47.125 36.375 \nQ 47.125 51.421875 43.28125 58.90625 \nQ 39.453125 66.40625 31.78125 66.40625 \nz\nM 31.78125 74.21875 \nQ 44.046875 74.21875 50.515625 64.515625 \nQ 56.984375 54.828125 56.984375 36.375 \nQ 56.984375 17.96875 50.515625 8.265625 \nQ 44.046875 -1.421875 31.78125 -1.421875 \nQ 19.53125 -1.421875 13.0625 8.265625 \nQ 6.59375 17.96875 6.59375 36.375 \nQ 6.59375 54.828125 13.0625 64.515625 \nQ 19.53125 74.21875 31.78125 74.21875 \nz\n\" id=\"DejaVuSans-48\"/>\n       </defs>\n       <use xlink:href=\"#DejaVuSans-8722\"/>\n       <use x=\"83.789062\" xlink:href=\"#DejaVuSans-49\"/>\n       <use x=\"147.412109\" xlink:href=\"#DejaVuSans-48\"/>\n      </g>\n     </g>\n    </g>\n    <g id=\"xtick_2\">\n     <g id=\"line2d_2\">\n      <g>\n       <use style=\"stroke:#000000;stroke-width:0.8;\" x=\"119.886321\" xlink:href=\"#mc4b17b64ab\" y=\"224.64\"/>\n      </g>\n     </g>\n     <g id=\"text_2\">\n      <!-- −5 -->\n      <g transform=\"translate(112.515227 239.238437)scale(0.1 -0.1)\">\n       <defs>\n        <path d=\"M 10.796875 72.90625 \nL 49.515625 72.90625 \nL 49.515625 64.59375 \nL 19.828125 64.59375 \nL 19.828125 46.734375 \nQ 21.96875 47.46875 24.109375 47.828125 \nQ 26.265625 48.1875 28.421875 48.1875 \nQ 40.625 48.1875 47.75 41.5 \nQ 54.890625 34.8125 54.890625 23.390625 \nQ 54.890625 11.625 47.5625 5.09375 \nQ 40.234375 -1.421875 26.90625 -1.421875 \nQ 22.3125 -1.421875 17.546875 -0.640625 \nQ 12.796875 0.140625 7.71875 1.703125 \nL 7.71875 11.625 \nQ 12.109375 9.234375 16.796875 8.0625 \nQ 21.484375 6.890625 26.703125 6.890625 \nQ 35.15625 6.890625 40.078125 11.328125 \nQ 45.015625 15.765625 45.015625 23.390625 \nQ 45.015625 31 40.078125 35.4375 \nQ 35.15625 39.890625 26.703125 39.890625 \nQ 22.75 39.890625 18.8125 39.015625 \nQ 14.890625 38.140625 10.796875 36.28125 \nz\n\" id=\"DejaVuSans-53\"/>\n       </defs>\n       <use xlink:href=\"#DejaVuSans-8722\"/>\n       <use x=\"83.789062\" xlink:href=\"#DejaVuSans-53\"/>\n      </g>\n     </g>\n    </g>\n    <g id=\"xtick_3\">\n     <g id=\"line2d_3\">\n      <g>\n       <use style=\"stroke:#000000;stroke-width:0.8;\" x=\"193.564147\" xlink:href=\"#mc4b17b64ab\" y=\"224.64\"/>\n      </g>\n     </g>\n     <g id=\"text_3\">\n      <!-- 0 -->\n      <g transform=\"translate(190.382897 239.238437)scale(0.1 -0.1)\">\n       <use xlink:href=\"#DejaVuSans-48\"/>\n      </g>\n     </g>\n    </g>\n    <g id=\"xtick_4\">\n     <g id=\"line2d_4\">\n      <g>\n       <use style=\"stroke:#000000;stroke-width:0.8;\" x=\"267.241972\" xlink:href=\"#mc4b17b64ab\" y=\"224.64\"/>\n      </g>\n     </g>\n     <g id=\"text_4\">\n      <!-- 5 -->\n      <g transform=\"translate(264.060722 239.238437)scale(0.1 -0.1)\">\n       <use xlink:href=\"#DejaVuSans-53\"/>\n      </g>\n     </g>\n    </g>\n    <g id=\"xtick_5\">\n     <g id=\"line2d_5\">\n      <g>\n       <use style=\"stroke:#000000;stroke-width:0.8;\" x=\"340.919798\" xlink:href=\"#mc4b17b64ab\" y=\"224.64\"/>\n      </g>\n     </g>\n     <g id=\"text_5\">\n      <!-- 10 -->\n      <g transform=\"translate(334.557298 239.238437)scale(0.1 -0.1)\">\n       <use xlink:href=\"#DejaVuSans-49\"/>\n       <use x=\"63.623047\" xlink:href=\"#DejaVuSans-48\"/>\n      </g>\n     </g>\n    </g>\n   </g>\n   <g id=\"matplotlib.axis_2\">\n    <g id=\"ytick_1\">\n     <g id=\"line2d_6\">\n      <defs>\n       <path d=\"M 0 0 \nL -3.5 0 \n\" id=\"mf7bd477bc5\" style=\"stroke:#000000;stroke-width:0.8;\"/>\n      </defs>\n      <g>\n       <use style=\"stroke:#000000;stroke-width:0.8;\" x=\"30.103125\" xlink:href=\"#mf7bd477bc5\" y=\"224.64\"/>\n      </g>\n     </g>\n     <g id=\"text_6\">\n      <!-- 0.0 -->\n      <g transform=\"translate(7.2 228.439219)scale(0.1 -0.1)\">\n       <defs>\n        <path d=\"M 10.6875 12.40625 \nL 21 12.40625 \nL 21 0 \nL 10.6875 0 \nz\n\" id=\"DejaVuSans-46\"/>\n       </defs>\n       <use xlink:href=\"#DejaVuSans-48\"/>\n       <use x=\"63.623047\" xlink:href=\"#DejaVuSans-46\"/>\n       <use x=\"95.410156\" xlink:href=\"#DejaVuSans-48\"/>\n      </g>\n     </g>\n    </g>\n    <g id=\"ytick_2\">\n     <g id=\"line2d_7\">\n      <g>\n       <use style=\"stroke:#000000;stroke-width:0.8;\" x=\"30.103125\" xlink:href=\"#mf7bd477bc5\" y=\"198.754286\"/>\n      </g>\n     </g>\n     <g id=\"text_7\">\n      <!-- 0.5 -->\n      <g transform=\"translate(7.2 202.553504)scale(0.1 -0.1)\">\n       <use xlink:href=\"#DejaVuSans-48\"/>\n       <use x=\"63.623047\" xlink:href=\"#DejaVuSans-46\"/>\n       <use x=\"95.410156\" xlink:href=\"#DejaVuSans-53\"/>\n      </g>\n     </g>\n    </g>\n    <g id=\"ytick_3\">\n     <g id=\"line2d_8\">\n      <g>\n       <use style=\"stroke:#000000;stroke-width:0.8;\" x=\"30.103125\" xlink:href=\"#mf7bd477bc5\" y=\"172.868571\"/>\n      </g>\n     </g>\n     <g id=\"text_8\">\n      <!-- 1.0 -->\n      <g transform=\"translate(7.2 176.66779)scale(0.1 -0.1)\">\n       <use xlink:href=\"#DejaVuSans-49\"/>\n       <use x=\"63.623047\" xlink:href=\"#DejaVuSans-46\"/>\n       <use x=\"95.410156\" xlink:href=\"#DejaVuSans-48\"/>\n      </g>\n     </g>\n    </g>\n    <g id=\"ytick_4\">\n     <g id=\"line2d_9\">\n      <g>\n       <use style=\"stroke:#000000;stroke-width:0.8;\" x=\"30.103125\" xlink:href=\"#mf7bd477bc5\" y=\"146.982857\"/>\n      </g>\n     </g>\n     <g id=\"text_9\">\n      <!-- 1.5 -->\n      <g transform=\"translate(7.2 150.782076)scale(0.1 -0.1)\">\n       <use xlink:href=\"#DejaVuSans-49\"/>\n       <use x=\"63.623047\" xlink:href=\"#DejaVuSans-46\"/>\n       <use x=\"95.410156\" xlink:href=\"#DejaVuSans-53\"/>\n      </g>\n     </g>\n    </g>\n    <g id=\"ytick_5\">\n     <g id=\"line2d_10\">\n      <g>\n       <use style=\"stroke:#000000;stroke-width:0.8;\" x=\"30.103125\" xlink:href=\"#mf7bd477bc5\" y=\"121.097143\"/>\n      </g>\n     </g>\n     <g id=\"text_10\">\n      <!-- 2.0 -->\n      <g transform=\"translate(7.2 124.896362)scale(0.1 -0.1)\">\n       <defs>\n        <path d=\"M 19.1875 8.296875 \nL 53.609375 8.296875 \nL 53.609375 0 \nL 7.328125 0 \nL 7.328125 8.296875 \nQ 12.9375 14.109375 22.625 23.890625 \nQ 32.328125 33.6875 34.8125 36.53125 \nQ 39.546875 41.84375 41.421875 45.53125 \nQ 43.3125 49.21875 43.3125 52.78125 \nQ 43.3125 58.59375 39.234375 62.25 \nQ 35.15625 65.921875 28.609375 65.921875 \nQ 23.96875 65.921875 18.8125 64.3125 \nQ 13.671875 62.703125 7.8125 59.421875 \nL 7.8125 69.390625 \nQ 13.765625 71.78125 18.9375 73 \nQ 24.125 74.21875 28.421875 74.21875 \nQ 39.75 74.21875 46.484375 68.546875 \nQ 53.21875 62.890625 53.21875 53.421875 \nQ 53.21875 48.921875 51.53125 44.890625 \nQ 49.859375 40.875 45.40625 35.40625 \nQ 44.1875 33.984375 37.640625 27.21875 \nQ 31.109375 20.453125 19.1875 8.296875 \nz\n\" id=\"DejaVuSans-50\"/>\n       </defs>\n       <use xlink:href=\"#DejaVuSans-50\"/>\n       <use x=\"63.623047\" xlink:href=\"#DejaVuSans-46\"/>\n       <use x=\"95.410156\" xlink:href=\"#DejaVuSans-48\"/>\n      </g>\n     </g>\n    </g>\n    <g id=\"ytick_6\">\n     <g id=\"line2d_11\">\n      <g>\n       <use style=\"stroke:#000000;stroke-width:0.8;\" x=\"30.103125\" xlink:href=\"#mf7bd477bc5\" y=\"95.211429\"/>\n      </g>\n     </g>\n     <g id=\"text_11\">\n      <!-- 2.5 -->\n      <g transform=\"translate(7.2 99.010647)scale(0.1 -0.1)\">\n       <use xlink:href=\"#DejaVuSans-50\"/>\n       <use x=\"63.623047\" xlink:href=\"#DejaVuSans-46\"/>\n       <use x=\"95.410156\" xlink:href=\"#DejaVuSans-53\"/>\n      </g>\n     </g>\n    </g>\n    <g id=\"ytick_7\">\n     <g id=\"line2d_12\">\n      <g>\n       <use style=\"stroke:#000000;stroke-width:0.8;\" x=\"30.103125\" xlink:href=\"#mf7bd477bc5\" y=\"69.325714\"/>\n      </g>\n     </g>\n     <g id=\"text_12\">\n      <!-- 3.0 -->\n      <g transform=\"translate(7.2 73.124933)scale(0.1 -0.1)\">\n       <defs>\n        <path d=\"M 40.578125 39.3125 \nQ 47.65625 37.796875 51.625 33 \nQ 55.609375 28.21875 55.609375 21.1875 \nQ 55.609375 10.40625 48.1875 4.484375 \nQ 40.765625 -1.421875 27.09375 -1.421875 \nQ 22.515625 -1.421875 17.65625 -0.515625 \nQ 12.796875 0.390625 7.625 2.203125 \nL 7.625 11.71875 \nQ 11.71875 9.328125 16.59375 8.109375 \nQ 21.484375 6.890625 26.8125 6.890625 \nQ 36.078125 6.890625 40.9375 10.546875 \nQ 45.796875 14.203125 45.796875 21.1875 \nQ 45.796875 27.640625 41.28125 31.265625 \nQ 36.765625 34.90625 28.71875 34.90625 \nL 20.21875 34.90625 \nL 20.21875 43.015625 \nL 29.109375 43.015625 \nQ 36.375 43.015625 40.234375 45.921875 \nQ 44.09375 48.828125 44.09375 54.296875 \nQ 44.09375 59.90625 40.109375 62.90625 \nQ 36.140625 65.921875 28.71875 65.921875 \nQ 24.65625 65.921875 20.015625 65.03125 \nQ 15.375 64.15625 9.8125 62.3125 \nL 9.8125 71.09375 \nQ 15.4375 72.65625 20.34375 73.4375 \nQ 25.25 74.21875 29.59375 74.21875 \nQ 40.828125 74.21875 47.359375 69.109375 \nQ 53.90625 64.015625 53.90625 55.328125 \nQ 53.90625 49.265625 50.4375 45.09375 \nQ 46.96875 40.921875 40.578125 39.3125 \nz\n\" id=\"DejaVuSans-51\"/>\n       </defs>\n       <use xlink:href=\"#DejaVuSans-51\"/>\n       <use x=\"63.623047\" xlink:href=\"#DejaVuSans-46\"/>\n       <use x=\"95.410156\" xlink:href=\"#DejaVuSans-48\"/>\n      </g>\n     </g>\n    </g>\n    <g id=\"ytick_8\">\n     <g id=\"line2d_13\">\n      <g>\n       <use style=\"stroke:#000000;stroke-width:0.8;\" x=\"30.103125\" xlink:href=\"#mf7bd477bc5\" y=\"43.44\"/>\n      </g>\n     </g>\n     <g id=\"text_13\">\n      <!-- 3.5 -->\n      <g transform=\"translate(7.2 47.239219)scale(0.1 -0.1)\">\n       <use xlink:href=\"#DejaVuSans-51\"/>\n       <use x=\"63.623047\" xlink:href=\"#DejaVuSans-46\"/>\n       <use x=\"95.410156\" xlink:href=\"#DejaVuSans-53\"/>\n      </g>\n     </g>\n    </g>\n    <g id=\"ytick_9\">\n     <g id=\"line2d_14\">\n      <g>\n       <use style=\"stroke:#000000;stroke-width:0.8;\" x=\"30.103125\" xlink:href=\"#mf7bd477bc5\" y=\"17.554286\"/>\n      </g>\n     </g>\n     <g id=\"text_14\">\n      <!-- 4.0 -->\n      <g transform=\"translate(7.2 21.353504)scale(0.1 -0.1)\">\n       <defs>\n        <path d=\"M 37.796875 64.3125 \nL 12.890625 25.390625 \nL 37.796875 25.390625 \nz\nM 35.203125 72.90625 \nL 47.609375 72.90625 \nL 47.609375 25.390625 \nL 58.015625 25.390625 \nL 58.015625 17.1875 \nL 47.609375 17.1875 \nL 47.609375 0 \nL 37.796875 0 \nL 37.796875 17.1875 \nL 4.890625 17.1875 \nL 4.890625 26.703125 \nz\n\" id=\"DejaVuSans-52\"/>\n       </defs>\n       <use xlink:href=\"#DejaVuSans-52\"/>\n       <use x=\"63.623047\" xlink:href=\"#DejaVuSans-46\"/>\n       <use x=\"95.410156\" xlink:href=\"#DejaVuSans-48\"/>\n      </g>\n     </g>\n    </g>\n   </g>\n   <g id=\"patch_53\">\n    <path d=\"M 30.103125 224.64 \nL 30.103125 7.2 \n\" style=\"fill:none;stroke:#000000;stroke-linecap:square;stroke-linejoin:miter;stroke-width:0.8;\"/>\n   </g>\n   <g id=\"patch_54\">\n    <path d=\"M 364.903125 224.64 \nL 364.903125 7.2 \n\" style=\"fill:none;stroke:#000000;stroke-linecap:square;stroke-linejoin:miter;stroke-width:0.8;\"/>\n   </g>\n   <g id=\"patch_55\">\n    <path d=\"M 30.103125 224.64 \nL 364.903125 224.64 \n\" style=\"fill:none;stroke:#000000;stroke-linecap:square;stroke-linejoin:miter;stroke-width:0.8;\"/>\n   </g>\n   <g id=\"patch_56\">\n    <path d=\"M 30.103125 7.2 \nL 364.903125 7.2 \n\" style=\"fill:none;stroke:#000000;stroke-linecap:square;stroke-linejoin:miter;stroke-width:0.8;\"/>\n   </g>\n  </g>\n </g>\n <defs>\n  <clipPath id=\"pec33097682\">\n   <rect height=\"217.44\" width=\"334.8\" x=\"30.103125\" y=\"7.2\"/>\n  </clipPath>\n </defs>\n</svg>\n",
      "text/plain": "<Figure size 432x288 with 1 Axes>"
     },
     "metadata": {
      "needs_background": "light",
      "transient": {}
     },
     "output_type": "display_data"
    },
    {
     "data": {
      "image/png": "[encoded data removed]",
      "image/svg+xml": "<?xml version=\"1.0\" encoding=\"utf-8\" standalone=\"no\"?>\n<!DOCTYPE svg PUBLIC \"-//W3C//DTD SVG 1.1//EN\"\n  \"http://www.w3.org/Graphics/SVG/1.1/DTD/svg11.dtd\">\n<!-- Created with matplotlib (https://matplotlib.org/) -->\n<svg height=\"248.518125pt\" version=\"1.1\" viewBox=\"0 0 372.103125 248.518125\" width=\"372.103125pt\" xmlns=\"http://www.w3.org/2000/svg\" xmlns:xlink=\"http://www.w3.org/1999/xlink\">\n <metadata>\n  <rdf:RDF xmlns:cc=\"http://creativecommons.org/ns#\" xmlns:dc=\"http://purl.org/dc/elements/1.1/\" xmlns:rdf=\"http://www.w3.org/1999/02/22-rdf-syntax-ns#\">\n   <cc:Work>\n    <dc:type rdf:resource=\"http://purl.org/dc/dcmitype/StillImage\"/>\n    <dc:date>2021-01-20T21:31:59.348536</dc:date>\n    <dc:format>image/svg+xml</dc:format>\n    <dc:creator>\n     <cc:Agent>\n      <dc:title>Matplotlib v3.3.2, https://matplotlib.org/</dc:title>\n     </cc:Agent>\n    </dc:creator>\n   </cc:Work>\n  </rdf:RDF>\n </metadata>\n <defs>\n  <style type=\"text/css\">*{stroke-linecap:butt;stroke-linejoin:round;}</style>\n </defs>\n <g id=\"figure_1\">\n  <g id=\"patch_1\">\n   <path d=\"M 0 248.518125 \nL 372.103125 248.518125 \nL 372.103125 0 \nL 0 0 \nz\n\" style=\"fill:none;\"/>\n  </g>\n  <g id=\"axes_1\">\n   <g id=\"patch_2\">\n    <path d=\"M 30.103125 224.64 \nL 364.903125 224.64 \nL 364.903125 7.2 \nL 30.103125 7.2 \nz\n\" style=\"fill:#ffffff;\"/>\n   </g>\n   <g id=\"patch_3\">\n    <path clip-path=\"url(#p0fe39ed38c)\" d=\"M 131.619792 224.64 \nL 147.127711 224.64 \nL 147.127711 121.097143 \nL 131.619792 121.097143 \nz\n\" style=\"fill:#1f77b4;\"/>\n   </g>\n   <g id=\"patch_4\">\n    <path clip-path=\"url(#p0fe39ed38c)\" d=\"M 147.127711 224.64 \nL 162.63563 224.64 \nL 162.63563 224.64 \nL 147.127711 224.64 \nz\n\" style=\"fill:#1f77b4;\"/>\n   </g>\n   <g id=\"patch_5\">\n    <path clip-path=\"url(#p0fe39ed38c)\" d=\"M 162.63563 224.64 \nL 178.143549 224.64 \nL 178.143549 172.868571 \nL 162.63563 172.868571 \nz\n\" style=\"fill:#1f77b4;\"/>\n   </g>\n   <g id=\"patch_6\">\n    <path clip-path=\"url(#p0fe39ed38c)\" d=\"M 178.143549 224.64 \nL 193.651468 224.64 \nL 193.651468 172.868571 \nL 178.143549 172.868571 \nz\n\" style=\"fill:#1f77b4;\"/>\n   </g>\n   <g id=\"patch_7\">\n    <path clip-path=\"url(#p0fe39ed38c)\" d=\"M 193.651468 224.64 \nL 209.159387 224.64 \nL 209.159387 224.64 \nL 193.651468 224.64 \nz\n\" style=\"fill:#1f77b4;\"/>\n   </g>\n   <g id=\"patch_8\">\n    <path clip-path=\"url(#p0fe39ed38c)\" d=\"M 209.159387 224.64 \nL 224.667306 224.64 \nL 224.667306 121.097143 \nL 209.159387 121.097143 \nz\n\" style=\"fill:#1f77b4;\"/>\n   </g>\n   <g id=\"patch_9\">\n    <path clip-path=\"url(#p0fe39ed38c)\" d=\"M 224.667306 224.64 \nL 240.175225 224.64 \nL 240.175225 121.097143 \nL 224.667306 121.097143 \nz\n\" style=\"fill:#1f77b4;\"/>\n   </g>\n   <g id=\"patch_10\">\n    <path clip-path=\"url(#p0fe39ed38c)\" d=\"M 240.175225 224.64 \nL 255.683144 224.64 \nL 255.683144 224.64 \nL 240.175225 224.64 \nz\n\" style=\"fill:#1f77b4;\"/>\n   </g>\n   <g id=\"patch_11\">\n    <path clip-path=\"url(#p0fe39ed38c)\" d=\"M 255.683144 224.64 \nL 271.191063 224.64 \nL 271.191063 224.64 \nL 255.683144 224.64 \nz\n\" style=\"fill:#1f77b4;\"/>\n   </g>\n   <g id=\"patch_12\">\n    <path clip-path=\"url(#p0fe39ed38c)\" d=\"M 271.191063 224.64 \nL 286.698982 224.64 \nL 286.698982 121.097143 \nL 271.191063 121.097143 \nz\n\" style=\"fill:#1f77b4;\"/>\n   </g>\n   <g id=\"patch_13\">\n    <path clip-path=\"url(#p0fe39ed38c)\" d=\"M 138.1611 224.64 \nL 154.478924 224.64 \nL 154.478924 69.325714 \nL 138.1611 69.325714 \nz\n\" style=\"fill:#ff7f0e;\"/>\n   </g>\n   <g id=\"patch_14\">\n    <path clip-path=\"url(#p0fe39ed38c)\" d=\"M 154.478924 224.64 \nL 170.796749 224.64 \nL 170.796749 224.64 \nL 154.478924 224.64 \nz\n\" style=\"fill:#ff7f0e;\"/>\n   </g>\n   <g id=\"patch_15\">\n    <path clip-path=\"url(#p0fe39ed38c)\" d=\"M 170.796749 224.64 \nL 187.114573 224.64 \nL 187.114573 172.868571 \nL 170.796749 172.868571 \nz\n\" style=\"fill:#ff7f0e;\"/>\n   </g>\n   <g id=\"patch_16\">\n    <path clip-path=\"url(#p0fe39ed38c)\" d=\"M 187.114573 224.64 \nL 203.432397 224.64 \nL 203.432397 172.868571 \nL 187.114573 172.868571 \nz\n\" style=\"fill:#ff7f0e;\"/>\n   </g>\n   <g id=\"patch_17\">\n    <path clip-path=\"url(#p0fe39ed38c)\" d=\"M 203.432397 224.64 \nL 219.750221 224.64 \nL 219.750221 224.64 \nL 203.432397 224.64 \nz\n\" style=\"fill:#ff7f0e;\"/>\n   </g>\n   <g id=\"patch_18\">\n    <path clip-path=\"url(#p0fe39ed38c)\" d=\"M 219.750221 224.64 \nL 236.068046 224.64 \nL 236.068046 224.64 \nL 219.750221 224.64 \nz\n\" style=\"fill:#ff7f0e;\"/>\n   </g>\n   <g id=\"patch_19\">\n    <path clip-path=\"url(#p0fe39ed38c)\" d=\"M 236.068046 224.64 \nL 252.38587 224.64 \nL 252.38587 172.868571 \nL 236.068046 172.868571 \nz\n\" style=\"fill:#ff7f0e;\"/>\n   </g>\n   <g id=\"patch_20\">\n    <path clip-path=\"url(#p0fe39ed38c)\" d=\"M 252.38587 224.64 \nL 268.703694 224.64 \nL 268.703694 69.325714 \nL 252.38587 69.325714 \nz\n\" style=\"fill:#ff7f0e;\"/>\n   </g>\n   <g id=\"patch_21\">\n    <path clip-path=\"url(#p0fe39ed38c)\" d=\"M 268.703694 224.64 \nL 285.021519 224.64 \nL 285.021519 224.64 \nL 268.703694 224.64 \nz\n\" style=\"fill:#ff7f0e;\"/>\n   </g>\n   <g id=\"patch_22\">\n    <path clip-path=\"url(#p0fe39ed38c)\" d=\"M 285.021519 224.64 \nL 301.339343 224.64 \nL 301.339343 172.868571 \nL 285.021519 172.868571 \nz\n\" style=\"fill:#ff7f0e;\"/>\n   </g>\n   <g id=\"patch_23\">\n    <path clip-path=\"url(#p0fe39ed38c)\" d=\"M 45.321307 224.64 \nL 75.75767 224.64 \nL 75.75767 172.868571 \nL 45.321307 172.868571 \nz\n\" style=\"fill:#2ca02c;\"/>\n   </g>\n   <g id=\"patch_24\">\n    <path clip-path=\"url(#p0fe39ed38c)\" d=\"M 75.75767 224.64 \nL 106.194034 224.64 \nL 106.194034 172.868571 \nL 75.75767 172.868571 \nz\n\" style=\"fill:#2ca02c;\"/>\n   </g>\n   <g id=\"patch_25\">\n    <path clip-path=\"url(#p0fe39ed38c)\" d=\"M 106.194034 224.64 \nL 136.630398 224.64 \nL 136.630398 224.64 \nL 106.194034 224.64 \nz\n\" style=\"fill:#2ca02c;\"/>\n   </g>\n   <g id=\"patch_26\">\n    <path clip-path=\"url(#p0fe39ed38c)\" d=\"M 136.630398 224.64 \nL 167.066761 224.64 \nL 167.066761 121.097143 \nL 136.630398 121.097143 \nz\n\" style=\"fill:#2ca02c;\"/>\n   </g>\n   <g id=\"patch_27\">\n    <path clip-path=\"url(#p0fe39ed38c)\" d=\"M 167.066761 224.64 \nL 197.503125 224.64 \nL 197.503125 172.868571 \nL 167.066761 172.868571 \nz\n\" style=\"fill:#2ca02c;\"/>\n   </g>\n   <g id=\"patch_28\">\n    <path clip-path=\"url(#p0fe39ed38c)\" d=\"M 197.503125 224.64 \nL 227.939489 224.64 \nL 227.939489 172.868571 \nL 197.503125 172.868571 \nz\n\" style=\"fill:#2ca02c;\"/>\n   </g>\n   <g id=\"patch_29\">\n    <path clip-path=\"url(#p0fe39ed38c)\" d=\"M 227.939489 224.64 \nL 258.375852 224.64 \nL 258.375852 121.097143 \nL 227.939489 121.097143 \nz\n\" style=\"fill:#2ca02c;\"/>\n   </g>\n   <g id=\"patch_30\">\n    <path clip-path=\"url(#p0fe39ed38c)\" d=\"M 258.375852 224.64 \nL 288.812216 224.64 \nL 288.812216 224.64 \nL 258.375852 224.64 \nz\n\" style=\"fill:#2ca02c;\"/>\n   </g>\n   <g id=\"patch_31\">\n    <path clip-path=\"url(#p0fe39ed38c)\" d=\"M 288.812216 224.64 \nL 319.24858 224.64 \nL 319.24858 172.868571 \nL 288.812216 172.868571 \nz\n\" style=\"fill:#2ca02c;\"/>\n   </g>\n   <g id=\"patch_32\">\n    <path clip-path=\"url(#p0fe39ed38c)\" d=\"M 319.24858 224.64 \nL 349.684943 224.64 \nL 349.684943 172.868571 \nL 319.24858 172.868571 \nz\n\" style=\"fill:#2ca02c;\"/>\n   </g>\n   <g id=\"patch_33\">\n    <path clip-path=\"url(#p0fe39ed38c)\" d=\"M 79.780484 224.64 \nL 104.406926 224.64 \nL 104.406926 172.868571 \nL 79.780484 172.868571 \nz\n\" style=\"fill:#d62728;\"/>\n   </g>\n   <g id=\"patch_34\">\n    <path clip-path=\"url(#p0fe39ed38c)\" d=\"M 104.406926 224.64 \nL 129.033368 224.64 \nL 129.033368 121.097143 \nL 104.406926 121.097143 \nz\n\" style=\"fill:#d62728;\"/>\n   </g>\n   <g id=\"patch_35\">\n    <path clip-path=\"url(#p0fe39ed38c)\" d=\"M 129.033368 224.64 \nL 153.659811 224.64 \nL 153.659811 224.64 \nL 129.033368 224.64 \nz\n\" style=\"fill:#d62728;\"/>\n   </g>\n   <g id=\"patch_36\">\n    <path clip-path=\"url(#p0fe39ed38c)\" d=\"M 153.659811 224.64 \nL 178.286253 224.64 \nL 178.286253 69.325714 \nL 153.659811 69.325714 \nz\n\" style=\"fill:#d62728;\"/>\n   </g>\n   <g id=\"patch_37\">\n    <path clip-path=\"url(#p0fe39ed38c)\" d=\"M 178.286253 224.64 \nL 202.912695 224.64 \nL 202.912695 172.868571 \nL 178.286253 172.868571 \nz\n\" style=\"fill:#d62728;\"/>\n   </g>\n   <g id=\"patch_38\">\n    <path clip-path=\"url(#p0fe39ed38c)\" d=\"M 202.912695 224.64 \nL 227.539137 224.64 \nL 227.539137 224.64 \nL 202.912695 224.64 \nz\n\" style=\"fill:#d62728;\"/>\n   </g>\n   <g id=\"patch_39\">\n    <path clip-path=\"url(#p0fe39ed38c)\" d=\"M 227.539137 224.64 \nL 252.165579 224.64 \nL 252.165579 224.64 \nL 227.539137 224.64 \nz\n\" style=\"fill:#d62728;\"/>\n   </g>\n   <g id=\"patch_40\">\n    <path clip-path=\"url(#p0fe39ed38c)\" d=\"M 252.165579 224.64 \nL 276.792022 224.64 \nL 276.792022 224.64 \nL 252.165579 224.64 \nz\n\" style=\"fill:#d62728;\"/>\n   </g>\n   <g id=\"patch_41\">\n    <path clip-path=\"url(#p0fe39ed38c)\" d=\"M 276.792022 224.64 \nL 301.418464 224.64 \nL 301.418464 172.868571 \nL 276.792022 172.868571 \nz\n\" style=\"fill:#d62728;\"/>\n   </g>\n   <g id=\"patch_42\">\n    <path clip-path=\"url(#p0fe39ed38c)\" d=\"M 301.418464 224.64 \nL 326.044906 224.64 \nL 326.044906 121.097143 \nL 301.418464 121.097143 \nz\n\" style=\"fill:#d62728;\"/>\n   </g>\n   <g id=\"patch_43\">\n    <path clip-path=\"url(#p0fe39ed38c)\" d=\"M 103.214473 224.64 \nL 124.381436 224.64 \nL 124.381436 172.868571 \nL 103.214473 172.868571 \nz\n\" style=\"fill:#9467bd;\"/>\n   </g>\n   <g id=\"patch_44\">\n    <path clip-path=\"url(#p0fe39ed38c)\" d=\"M 124.381436 224.64 \nL 145.548398 224.64 \nL 145.548398 224.64 \nL 124.381436 224.64 \nz\n\" style=\"fill:#9467bd;\"/>\n   </g>\n   <g id=\"patch_45\">\n    <path clip-path=\"url(#p0fe39ed38c)\" d=\"M 145.548398 224.64 \nL 166.715361 224.64 \nL 166.715361 172.868571 \nL 145.548398 172.868571 \nz\n\" style=\"fill:#9467bd;\"/>\n   </g>\n   <g id=\"patch_46\">\n    <path clip-path=\"url(#p0fe39ed38c)\" d=\"M 166.715361 224.64 \nL 187.882323 224.64 \nL 187.882323 17.554286 \nL 166.715361 17.554286 \nz\n\" style=\"fill:#9467bd;\"/>\n   </g>\n   <g id=\"patch_47\">\n    <path clip-path=\"url(#p0fe39ed38c)\" d=\"M 187.882323 224.64 \nL 209.049286 224.64 \nL 209.049286 121.097143 \nL 187.882323 121.097143 \nz\n\" style=\"fill:#9467bd;\"/>\n   </g>\n   <g id=\"patch_48\">\n    <path clip-path=\"url(#p0fe39ed38c)\" d=\"M 209.049286 224.64 \nL 230.216249 224.64 \nL 230.216249 224.64 \nL 209.049286 224.64 \nz\n\" style=\"fill:#9467bd;\"/>\n   </g>\n   <g id=\"patch_49\">\n    <path clip-path=\"url(#p0fe39ed38c)\" d=\"M 230.216249 224.64 \nL 251.383211 224.64 \nL 251.383211 224.64 \nL 230.216249 224.64 \nz\n\" style=\"fill:#9467bd;\"/>\n   </g>\n   <g id=\"patch_50\">\n    <path clip-path=\"url(#p0fe39ed38c)\" d=\"M 251.383211 224.64 \nL 272.550174 224.64 \nL 272.550174 172.868571 \nL 251.383211 172.868571 \nz\n\" style=\"fill:#9467bd;\"/>\n   </g>\n   <g id=\"patch_51\">\n    <path clip-path=\"url(#p0fe39ed38c)\" d=\"M 272.550174 224.64 \nL 293.717136 224.64 \nL 293.717136 224.64 \nL 272.550174 224.64 \nz\n\" style=\"fill:#9467bd;\"/>\n   </g>\n   <g id=\"patch_52\">\n    <path clip-path=\"url(#p0fe39ed38c)\" d=\"M 293.717136 224.64 \nL 314.884099 224.64 \nL 314.884099 172.868571 \nL 293.717136 172.868571 \nz\n\" style=\"fill:#9467bd;\"/>\n   </g>\n   <g id=\"matplotlib.axis_1\">\n    <g id=\"xtick_1\">\n     <g id=\"line2d_1\">\n      <defs>\n       <path d=\"M 0 0 \nL 0 3.5 \n\" id=\"mfc6b7b6422\" style=\"stroke:#000000;stroke-width:0.8;\"/>\n      </defs>\n      <g>\n       <use style=\"stroke:#000000;stroke-width:0.8;\" x=\"32.157623\" xlink:href=\"#mfc6b7b6422\" y=\"224.64\"/>\n      </g>\n     </g>\n     <g id=\"text_1\">\n      <!-- 7.0 -->\n      <g transform=\"translate(24.20606 239.238437)scale(0.1 -0.1)\">\n       <defs>\n        <path d=\"M 8.203125 72.90625 \nL 55.078125 72.90625 \nL 55.078125 68.703125 \nL 28.609375 0 \nL 18.3125 0 \nL 43.21875 64.59375 \nL 8.203125 64.59375 \nz\n\" id=\"DejaVuSans-55\"/>\n        <path d=\"M 10.6875 12.40625 \nL 21 12.40625 \nL 21 0 \nL 10.6875 0 \nz\n\" id=\"DejaVuSans-46\"/>\n        <path d=\"M 31.78125 66.40625 \nQ 24.171875 66.40625 20.328125 58.90625 \nQ 16.5 51.421875 16.5 36.375 \nQ 16.5 21.390625 20.328125 13.890625 \nQ 24.171875 6.390625 31.78125 6.390625 \nQ 39.453125 6.390625 43.28125 13.890625 \nQ 47.125 21.390625 47.125 36.375 \nQ 47.125 51.421875 43.28125 58.90625 \nQ 39.453125 66.40625 31.78125 66.40625 \nz\nM 31.78125 74.21875 \nQ 44.046875 74.21875 50.515625 64.515625 \nQ 56.984375 54.828125 56.984375 36.375 \nQ 56.984375 17.96875 50.515625 8.265625 \nQ 44.046875 -1.421875 31.78125 -1.421875 \nQ 19.53125 -1.421875 13.0625 8.265625 \nQ 6.59375 17.96875 6.59375 36.375 \nQ 6.59375 54.828125 13.0625 64.515625 \nQ 19.53125 74.21875 31.78125 74.21875 \nz\n\" id=\"DejaVuSans-48\"/>\n       </defs>\n       <use xlink:href=\"#DejaVuSans-55\"/>\n       <use x=\"63.623047\" xlink:href=\"#DejaVuSans-46\"/>\n       <use x=\"95.410156\" xlink:href=\"#DejaVuSans-48\"/>\n      </g>\n     </g>\n    </g>\n    <g id=\"xtick_2\">\n     <g id=\"line2d_2\">\n      <g>\n       <use style=\"stroke:#000000;stroke-width:0.8;\" x=\"69.597749\" xlink:href=\"#mfc6b7b6422\" y=\"224.64\"/>\n      </g>\n     </g>\n     <g id=\"text_2\">\n      <!-- 7.5 -->\n      <g transform=\"translate(61.646186 239.238437)scale(0.1 -0.1)\">\n       <defs>\n        <path d=\"M 10.796875 72.90625 \nL 49.515625 72.90625 \nL 49.515625 64.59375 \nL 19.828125 64.59375 \nL 19.828125 46.734375 \nQ 21.96875 47.46875 24.109375 47.828125 \nQ 26.265625 48.1875 28.421875 48.1875 \nQ 40.625 48.1875 47.75 41.5 \nQ 54.890625 34.8125 54.890625 23.390625 \nQ 54.890625 11.625 47.5625 5.09375 \nQ 40.234375 -1.421875 26.90625 -1.421875 \nQ 22.3125 -1.421875 17.546875 -0.640625 \nQ 12.796875 0.140625 7.71875 1.703125 \nL 7.71875 11.625 \nQ 12.109375 9.234375 16.796875 8.0625 \nQ 21.484375 6.890625 26.703125 6.890625 \nQ 35.15625 6.890625 40.078125 11.328125 \nQ 45.015625 15.765625 45.015625 23.390625 \nQ 45.015625 31 40.078125 35.4375 \nQ 35.15625 39.890625 26.703125 39.890625 \nQ 22.75 39.890625 18.8125 39.015625 \nQ 14.890625 38.140625 10.796875 36.28125 \nz\n\" id=\"DejaVuSans-53\"/>\n       </defs>\n       <use xlink:href=\"#DejaVuSans-55\"/>\n       <use x=\"63.623047\" xlink:href=\"#DejaVuSans-46\"/>\n       <use x=\"95.410156\" xlink:href=\"#DejaVuSans-53\"/>\n      </g>\n     </g>\n    </g>\n    <g id=\"xtick_3\">\n     <g id=\"line2d_3\">\n      <g>\n       <use style=\"stroke:#000000;stroke-width:0.8;\" x=\"107.037875\" xlink:href=\"#mfc6b7b6422\" y=\"224.64\"/>\n      </g>\n     </g>\n     <g id=\"text_3\">\n      <!-- 8.0 -->\n      <g transform=\"translate(99.086312 239.238437)scale(0.1 -0.1)\">\n       <defs>\n        <path d=\"M 31.78125 34.625 \nQ 24.75 34.625 20.71875 30.859375 \nQ 16.703125 27.09375 16.703125 20.515625 \nQ 16.703125 13.921875 20.71875 10.15625 \nQ 24.75 6.390625 31.78125 6.390625 \nQ 38.8125 6.390625 42.859375 10.171875 \nQ 46.921875 13.96875 46.921875 20.515625 \nQ 46.921875 27.09375 42.890625 30.859375 \nQ 38.875 34.625 31.78125 34.625 \nz\nM 21.921875 38.8125 \nQ 15.578125 40.375 12.03125 44.71875 \nQ 8.5 49.078125 8.5 55.328125 \nQ 8.5 64.0625 14.71875 69.140625 \nQ 20.953125 74.21875 31.78125 74.21875 \nQ 42.671875 74.21875 48.875 69.140625 \nQ 55.078125 64.0625 55.078125 55.328125 \nQ 55.078125 49.078125 51.53125 44.71875 \nQ 48 40.375 41.703125 38.8125 \nQ 48.828125 37.15625 52.796875 32.3125 \nQ 56.78125 27.484375 56.78125 20.515625 \nQ 56.78125 9.90625 50.3125 4.234375 \nQ 43.84375 -1.421875 31.78125 -1.421875 \nQ 19.734375 -1.421875 13.25 4.234375 \nQ 6.78125 9.90625 6.78125 20.515625 \nQ 6.78125 27.484375 10.78125 32.3125 \nQ 14.796875 37.15625 21.921875 38.8125 \nz\nM 18.3125 54.390625 \nQ 18.3125 48.734375 21.84375 45.5625 \nQ 25.390625 42.390625 31.78125 42.390625 \nQ 38.140625 42.390625 41.71875 45.5625 \nQ 45.3125 48.734375 45.3125 54.390625 \nQ 45.3125 60.0625 41.71875 63.234375 \nQ 38.140625 66.40625 31.78125 66.40625 \nQ 25.390625 66.40625 21.84375 63.234375 \nQ 18.3125 60.0625 18.3125 54.390625 \nz\n\" id=\"DejaVuSans-56\"/>\n       </defs>\n       <use xlink:href=\"#DejaVuSans-56\"/>\n       <use x=\"63.623047\" xlink:href=\"#DejaVuSans-46\"/>\n       <use x=\"95.410156\" xlink:href=\"#DejaVuSans-48\"/>\n      </g>\n     </g>\n    </g>\n    <g id=\"xtick_4\">\n     <g id=\"line2d_4\">\n      <g>\n       <use style=\"stroke:#000000;stroke-width:0.8;\" x=\"144.478001\" xlink:href=\"#mfc6b7b6422\" y=\"224.64\"/>\n      </g>\n     </g>\n     <g id=\"text_4\">\n      <!-- 8.5 -->\n      <g transform=\"translate(136.526439 239.238437)scale(0.1 -0.1)\">\n       <use xlink:href=\"#DejaVuSans-56\"/>\n       <use x=\"63.623047\" xlink:href=\"#DejaVuSans-46\"/>\n       <use x=\"95.410156\" xlink:href=\"#DejaVuSans-53\"/>\n      </g>\n     </g>\n    </g>\n    <g id=\"xtick_5\">\n     <g id=\"line2d_5\">\n      <g>\n       <use style=\"stroke:#000000;stroke-width:0.8;\" x=\"181.918127\" xlink:href=\"#mfc6b7b6422\" y=\"224.64\"/>\n      </g>\n     </g>\n     <g id=\"text_5\">\n      <!-- 9.0 -->\n      <g transform=\"translate(173.966565 239.238437)scale(0.1 -0.1)\">\n       <defs>\n        <path d=\"M 10.984375 1.515625 \nL 10.984375 10.5 \nQ 14.703125 8.734375 18.5 7.8125 \nQ 22.3125 6.890625 25.984375 6.890625 \nQ 35.75 6.890625 40.890625 13.453125 \nQ 46.046875 20.015625 46.78125 33.40625 \nQ 43.953125 29.203125 39.59375 26.953125 \nQ 35.25 24.703125 29.984375 24.703125 \nQ 19.046875 24.703125 12.671875 31.3125 \nQ 6.296875 37.9375 6.296875 49.421875 \nQ 6.296875 60.640625 12.9375 67.421875 \nQ 19.578125 74.21875 30.609375 74.21875 \nQ 43.265625 74.21875 49.921875 64.515625 \nQ 56.59375 54.828125 56.59375 36.375 \nQ 56.59375 19.140625 48.40625 8.859375 \nQ 40.234375 -1.421875 26.421875 -1.421875 \nQ 22.703125 -1.421875 18.890625 -0.6875 \nQ 15.09375 0.046875 10.984375 1.515625 \nz\nM 30.609375 32.421875 \nQ 37.25 32.421875 41.125 36.953125 \nQ 45.015625 41.5 45.015625 49.421875 \nQ 45.015625 57.28125 41.125 61.84375 \nQ 37.25 66.40625 30.609375 66.40625 \nQ 23.96875 66.40625 20.09375 61.84375 \nQ 16.21875 57.28125 16.21875 49.421875 \nQ 16.21875 41.5 20.09375 36.953125 \nQ 23.96875 32.421875 30.609375 32.421875 \nz\n\" id=\"DejaVuSans-57\"/>\n       </defs>\n       <use xlink:href=\"#DejaVuSans-57\"/>\n       <use x=\"63.623047\" xlink:href=\"#DejaVuSans-46\"/>\n       <use x=\"95.410156\" xlink:href=\"#DejaVuSans-48\"/>\n      </g>\n     </g>\n    </g>\n    <g id=\"xtick_6\">\n     <g id=\"line2d_6\">\n      <g>\n       <use style=\"stroke:#000000;stroke-width:0.8;\" x=\"219.358254\" xlink:href=\"#mfc6b7b6422\" y=\"224.64\"/>\n      </g>\n     </g>\n     <g id=\"text_6\">\n      <!-- 9.5 -->\n      <g transform=\"translate(211.406691 239.238437)scale(0.1 -0.1)\">\n       <use xlink:href=\"#DejaVuSans-57\"/>\n       <use x=\"63.623047\" xlink:href=\"#DejaVuSans-46\"/>\n       <use x=\"95.410156\" xlink:href=\"#DejaVuSans-53\"/>\n      </g>\n     </g>\n    </g>\n    <g id=\"xtick_7\">\n     <g id=\"line2d_7\">\n      <g>\n       <use style=\"stroke:#000000;stroke-width:0.8;\" x=\"256.79838\" xlink:href=\"#mfc6b7b6422\" y=\"224.64\"/>\n      </g>\n     </g>\n     <g id=\"text_7\">\n      <!-- 10.0 -->\n      <g transform=\"translate(245.665567 239.238437)scale(0.1 -0.1)\">\n       <defs>\n        <path d=\"M 12.40625 8.296875 \nL 28.515625 8.296875 \nL 28.515625 63.921875 \nL 10.984375 60.40625 \nL 10.984375 69.390625 \nL 28.421875 72.90625 \nL 38.28125 72.90625 \nL 38.28125 8.296875 \nL 54.390625 8.296875 \nL 54.390625 0 \nL 12.40625 0 \nz\n\" id=\"DejaVuSans-49\"/>\n       </defs>\n       <use xlink:href=\"#DejaVuSans-49\"/>\n       <use x=\"63.623047\" xlink:href=\"#DejaVuSans-48\"/>\n       <use x=\"127.246094\" xlink:href=\"#DejaVuSans-46\"/>\n       <use x=\"159.033203\" xlink:href=\"#DejaVuSans-48\"/>\n      </g>\n     </g>\n    </g>\n    <g id=\"xtick_8\">\n     <g id=\"line2d_8\">\n      <g>\n       <use style=\"stroke:#000000;stroke-width:0.8;\" x=\"294.238506\" xlink:href=\"#mfc6b7b6422\" y=\"224.64\"/>\n      </g>\n     </g>\n     <g id=\"text_8\">\n      <!-- 10.5 -->\n      <g transform=\"translate(283.105693 239.238437)scale(0.1 -0.1)\">\n       <use xlink:href=\"#DejaVuSans-49\"/>\n       <use x=\"63.623047\" xlink:href=\"#DejaVuSans-48\"/>\n       <use x=\"127.246094\" xlink:href=\"#DejaVuSans-46\"/>\n       <use x=\"159.033203\" xlink:href=\"#DejaVuSans-53\"/>\n      </g>\n     </g>\n    </g>\n    <g id=\"xtick_9\">\n     <g id=\"line2d_9\">\n      <g>\n       <use style=\"stroke:#000000;stroke-width:0.8;\" x=\"331.678632\" xlink:href=\"#mfc6b7b6422\" y=\"224.64\"/>\n      </g>\n     </g>\n     <g id=\"text_9\">\n      <!-- 11.0 -->\n      <g transform=\"translate(320.54582 239.238437)scale(0.1 -0.1)\">\n       <use xlink:href=\"#DejaVuSans-49\"/>\n       <use x=\"63.623047\" xlink:href=\"#DejaVuSans-49\"/>\n       <use x=\"127.246094\" xlink:href=\"#DejaVuSans-46\"/>\n       <use x=\"159.033203\" xlink:href=\"#DejaVuSans-48\"/>\n      </g>\n     </g>\n    </g>\n   </g>\n   <g id=\"matplotlib.axis_2\">\n    <g id=\"ytick_1\">\n     <g id=\"line2d_10\">\n      <defs>\n       <path d=\"M 0 0 \nL -3.5 0 \n\" id=\"m303a0e6f6e\" style=\"stroke:#000000;stroke-width:0.8;\"/>\n      </defs>\n      <g>\n       <use style=\"stroke:#000000;stroke-width:0.8;\" x=\"30.103125\" xlink:href=\"#m303a0e6f6e\" y=\"224.64\"/>\n      </g>\n     </g>\n     <g id=\"text_10\">\n      <!-- 0.0 -->\n      <g transform=\"translate(7.2 228.439219)scale(0.1 -0.1)\">\n       <use xlink:href=\"#DejaVuSans-48\"/>\n       <use x=\"63.623047\" xlink:href=\"#DejaVuSans-46\"/>\n       <use x=\"95.410156\" xlink:href=\"#DejaVuSans-48\"/>\n      </g>\n     </g>\n    </g>\n    <g id=\"ytick_2\">\n     <g id=\"line2d_11\">\n      <g>\n       <use style=\"stroke:#000000;stroke-width:0.8;\" x=\"30.103125\" xlink:href=\"#m303a0e6f6e\" y=\"198.754286\"/>\n      </g>\n     </g>\n     <g id=\"text_11\">\n      <!-- 0.5 -->\n      <g transform=\"translate(7.2 202.553504)scale(0.1 -0.1)\">\n       <use xlink:href=\"#DejaVuSans-48\"/>\n       <use x=\"63.623047\" xlink:href=\"#DejaVuSans-46\"/>\n       <use x=\"95.410156\" xlink:href=\"#DejaVuSans-53\"/>\n      </g>\n     </g>\n    </g>\n    <g id=\"ytick_3\">\n     <g id=\"line2d_12\">\n      <g>\n       <use style=\"stroke:#000000;stroke-width:0.8;\" x=\"30.103125\" xlink:href=\"#m303a0e6f6e\" y=\"172.868571\"/>\n      </g>\n     </g>\n     <g id=\"text_12\">\n      <!-- 1.0 -->\n      <g transform=\"translate(7.2 176.66779)scale(0.1 -0.1)\">\n       <use xlink:href=\"#DejaVuSans-49\"/>\n       <use x=\"63.623047\" xlink:href=\"#DejaVuSans-46\"/>\n       <use x=\"95.410156\" xlink:href=\"#DejaVuSans-48\"/>\n      </g>\n     </g>\n    </g>\n    <g id=\"ytick_4\">\n     <g id=\"line2d_13\">\n      <g>\n       <use style=\"stroke:#000000;stroke-width:0.8;\" x=\"30.103125\" xlink:href=\"#m303a0e6f6e\" y=\"146.982857\"/>\n      </g>\n     </g>\n     <g id=\"text_13\">\n      <!-- 1.5 -->\n      <g transform=\"translate(7.2 150.782076)scale(0.1 -0.1)\">\n       <use xlink:href=\"#DejaVuSans-49\"/>\n       <use x=\"63.623047\" xlink:href=\"#DejaVuSans-46\"/>\n       <use x=\"95.410156\" xlink:href=\"#DejaVuSans-53\"/>\n      </g>\n     </g>\n    </g>\n    <g id=\"ytick_5\">\n     <g id=\"line2d_14\">\n      <g>\n       <use style=\"stroke:#000000;stroke-width:0.8;\" x=\"30.103125\" xlink:href=\"#m303a0e6f6e\" y=\"121.097143\"/>\n      </g>\n     </g>\n     <g id=\"text_14\">\n      <!-- 2.0 -->\n      <g transform=\"translate(7.2 124.896362)scale(0.1 -0.1)\">\n       <defs>\n        <path d=\"M 19.1875 8.296875 \nL 53.609375 8.296875 \nL 53.609375 0 \nL 7.328125 0 \nL 7.328125 8.296875 \nQ 12.9375 14.109375 22.625 23.890625 \nQ 32.328125 33.6875 34.8125 36.53125 \nQ 39.546875 41.84375 41.421875 45.53125 \nQ 43.3125 49.21875 43.3125 52.78125 \nQ 43.3125 58.59375 39.234375 62.25 \nQ 35.15625 65.921875 28.609375 65.921875 \nQ 23.96875 65.921875 18.8125 64.3125 \nQ 13.671875 62.703125 7.8125 59.421875 \nL 7.8125 69.390625 \nQ 13.765625 71.78125 18.9375 73 \nQ 24.125 74.21875 28.421875 74.21875 \nQ 39.75 74.21875 46.484375 68.546875 \nQ 53.21875 62.890625 53.21875 53.421875 \nQ 53.21875 48.921875 51.53125 44.890625 \nQ 49.859375 40.875 45.40625 35.40625 \nQ 44.1875 33.984375 37.640625 27.21875 \nQ 31.109375 20.453125 19.1875 8.296875 \nz\n\" id=\"DejaVuSans-50\"/>\n       </defs>\n       <use xlink:href=\"#DejaVuSans-50\"/>\n       <use x=\"63.623047\" xlink:href=\"#DejaVuSans-46\"/>\n       <use x=\"95.410156\" xlink:href=\"#DejaVuSans-48\"/>\n      </g>\n     </g>\n    </g>\n    <g id=\"ytick_6\">\n     <g id=\"line2d_15\">\n      <g>\n       <use style=\"stroke:#000000;stroke-width:0.8;\" x=\"30.103125\" xlink:href=\"#m303a0e6f6e\" y=\"95.211429\"/>\n      </g>\n     </g>\n     <g id=\"text_15\">\n      <!-- 2.5 -->\n      <g transform=\"translate(7.2 99.010647)scale(0.1 -0.1)\">\n       <use xlink:href=\"#DejaVuSans-50\"/>\n       <use x=\"63.623047\" xlink:href=\"#DejaVuSans-46\"/>\n       <use x=\"95.410156\" xlink:href=\"#DejaVuSans-53\"/>\n      </g>\n     </g>\n    </g>\n    <g id=\"ytick_7\">\n     <g id=\"line2d_16\">\n      <g>\n       <use style=\"stroke:#000000;stroke-width:0.8;\" x=\"30.103125\" xlink:href=\"#m303a0e6f6e\" y=\"69.325714\"/>\n      </g>\n     </g>\n     <g id=\"text_16\">\n      <!-- 3.0 -->\n      <g transform=\"translate(7.2 73.124933)scale(0.1 -0.1)\">\n       <defs>\n        <path d=\"M 40.578125 39.3125 \nQ 47.65625 37.796875 51.625 33 \nQ 55.609375 28.21875 55.609375 21.1875 \nQ 55.609375 10.40625 48.1875 4.484375 \nQ 40.765625 -1.421875 27.09375 -1.421875 \nQ 22.515625 -1.421875 17.65625 -0.515625 \nQ 12.796875 0.390625 7.625 2.203125 \nL 7.625 11.71875 \nQ 11.71875 9.328125 16.59375 8.109375 \nQ 21.484375 6.890625 26.8125 6.890625 \nQ 36.078125 6.890625 40.9375 10.546875 \nQ 45.796875 14.203125 45.796875 21.1875 \nQ 45.796875 27.640625 41.28125 31.265625 \nQ 36.765625 34.90625 28.71875 34.90625 \nL 20.21875 34.90625 \nL 20.21875 43.015625 \nL 29.109375 43.015625 \nQ 36.375 43.015625 40.234375 45.921875 \nQ 44.09375 48.828125 44.09375 54.296875 \nQ 44.09375 59.90625 40.109375 62.90625 \nQ 36.140625 65.921875 28.71875 65.921875 \nQ 24.65625 65.921875 20.015625 65.03125 \nQ 15.375 64.15625 9.8125 62.3125 \nL 9.8125 71.09375 \nQ 15.4375 72.65625 20.34375 73.4375 \nQ 25.25 74.21875 29.59375 74.21875 \nQ 40.828125 74.21875 47.359375 69.109375 \nQ 53.90625 64.015625 53.90625 55.328125 \nQ 53.90625 49.265625 50.4375 45.09375 \nQ 46.96875 40.921875 40.578125 39.3125 \nz\n\" id=\"DejaVuSans-51\"/>\n       </defs>\n       <use xlink:href=\"#DejaVuSans-51\"/>\n       <use x=\"63.623047\" xlink:href=\"#DejaVuSans-46\"/>\n       <use x=\"95.410156\" xlink:href=\"#DejaVuSans-48\"/>\n      </g>\n     </g>\n    </g>\n    <g id=\"ytick_8\">\n     <g id=\"line2d_17\">\n      <g>\n       <use style=\"stroke:#000000;stroke-width:0.8;\" x=\"30.103125\" xlink:href=\"#m303a0e6f6e\" y=\"43.44\"/>\n      </g>\n     </g>\n     <g id=\"text_17\">\n      <!-- 3.5 -->\n      <g transform=\"translate(7.2 47.239219)scale(0.1 -0.1)\">\n       <use xlink:href=\"#DejaVuSans-51\"/>\n       <use x=\"63.623047\" xlink:href=\"#DejaVuSans-46\"/>\n       <use x=\"95.410156\" xlink:href=\"#DejaVuSans-53\"/>\n      </g>\n     </g>\n    </g>\n    <g id=\"ytick_9\">\n     <g id=\"line2d_18\">\n      <g>\n       <use style=\"stroke:#000000;stroke-width:0.8;\" x=\"30.103125\" xlink:href=\"#m303a0e6f6e\" y=\"17.554286\"/>\n      </g>\n     </g>\n     <g id=\"text_18\">\n      <!-- 4.0 -->\n      <g transform=\"translate(7.2 21.353504)scale(0.1 -0.1)\">\n       <defs>\n        <path d=\"M 37.796875 64.3125 \nL 12.890625 25.390625 \nL 37.796875 25.390625 \nz\nM 35.203125 72.90625 \nL 47.609375 72.90625 \nL 47.609375 25.390625 \nL 58.015625 25.390625 \nL 58.015625 17.1875 \nL 47.609375 17.1875 \nL 47.609375 0 \nL 37.796875 0 \nL 37.796875 17.1875 \nL 4.890625 17.1875 \nL 4.890625 26.703125 \nz\n\" id=\"DejaVuSans-52\"/>\n       </defs>\n       <use xlink:href=\"#DejaVuSans-52\"/>\n       <use x=\"63.623047\" xlink:href=\"#DejaVuSans-46\"/>\n       <use x=\"95.410156\" xlink:href=\"#DejaVuSans-48\"/>\n      </g>\n     </g>\n    </g>\n   </g>\n   <g id=\"patch_53\">\n    <path d=\"M 30.103125 224.64 \nL 30.103125 7.2 \n\" style=\"fill:none;stroke:#000000;stroke-linecap:square;stroke-linejoin:miter;stroke-width:0.8;\"/>\n   </g>\n   <g id=\"patch_54\">\n    <path d=\"M 364.903125 224.64 \nL 364.903125 7.2 \n\" style=\"fill:none;stroke:#000000;stroke-linecap:square;stroke-linejoin:miter;stroke-width:0.8;\"/>\n   </g>\n   <g id=\"patch_55\">\n    <path d=\"M 30.103125 224.64 \nL 364.903125 224.64 \n\" style=\"fill:none;stroke:#000000;stroke-linecap:square;stroke-linejoin:miter;stroke-width:0.8;\"/>\n   </g>\n   <g id=\"patch_56\">\n    <path d=\"M 30.103125 7.2 \nL 364.903125 7.2 \n\" style=\"fill:none;stroke:#000000;stroke-linecap:square;stroke-linejoin:miter;stroke-width:0.8;\"/>\n   </g>\n  </g>\n </g>\n <defs>\n  <clipPath id=\"p0fe39ed38c\">\n   <rect height=\"217.44\" width=\"334.8\" x=\"30.103125\" y=\"7.2\"/>\n  </clipPath>\n </defs>\n</svg>\n",
      "text/plain": "<Figure size 432x288 with 1 Axes>"
     },
     "metadata": {
      "needs_background": "light",
      "transient": {}
     },
     "output_type": "display_data"
    }
   ],
   "source": [
    "#hide\n",
    "import numpy as np\n",
    "import matplotlib.pyplot as plt\n",
    "\n",
    "def test_sampleshift(samples):\n",
    "    num_samples = samples.shape[0]\n",
    "    merged_sample = []\n",
    "    for i in range(num_samples):\n",
    "        plt.hist(samples[i])\n",
    "        merged_sample.extend(samples[i])\n",
    "    stdev = np.std(merged_sample)\n",
    "    print(f\"STDev {stdev}\")\n",
    "    assert (stdev <=1.2) \n",
    "    \n",
    "    plt.show()\n",
    "\n",
    "randarray = generate_randarrays(5, 1000)\n",
    "normalized_randarray = normalize_withincond(randarray)\n",
    "test_sampleshift(normalized_randarray)"
   ]
  },
  {
   "cell_type": "code",
   "execution_count": null,
   "metadata": {},
   "outputs": [],
   "source": [
    "#export\n",
    "import numpy as np\n",
    "from scipy.signal import find_peaks\n",
    "import pandas as pd\n",
    "\n",
    "def mode_normalization(x):\n",
    "\n",
    "    x = np.sort(x)\n",
    "\n",
    "    cumul_counts = np.linspace(0, len(x), len(x)) #cut away the most extreme fold changes\n",
    "    cumul_counts_rel = cumul_counts/cumul_counts[-1]\n",
    "    thresh = 0.05\n",
    "    subset_vec = (cumul_counts_rel>thresh/2) & (cumul_counts_rel<1-thresh/2)\n",
    "    x = x[subset_vec]\n",
    "\n",
    "    x_min = min(x)\n",
    "    x_max = max(x)\n",
    "    num_bins = int((x_max-x_min)*50)\n",
    "    bins = np.linspace(x_min, x_max, num_bins)\n",
    "    hist = np.histogram(x, bins)\n",
    "    x = hist[0]\n",
    "    fcs =  0.5*(hist[1][1:]+hist[1][:-1]) #get middle of each fc bin\n",
    "    cumul_x = np.cumsum(x)\n",
    "\n",
    "    peaks2  = find_peaks(x, prominence=1)\n",
    "    lbase = peaks2[1]['left_bases']\n",
    "    rbase = peaks2[1]['right_bases']\n",
    "    cumul_heights = cumul_x[rbase] - cumul_x[lbase]\n",
    "    max_cumul_idx = np.argmax(cumul_heights)#returns the peak with the highest probabilty mass\n",
    "    max_idx = peaks2[0][max_cumul_idx]\n",
    "    shift_fc = hist[1][max_idx]\n",
    "\n",
    "    return shift_fc"
   ]
  },
  {
   "cell_type": "code",
   "execution_count": null,
   "metadata": {},
   "outputs": [],
   "source": [
    "#export\n",
    "import numpy as np\n",
    "from scipy import stats\n",
    "\n",
    "def get_betweencond_shift(df_c1_normed, df_c2_normed):\n",
    "\n",
    "    both_idx = df_c1_normed.index.intersection(df_c2_normed.index)\n",
    "    df1 = df_c1_normed.loc[both_idx]\n",
    "    df2 = df_c2_normed.loc[both_idx]\n",
    "    df1 = df1.median(axis = 1, skipna = True).to_frame()\n",
    "    df2 = df2.median(axis = 1, skipna = True).to_frame()\n",
    "    col1 = df1.columns[0]\n",
    "    col2 = df2.columns[0]\n",
    "\n",
    "    diff_fcs = df1[col1].to_numpy() - df2[col2].to_numpy()\n",
    "    median = np.nanmedian(diff_fcs)\n",
    "    mode = mode_normalization(diff_fcs)\n",
    "    if(abs(median-mode) <0.05):\n",
    "        print(f\"using median for shift\")\n",
    "        return -median\n",
    "    else:\n",
    "        print(f\"using mode for shift\")\n",
    "        return -mode"
   ]
  },
  {
   "cell_type": "code",
   "execution_count": null,
   "metadata": {},
   "outputs": [],
   "source": [
    "#export\n",
    "import pandas as pd\n",
    "def get_normalized_dfs(df_c1, df_c2,  c1_samples, c2_samples, minrep, prenormed_file = None): #labelmap_df, unnormed_df,condpair,\n",
    "\n",
    "    #c1_samples = labelmap_df[labelmap_df[\"condition\"]== condpair[0]]\n",
    "    #c2_samples = labelmap_df[labelmap_df[\"condition\"]== condpair[1]]\n",
    "    # df_c1 = unnormed_df.loc[:, c1_samples[\"sample\"]].dropna(thresh=minrep, axis=0)\n",
    "    # df_c2 = unnormed_df.loc[:, c2_samples[\"sample\"]].dropna(thresh=minrep, axis=0)\n",
    "    df_c1_normed = None\n",
    "    df_c2_normed = None\n",
    "\n",
    "    if prenormed_file is not None:\n",
    "        print(\"using pre-normalized data - skipping normalization\")\n",
    "        df_prenormed = pd.read_csv(prenormed_file, sep=\"\\t\",index_col = \"ion\")\n",
    "        df_c1_normed = df_prenormed[c1_samples[\"sample\"]].dropna(thresh=minrep, axis=0)\n",
    "        df_c2_normed = df_prenormed[c2_samples[\"sample\"]].dropna(thresh=minrep, axis=0)\n",
    "    else:\n",
    "        df_c1_normed = pd.DataFrame(normalize_withincond(df_c1.to_numpy().T).T, index = df_c1.index, columns = c1_samples[\"sample\"])\n",
    "        df_c2_normed = pd.DataFrame(normalize_withincond(df_c2.to_numpy().T).T, index = df_c2.index, columns = c2_samples[\"sample\"])\n",
    "\n",
    "\n",
    "    plot_betweencond_fcs(df_c1, df_c2, True)\n",
    "    print(f\"normalized within conditions\")\n",
    "    shift_between_cond = get_betweencond_shift(df_c1_normed, df_c2_normed)\n",
    "    if(prenormed_file is not None):\n",
    "        shift_between_cond = -0.18\n",
    "    print(f\"shift cond 2 by {shift_between_cond}\")\n",
    "    df_c2_normed = df_c2_normed-shift_between_cond\n",
    "    #compare_normalization(\"./test_data/normed_intensities.tsv\", df_c1_normed, df_c2_normed)\n",
    "    plot_betweencond_fcs(df_c1_normed, df_c2_normed, False)\n",
    "    plot_betweencond_fcs(df_c1_normed, df_c2_normed, True)\n",
    "    return df_c1_normed, df_c2_normed"
   ]
  }
 ],
 "metadata": {
  "kernelspec": {
   "display_name": "Python 3.8.5 64-bit ('base': conda)",
   "name": "python385jvsc74a57bd0dca0ade3e726a953b501b15e8e990130d2b7799f14cfd9f4271676035ebe5511"
  }
 },
 "nbformat": 4,
 "nbformat_minor": 2
}
