{
 "cells": [
  {
   "cell_type": "code",
   "execution_count": null,
   "metadata": {},
   "outputs": [],
   "source": [
    "# default_exp ptmsite_mapping"
   ]
  },
  {
   "cell_type": "code",
   "execution_count": null,
   "metadata": {},
   "outputs": [],
   "source": [
    "import sys\n",
    "sys.path.append('/Users/constantin/workspace/EmpiRe/MS-EmpiRe_Python/')\n",
    "from ms_empire.background_distributions import *\n",
    "from ms_empire.normalization import *\n",
    "from ms_empire.diff_analysis import *\n",
    "from ms_empire.visualizations import *\n",
    "from ms_empire.benchmarking import *\n",
    "from ms_empire.diffquant_utils import *"
   ]
  },
  {
   "cell_type": "code",
   "execution_count": null,
   "metadata": {},
   "outputs": [],
   "source": [
    "import pandas as pd\n",
    "import numpy as np\n",
    "\n",
    "\n",
    "def detect_changing_sites(cond1, cond2, samplemap_file, ptmsite_map, minrep = 2, threshold_prob = 0.05):\n",
    "    \"\"\"\n",
    "    reads a PTMsite table with headers \"REFPROT\", \"site\", and headers for sample1, sample2, etc and determines\n",
    "    whether a site is changing between conditions based on some probability threshold\n",
    "    \"\"\"\n",
    "    samplemap_df, sample2cond = initialize_sample2cond(samplemap_file)\n",
    "    ptmsite_df = pd.read_csv(ptmsite_map, sep = \"\\t\")\n",
    "    ptmsite_df[\"site_id\"] = ptmsite_df[\"REFPROT\"] + ptmsite_df[\"site\"]\n",
    "    ptmsite_df = ptmsite_df.set_index(\"site_id\").sort_index()\n",
    "    cond1_samples = list(samplemap_df[(samplemap_df[\"condition\"]==cond1)][\"sample\"])\n",
    "    cond2_samples = list(samplemap_df[(samplemap_df[\"condition\"]==cond2)][\"sample\"])\n",
    "\n",
    "    regulated_sites = []\n",
    "    for ptmsite in ptmsite_df.index():\n",
    "        site_df = ptmsite.loc[ptmsite]\n",
    "        cond1_probs = np.nanmean(site_df[cond1_samples].dropna(thresh = minrep))\n",
    "        cond2_probs = np.nanmean(site_df[cond2_samples].dropna(thresh = minrep))\n",
    "        \n",
    "        unlikely_c1 = c1_probs<threshold_prob\n",
    "        unlikely_c2 = c2_probs<threshold_prob\n",
    "        likely_c1 = c1_probs>1-threshold_prob\n",
    "        likely_c2 = c2_probs>1-threshold_prob\n",
    "        regulated_sites.append()\n",
    "\n",
    "    \n",
    "\n",
    "\n"
   ]
  }
 ],
 "metadata": {
  "kernelspec": {
   "display_name": "Python 3.8.5 64-bit ('base': conda)",
   "name": "python385jvsc74a57bd0dca0ade3e726a953b501b15e8e990130d2b7799f14cfd9f4271676035ebe5511"
  }
 },
 "nbformat": 4,
 "nbformat_minor": 2
}
