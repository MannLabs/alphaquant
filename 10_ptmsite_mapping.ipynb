{
 "cells": [
  {
   "cell_type": "code",
   "execution_count": null,
   "metadata": {},
   "outputs": [],
   "source": [
    "# default_exp ptmsite_mapping"
   ]
  },
  {
   "cell_type": "code",
   "execution_count": null,
   "metadata": {},
   "outputs": [],
   "source": [
    "import sys\n",
    "sys.path.append('/Users/constantin/workspace/EmpiRe/MS-EmpiRe_Python/')\n",
    "from ms_empire.background_distributions import *\n",
    "from ms_empire.normalization import *\n",
    "from ms_empire.diff_analysis import *\n",
    "from ms_empire.visualizations import *\n",
    "from ms_empire.benchmarking import *\n",
    "from ms_empire.diffquant_utils import *"
   ]
  },
  {
   "cell_type": "code",
   "execution_count": null,
   "metadata": {},
   "outputs": [],
   "source": [
    "import pandas as pd\n",
    "import numpy as np\n",
    "\n",
    "def detect_site_occupancy_change(cond1, cond2, samplemap_file, ptmsite_map, minrep = 2, threshold_prob = 0.05):\n",
    "    \"\"\"\n",
    "    reads a PTMsite table with headers \"REFPROT\", \"gene\",\"site\", and headers for sample1, sample2, etc and determines\n",
    "    whether a site appears/dissappears between conditions based on some probability threshold\n",
    "    \"\"\"\n",
    "    samplemap_df, _ = initialize_sample2cond(samplemap_file)\n",
    "    ptmsite_df = pd.read_csv(ptmsite_map, sep = \"\\t\")\n",
    "    ptmsite_df[\"site_id\"] = ptmsite_df[\"REFPROT\"] + ptmsite_df[\"site\"].astype(\"str\")\n",
    "    ptmsite_df = ptmsite_df.set_index(\"site_id\").sort_index()\n",
    "    cond1_samples = list(set(samplemap_df[(samplemap_df[\"condition\"]==cond1)][\"sample\"]).intersection(set(ptmsite_df.columns)))\n",
    "    cond2_samples = list(set(samplemap_df[(samplemap_df[\"condition\"]==cond2)][\"sample\"]).intersection(set(ptmsite_df.columns)))\n",
    "\n",
    "    regulated_sites = []\n",
    "    count = 0\n",
    "    for ptmsite in ptmsite_df.index.unique():\n",
    "\n",
    "        site_df = ptmsite_df.loc[[ptmsite]]\n",
    "        count+=len(site_df.index)\n",
    "  \n",
    "        cond1_vals = site_df[cond1_samples].to_numpy()\n",
    "        cond2_vals = site_df[cond2_samples].to_numpy()\n",
    "\n",
    "        cond1_vals = cond1_vals[~np.isnan(cond1_vals)]\n",
    "        cond2_vals = cond2_vals[~np.isnan(cond2_vals)]\n",
    "\n",
    "        numrep_c1 = len(cond1_vals)\n",
    "        numrep_c2 = len(cond2_vals)\n",
    "\n",
    "        if(numrep_c1<minrep) | (numrep_c2 < minrep):\n",
    "            continue\n",
    "\n",
    "\n",
    "        cond1_prob = np.mean(cond1_vals)\n",
    "        cond2_prob = np.mean(cond2_vals)\n",
    "        \n",
    "\n",
    "        unlikely_c1 = cond1_prob<threshold_prob\n",
    "        unlikely_c2 = cond2_prob<threshold_prob\n",
    "        likely_c1 = cond1_prob>1-threshold_prob\n",
    "        likely_c2 = cond2_prob>1-threshold_prob\n",
    "        direction = 0\n",
    "\n",
    "        if(unlikely_c1&likely_c2):\n",
    "            direction = -1\n",
    "        if(unlikely_c2&likely_c1):\n",
    "            direction = 1\n",
    "        \n",
    "        if direction!=0:\n",
    "            refprot = site_df[\"REFPROT\"].values[0]\n",
    "            gene = site_df[\"gene\"].values[0]\n",
    "            site = site_df[\"site\"].values[0]\n",
    "            regulated_sites.append([refprot, gene, site, direction, cond1_prob, cond2_prob, numrep_c1, numrep_c2])\n",
    "        \n",
    "\n",
    "    df_occupancy_change = pd.DataFrame(regulated_sites, columns=[\"REFPROT\", \"gene\", \"site\", \"direction\", \"c1_meanprob\", \"c2_meanprob\", \"c1_nrep\", \"c2_nrep\"])\n",
    "    return df_occupancy_change\n",
    "\n",
    "\n",
    "\n",
    "\n"
   ]
  }
 ],
 "metadata": {
  "kernelspec": {
   "display_name": "Python 3.8.5 64-bit ('base': conda)",
   "name": "python385jvsc74a57bd0dca0ade3e726a953b501b15e8e990130d2b7799f14cfd9f4271676035ebe5511"
  }
 },
 "nbformat": 4,
 "nbformat_minor": 2
}
