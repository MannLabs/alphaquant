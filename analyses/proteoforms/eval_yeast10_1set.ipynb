{
 "cells": [
  {
   "cell_type": "code",
   "execution_count": null,
   "metadata": {},
   "outputs": [],
   "source": []
  }
 ],
 "metadata": {
  "interpreter": {
   "hash": "931024bdde5a0139e842e686d0aa86179bbd98c103c57a8c1ff07e7a4f076145"
  },
  "kernelspec": {
   "display_name": "Python 3.8.13 ('alphaquant')",
   "language": "python",
   "name": "python3"
  },
  "language_info": {
   "name": "python",
   "version": "3.8.13"
  },
  "orig_nbformat": 4
 },
 "nbformat": 4,
 "nbformat_minor": 2
}
