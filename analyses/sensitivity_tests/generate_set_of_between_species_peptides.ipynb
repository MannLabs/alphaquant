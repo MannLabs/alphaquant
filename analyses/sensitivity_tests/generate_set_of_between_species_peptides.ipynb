{
 "cells": [
  {
   "cell_type": "code",
   "execution_count": 1,
   "metadata": {},
   "outputs": [],
   "source": [
    "import os\n",
    "\n",
    "os.chdir(\"../../analyses_data/fastas/fetched_02_2024\")"
   ]
  },
  {
   "cell_type": "code",
   "execution_count": 2,
   "metadata": {},
   "outputs": [
    {
     "name": "stdout",
     "output_type": "stream",
     "text": [
      "Number of intersecting peptides: 23174\n"
     ]
    }
   ],
   "source": [
    "from pyteomics import fasta, parser\n",
    "import itertools\n",
    "\n",
    "def find_intersecting_peptides(list_of_files):\n",
    "    peptide_sets = [generate_tryptic_peptides_pyteomics(fasta_file) for fasta_file in list_of_files]\n",
    "\n",
    "    # Find all unique intersections using combinations to avoid redundant comparisons\n",
    "    intersecting_peptides = set()\n",
    "    for set1, set2 in itertools.combinations(peptide_sets, 2):\n",
    "        intersecting_peptides.update(set1.intersection(set2))\n",
    "    \n",
    "    return intersecting_peptides\n",
    "\n",
    "\n",
    "def generate_tryptic_peptides_pyteomics(fasta_file):\n",
    "    peptides = set()\n",
    "    for description, sequence in fasta.read(fasta_file):\n",
    "        # Generate tryptic peptides for each sequence\n",
    "        for peptide in parser.cleave(sequence, parser.expasy_rules[\"trypsin\"], missed_cleavages=2, min_length=6):\n",
    "            if peptide:\n",
    "                peptides.add(peptide)\n",
    "    return peptides\n",
    "\n",
    "list_of_fastas = [\"uniprotkb_organism_id_4932_2024_02_23_YEAST.fasta\", \"uniprotkb_organism_id_6239_2024_02_23_CAEEL.fasta\", \n",
    "                                                    \"uniprotkb_organism_id_83333_2024_02_23_ECOLI.fasta\", \"uniprotkb_organism_id_9606_2024_02_23_HUMAN.fasta\"]\n",
    "intersecting_peptides = find_intersecting_peptides(list_of_fastas)\n",
    "\n",
    "print(f\"Number of intersecting peptides: {len(intersecting_peptides)}\")\n",
    "\n"
   ]
  },
  {
   "cell_type": "code",
   "execution_count": 3,
   "metadata": {},
   "outputs": [
    {
     "name": "stdout",
     "output_type": "stream",
     "text": [
      "('uniprotkb_organism_id_4932_2024_02_23_YEAST.fasta', 'uniprotkb_organism_id_6239_2024_02_23_CAEEL.fasta')\n",
      "('uniprotkb_organism_id_4932_2024_02_23_YEAST.fasta', 'uniprotkb_organism_id_83333_2024_02_23_ECOLI.fasta')\n",
      "('uniprotkb_organism_id_4932_2024_02_23_YEAST.fasta', 'uniprotkb_organism_id_9606_2024_02_23_HUMAN.fasta')\n",
      "('uniprotkb_organism_id_6239_2024_02_23_CAEEL.fasta', 'uniprotkb_organism_id_83333_2024_02_23_ECOLI.fasta')\n",
      "('uniprotkb_organism_id_6239_2024_02_23_CAEEL.fasta', 'uniprotkb_organism_id_9606_2024_02_23_HUMAN.fasta')\n",
      "('uniprotkb_organism_id_83333_2024_02_23_ECOLI.fasta', 'uniprotkb_organism_id_9606_2024_02_23_HUMAN.fasta')\n"
     ]
    }
   ],
   "source": [
    "list_of_fastas = [\"uniprotkb_organism_id_4932_2024_02_23_YEAST.fasta\", \"uniprotkb_organism_id_6239_2024_02_23_CAEEL.fasta\", \n",
    "                                                    \"uniprotkb_organism_id_83333_2024_02_23_ECOLI.fasta\", \"uniprotkb_organism_id_9606_2024_02_23_HUMAN.fasta\"]\n",
    "for combo in itertools.combinations(list_of_fastas, 2):\n",
    "    print(combo)"
   ]
  },
  {
   "cell_type": "code",
   "execution_count": 4,
   "metadata": {},
   "outputs": [
    {
     "data": {
      "text/html": [
       "<div>\n",
       "<style scoped>\n",
       "    .dataframe tbody tr th:only-of-type {\n",
       "        vertical-align: middle;\n",
       "    }\n",
       "\n",
       "    .dataframe tbody tr th {\n",
       "        vertical-align: top;\n",
       "    }\n",
       "\n",
       "    .dataframe thead th {\n",
       "        text-align: right;\n",
       "    }\n",
       "</style>\n",
       "<table border=\"1\" class=\"dataframe\">\n",
       "  <thead>\n",
       "    <tr style=\"text-align: right;\">\n",
       "      <th></th>\n",
       "      <th>peptide</th>\n",
       "    </tr>\n",
       "  </thead>\n",
       "  <tbody>\n",
       "    <tr>\n",
       "      <th>0</th>\n",
       "      <td>ELQLEK</td>\n",
       "    </tr>\n",
       "    <tr>\n",
       "      <th>1</th>\n",
       "      <td>RLLQMK</td>\n",
       "    </tr>\n",
       "    <tr>\n",
       "      <th>2</th>\n",
       "      <td>LKKDAGR</td>\n",
       "    </tr>\n",
       "    <tr>\n",
       "      <th>3</th>\n",
       "      <td>NIGISAHIDSGK</td>\n",
       "    </tr>\n",
       "    <tr>\n",
       "      <th>4</th>\n",
       "      <td>GRPSGR</td>\n",
       "    </tr>\n",
       "    <tr>\n",
       "      <th>...</th>\n",
       "      <td>...</td>\n",
       "    </tr>\n",
       "    <tr>\n",
       "      <th>23169</th>\n",
       "      <td>LPLSLR</td>\n",
       "    </tr>\n",
       "    <tr>\n",
       "      <th>23170</th>\n",
       "      <td>KGASRR</td>\n",
       "    </tr>\n",
       "    <tr>\n",
       "      <th>23171</th>\n",
       "      <td>MKVAFK</td>\n",
       "    </tr>\n",
       "    <tr>\n",
       "      <th>23172</th>\n",
       "      <td>EILDLR</td>\n",
       "    </tr>\n",
       "    <tr>\n",
       "      <th>23173</th>\n",
       "      <td>MGRRPARCYR</td>\n",
       "    </tr>\n",
       "  </tbody>\n",
       "</table>\n",
       "<p>23174 rows × 1 columns</p>\n",
       "</div>"
      ],
      "text/plain": [
       "            peptide\n",
       "0            ELQLEK\n",
       "1            RLLQMK\n",
       "2           LKKDAGR\n",
       "3      NIGISAHIDSGK\n",
       "4            GRPSGR\n",
       "...             ...\n",
       "23169        LPLSLR\n",
       "23170        KGASRR\n",
       "23171        MKVAFK\n",
       "23172        EILDLR\n",
       "23173    MGRRPARCYR\n",
       "\n",
       "[23174 rows x 1 columns]"
      ]
     },
     "metadata": {},
     "output_type": "display_data"
    }
   ],
   "source": [
    "import pandas as pd\n",
    "\n",
    "df_intersecting_peptides = pd.DataFrame(intersecting_peptides, columns=[\"peptide\"])\n",
    "display(df_intersecting_peptides)\n",
    "\n",
    "\n",
    "df_intersecting_peptides.to_csv(\"intersecting_peptides_human_yeast_cael_ecoli.tsv\", sep=\"\\t\", index=False)"
   ]
  }
 ],
 "metadata": {
  "kernelspec": {
   "display_name": "alphaquant",
   "language": "python",
   "name": "python3"
  },
  "language_info": {
   "codemirror_mode": {
    "name": "ipython",
    "version": 3
   },
   "file_extension": ".py",
   "mimetype": "text/x-python",
   "name": "python",
   "nbconvert_exporter": "python",
   "pygments_lexer": "ipython3",
   "version": "3.8.13"
  }
 },
 "nbformat": 4,
 "nbformat_minor": 2
}
