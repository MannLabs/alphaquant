{
 "cells": [
  {
   "cell_type": "code",
   "execution_count": 1,
   "metadata": {},
   "outputs": [],
   "source": [
    "%reload_ext autoreload\n",
    "%autoreload 2"
   ]
  },
  {
   "cell_type": "code",
   "execution_count": 2,
   "metadata": {},
   "outputs": [],
   "source": [
    "import os\n",
    "\n",
    "os.chdir('../../test_data/system_tests/multicond')"
   ]
  },
  {
   "cell_type": "code",
   "execution_count": 3,
   "metadata": {},
   "outputs": [],
   "source": [
    "INPUT_FILE_REFORMAT = \"mouse_tissues_100prot_200ng_w_median.tsv\""
   ]
  },
  {
   "cell_type": "code",
   "execution_count": 4,
   "metadata": {},
   "outputs": [
    {
     "name": "stdout",
     "output_type": "stream",
     "text": [
      "Starting directLFQ analysis.\n",
      "Performing sample normalization.\n",
      "Estimating lfq intensities.\n",
      "100 prots total\n",
      "using 10 processes\n",
      "prot 0\n",
      "Could not add additional columns to protein table, printing without additional columns.\n",
      "Writing results files.\n",
      "Analysis finished!\n"
     ]
    }
   ],
   "source": [
    "import directlfq.lfq_manager as lfqm\n",
    "\n",
    "lfqm.run_lfq(INPUT_FILE_REFORMAT, input_type_to_use = 'directlfq')"
   ]
  }
 ],
 "metadata": {
  "kernelspec": {
   "display_name": "alphaquant",
   "language": "python",
   "name": "python3"
  },
  "language_info": {
   "codemirror_mode": {
    "name": "ipython",
    "version": 3
   },
   "file_extension": ".py",
   "mimetype": "text/x-python",
   "name": "python",
   "nbconvert_exporter": "python",
   "pygments_lexer": "ipython3",
   "version": "3.8.17"
  },
  "orig_nbformat": 4
 },
 "nbformat": 4,
 "nbformat_minor": 2
}
