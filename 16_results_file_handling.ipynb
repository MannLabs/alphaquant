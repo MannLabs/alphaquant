{
 "cells": [
  {
   "cell_type": "code",
   "execution_count": 1,
   "metadata": {},
   "outputs": [],
   "source": [
    "# default_exp results_file_handling"
   ]
  },
  {
   "cell_type": "code",
   "execution_count": 2,
   "metadata": {},
   "outputs": [],
   "source": [
    "#hide\n",
    "%reload_ext autoreload\n",
    "%autoreload 2"
   ]
  },
  {
   "cell_type": "code",
   "execution_count": 3,
   "metadata": {},
   "outputs": [],
   "source": [
    "#export\n",
    "import re\n",
    "class ResultstableLocalizer():\n",
    "    def __init__(self, results_dir):\n",
    "        self._resultsfilepaths = ResultsFiles(results_dir=results_dir).filepaths\n",
    "        self.condpairname2file = {}\n",
    "        self._load_condpairname2file()\n",
    "\n",
    "    def _load_condpairname2file(self):\n",
    "        for filepath in self._resultsfilepaths:\n",
    "            filename = self._parse_condpairname_from_filepath(filepath)\n",
    "            self.condpairname2file.update({filename: filepath})\n",
    "\n",
    "    @staticmethod\n",
    "    def _parse_condpairname_from_filepath(file):\n",
    "        pattern = \"(.*\\/|^)(results.*\\/)(.*)(.results.tsv)\"\n",
    "        matched = re.search(pattern, file)\n",
    "        return matched.group(3)\n",
    "\n",
    "\n",
    "import glob\n",
    "class ResultsFiles():\n",
    "    def __init__(self, results_dir):\n",
    "        self._results_dir = results_dir\n",
    "        self.filepaths = self.__get_result_filepaths()\n",
    "\n",
    "    def __get_result_filepaths(self):\n",
    "        return glob.glob(f'{self._results_dir}/*.results.tsv')\n",
    "    \n"
   ]
  },
  {
   "cell_type": "markdown",
   "metadata": {},
   "source": [
    "### Test results table localization"
   ]
  },
  {
   "cell_type": "code",
   "execution_count": 4,
   "metadata": {},
   "outputs": [],
   "source": [
    "#hide\n",
    "import pandas as pd\n",
    "import os\n",
    "import shutil\n",
    "import random\n",
    "import numpy as np\n",
    "\n",
    "\n",
    "RESULTS_DIR_SIMULATED = \"test_data/unit_tests/results_file_handling/toy_data/results\"\n",
    "\n",
    "\n",
    "class ResultsDirSimulator():\n",
    "    def __init__(self, results_dir, resultswriterconfig_vec):\n",
    "        self._results_dir = results_dir\n",
    "        self._resultswriterconfig_vec = resultswriterconfig_vec\n",
    "        self._create_toy_results_dirs()\n",
    "        self._write_out_simulated_dataframes()\n",
    "\n",
    "    \n",
    "    def _create_toy_results_dirs(self):\n",
    "        self._create_or_replace_folder(self._results_dir)\n",
    "    \n",
    "    @staticmethod\n",
    "    def _create_or_replace_folder(folder):\n",
    "        if os.path.exists(folder):\n",
    "            shutil.rmtree(folder)\n",
    "        os.makedirs(folder)\n",
    "\n",
    "    def _write_out_simulated_dataframes(self):\n",
    "        for idx, resultswriterconfig in enumerate(self._resultswriterconfig_vec):\n",
    "            condpairname = f\"cond{idx}_VS_pair{idx}\" #make up a name for the tables\n",
    "            resultswriterconfig.filenames_w_config.append(condpairname)\n",
    "            resutstable_simulator = ResultsTableSimulator(resultswriterconfig)\n",
    "            self._save_dataframe(resutstable_simulator.protein_df, self._results_dir, condpairname)\n",
    "\n",
    "    @staticmethod\n",
    "    def _save_dataframe(df, results_dir, name):\n",
    "        df.to_csv(f\"{results_dir}/{name}.results.tsv\", sep = \"\\t\", index = None)\n",
    "\n",
    "\n",
    "class ResultsTableSimulator():\n",
    "    def __init__(self, resultswriterconfig):\n",
    "        self.protein_df = None\n",
    "        self._resultswriterconfig = resultswriterconfig\n",
    "        self._simulate_dataframes_as_specified()\n",
    "    \n",
    "    def _simulate_dataframes_as_specified(self):\n",
    "        self.protein_df = self._simulate_protein_df()\n",
    "\n",
    "    def _simulate_protein_df(self):\n",
    "        proteins = [f'name{x}' for x in range(self._resultswriterconfig.length)]\n",
    "        fcs = self._get_fcs()\n",
    "        fdr = [10**(-np.random.uniform(0, 10)) for x in range(self._resultswriterconfig.length)]\n",
    "        return pd.DataFrame(data = {'protein' : proteins, 'log2fc' : fcs, 'fdr' : fdr})\n",
    "\n",
    "    def _get_fcs(self):\n",
    "        if self._resultswriterconfig.fc_for_all_proteins is not None:\n",
    "            return [self._resultswriterconfig.fc_for_all_proteins for x in range( self._resultswriterconfig.length)]\n",
    "        else:\n",
    "            return [np.random.uniform(low = -2, high= 2) for x in range(self._resultswriterconfig.length)]\n",
    "\n",
    "class ResultsWriterConfig():\n",
    "    def __init__(self, length, fc_for_all_proteins = None):\n",
    "        self.length = length\n",
    "        self.filenames_w_config = []\n",
    "        self.fc_for_all_proteins = fc_for_all_proteins\n",
    "\n",
    "\n"
   ]
  },
  {
   "cell_type": "code",
   "execution_count": 5,
   "metadata": {},
   "outputs": [
    {
     "name": "stdout",
     "output_type": "stream",
     "text": [
      "performed tests\n"
     ]
    }
   ],
   "source": [
    "#hide\n",
    "\n",
    "def test_that_expected_numbers_of_results_files_are_found():\n",
    "    num_results_files = 50\n",
    "    simulate_results_files(num_results_files=num_results_files)\n",
    "    localizer = ResultstableLocalizer(RESULTS_DIR_SIMULATED)\n",
    "    assert len(set(localizer.condpairname2file.keys())) == num_results_files\n",
    "    print('performed tests')\n",
    "\n",
    "def simulate_results_files(num_results_files):\n",
    "    config1 = ResultsWriterConfig(length = 50)\n",
    "    config_vec = [config1 for x in range(num_results_files)]\n",
    "    ResultsDirSimulator(RESULTS_DIR_SIMULATED, config_vec)\n",
    "\n",
    "test_that_expected_numbers_of_results_files_are_found()"
   ]
  },
  {
   "cell_type": "code",
   "execution_count": null,
   "metadata": {},
   "outputs": [],
   "source": []
  }
 ],
 "metadata": {
  "interpreter": {
   "hash": "931024bdde5a0139e842e686d0aa86179bbd98c103c57a8c1ff07e7a4f076145"
  },
  "kernelspec": {
   "display_name": "Python 3.8.13 ('alphaquant')",
   "language": "python",
   "name": "python3"
  },
  "language_info": {
   "codemirror_mode": {
    "name": "ipython",
    "version": 3
   },
   "file_extension": ".py",
   "mimetype": "text/x-python",
   "name": "python",
   "nbconvert_exporter": "python",
   "pygments_lexer": "ipython3",
   "version": "3.8.13"
  },
  "orig_nbformat": 4
 },
 "nbformat": 4,
 "nbformat_minor": 2
}
