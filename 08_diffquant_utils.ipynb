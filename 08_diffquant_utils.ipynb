{
 "cells": [
  {
   "cell_type": "code",
   "execution_count": null,
   "metadata": {},
   "outputs": [],
   "source": [
    "# default_exp diffquant_utils"
   ]
  },
  {
   "cell_type": "code",
   "execution_count": null,
   "metadata": {},
   "outputs": [],
   "source": [
    "#export\n",
    "def get_condpairname(condpair):\n",
    "    return f\"{condpair[0]}_VS_{condpair[1]}\""
   ]
  },
  {
   "cell_type": "code",
   "execution_count": null,
   "metadata": {},
   "outputs": [],
   "source": [
    "#export\n",
    "def get_middle_elem(sorted_list):\n",
    "    nvals = len(sorted_list)\n",
    "    if nvals==1:\n",
    "        return sorted_list[0]\n",
    "    middle_idx = nvals//2\n",
    "    if nvals%2==1:\n",
    "        return sorted_list[middle_idx]\n",
    "    return 0.5* (sorted_list[middle_idx] + sorted_list[middle_idx-1])"
   ]
  },
  {
   "cell_type": "code",
   "execution_count": null,
   "metadata": {},
   "outputs": [],
   "source": [
    "#export\n",
    "import numpy as np\n",
    "def get_nonna_array(array_w_nas):\n",
    "    res = []\n",
    "    isnan_arr = np.isnan(array_w_nas)\n",
    "\n",
    "    for idx in range(len(array_w_nas)):\n",
    "        sub_res = []\n",
    "        sub_array = array_w_nas[idx]\n",
    "        na_array = isnan_arr[idx]\n",
    "        for idx2 in range(len(sub_array)):\n",
    "            if not na_array[idx2]:\n",
    "               sub_res.append(sub_array[idx2])\n",
    "        res.append(np.array(sub_res))\n",
    "    return np.array(res)"
   ]
  },
  {
   "cell_type": "code",
   "execution_count": null,
   "metadata": {},
   "outputs": [],
   "source": [
    "#export\n",
    "import numpy as np\n",
    "def get_non_nas_from_pd_df(df):\n",
    "    # vals = df.values\n",
    "    # result_dict = dict()\n",
    "    # pep_names = df.index.values\n",
    "    # for pep_name, sub_vals in zip(pep_names, vals):\n",
    "    #     result_dict[pep_name] = sub_vals[~np.isnan(sub_vals)]\n",
    "    # return result_dict\n",
    "    return {\n",
    "        pep_name: sub_vals[~np.isnan(sub_vals)] for pep_name, sub_vals in\n",
    "        zip( df.index.values, df.values)\n",
    "    }"
   ]
  },
  {
   "cell_type": "code",
   "execution_count": null,
   "metadata": {},
   "outputs": [],
   "source": []
  }
 ],
 "metadata": {
  "kernelspec": {
   "display_name": "Python 3",
   "language": "python",
   "name": "python3"
  }
 },
 "nbformat": 4,
 "nbformat_minor": 2
}
