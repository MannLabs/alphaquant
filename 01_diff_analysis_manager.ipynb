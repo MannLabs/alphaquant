{
 "cells": [
  {
   "cell_type": "code",
   "execution_count": null,
   "metadata": {},
   "outputs": [],
   "source": [
    "# default_exp diff_analysis_manager"
   ]
  },
  {
   "cell_type": "code",
   "execution_count": null,
   "metadata": {},
   "outputs": [],
   "source": [
    "from ms_empire.background_distributions import *\n",
    "from ms_empire.normalization import *\n",
    "from ms_empire.diff_analysis import *"
   ]
  },
  {
   "cell_type": "code",
   "execution_count": null,
   "metadata": {},
   "outputs": [],
   "source": [
    "#export\n",
    "#read in peptide datafiles\n",
    "\n"
   ]
  },
  {
   "cell_type": "code",
   "execution_count": null,
   "metadata": {},
   "outputs": [],
   "source": [
    "#export\n",
    "import pandas as pd\n",
    "from itertools import combinations\n",
    "import numpy as np\n",
    "\n",
    "def run_pipeline(unnormed_df, labelmap_df, minrep):\n",
    "    conds = labelmap_df[\"condition\"].unique()\n",
    "    condpair2diffions = {}\n",
    "    for condpair in combinations(conds, 2):\n",
    "\n",
    "        c1_samples = labelmap_df[labelmap_df[\"condition\"]== condpair[0]]\n",
    "        c2_samples = labelmap_df[labelmap_df[\"condition\"]== condpair[1]]\n",
    "        df_c1 = unnormed_df.loc[:, c1_samples[\"sample\"]].dropna(thresh=c1_samples.shape[0]-minrep, axis=0)\n",
    "        df_c2 = unnormed_df.loc[:, c2_samples[\"sample\"]].dropna(thresh=c2_samples.shape[0]-minrep, axis=0)\n",
    "\n",
    "        df_c1_normed = pd.DataFrame(normalize_withincond(df_c1.to_numpy().T).T, index = df_c1.index)\n",
    "        df_c2_normed = pd.DataFrame(normalize_withincond(df_c2.to_numpy().T).T, index = df_c2.index)\n",
    "\n",
    "        normed_c1 = ConditionBackgrounds(df_c1_normed)\n",
    "        normed_c2 = ConditionBackgrounds(df_c2_normed)\n",
    "\n",
    "        ions_to_check = normed_c1.ion2nonNanvals.keys() & normed_c2.ion2nonNanvals.keys()\n",
    "\n",
    "        ion2diffDist = {}\n",
    "        diffIons = []\n",
    "        for ion in ions_to_check:\n",
    "            vals1 = normed_c1.ion2nonNanvals.get(ion)\n",
    "            vals2 = normed_c2.ion2nonNanvals.get(ion)\n",
    "            bgdist1 = normed_c1.ion2background.get(ion)\n",
    "            bgdist2 = normed_c2.ion2background.get(ion)\n",
    "            diffDist = get_subtracted_bg(ion2diffDist,normed_c1, normed_c2,ion )\n",
    "            diffIon = DifferentialIon(vals1, vals2, diffDist)\n",
    "            diffIons.append(diffIon)\n",
    "\n",
    "        condpair2diffions.update({condpair :diffIon})"
   ]
  },
  {
   "cell_type": "code",
   "execution_count": null,
   "metadata": {
    "tags": [
     "outputPrepend"
    ]
   },
   "outputs": [
    {
     "name": "stdout",
     "output_type": "stream",
     "text": [
      "ms_empire.background_distributions.SubtractedBackgrounds object at 0x1a22f7f150>, '9127b131-23bd-4934-b5a6-ee934da7b182': <ms_empire.background_distributions.SubtractedBackgrounds object at 0x1a22f7f150>, 'a817c712-9eeb-40ff-9517-4a4f84685b4b': <ms_empire.background_distributions.SubtractedBackgrounds object at 0x1a22f7f150>, '6c3920c8-facc-410c-b9cb-5ebbae2d48aa': <ms_empire.background_distributions.SubtractedBackgrounds object at 0x1a22f7f150>, '9a1f16fe-2fb7-4df5-ba61-dac2006b9efb': <ms_empire.background_distributions.SubtractedBackgrounds object at 0x1a22f7f150>, 'd23de24f-49e8-4216-9293-c776fbaffd2a': <ms_empire.background_distributions.SubtractedBackgrounds object at 0x1a22f7f150>, 'f1c8d3d8-5368-40f6-9ca2-d99f5b199779': <ms_empire.background_distributions.SubtractedBackgrounds object at 0x1a22f7f150>, '2fc22f7e-817a-47fb-9318-006b937a0c99': <ms_empire.background_distributions.SubtractedBackgrounds object at 0x1a22f7f150>, '85f5cea7-a157-445e-9aaa-680be8404bcd': <ms_empire.background_distributions.SubtractedBackgrounds object at 0x1a22f7f150>, '60127d23-d765-467d-9863-d1c91299bf35': <ms_empire.background_distributions.SubtractedBackgrounds object at 0x1a22f7f150>, '72417e74-a3f0-4434-b672-fc3d585ac917': <ms_empire.background_distributions.SubtractedBackgrounds object at 0x1a22f7f150>, 'db3f1756-33dc-4e44-9f5e-aab94dff6e31': <ms_empire.background_distributions.SubtractedBackgrounds object at 0x1a22f7f150>, '1f4b89ec-1bb2-4552-9f8e-d9b957214801': <ms_empire.background_distributions.SubtractedBackgrounds object at 0x1a22f7f150>, '36ba0e85-061b-4996-ba34-21f771e2a98f': <ms_empire.background_distributions.SubtractedBackgrounds object at 0x1a22f7f150>, '1431d344-0a0c-45b0-b6d4-76d96cd10062': <ms_empire.background_distributions.SubtractedBackgrounds object at 0x1a22f7f150>, 'e7017520-0989-4580-9797-486cf85bfe1a': <ms_empire.background_distributions.SubtractedBackgrounds object at 0x1a22f7f150>, '1ce299e2-02b0-4468-b8e0-774bdb7f52db': <ms_empire.background_distributions.SubtractedBackgrounds object at 0x1a22f7f150>, '7bbf0431-e653-418d-90f1-a4791d754b72': <ms_empire.background_distributions.SubtractedBackgrounds object at 0x1a22f7f150>, '15a9ca28-0bd7-47a5-9025-dad3918003b9': <ms_empire.background_distributions.SubtractedBackgrounds object at 0x1a22f7f150>, '35aa9d82-9247-40a6-85cb-c30998053bb9': <ms_empire.background_distributions.SubtractedBackgrounds object at 0x1a22f7f150>, '7c1d8508-766a-4ff1-81e5-450f47f5f940': <ms_empire.background_distributions.SubtractedBackgrounds object at 0x1a22f7f150>, 'fea22d6b-e653-4b58-8128-a32fe7fd118d': <ms_empire.background_distributions.SubtractedBackgrounds object at 0x1a22f7f150>, 'ee0f5c04-dc87-4a0c-8aff-e0c8d6fee27c': <ms_empire.background_distributions.SubtractedBackgrounds object at 0x1a22f7f150>, '293157e3-f7bd-42eb-b977-0ddae7edbcfa': <ms_empire.background_distributions.SubtractedBackgrounds object at 0x1a22f7f150>, 'a9e10d0d-d06a-4502-b21d-8a2e6c18abaf': <ms_empire.background_distributions.SubtractedBackgrounds object at 0x1a22f7f150>, '0bdd6b87-1d4f-460e-9464-3078a6a00c14': <ms_empire.background_distributions.SubtractedBackgrounds object at 0x1a22f7f150>, 'e563f6c2-67f2-4e71-acb4-7197b5350550': <ms_empire.background_distributions.SubtractedBackgrounds object at 0x1a22f7f150>, 'ee965001-633c-4b25-8fe8-90b9ac9f428a': <ms_empire.background_distributions.SubtractedBackgrounds object at 0x1a22f7f150>, '8757147e-c8c4-447c-bdc7-f2b94dd5bd5d': <ms_empire.background_distributions.SubtractedBackgrounds object at 0x1a22f7f150>, '4543e5fb-b0c4-4db1-a500-64127134c94d': <ms_empire.background_distributions.SubtractedBackgrounds object at 0x1a22f7f150>, 'f5a6d6e3-f479-4621-b653-d720f91fc4f7': <ms_empire.background_distributions.SubtractedBackgrounds object at 0x1a22f7f150>, '0cd3f583-5023-446d-9edc-76701bcf8d86': <ms_empire.background_distributions.SubtractedBackgrounds object at 0x1a22f7f150>, 'b8f415cc-2aea-46d2-aed8-b335e97857e4': <ms_empire.background_distributions.SubtractedBackgrounds object at 0x1a22f7f150>, '6cdb7668-f7be-45a1-a011-4724471f207e': <ms_empire.background_distributions.SubtractedBackgrounds object at 0x1a22f7f150>, 'd4831fcf-02b0-4b8d-9c2c-640c6c37c21c': <ms_empire.background_distributions.SubtractedBackgrounds object at 0x1a22f7f150>, '8ff44e00-7ae5-45de-98fc-60d2da0fe9dc': <ms_empire.background_distributions.SubtractedBackgrounds object at 0x1a22f7f150>, 'a5fdc751-8c58-48b1-9f86-c980e485aa08': <ms_empire.background_distributions.SubtractedBackgrounds object at 0x1a22f7f150>, '665012ab-8148-44f9-aaf1-8c3e455767d2': <ms_empire.background_distributions.SubtractedBackgrounds object at 0x1a22f7f150>, '93f2cefe-dd94-4c42-8cd3-f863a04282a9': <ms_empire.background_distributions.SubtractedBackgrounds object at 0x1a22f7f150>, 'e5740c33-321f-49fa-9f31-0d2980c02ba2': <ms_empire.background_distributions.SubtractedBackgrounds object at 0x1a22f7f150>, 'b45230b7-2740-4078-bcb8-17b73150dca0': <ms_empire.background_distributions.SubtractedBackgrounds object at 0x1a22f7f150>, '1d3d90e6-9d52-436b-b78c-4852f17a2e24': <ms_empire.background_distributions.SubtractedBackgrounds object at 0x1a22f7f150>, '6708c522-0b5e-4f55-aea8-2167b6851067': <ms_empire.background_distributions.SubtractedBackgrounds object at 0x1a22f7f150>, '778a9adb-c832-430b-86c4-fb94cc9972a3': <ms_empire.background_distributions.SubtractedBackgrounds object at 0x1a22f7f150>, '29ee4258-2191-4389-b43b-ee5360127d91': <ms_empire.background_distributions.SubtractedBackgrounds object at 0x1a22f7f150>, '039c6945-fbb8-4145-9e29-1c902af6b53f': <ms_empire.background_distributions.SubtractedBackgrounds object at 0x1a22f7f150>, '5cc7f106-a433-4520-904a-8b8998c15d5a': <ms_empire.background_distributions.SubtractedBackgrounds object at 0x1a22f7f150>, '0c077faa-9400-4a3c-b7c5-f1bb6488ff75': <ms_empire.background_distributions.SubtractedBackgrounds object at 0x1a22f7f150>, 'b6359786-fb76-4e3e-9470-4adfa114ee22': <ms_empire.background_distributions.SubtractedBackgrounds object at 0x1a22f7f150>, '822d8b60-d949-468d-b3db-d7d86366c409': <ms_empire.background_distributions.SubtractedBackgrounds object at 0x1a22f7f150>, '884c189f-faa3-42c8-b5db-d5f05d461ce0': <ms_empire.background_distributions.SubtractedBackgrounds object at 0x1a22f7f150>, '20b2562c-7f66-4460-8c80-0795839d1e5b': <ms_empire.background_distributions.SubtractedBackgrounds object at 0x1a22f7f150>, '1719ad22-d621-4415-98d4-b8a580a1693e': <ms_empire.background_distributions.SubtractedBackgrounds object at 0x1a22f7f150>, '450e9577-8d70-476f-8eea-5f6f06c11e8e': <ms_empire.background_distributions.SubtractedBackgrounds object at 0x1a22f7f150>, '76d26065-79f6-4ce9-b105-2b526817db67': <ms_empire.background_distributions.SubtractedBackgrounds object at 0x1a22f7f150>, 'ac16ccae-3fc7-41ff-b60a-4b265b046249': <ms_empire.background_distributions.SubtractedBackgrounds object at 0x1a22f7f150>, 'c3c949b0-6fdc-4b57-bcca-2cd69bb0078c': <ms_empire.background_distributions.SubtractedBackgrounds object at 0x1a22f7f150>, '0a47b0c6-2568-47a4-9891-257219a12259': <ms_empire.background_distributions.SubtractedBackgrounds object at 0x1a22f7f150>, 'ba199e38-dd9e-4a30-963e-b2a267fe99dd': <ms_empire.background_distributions.SubtractedBackgrounds object at 0x1a22f7f150>, '3dccef3a-97c0-4f4c-968c-5d104d64a081': <ms_empire.background_distributions.SubtractedBackgrounds object at 0x1a22f7f150>, '40013ab4-2f10-4ae8-a493-02816609d155': <ms_empire.background_distributions.SubtractedBackgrounds object at 0x1a22f7f150>, 'fd233990-4a70-4893-a335-98dc9958b126': <ms_empire.background_distributions.SubtractedBackgrounds object at 0x1a22f7f150>, 'c76a07a5-fd38-425d-b4cc-4f2022bb3a4e': <ms_empire.background_distributions.SubtractedBackgrounds object at 0x1a22f7f150>, 'ade1209f-9bd8-4c9d-be53-8dbc02129ea7': <ms_empire.background_distributions.SubtractedBackgrounds object at 0x1a22f7f150>, '102d2cf6-5022-4be6-b94b-5d46815078bd': <ms_empire.background_distributions.SubtractedBackgrounds object at 0x1a22f7f150>, '704b0aee-2f04-43bc-8ab4-a617380e4b90': <ms_empire.background_distributions.SubtractedBackgrounds object at 0x1a22f7f150>, 'e167e4cc-be3d-40ed-b6aa-82afd6658d43': <ms_empire.background_distributions.SubtractedBackgrounds object at 0x1a22f7f150>, '37e67281-182f-458a-b3bb-955c835ea1d1': <ms_empire.background_distributions.SubtractedBackgrounds object at 0x1a22f7f150>, '6856cebe-56f0-416a-9355-370a526fec01': <ms_empire.background_distributions.SubtractedBackgrounds object at 0x1a22f7f150>, '5b95fd95-33aa-4e66-a50c-99f1b22ee48a': <ms_empire.background_distributions.SubtractedBackgrounds object at 0x1a22f7f150>, 'd36ceb72-1ce0-4380-8451-c4b87d0d0699': <ms_empire.background_distributions.SubtractedBackgrounds object at 0x1a22f7f150>, '817e6f3b-86f0-4b11-861e-2d7f1d9ce4a1': <ms_empire.background_distributions.SubtractedBackgrounds object at 0x1a22f7f150>, '8d4f85cd-1497-4027-9408-b7d84ff118b2': <ms_empire.background_distributions.SubtractedBackgrounds object at 0x1a22f7f150>, 'bd80c6b9-9e87-42f8-befc-692f1a4fa309': <ms_empire.background_distributions.SubtractedBackgrounds object at 0x1a22f7f150>, '842f8a88-1d6c-41c1-b2bb-7fa41fd856b4': <ms_empire.background_distributions.SubtractedBackgrounds object at 0x1a22f7f150>, 'c19b424d-c045-445e-a678-85017b34b1fe': <ms_empire.background_distributions.SubtractedBackgrounds object at 0x1a22f7f150>, 'a4854e8e-6cad-408a-8e2a-5a9176c4e341': <ms_empire.background_distributions.SubtractedBackgrounds object at 0x1a22f7f150>, '2ca9f816-50eb-4048-88a9-7d38a2eaa302': <ms_empire.background_distributions.SubtractedBackgrounds object at 0x1a22f7f150>, '02529cce-cae1-49f3-8220-57df300cee6a': <ms_empire.background_distributions.SubtractedBackgrounds object at 0x1a22f7f150>, '4524acde-aa58-49bb-adfb-2d8e3190c8ad': <ms_empire.background_distributions.SubtractedBackgrounds object at 0x1a22f7f150>, 'f393aece-157a-4528-818c-3722d54a3d84': <ms_empire.background_distributions.SubtractedBackgrounds object at 0x1a22f7f150>, '19664fed-76ba-40ca-96af-ff1566d6b54e': <ms_empire.background_distributions.SubtractedBackgrounds object at 0x1a22f7f150>, 'ef5f7b48-8627-49b6-80c8-dd7f781061fe': <ms_empire.background_distributions.SubtractedBackgrounds object at 0x1a22f7f150>, 'f0c940f1-2924-463f-b032-76d0bc108bad': <ms_empire.background_distributions.SubtractedBackgrounds object at 0x1a22f7f150>, '0b5c0d78-c5cb-4853-ad48-cde3df06eea6': <ms_empire.background_distributions.SubtractedBackgrounds object at 0x1a22f7f150>, '31396183-6a52-4ee6-9e62-337a2ece20aa': <ms_empire.background_distributions.SubtractedBackgrounds object at 0x1a22f7f150>, 'f568dfca-7484-40bd-b0f3-885f77dced63': <ms_empire.background_distributions.SubtractedBackgrounds object at 0x1a22f7f150>, '9c34c355-9557-4b4c-b159-a9f3f955b8a1': <ms_empire.background_distributions.SubtractedBackgrounds object at 0x1a22f7f150>, 'cad527c6-3558-4915-a42a-8bd46b5e827f': <ms_empire.background_distributions.SubtractedBackgrounds object at 0x1a22f7f150>, '9ae879a7-5176-4db0-93a4-0c25e6523594': <ms_empire.background_distributions.SubtractedBackgrounds object at 0x1a22f7f150>, '46294e73-d179-47a7-bfde-8a8bf3166d6c': <ms_empire.background_distributions.SubtractedBackgrounds object at 0x1a22f7f150>, '124a5ea3-6f23-4d75-a237-42f2cca54f2f': <ms_empire.background_distributions.SubtractedBackgrounds object at 0x1a22f7f150>, '7fadda47-b174-43b6-871d-2ddca1f9720a': <ms_empire.background_distributions.SubtractedBackgrounds object at 0x1a22f7f150>, '65a5abad-22c0-4154-be86-076062be09bd': <ms_empire.background_distributions.SubtractedBackgrounds object at 0x1a22f7f150>, 'd6d95a89-07a2-4a28-9f70-3edda33526e3': <ms_empire.background_distributions.SubtractedBackgrounds object at 0x1a22f7f150>, 'd85d6bab-74a0-4701-9d7e-79b5f9648c61': <ms_empire.background_distributions.SubtractedBackgrounds object at 0x1a22f7f150>, '06cc79f0-21ce-472a-8b9e-8c12f8e2f8f4': <ms_empire.background_distributions.SubtractedBackgrounds object at 0x1a22f7f150>, '0f312198-e4a5-46c3-b823-ccfe06e46a29': <ms_empire.background_distributions.SubtractedBackgrounds object at 0x1a22f7f150>, 'a3558604-1188-4dd1-82da-bb1534668565': <ms_empire.background_distributions.SubtractedBackgrounds object at 0x1a22f7f150>, 'c8be0616-54e8-45bc-a8a3-c72795815758': <ms_empire.background_distributions.SubtractedBackgrounds object at 0x1a22f7f150>, 'a5e2d6c7-5c86-4430-a52b-607559ded555': <ms_empire.background_distributions.SubtractedBackgrounds object at 0x1a22f7f150>, 'bd267f07-69a2-4ecb-8755-bc9577256a79': <ms_empire.background_distributions.SubtractedBackgrounds object at 0x1a22f7f150>, '4461f487-5b27-4ab1-9c03-d9924ae31cc4': <ms_empire.background_distributions.SubtractedBackgrounds object at 0x1a22f7f150>, '5beb726b-ee36-499c-8a8f-a05c63154c4e': <ms_empire.background_distributions.SubtractedBackgrounds object at 0x1a22f7f150>, 'b6837a38-1c4d-4983-aba6-05083c0f3cdc': <ms_empire.background_distributions.SubtractedBackgrounds object at 0x1a22f7f150>, 'a254bd52-6a0a-4e89-91b9-2e5837b36322': <ms_empire.background_distributions.SubtractedBackgrounds object at 0x1a22f7f150>, '3a1ec540-1e04-4415-90a4-118d996b9d7d': <ms_empire.background_distributions.SubtractedBackgrounds object at 0x1a22f7f150>, '2f2bf8e6-353c-4f87-b32d-b0d0346652a9': <ms_empire.background_distributions.SubtractedBackgrounds object at 0x1a22f7f150>, '78df4492-f995-4076-a010-4a10b2af86be': <ms_empire.background_distributions.SubtractedBackgrounds object at 0x1a22f7f150>, '78240508-bccc-4009-bc9e-8836a5ecfff7': <ms_empire.background_distributions.SubtractedBackgrounds object at 0x1a22f7f150>, '829ed471-5a06-42a5-a97b-a0b2a0e5835a': <ms_empire.background_distributions.SubtractedBackgrounds object at 0x1a22f7f150>, '5f2e8f3d-12b4-466f-896c-7c916f44fb07': <ms_empire.background_distributions.SubtractedBackgrounds object at 0x1a22f7f150>, '924d0d0a-d3a5-4e43-9833-b4c4a334dee4': <ms_empire.background_distributions.SubtractedBackgrounds object at 0x1a22f7f150>, 'bd737093-fb03-4ec6-970e-604eddda0797': <ms_empire.background_distributions.SubtractedBackgrounds object at 0x1a22f7f150>, '8108d409-4274-4784-b52c-fcb4c882e5fc': <ms_empire.background_distributions.SubtractedBackgrounds object at 0x1a22f7f150>, '26c6f238-50f8-44cc-a94a-8314d2ccd071': <ms_empire.background_distributions.SubtractedBackgrounds object at 0x1a22f7f150>, '26b56cbd-c168-4e17-845c-f0bbb23d3f7f': <ms_empire.background_distributions.SubtractedBackgrounds object at 0x1a22f7f150>, 'a84c47d4-551f-436c-8762-afb852d7365d': <ms_empire.background_distributions.SubtractedBackgrounds object at 0x1a22f7f150>, '0e54baf2-ad9d-4c27-a107-41b7cefbd3db': <ms_empire.background_distributions.SubtractedBackgrounds object at 0x1a22f7f150>, '4f847d2b-f88b-4600-9642-79d924487e0d': <ms_empire.background_distributions.SubtractedBackgrounds object at 0x1a22f7f150>, 'af389ee2-36ee-441d-b219-b851ea6524ba': <ms_empire.background_distributions.SubtractedBackgrounds object at 0x1a22f7f150>, '8e6dc679-7e0d-4f5a-94b3-e174adea36a8': <ms_empire.background_distributions.SubtractedBackgrounds object at 0x1a22f7f150>, '76bcce48-c1a8-4fb1-9bda-3e2da86f0b2c': <ms_empire.background_distributions.SubtractedBackgrounds object at 0x1a22f7f150>, '91ec4916-8ae7-4436-af6c-ed0ad3afa749': <ms_empire.background_distributions.SubtractedBackgrounds object at 0x1a22f7f150>, '446d2d34-4871-40b9-b055-57dd1cae37a3': <ms_empire.background_distributions.SubtractedBackgrounds object at 0x1a22f7f150>, '81f74de4-368f-4fca-8b3e-808dcdaec9d1': <ms_empire.background_distributions.SubtractedBackgrounds object at 0x1a22f7f150>, 'c21bcf11-e4fc-4ebd-b81a-425bba9e66df': <ms_empire.background_distributions.SubtractedBackgrounds object at 0x1a22f7f150>, '85128ea3-1867-46e7-91d0-2291a3478f09': <ms_empire.background_distributions.SubtractedBackgrounds object at 0x1a22f7f150>, 'd4cb3361-0e11-4062-809e-134a2f5d829a': <ms_empire.background_distributions.SubtractedBackgrounds object at 0x1a22f7f150>, '82786c21-0647-419a-a01a-e1db1620ea53': <ms_empire.background_distributions.SubtractedBackgrounds object at 0x1a22f7f150>, '3b057fdd-2c3a-476e-8edf-b21a065b1ba0': <ms_empire.background_distributions.SubtractedBackgrounds object at 0x1a22f7f150>, '7ac8ccd9-7a52-4015-a5b0-d9d747b3e000': <ms_empire.background_distributions.SubtractedBackgrounds object at 0x1a22f7f150>, 'c5599a33-c75e-4590-8a84-4b616cf5a53e': <ms_empire.background_distributions.SubtractedBackgrounds object at 0x1a22f7f150>, '3240a415-47ab-4305-a467-b8149b317949': <ms_empire.background_distributions.SubtractedBackgrounds object at 0x1a22f7f150>, '6ca5ea08-622d-4bea-91a9-e1643d0bdb1f': <ms_empire.background_distributions.SubtractedBackgrounds object at 0x1a22f7f150>, 'f24e2a04-b7b6-4adf-9e2d-f8c5388d1ab4': <ms_empire.background_distributions.SubtractedBackgrounds object at 0x1a22f7f150>, '3a3f7bb5-021c-4d20-ad43-157ddab43b58': <ms_empire.background_distributions.SubtractedBackgrounds object at 0x1a22f7f150>, '1c94d988-54df-4288-bc34-6f88bfb3a1f3': <ms_empire.background_distributions.SubtractedBackgrounds object at 0x1a22f7f150>, 'c98c9091-3035-4117-b394-b8dc212f2aac': <ms_empire.background_distributions.SubtractedBackgrounds object at 0x1a22f7f150>, '105a5415-a852-4813-b15b-b244d9420609': <ms_empire.background_distributions.SubtractedBackgrounds object at 0x1a22f7f150>, '18705449-ac84-4963-bff4-c61544862313': <ms_empire.background_distributions.SubtractedBackgrounds object at 0x1a22f7f150>, '8c795b29-af9e-45d9-a862-51d5f129cfaf': <ms_empire.background_distributions.SubtractedBackgrounds object at 0x1a22f7f150>, '46fa7b6b-2160-41d3-b59e-9870d03c2db5': <ms_empire.background_distributions.SubtractedBackgrounds object at 0x1a22f7f150>, '1d4c2f8e-bfad-4d4e-bc16-8c777b70da8c': <ms_empire.background_distributions.SubtractedBackgrounds object at 0x1a22f7f150>, 'e938dc08-5f46-4e46-a1b2-0635fe1429dc': <ms_empire.background_distributions.SubtractedBackgrounds object at 0x1a22f7f150>, '4cafa630-b2c2-4d42-a002-6973950e7c4a': <ms_empire.background_distributions.SubtractedBackgrounds object at 0x1a22f7f150>, '31fbb8d0-65c1-4485-8ff6-4066a04cd528': <ms_empire.background_distributions.SubtractedBackgrounds object at 0x1a22f7f150>, '899fba3a-9417-4220-8ca2-f21f236af8d4': <ms_empire.background_distributions.SubtractedBackgrounds object at 0x1a22f7f150>, '0ee05522-fb54-4293-8ec3-7876b0f74fbe': <ms_empire.background_distributions.SubtractedBackgrounds object at 0x1a22f7f150>, 'e04cd923-661a-4c6b-868d-8388d8dcbd88': <ms_empire.background_distributions.SubtractedBackgrounds object at 0x1a22f7f150>, 'a3bbf88a-e735-4760-bada-9219244e11d6': <ms_empire.background_distributions.SubtractedBackgrounds object at 0x1a22f7f150>, '3675d161-86f2-4b1b-8537-8e700c1d48d8': <ms_empire.background_distributions.SubtractedBackgrounds object at 0x1a22f7f150>, '81dff6c8-61d9-4221-8be3-f2d1ae711b93': <ms_empire.background_distributions.SubtractedBackgrounds object at 0x1a22f7f150>, '39866078-48e9-4fd2-80b0-02ee1e9ff5a1': <ms_empire.background_distributions.SubtractedBackgrounds object at 0x1a22f7f150>, '0597cef4-b1d8-4d23-9142-ebb8996e6110': <ms_empire.background_distributions.SubtractedBackgrounds object at 0x1a22f7f150>, 'da8e7e64-52a2-43b6-a786-86411914386f': <ms_empire.background_distributions.SubtractedBackgrounds object at 0x1a22f7f150>, '04254a06-b12a-4906-af30-57208d5efc29': <ms_empire.background_distributions.SubtractedBackgrounds object at 0x1a22f7f150>, '58fc83f6-2211-4fef-b734-abf923f97909': <ms_empire.background_distributions.SubtractedBackgrounds object at 0x1a22f7f150>, '64f08bea-1c6b-4382-9f57-184a53ddc9a0': <ms_empire.background_distributions.SubtractedBackgrounds object at 0x1a22f7f150>, '400dc06f-81a1-4c32-b594-26384fca9b12': <ms_empire.background_distributions.SubtractedBackgrounds object at 0x1a22f7f150>, '354ee9dd-ffd4-4cdc-ad83-d85fceb8fe04': <ms_empire.background_distributions.SubtractedBackgrounds object at 0x1a22f7f150>}\n",
      "diffdist <ms_empire.background_distributions.SubtractedBackgrounds object at 0x1a22f7f150>\n",
      "1069\n",
      "1191\n",
      "899\n",
      "1074\n",
      "1196\n",
      "904\n",
      "1002\n",
      "1123\n",
      "831\n",
      "bgdist 1 <ms_empire.background_distributions.BackGroundDistribution object at 0x1a22f2d990> bgdist 2None\n"
     ]
    },
    {
     "ename": "AttributeError",
     "evalue": "'NoneType' object has no attribute 'start_idx'",
     "output_type": "error",
     "traceback": [
      "\u001b[0;31m---------------------------------------------------------------------------\u001b[0m",
      "\u001b[0;31mAttributeError\u001b[0m                            Traceback (most recent call last)",
      "\u001b[0;32m<ipython-input-5-e454dbf7ec7e>\u001b[0m in \u001b[0;36m<module>\u001b[0;34m\u001b[0m\n\u001b[1;32m     21\u001b[0m     \u001b[0;32mreturn\u001b[0m \u001b[0mdf_intens\u001b[0m\u001b[0;34m\u001b[0m\u001b[0;34m\u001b[0m\u001b[0m\n\u001b[1;32m     22\u001b[0m \u001b[0;34m\u001b[0m\u001b[0m\n\u001b[0;32m---> 23\u001b[0;31m \u001b[0mtest_run_pipeline\u001b[0m\u001b[0;34m(\u001b[0m\u001b[0;34m)\u001b[0m\u001b[0;34m\u001b[0m\u001b[0;34m\u001b[0m\u001b[0m\n\u001b[0m",
      "\u001b[0;32m<ipython-input-5-e454dbf7ec7e>\u001b[0m in \u001b[0;36mtest_run_pipeline\u001b[0;34m()\u001b[0m\n\u001b[1;32m     10\u001b[0m     \u001b[0munnormed_df\u001b[0m \u001b[0;34m=\u001b[0m \u001b[0mgenerate_random_input\u001b[0m\u001b[0;34m(\u001b[0m\u001b[0;36m1000\u001b[0m\u001b[0;34m,\u001b[0m \u001b[0msample2cond_df\u001b[0m\u001b[0;34m)\u001b[0m\u001b[0;34m\u001b[0m\u001b[0;34m\u001b[0m\u001b[0m\n\u001b[1;32m     11\u001b[0m \u001b[0;34m\u001b[0m\u001b[0m\n\u001b[0;32m---> 12\u001b[0;31m     \u001b[0mrun_pipeline\u001b[0m\u001b[0;34m(\u001b[0m\u001b[0munnormed_df\u001b[0m\u001b[0;34m,\u001b[0m \u001b[0msample2cond_df\u001b[0m\u001b[0;34m,\u001b[0m \u001b[0;36m3\u001b[0m\u001b[0;34m)\u001b[0m\u001b[0;34m\u001b[0m\u001b[0;34m\u001b[0m\u001b[0m\n\u001b[0m\u001b[1;32m     13\u001b[0m \u001b[0;34m\u001b[0m\u001b[0m\n\u001b[1;32m     14\u001b[0m \u001b[0;34m\u001b[0m\u001b[0m\n",
      "\u001b[0;32m<ipython-input-4-1a1a6e332942>\u001b[0m in \u001b[0;36mrun_pipeline\u001b[0;34m(unnormed_df, labelmap_df, minrep)\u001b[0m\n\u001b[1;32m     30\u001b[0m             \u001b[0mbgdist2\u001b[0m \u001b[0;34m=\u001b[0m \u001b[0mnormed_c2\u001b[0m\u001b[0;34m.\u001b[0m\u001b[0mion2background\u001b[0m\u001b[0;34m.\u001b[0m\u001b[0mget\u001b[0m\u001b[0;34m(\u001b[0m\u001b[0mion\u001b[0m\u001b[0;34m)\u001b[0m\u001b[0;34m\u001b[0m\u001b[0;34m\u001b[0m\u001b[0m\n\u001b[1;32m     31\u001b[0m             \u001b[0mprint\u001b[0m\u001b[0;34m(\u001b[0m\u001b[0;34mf\"bgdist 1 {bgdist1} bgdist 2{bgdist2}\"\u001b[0m\u001b[0;34m)\u001b[0m\u001b[0;34m\u001b[0m\u001b[0;34m\u001b[0m\u001b[0m\n\u001b[0;32m---> 32\u001b[0;31m             \u001b[0mdiffDist\u001b[0m \u001b[0;34m=\u001b[0m \u001b[0mget_subtracted_bg\u001b[0m\u001b[0;34m(\u001b[0m\u001b[0mion2diffDist\u001b[0m\u001b[0;34m,\u001b[0m\u001b[0mnormed_c1\u001b[0m\u001b[0;34m,\u001b[0m \u001b[0mnormed_c2\u001b[0m\u001b[0;34m,\u001b[0m\u001b[0mion\u001b[0m \u001b[0;34m)\u001b[0m\u001b[0;34m\u001b[0m\u001b[0;34m\u001b[0m\u001b[0m\n\u001b[0m\u001b[1;32m     33\u001b[0m             \u001b[0mprint\u001b[0m\u001b[0;34m(\u001b[0m\u001b[0;34mf\"ion2diffdist {ion2diffDist}\"\u001b[0m\u001b[0;34m)\u001b[0m\u001b[0;34m\u001b[0m\u001b[0;34m\u001b[0m\u001b[0m\n\u001b[1;32m     34\u001b[0m             \u001b[0mprint\u001b[0m\u001b[0;34m(\u001b[0m\u001b[0;34mf\"diffdist {diffDist}\"\u001b[0m\u001b[0;34m)\u001b[0m\u001b[0;34m\u001b[0m\u001b[0;34m\u001b[0m\u001b[0m\n",
      "\u001b[0;32m~/workspace/EmpiRe/nbdev/MS-EmpiRe_Python/ms_empire/background_distributions.py\u001b[0m in \u001b[0;36mget_subtracted_bg\u001b[0;34m(ion2diffDist, condbg1, condbg2, ion)\u001b[0m\n\u001b[1;32m    236\u001b[0m     \u001b[0mbg2\u001b[0m \u001b[0;34m=\u001b[0m \u001b[0mcondbg2\u001b[0m\u001b[0;34m.\u001b[0m\u001b[0mion2background\u001b[0m\u001b[0;34m.\u001b[0m\u001b[0mget\u001b[0m\u001b[0;34m(\u001b[0m\u001b[0mion\u001b[0m\u001b[0;34m)\u001b[0m\u001b[0;34m\u001b[0m\u001b[0;34m\u001b[0m\u001b[0m\n\u001b[1;32m    237\u001b[0m     \u001b[0mions_bg1\u001b[0m \u001b[0;34m=\u001b[0m \u001b[0mset\u001b[0m\u001b[0;34m(\u001b[0m\u001b[0mmap\u001b[0m\u001b[0;34m(\u001b[0m\u001b[0;32mlambda\u001b[0m \u001b[0m_idx\u001b[0m \u001b[0;34m:\u001b[0m \u001b[0mcondbg1\u001b[0m\u001b[0;34m.\u001b[0m\u001b[0midx2ion\u001b[0m\u001b[0;34m.\u001b[0m\u001b[0mget\u001b[0m\u001b[0;34m(\u001b[0m\u001b[0m_idx\u001b[0m\u001b[0;34m)\u001b[0m\u001b[0;34m,\u001b[0m \u001b[0mrange\u001b[0m\u001b[0;34m(\u001b[0m\u001b[0mbg1\u001b[0m\u001b[0;34m.\u001b[0m\u001b[0mstart_idx\u001b[0m\u001b[0;34m,\u001b[0m \u001b[0mbg1\u001b[0m\u001b[0;34m.\u001b[0m\u001b[0mend_idx\u001b[0m\u001b[0;34m)\u001b[0m\u001b[0;34m)\u001b[0m\u001b[0;34m)\u001b[0m\u001b[0;34m\u001b[0m\u001b[0;34m\u001b[0m\u001b[0m\n\u001b[0;32m--> 238\u001b[0;31m     \u001b[0mions_bg2\u001b[0m \u001b[0;34m=\u001b[0m \u001b[0mset\u001b[0m\u001b[0;34m(\u001b[0m\u001b[0mmap\u001b[0m\u001b[0;34m(\u001b[0m\u001b[0;32mlambda\u001b[0m \u001b[0m_idx\u001b[0m \u001b[0;34m:\u001b[0m \u001b[0mcondbg2\u001b[0m\u001b[0;34m.\u001b[0m\u001b[0midx2ion\u001b[0m\u001b[0;34m.\u001b[0m\u001b[0mget\u001b[0m\u001b[0;34m(\u001b[0m\u001b[0m_idx\u001b[0m\u001b[0;34m)\u001b[0m\u001b[0;34m,\u001b[0m \u001b[0mrange\u001b[0m\u001b[0;34m(\u001b[0m\u001b[0mbg2\u001b[0m\u001b[0;34m.\u001b[0m\u001b[0mstart_idx\u001b[0m\u001b[0;34m,\u001b[0m \u001b[0mbg2\u001b[0m\u001b[0;34m.\u001b[0m\u001b[0mend_idx\u001b[0m\u001b[0;34m)\u001b[0m\u001b[0;34m)\u001b[0m\u001b[0;34m)\u001b[0m\u001b[0;34m\u001b[0m\u001b[0;34m\u001b[0m\u001b[0m\n\u001b[0m\u001b[1;32m    239\u001b[0m     \u001b[0mcommon_ions\u001b[0m \u001b[0;34m=\u001b[0m \u001b[0mions_bg1\u001b[0m\u001b[0;34m.\u001b[0m\u001b[0mintersection\u001b[0m\u001b[0;34m(\u001b[0m\u001b[0mions_bg2\u001b[0m\u001b[0;34m)\u001b[0m\u001b[0;34m\u001b[0m\u001b[0;34m\u001b[0m\u001b[0m\n\u001b[1;32m    240\u001b[0m     \u001b[0msubtr_bg\u001b[0m \u001b[0;34m=\u001b[0m \u001b[0mSubtractedBackgrounds\u001b[0m\u001b[0;34m(\u001b[0m\u001b[0mbg1\u001b[0m\u001b[0;34m,\u001b[0m \u001b[0mbg2\u001b[0m\u001b[0;34m)\u001b[0m\u001b[0;34m\u001b[0m\u001b[0;34m\u001b[0m\u001b[0m\n",
      "\u001b[0;31mAttributeError\u001b[0m: 'NoneType' object has no attribute 'start_idx'"
     ]
    }
   ],
   "source": [
    "#hide\n",
    "import pandas as pd\n",
    "import numpy as np\n",
    "import uuid\n",
    "\n",
    "def test_run_pipeline():\n",
    "\n",
    "    sample2cond_df = pd.DataFrame({'sample' : ['A1', 'A2', 'A3', 'B1', 'B2', 'B3'], \n",
    "    'condition' : ['A', 'A', 'A', 'B', 'B', 'B']})\n",
    "    unnormed_df = generate_random_input(1000, sample2cond_df)\n",
    "    \n",
    "    run_pipeline(unnormed_df, sample2cond_df, 3)\n",
    "\n",
    "\n",
    "def generate_random_input(num_pep,sample2cond_df ):\n",
    "    pepnames = list(map(lambda _idx : str(uuid.uuid4()), range(num_pep))) #gives uuid strings for each peptide\n",
    "    randarrays = 10+ 1.5*np.random.randn(num_pep,sample2cond_df.shape[0])\n",
    "    df_intens = pd.DataFrame(randarrays, columns= sample2cond_df[\"sample\"].tolist())\n",
    "    df_intens.insert(0, \"peptides\", pepnames )\n",
    "    df_intens = df_intens.set_index(\"peptides\")\n",
    "    return df_intens\n",
    "\n",
    "test_run_pipeline()\n"
   ]
  },
  {
   "cell_type": "code",
   "execution_count": null,
   "metadata": {},
   "outputs": [],
   "source": []
  }
 ],
 "metadata": {
  "kernelspec": {
   "display_name": "Python 3",
   "name": "python3"
  }
 },
 "nbformat": 4,
 "nbformat_minor": 2
}
