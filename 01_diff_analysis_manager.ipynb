{
 "cells": [
  {
   "cell_type": "code",
   "execution_count": null,
   "metadata": {},
   "outputs": [],
   "source": [
    "# default_exp diff_analysis_manager"
   ]
  },
  {
   "cell_type": "code",
   "execution_count": null,
   "metadata": {},
   "outputs": [],
   "source": [
    "from ms_empire.background_distributions import *\n",
    "from ms_empire.normalization import *\n",
    "from ms_empire.diff_analysis import *"
   ]
  },
  {
   "cell_type": "code",
   "execution_count": null,
   "metadata": {},
   "outputs": [],
   "source": [
    "#export\n",
    "#read in peptide datafiles\n",
    "\n"
   ]
  },
  {
   "cell_type": "code",
   "execution_count": null,
   "metadata": {},
   "outputs": [],
   "source": [
    "#export\n",
    "import pandas as pd\n",
    "from itertools import combinations\n",
    "import numpy as np\n",
    "\n",
    "def run_pipeline(unnormed_df, labelmap_df, minrep):\n",
    "    conds = labelmap_df[\"condition\"].unique()\n",
    "    condpair2diffions = {}\n",
    "    for condpair in combinations(conds, 2):\n",
    "        \n",
    "        c1_samples = labelmap_df[labelmap_df[\"condition\"]== condpair[0]]\n",
    "        c2_samples = labelmap_df[labelmap_df[\"condition\"]== condpair[1]]\n",
    "        df_c1 = unnormed_df.loc[:, c1_samples[\"sample\"]].dropna(thresh=c1_samples.shape[0]-minrep, axis=0)\n",
    "        df_c2 = unnormed_df.loc[:, c2_samples[\"sample\"]].dropna(thresh=c2_samples.shape[0]-minrep, axis=0)\n",
    "        display(df_c1)\n",
    "        df_c1_normed = pd.DataFrame(normalize_withincond(df_c1.to_numpy().T).T, index = df_c1.index)\n",
    "        print(\"end norm1\")\n",
    "        display(df_c1_normed)\n",
    "        df_c2_normed = pd.DataFrame(normalize_withincond(df_c2.to_numpy().T).T, index = df_c2.index)\n",
    "        \n",
    "        normed_c1 = ConditionBackgrounds(df_c1_normed)\n",
    "        normed_c2 = ConditionBackgrounds(df_c2_normed)\n",
    "\n",
    "        ions_to_check = normed_c1.ion2nonNanvals.keys() & normed_c2.ion2nonNanvals.keys()\n",
    "\n",
    "        ion2diffDist = {}\n",
    "        diffIons = []\n",
    "        for ion in ions_to_check:\n",
    "            vals1 = normed_c1.ion2nonNanvals.get(ion)\n",
    "            vals2 = normed_c2.ion2nonNanvals.get(ion)\n",
    "            bgdist1 = normed_c1.ion2background.get(ion)\n",
    "            bgdist2 = normed_c2.ion2background.get(ion)\n",
    "            diffDist = get_subtracted_bg(ion2diffDist,bgdist1, bgdist2,ion )\n",
    "            diffIon = DifferentialIon(vals1, vals2, diffDist)\n",
    "            diffIons.append(diffIon)\n",
    "        \n",
    "        condpair2diffions.update({condpair :diffIon})"
   ]
  },
  {
   "cell_type": "code",
   "execution_count": null,
   "metadata": {},
   "outputs": [],
   "source": [
    "#export\n",
    "import pandas as pd\n",
    "from itertools import combinations\n",
    "import numpy as np\n",
    "\n",
    "def run_pipeline(unnormed_df, labelmap_df, minrep):\n",
    "    conds = labelmap_df[\"condition\"].unique()\n",
    "    condpair2diffions = {}\n",
    "    for condpair in combinations(conds, 2):\n",
    "\n",
    "        c1_samples = labelmap_df[labelmap_df[\"condition\"]== condpair[0]]\n",
    "        c2_samples = labelmap_df[labelmap_df[\"condition\"]== condpair[1]]\n",
    "        df_c1 = unnormed_df.loc[:, c1_samples[\"sample\"]].dropna(thresh=c1_samples.shape[0]-minrep, axis=0)\n",
    "        df_c2 = unnormed_df.loc[:, c2_samples[\"sample\"]].dropna(thresh=c2_samples.shape[0]-minrep, axis=0)\n",
    "        \n",
    "        df_c1_normed = pd.DataFrame(normalize_withincond(df_c1.to_numpy().T).T, index = df_c1.index)\n",
    "        df_c2_normed = pd.DataFrame(normalize_withincond(df_c2.to_numpy().T).T, index = df_c2.index)\n",
    "\n",
    "        normed_c1 = ConditionBackgrounds(df_c1_normed)\n",
    "        normed_c2 = ConditionBackgrounds(df_c2_normed)\n",
    "\n",
    "        ions_to_check = normed_c1.ion2nonNanvals.keys() & normed_c2.ion2nonNanvals.keys()\n",
    "\n",
    "        ion2diffDist = {}\n",
    "        diffIons = []\n",
    "        for ion in ions_to_check:\n",
    "            vals1 = normed_c1.ion2nonNanvals.get(ion)\n",
    "            vals2 = normed_c2.ion2nonNanvals.get(ion)\n",
    "            bgdist1 = normed_c1.ion2background.get(ion)\n",
    "            bgdist2 = normed_c2.ion2background.get(ion)\n",
    "            diffDist = get_subtracted_bg(ion2diffDist,bgdist1, bgdist2,ion )\n",
    "            diffIon = DifferentialIon(vals1, vals2, diffDist)\n",
    "            diffIons.append(diffIon)\n",
    "\n",
    "        condpair2diffions.update({condpair :diffIon})"
   ]
  },
  {
   "cell_type": "code",
   "execution_count": null,
   "metadata": {
    "tags": []
   },
   "outputs": [
    {
     "data": {
      "text/html": "<div>\n<style scoped>\n    .dataframe tbody tr th:only-of-type {\n        vertical-align: middle;\n    }\n\n    .dataframe tbody tr th {\n        vertical-align: top;\n    }\n\n    .dataframe thead th {\n        text-align: right;\n    }\n</style>\n<table border=\"1\" class=\"dataframe\">\n  <thead>\n    <tr style=\"text-align: right;\">\n      <th></th>\n      <th>A1</th>\n      <th>A2</th>\n      <th>A3</th>\n    </tr>\n    <tr>\n      <th>peptides</th>\n      <th></th>\n      <th></th>\n      <th></th>\n    </tr>\n  </thead>\n  <tbody>\n    <tr>\n      <td>6a3e6b81-148b-4913-808b-8e91bd0f7d3e</td>\n      <td>11.386111</td>\n      <td>10.300777</td>\n      <td>9.594174</td>\n    </tr>\n    <tr>\n      <td>43e99dea-718b-4a8f-8ff8-789a3f53374d</td>\n      <td>11.275167</td>\n      <td>9.948974</td>\n      <td>11.721857</td>\n    </tr>\n    <tr>\n      <td>aa5f90e6-aa0a-4a88-a0ab-2c741ec1169b</td>\n      <td>10.903977</td>\n      <td>9.681779</td>\n      <td>9.852887</td>\n    </tr>\n    <tr>\n      <td>270145c3-c4a9-4a22-842d-4d726e037827</td>\n      <td>8.820409</td>\n      <td>9.932944</td>\n      <td>8.083470</td>\n    </tr>\n    <tr>\n      <td>c5fa5d7b-5d0d-4ef7-80ea-467d6a649568</td>\n      <td>8.440354</td>\n      <td>9.122972</td>\n      <td>10.338375</td>\n    </tr>\n    <tr>\n      <td>...</td>\n      <td>...</td>\n      <td>...</td>\n      <td>...</td>\n    </tr>\n    <tr>\n      <td>65950ccc-fd2f-4af2-b111-1ca9eda6606b</td>\n      <td>11.509924</td>\n      <td>10.378830</td>\n      <td>10.590148</td>\n    </tr>\n    <tr>\n      <td>9c00cf26-71c0-4a95-ab50-195fcc842561</td>\n      <td>8.994162</td>\n      <td>10.551511</td>\n      <td>11.107499</td>\n    </tr>\n    <tr>\n      <td>21c04778-ce1b-4d6f-a0bb-08fa77135050</td>\n      <td>9.868574</td>\n      <td>11.749465</td>\n      <td>9.654644</td>\n    </tr>\n    <tr>\n      <td>1f017f65-ec08-439d-b013-4b8487f892cc</td>\n      <td>10.807318</td>\n      <td>10.124824</td>\n      <td>10.665377</td>\n    </tr>\n    <tr>\n      <td>c8d03ad5-1aa5-43d6-900d-5537d8f0082d</td>\n      <td>10.165462</td>\n      <td>7.696627</td>\n      <td>10.813632</td>\n    </tr>\n  </tbody>\n</table>\n<p>10000 rows × 3 columns</p>\n</div>",
      "text/plain": "                                             A1         A2         A3\npeptides                                                             \n6a3e6b81-148b-4913-808b-8e91bd0f7d3e  11.386111  10.300777   9.594174\n43e99dea-718b-4a8f-8ff8-789a3f53374d  11.275167   9.948974  11.721857\naa5f90e6-aa0a-4a88-a0ab-2c741ec1169b  10.903977   9.681779   9.852887\n270145c3-c4a9-4a22-842d-4d726e037827   8.820409   9.932944   8.083470\nc5fa5d7b-5d0d-4ef7-80ea-467d6a649568   8.440354   9.122972  10.338375\n...                                         ...        ...        ...\n65950ccc-fd2f-4af2-b111-1ca9eda6606b  11.509924  10.378830  10.590148\n9c00cf26-71c0-4a95-ab50-195fcc842561   8.994162  10.551511  11.107499\n21c04778-ce1b-4d6f-a0bb-08fa77135050   9.868574  11.749465   9.654644\n1f017f65-ec08-439d-b013-4b8487f892cc  10.807318  10.124824  10.665377\nc8d03ad5-1aa5-43d6-900d-5537d8f0082d  10.165462   7.696627  10.813632\n\n[10000 rows x 3 columns]"
     },
     "metadata": {},
     "output_type": "display_data"
    },
    {
     "name": "stdout",
     "output_type": "stream",
     "text": [
      "end norm1\n"
     ]
    },
    {
     "data": {
      "text/html": "<div>\n<style scoped>\n    .dataframe tbody tr th:only-of-type {\n        vertical-align: middle;\n    }\n\n    .dataframe tbody tr th {\n        vertical-align: top;\n    }\n\n    .dataframe thead th {\n        text-align: right;\n    }\n</style>\n<table border=\"1\" class=\"dataframe\">\n  <thead>\n    <tr style=\"text-align: right;\">\n      <th></th>\n      <th>0</th>\n      <th>1</th>\n      <th>2</th>\n    </tr>\n    <tr>\n      <th>peptides</th>\n      <th></th>\n      <th></th>\n      <th></th>\n    </tr>\n  </thead>\n  <tbody>\n    <tr>\n      <td>6a3e6b81-148b-4913-808b-8e91bd0f7d3e</td>\n      <td>11.386111</td>\n      <td>10.291599</td>\n      <td>9.560770</td>\n    </tr>\n    <tr>\n      <td>43e99dea-718b-4a8f-8ff8-789a3f53374d</td>\n      <td>11.275167</td>\n      <td>9.939796</td>\n      <td>11.688453</td>\n    </tr>\n    <tr>\n      <td>aa5f90e6-aa0a-4a88-a0ab-2c741ec1169b</td>\n      <td>10.903977</td>\n      <td>9.672601</td>\n      <td>9.819483</td>\n    </tr>\n    <tr>\n      <td>270145c3-c4a9-4a22-842d-4d726e037827</td>\n      <td>8.820409</td>\n      <td>9.923766</td>\n      <td>8.050065</td>\n    </tr>\n    <tr>\n      <td>c5fa5d7b-5d0d-4ef7-80ea-467d6a649568</td>\n      <td>8.440354</td>\n      <td>9.113795</td>\n      <td>10.304971</td>\n    </tr>\n    <tr>\n      <td>...</td>\n      <td>...</td>\n      <td>...</td>\n      <td>...</td>\n    </tr>\n    <tr>\n      <td>65950ccc-fd2f-4af2-b111-1ca9eda6606b</td>\n      <td>11.509924</td>\n      <td>10.369653</td>\n      <td>10.556744</td>\n    </tr>\n    <tr>\n      <td>9c00cf26-71c0-4a95-ab50-195fcc842561</td>\n      <td>8.994162</td>\n      <td>10.542333</td>\n      <td>11.074095</td>\n    </tr>\n    <tr>\n      <td>21c04778-ce1b-4d6f-a0bb-08fa77135050</td>\n      <td>9.868574</td>\n      <td>11.740287</td>\n      <td>9.621240</td>\n    </tr>\n    <tr>\n      <td>1f017f65-ec08-439d-b013-4b8487f892cc</td>\n      <td>10.807318</td>\n      <td>10.115646</td>\n      <td>10.631972</td>\n    </tr>\n    <tr>\n      <td>c8d03ad5-1aa5-43d6-900d-5537d8f0082d</td>\n      <td>10.165462</td>\n      <td>7.687449</td>\n      <td>10.780228</td>\n    </tr>\n  </tbody>\n</table>\n<p>10000 rows × 3 columns</p>\n</div>",
      "text/plain": "                                              0          1          2\npeptides                                                             \n6a3e6b81-148b-4913-808b-8e91bd0f7d3e  11.386111  10.291599   9.560770\n43e99dea-718b-4a8f-8ff8-789a3f53374d  11.275167   9.939796  11.688453\naa5f90e6-aa0a-4a88-a0ab-2c741ec1169b  10.903977   9.672601   9.819483\n270145c3-c4a9-4a22-842d-4d726e037827   8.820409   9.923766   8.050065\nc5fa5d7b-5d0d-4ef7-80ea-467d6a649568   8.440354   9.113795  10.304971\n...                                         ...        ...        ...\n65950ccc-fd2f-4af2-b111-1ca9eda6606b  11.509924  10.369653  10.556744\n9c00cf26-71c0-4a95-ab50-195fcc842561   8.994162  10.542333  11.074095\n21c04778-ce1b-4d6f-a0bb-08fa77135050   9.868574  11.740287   9.621240\n1f017f65-ec08-439d-b013-4b8487f892cc  10.807318  10.115646  10.631972\nc8d03ad5-1aa5-43d6-900d-5537d8f0082d  10.165462   7.687449  10.780228\n\n[10000 rows x 3 columns]"
     },
     "metadata": {},
     "output_type": "display_data"
    },
    {
     "ename": "NameError",
     "evalue": "name 'assign_ions2bgdists' is not defined",
     "output_type": "error",
     "traceback": [
      "\u001b[0;31m---------------------------------------------------------------------------\u001b[0m",
      "\u001b[0;31mNameError\u001b[0m                                 Traceback (most recent call last)",
      "\u001b[0;32m<ipython-input-16-a9179beadb2c>\u001b[0m in \u001b[0;36m<module>\u001b[0;34m\u001b[0m\n\u001b[1;32m     21\u001b[0m     \u001b[0;32mreturn\u001b[0m \u001b[0mdf_intens\u001b[0m\u001b[0;34m\u001b[0m\u001b[0;34m\u001b[0m\u001b[0m\n\u001b[1;32m     22\u001b[0m \u001b[0;34m\u001b[0m\u001b[0m\n\u001b[0;32m---> 23\u001b[0;31m \u001b[0mtest_run_pipeline\u001b[0m\u001b[0;34m(\u001b[0m\u001b[0;34m)\u001b[0m\u001b[0;34m\u001b[0m\u001b[0;34m\u001b[0m\u001b[0m\n\u001b[0m",
      "\u001b[0;32m<ipython-input-16-a9179beadb2c>\u001b[0m in \u001b[0;36mtest_run_pipeline\u001b[0;34m()\u001b[0m\n\u001b[1;32m     10\u001b[0m     \u001b[0munnormed_df\u001b[0m \u001b[0;34m=\u001b[0m \u001b[0mgenerate_random_input\u001b[0m\u001b[0;34m(\u001b[0m\u001b[0;36m10000\u001b[0m\u001b[0;34m,\u001b[0m \u001b[0msample2cond_df\u001b[0m\u001b[0;34m)\u001b[0m\u001b[0;34m\u001b[0m\u001b[0;34m\u001b[0m\u001b[0m\n\u001b[1;32m     11\u001b[0m \u001b[0;34m\u001b[0m\u001b[0m\n\u001b[0;32m---> 12\u001b[0;31m     \u001b[0mrun_pipeline\u001b[0m\u001b[0;34m(\u001b[0m\u001b[0munnormed_df\u001b[0m\u001b[0;34m,\u001b[0m \u001b[0msample2cond_df\u001b[0m\u001b[0;34m,\u001b[0m \u001b[0;36m3\u001b[0m\u001b[0;34m)\u001b[0m\u001b[0;34m\u001b[0m\u001b[0;34m\u001b[0m\u001b[0m\n\u001b[0m\u001b[1;32m     13\u001b[0m \u001b[0;34m\u001b[0m\u001b[0m\n\u001b[1;32m     14\u001b[0m \u001b[0;34m\u001b[0m\u001b[0m\n",
      "\u001b[0;32m<ipython-input-15-57414cdf9a40>\u001b[0m in \u001b[0;36mrun_pipeline\u001b[0;34m(unnormed_df, labelmap_df, minrep)\u001b[0m\n\u001b[1;32m     19\u001b[0m         \u001b[0mdf_c2_normed\u001b[0m \u001b[0;34m=\u001b[0m \u001b[0mpd\u001b[0m\u001b[0;34m.\u001b[0m\u001b[0mDataFrame\u001b[0m\u001b[0;34m(\u001b[0m\u001b[0mnormalize_withincond\u001b[0m\u001b[0;34m(\u001b[0m\u001b[0mdf_c2\u001b[0m\u001b[0;34m.\u001b[0m\u001b[0mto_numpy\u001b[0m\u001b[0;34m(\u001b[0m\u001b[0;34m)\u001b[0m\u001b[0;34m.\u001b[0m\u001b[0mT\u001b[0m\u001b[0;34m)\u001b[0m\u001b[0;34m.\u001b[0m\u001b[0mT\u001b[0m\u001b[0;34m,\u001b[0m \u001b[0mindex\u001b[0m \u001b[0;34m=\u001b[0m \u001b[0mdf_c2\u001b[0m\u001b[0;34m.\u001b[0m\u001b[0mindex\u001b[0m\u001b[0;34m)\u001b[0m\u001b[0;34m\u001b[0m\u001b[0;34m\u001b[0m\u001b[0m\n\u001b[1;32m     20\u001b[0m \u001b[0;34m\u001b[0m\u001b[0m\n\u001b[0;32m---> 21\u001b[0;31m         \u001b[0mnormed_c1\u001b[0m \u001b[0;34m=\u001b[0m \u001b[0mConditionBackgrounds\u001b[0m\u001b[0;34m(\u001b[0m\u001b[0mdf_c1_normed\u001b[0m\u001b[0;34m)\u001b[0m\u001b[0;34m\u001b[0m\u001b[0;34m\u001b[0m\u001b[0m\n\u001b[0m\u001b[1;32m     22\u001b[0m         \u001b[0mnormed_c2\u001b[0m \u001b[0;34m=\u001b[0m \u001b[0mConditionBackgrounds\u001b[0m\u001b[0;34m(\u001b[0m\u001b[0mdf_c2_normed\u001b[0m\u001b[0;34m)\u001b[0m\u001b[0;34m\u001b[0m\u001b[0;34m\u001b[0m\u001b[0m\n\u001b[1;32m     23\u001b[0m \u001b[0;34m\u001b[0m\u001b[0m\n",
      "\u001b[0;32m~/workspace/EmpiRe/nbdev/MS-EmpiRe_Python/ms_empire/background_distributions.py\u001b[0m in \u001b[0;36m__init__\u001b[0;34m(self, normed_condition_df)\u001b[0m\n\u001b[1;32m     13\u001b[0m         \u001b[0mself\u001b[0m\u001b[0;34m.\u001b[0m\u001b[0midx2ion\u001b[0m \u001b[0;34m=\u001b[0m \u001b[0;34m{\u001b[0m\u001b[0;34m}\u001b[0m\u001b[0;34m\u001b[0m\u001b[0;34m\u001b[0m\u001b[0m\n\u001b[1;32m     14\u001b[0m         \u001b[0mself\u001b[0m\u001b[0;34m.\u001b[0m\u001b[0minit_ion2nonNanvals\u001b[0m\u001b[0;34m(\u001b[0m\u001b[0mnormed_condition_df\u001b[0m\u001b[0;34m)\u001b[0m\u001b[0;34m\u001b[0m\u001b[0;34m\u001b[0m\u001b[0m\n\u001b[0;32m---> 15\u001b[0;31m         \u001b[0mself\u001b[0m\u001b[0;34m.\u001b[0m\u001b[0mselect_intensity_ranges\u001b[0m\u001b[0;34m(\u001b[0m\u001b[0;34m)\u001b[0m\u001b[0;34m\u001b[0m\u001b[0;34m\u001b[0m\u001b[0m\n\u001b[0m\u001b[1;32m     16\u001b[0m \u001b[0;34m\u001b[0m\u001b[0m\n\u001b[1;32m     17\u001b[0m \u001b[0;34m\u001b[0m\u001b[0m\n",
      "\u001b[0;32m~/workspace/EmpiRe/nbdev/MS-EmpiRe_Python/ms_empire/background_distributions.py\u001b[0m in \u001b[0;36mselect_intensity_ranges\u001b[0;34m(self)\u001b[0m\n\u001b[1;32m     51\u001b[0m         \u001b[0;32mwhile\u001b[0m \u001b[0mcontext_boundaries\u001b[0m\u001b[0;34m[\u001b[0m\u001b[0;36m1\u001b[0m\u001b[0;34m]\u001b[0m \u001b[0;34m<\u001b[0m \u001b[0mlen\u001b[0m\u001b[0;34m(\u001b[0m\u001b[0mcumulative_counts\u001b[0m\u001b[0;34m)\u001b[0m\u001b[0;34m-\u001b[0m\u001b[0;36m1\u001b[0m\u001b[0;34m:\u001b[0m\u001b[0;34m\u001b[0m\u001b[0;34m\u001b[0m\u001b[0m\n\u001b[1;32m     52\u001b[0m             \u001b[0mbgdist\u001b[0m \u001b[0;34m=\u001b[0m \u001b[0mBackGroundDistribution\u001b[0m\u001b[0;34m(\u001b[0m\u001b[0mcontext_boundaries\u001b[0m\u001b[0;34m[\u001b[0m\u001b[0;36m0\u001b[0m\u001b[0;34m]\u001b[0m\u001b[0;34m,\u001b[0m \u001b[0mcontext_boundaries\u001b[0m\u001b[0;34m[\u001b[0m\u001b[0;36m2\u001b[0m\u001b[0;34m]\u001b[0m\u001b[0;34m,\u001b[0m \u001b[0mself\u001b[0m\u001b[0;34m.\u001b[0m\u001b[0mion2nonNanvals\u001b[0m\u001b[0;34m,\u001b[0m \u001b[0mself\u001b[0m\u001b[0;34m.\u001b[0m\u001b[0midx2ion\u001b[0m\u001b[0;34m)\u001b[0m\u001b[0;34m\u001b[0m\u001b[0;34m\u001b[0m\u001b[0m\n\u001b[0;32m---> 53\u001b[0;31m             \u001b[0massign_ions2bgdists\u001b[0m\u001b[0;34m(\u001b[0m\u001b[0mcontext_boundaries\u001b[0m\u001b[0;34m[\u001b[0m\u001b[0;36m0\u001b[0m\u001b[0;34m]\u001b[0m\u001b[0;34m,\u001b[0m \u001b[0mcontext_boundaries\u001b[0m\u001b[0;34m[\u001b[0m\u001b[0;36m2\u001b[0m\u001b[0;34m]\u001b[0m\u001b[0;34m,\u001b[0m \u001b[0mbgdist\u001b[0m\u001b[0;34m)\u001b[0m\u001b[0;34m\u001b[0m\u001b[0;34m\u001b[0m\u001b[0m\n\u001b[0m\u001b[1;32m     54\u001b[0m             \u001b[0mself\u001b[0m\u001b[0;34m.\u001b[0m\u001b[0mbackgrounds\u001b[0m\u001b[0;34m.\u001b[0m\u001b[0mappend\u001b[0m\u001b[0;34m(\u001b[0m\u001b[0mbgdist\u001b[0m\u001b[0;34m)\u001b[0m\u001b[0;34m\u001b[0m\u001b[0;34m\u001b[0m\u001b[0m\n\u001b[1;32m     55\u001b[0m             \u001b[0mcontext_boundaries\u001b[0m\u001b[0;34m[\u001b[0m\u001b[0;36m0\u001b[0m\u001b[0;34m]\u001b[0m \u001b[0;34m=\u001b[0m \u001b[0mcontext_boundaries\u001b[0m\u001b[0;34m[\u001b[0m\u001b[0;36m1\u001b[0m\u001b[0;34m]\u001b[0m\u001b[0;34m\u001b[0m\u001b[0;34m\u001b[0m\u001b[0m\n",
      "\u001b[0;31mNameError\u001b[0m: name 'assign_ions2bgdists' is not defined"
     ]
    }
   ],
   "source": [
    "#hide\n",
    "import pandas as pd\n",
    "import numpy as np\n",
    "import uuid\n",
    "\n",
    "def test_run_pipeline():\n",
    "\n",
    "    sample2cond_df = pd.DataFrame({'sample' : ['A1', 'A2', 'A3', 'B1', 'B2', 'B3'], \n",
    "    'condition' : ['A', 'A', 'A', 'B', 'B', 'B']})\n",
    "    unnormed_df = generate_random_input(10000, sample2cond_df)\n",
    "    \n",
    "    run_pipeline(unnormed_df, sample2cond_df, 3)\n",
    "\n",
    "\n",
    "def generate_random_input(num_pep,sample2cond_df ):\n",
    "    pepnames = list(map(lambda _idx : str(uuid.uuid4()), range(num_pep))) #gives uuid strings for each peptide\n",
    "    randarrays = 10+ 1.5*np.random.randn(num_pep,sample2cond_df.shape[0])\n",
    "    df_intens = pd.DataFrame(randarrays, columns= sample2cond_df[\"sample\"].tolist())\n",
    "    df_intens.insert(0, \"peptides\", pepnames )\n",
    "    df_intens = df_intens.set_index(\"peptides\")\n",
    "    return df_intens\n",
    "\n",
    "test_run_pipeline()\n"
   ]
  },
  {
   "cell_type": "code",
   "execution_count": null,
   "metadata": {},
   "outputs": [],
   "source": []
  }
 ],
 "metadata": {
  "kernelspec": {
   "display_name": "Python 3",
   "name": "python3"
  }
 },
 "nbformat": 4,
 "nbformat_minor": 2
}
