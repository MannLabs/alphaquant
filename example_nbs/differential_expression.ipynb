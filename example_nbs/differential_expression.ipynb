{
 "cells": [
  {
   "cell_type": "markdown",
   "metadata": {},
   "source": [
    "# Performing differential expression analysis with AlphaQuant and investigating the results\n",
    "\n",
    "Below some code how to perform differential expression testing with AlphaQuant. This means we do a pairwise comparison of biological conditions and some volcano plot visualizations."
   ]
  },
  {
   "cell_type": "markdown",
   "metadata": {},
   "source": [
    "## Specifying input files"
   ]
  },
  {
   "cell_type": "markdown",
   "metadata": {},
   "source": [
    "In order to run differential analyses you need:\n",
    "* an input file from a proteomics search engine (e.g. DIA-NN, Spectronaut, AlphaPept etc.), or a pre-formatted file\n",
    "* a sample mapping file that maps each sample to a condition (e.g.  sample 'brain_replicate_1' is mapped to condition 'brain'). In the GUI, there is some functionality to help create such a file\n",
    "* (optional) a results directory can be defined on where to save the data\n",
    "* (optional) a list where we specify, which conditions we compare\n",
    "\n",
    "AlphaQuant is compatible to the default output tables of most common proteomics search engines. Detailed specifications on which tables you need can be found \n",
    "in our  [README](https://github.com/MannLabs/alphaquant/blob/main/README.md#section-title).\n"
   ]
  },
  {
   "cell_type": "code",
   "execution_count": null,
   "metadata": {},
   "outputs": [],
   "source": [
    "INPUT_FILE = \"./data/mouse_tissues/mouse_report_example_nb_subset.tsv\"\n",
    "SAMPLEMAP_FILE = \"./data/mouse_tissues/samplemap_200.tsv\"\n",
    "CONDPAIRS_TO_COMPARE = [('spleen', 'testis'), ('lungs', 'brain')]\n",
    "RESULTS_DIRECTORY = \"./data/mouse_tissues/results_pairwise_analysis\""
   ]
  },
  {
   "cell_type": "code",
   "execution_count": null,
   "metadata": {},
   "outputs": [],
   "source": [
    "#displaying the samplemap file\n",
    "import pandas as pd\n",
    "display(pd.read_csv(SAMPLEMAP_FILE, sep='\\t'))\n"
   ]
  },
  {
   "cell_type": "markdown",
   "metadata": {},
   "source": [
    "## Run AlphaQuant in pairwise-comparison mode"
   ]
  },
  {
   "cell_type": "markdown",
   "metadata": {},
   "source": [
    "Now we can use the 'run_pipeline' command from AlphaQuant. This performs normalization between sample and then differential expression testing. The main output is a table of proteins with fold changes and an fdr value as a result of the differential expression test. Due to AlphaQuant's tree based approach, sensitivity is in general higher as compared to standard approaches like the t-test, i.e. there should be more proteins with significant fdr, especially for lower fold changes."
   ]
  },
  {
   "cell_type": "code",
   "execution_count": null,
   "metadata": {},
   "outputs": [],
   "source": [
    "import alphaquant.run_pipeline as aq_pipeline\n",
    "\n",
    "aq_pipeline.run_pipeline(input_file=INPUT_FILE, samplemap_file=SAMPLEMAP_FILE,\n",
    "                         condpairs_list=CONDPAIRS_TO_COMPARE, results_dir=RESULTS_DIRECTORY, runtime_plots=True,\n",
    "\t\t\t\t\t\t cluster_threshold_pval=0.2)#CAUTION: we simulate a proteoform candidate in this small dataset by setting the cluster_threshold_pval to 0.2 which is very permissive and allows for random hits. We recommend using the default value (0.001) otherwise"
   ]
  },
  {
   "cell_type": "markdown",
   "metadata": {},
   "source": [
    "## Inspecting output tables\n",
    "\n",
    "The main output tables for each pairwise comparison are located in the results folder and are named\n",
    " * spleen_VS_testis.results.tsv\n",
    " * lungs_VS_brain.results.tsv\n",
    "\n",
    "Let's load one of them:\n",
    " \n",
    " "
   ]
  },
  {
   "cell_type": "code",
   "execution_count": null,
   "metadata": {},
   "outputs": [],
   "source": [
    "import pandas as pd\n",
    "\n",
    "df_spleen_testis  = pd.read_csv(RESULTS_DIRECTORY + \"/spleen_VS_testis.results.tsv\", sep='\\t')\n",
    "display(df_spleen_testis)"
   ]
  },
  {
   "cell_type": "markdown",
   "metadata": {},
   "source": [
    "The fold changes are defined as condition1 - condition2. For example spleen_VS_testis means that a log2fc is calculated by log2(intensity_spleen/intensity_testis)"
   ]
  },
  {
   "cell_type": "code",
   "execution_count": null,
   "metadata": {},
   "outputs": [],
   "source": [
    "df_spleen_testis[\"abs_fc\"] = abs(df_spleen_testis[\"log2fc\"])\n",
    "display(df_spleen_testis.sort_values(by='abs_fc').iloc[:15])"
   ]
  },
  {
   "cell_type": "markdown",
   "metadata": {},
   "source": [
    "## Visualizing results - basic plots"
   ]
  },
  {
   "cell_type": "markdown",
   "metadata": {},
   "source": [
    "### Volcano plot"
   ]
  },
  {
   "cell_type": "code",
   "execution_count": null,
   "metadata": {},
   "outputs": [],
   "source": [
    "import alphaquant.plotting.pairwise as aq_plotting_pairwise\n",
    "\n",
    "aq_plotting_pairwise.volcano_plot(df_spleen_testis)"
   ]
  },
  {
   "cell_type": "markdown",
   "metadata": {},
   "source": [
    "### Normalization plot"
   ]
  },
  {
   "cell_type": "markdown",
   "metadata": {},
   "source": [
    "The normalization plot gives the foldchanges between a given sample and the median over all samples. The peak of the distributions should be centered around 0. If not, there might be a problem with the normalization."
   ]
  },
  {
   "cell_type": "code",
   "execution_count": null,
   "metadata": {},
   "outputs": [],
   "source": [
    "normalized_df = pd.read_csv(RESULTS_DIRECTORY + \"/spleen_VS_testis.normed.tsv\", sep='\\t')\n",
    "samplemap_df = pd.read_csv(SAMPLEMAP_FILE, sep='\\t')"
   ]
  },
  {
   "cell_type": "code",
   "execution_count": null,
   "metadata": {},
   "outputs": [],
   "source": [
    "aq_plotting_pairwise.plot_normalization_overview(normalized_df, samplemap_df)"
   ]
  },
  {
   "cell_type": "markdown",
   "metadata": {},
   "source": [
    "## Inspect and visualize proteoforms\n",
    "\n",
    "Peptides that show different quantititative behaviour than other peptides can indicate proteoforms. The logic behind this can be elucidated with a simple example. Let's assume we have a protein with 3 peptides in spleen and testis. The protein itself shows no regulation between the two tissues. Therefore, we can expect that neither of the peptides changes between the conditions. The log2 fold changes for all the peptides should be the same. Now, let's assume that one of the peptides is phosphorylated in testis. If fifty percent of the copies of this peptide carry a phosphorylation, then only half as much **non-modified** peptide should be detectable in testis. This means, that in out spleen_vs_testis condition, we expect the unmodified version of the phosphorylated peptide to be up-regulated, while the other peptides have no regulation. The fold changes should differ. With AlphaQuant, we can investigate systematic differences between fold changes and report peptides that behave differently than expected.\n",
    "\n",
    "We write out a `.proteoforms.tsv` table for each pair of conditions. Let's load the one for spleen and testis:"
   ]
  },
  {
   "cell_type": "code",
   "execution_count": null,
   "metadata": {},
   "outputs": [],
   "source": [
    "import pandas as pd\n",
    "proteoform_df = pd.read_csv(RESULTS_DIRECTORY + \"/spleen_VS_testis.proteoforms.tsv\", sep='\\t')\n",
    "display(proteoform_df)"
   ]
  },
  {
   "cell_type": "markdown",
   "metadata": {},
   "source": [
    "An important column is termed \"fcdiff\", which quantifies the fold change difference between peptides and groups of peptides. Let's filter for proteoforms with a log2 fold change difference of at least 0.7, using an AlphaQuant function:"
   ]
  },
  {
   "cell_type": "code",
   "execution_count": null,
   "metadata": {},
   "outputs": [],
   "source": [
    "import alphaquant.utils.proteoform_utils as aq_utils_proteoforms\n",
    "\n",
    "proteoform_df_filtered = aq_utils_proteoforms.filter_proteoform_df(proteoform_df=proteoform_df, min_num_peptides=1)\n",
    "display(proteoform_df_filtered)"
   ]
  },
  {
   "cell_type": "markdown",
   "metadata": {},
   "source": [
    "This leaves only a few proteins of interest. Let's visualize them in order to check them out further. For this we must load a few modules in AlphaQuant:"
   ]
  },
  {
   "cell_type": "code",
   "execution_count": null,
   "metadata": {},
   "outputs": [],
   "source": [
    "import alphaquant.plotting.fcviz as aq_plot_fc\n",
    "\n",
    "proteins_of_interest = proteoform_df_filtered['protein'].unique()\n",
    "print(proteins_of_interest)\n",
    "fc_visualizer = aq_plot_fc.FoldChangeVisualizer(condition1=\"spleen\", condition2=\"testis\", results_directory=RESULTS_DIRECTORY, samplemap_file=SAMPLEMAP_FILE)\n",
    "\n",
    "fc_visualizer.plot_list_of_proteins(proteins_of_interest)"
   ]
  },
  {
   "cell_type": "code",
   "execution_count": null,
   "metadata": {},
   "outputs": [],
   "source": [
    "import alphaquant.plotting.alphamapviz as aq_plot_alphamap\n",
    "\n",
    "amap_visualizer = aq_plot_alphamap.AlphaMapVisualizer(condition1=\"spleen\", condition2=\"testis\", results_directory=RESULTS_DIRECTORY, samplemap_file=SAMPLEMAP_FILE,protein_identifier='uniprot_id', organism=\"Mouse\") #because we need to map the protein to it's respective sequence, we need to specify that the protein identidier is uniprot and the organism is Mouse"
   ]
  },
  {
   "cell_type": "code",
   "execution_count": null,
   "metadata": {},
   "outputs": [],
   "source": [
    "fc_fig, alphamap_go_fig = amap_visualizer.visualize_protein(\"Q91VW3\")\n",
    "\n",
    "fc_fig.show()\n",
    "alphamap_go_fig.show()"
   ]
  }
 ],
 "metadata": {
  "kernelspec": {
   "display_name": "alphaquant",
   "language": "python",
   "name": "python3"
  },
  "language_info": {
   "codemirror_mode": {
    "name": "ipython",
    "version": 3
   },
   "file_extension": ".py",
   "mimetype": "text/x-python",
   "name": "python",
   "nbconvert_exporter": "python",
   "pygments_lexer": "ipython3",
   "version": "3.11.11"
  }
 },
 "nbformat": 4,
 "nbformat_minor": 2
}
