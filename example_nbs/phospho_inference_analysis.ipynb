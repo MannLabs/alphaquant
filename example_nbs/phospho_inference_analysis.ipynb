{
 "cells": [
  {
   "cell_type": "markdown",
   "metadata": {},
   "source": [
    "# Inferring phospho peptides\n",
    "\n",
    "In the following we will use AlphaQuant's proteoform analysis and combine it with deep learning predictions that give a probability how prone a certain peptide sequence is to phosphorylation. We use the combination of those two to predict phorphorylated proteoforms.\n",
    "\n",
    "As with the standard differential expression analysis, we need:\n",
    "\n",
    "* an input file from a proteomics search engine. We support most common search engines. Specifications on input files are given in our [README](https://github.com/MannLabs/alphaquant/blob/master/README.md#preparing-input-files).\n",
    "* a sample mapping file that maps each sample to a condition (e.g.  sample 'brain_replicate_1' is mapped to condition 'brain').\n",
    "* (optional) a results directory can be defined on where to save the data\n",
    "* (optional) a list where we specify, which conditions we compare\n",
    "\n",
    "Additionally, we need to specify, wether we want to perform \n",
    "\n",
    "\n"
   ]
  },
  {
   "cell_type": "code",
   "execution_count": null,
   "metadata": {},
   "outputs": [],
   "source": [
    "INPUT_FILE = \"./data/phospho/proteome_subset.tsv\"\n",
    "SAMPLEMAP_FILE = \"./data/phospho/samplemap_proteome.tsv\"\n",
    "RESULTS_DIRECTORY = \"./data/phospho/results_phospho_inference\"\n",
    "\n",
    "CONDPAIRS_LIST = [(\"egf_treated\", \"untreated\")] #this means each fc is egf_treated/untreated\n"
   ]
  },
  {
   "cell_type": "code",
   "execution_count": null,
   "metadata": {},
   "outputs": [],
   "source": [
    "import alphaquant.run_pipeline as aq_pipeline\n",
    "\n",
    "aq_pipeline.run_pipeline(input_file=INPUT_FILE, samplemap_file=SAMPLEMAP_FILE, results_dir=RESULTS_DIRECTORY, condpairs_list=CONDPAIRS_LIST, organism=\"human\", \n",
    "                         perform_phospho_inference=True, cluster_threshold_pval=0.00001, take_median_ion=False, fcdiff_cutoff_clustermerge=0)"
   ]
  },
  {
   "cell_type": "code",
   "execution_count": null,
   "metadata": {},
   "outputs": [],
   "source": [
    "import pandas as pd\n",
    "\n",
    "proteoform_df = pd.read_csv(RESULTS_DIRECTORY + \"/egf_treated_VS_untreated.proteoforms.tsv\", sep='\\t')\n",
    "display(proteoform_df)"
   ]
  },
  {
   "cell_type": "code",
   "execution_count": null,
   "metadata": {},
   "outputs": [],
   "source": [
    "import alphaquant.utils.diffquant_utils as aq_diffquant_utils\n",
    "\n",
    "proteoform_df_filtered = aq_diffquant_utils.filter_proteoform_df(proteoform_df=proteoform_df, min_num_peptides=1, likely_phospho=True, keep_reference_proteoform=True)\n",
    "display(proteoform_df_filtered)"
   ]
  },
  {
   "cell_type": "code",
   "execution_count": null,
   "metadata": {},
   "outputs": [],
   "source": [
    "import alphaquant.plotting.fcviz as aq_fcviz\n",
    "\n",
    "proteins_of_interest = proteoform_df_filtered['protein'].unique()\n",
    "\n",
    "fc_visualizer = aq_fcviz.FoldChangeVisualizer(condition1= \"egf_treated\", condition2=\"untreated\", results_directory= RESULTS_DIRECTORY, samplemap_file=SAMPLEMAP_FILE)\n",
    "fc_visualizer.plot_list_of_proteins(proteins_of_interest)"
   ]
  },
  {
   "cell_type": "code",
   "execution_count": null,
   "metadata": {},
   "outputs": [],
   "source": [
    "import alphaquant.plotting.alphamapviz as aq_alphamapviz\n",
    "\n",
    "alphamap_visualizer = aq_alphamapviz.AlphaMapVisualizer(condition1= \"egf_treated\", condition2=\"untreated\", results_directory= RESULTS_DIRECTORY, samplemap_file=SAMPLEMAP_FILE, organism=\"Human\" )"
   ]
  },
  {
   "cell_type": "code",
   "execution_count": null,
   "metadata": {},
   "outputs": [],
   "source": [
    "fc_plot, alphamap_plot = alphamap_visualizer.visualize_protein(\"EGFR\")\n",
    "fc_plot.show()\n",
    "alphamap_plot.show()"
   ]
  }
 ],
 "metadata": {
  "kernelspec": {
   "display_name": "alphaquant",
   "language": "python",
   "name": "python3"
  },
  "language_info": {
   "codemirror_mode": {
    "name": "ipython",
    "version": 3
   },
   "file_extension": ".py",
   "mimetype": "text/x-python",
   "name": "python",
   "nbconvert_exporter": "python",
   "pygments_lexer": "ipython3",
   "version": "3.9.19"
  }
 },
 "nbformat": 4,
 "nbformat_minor": 2
}
