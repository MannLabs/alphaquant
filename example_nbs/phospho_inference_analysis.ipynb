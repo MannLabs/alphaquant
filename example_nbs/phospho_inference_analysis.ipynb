{
 "cells": [
  {
   "cell_type": "markdown",
   "metadata": {},
   "source": [
    "# Inferring phospho peptides\n",
    "\n",
    "In the following we will use AlphaQuant's proteoform analysis and combine it with deep learning predictions that give a probability how prone a certain peptide sequence is to phosphorylation. We use the combination of those two to predict phorphorylated proteoforms.\n",
    "\n",
    "As with the standard differential expression analysis, we need:\n",
    "\n",
    "* an input file from a proteomics search engine. We support most common search engines. Specifications on input files are given in our [README](https://github.com/MannLabs/alphaquant/blob/master/README.md#preparing-input-files).\n",
    "* a sample mapping file that maps each sample to a condition (e.g.  sample 'brain_replicate_1' is mapped to condition 'brain').\n",
    "* (optional) a results directory can be defined on where to save the data\n",
    "* (optional) a list where we specify, which conditions we compare\n",
    "\n",
    "\n"
   ]
  },
  {
   "cell_type": "code",
   "execution_count": null,
   "metadata": {},
   "outputs": [],
   "source": [
    "INPUT_FILE = \"./data/phospho/proteome_subset.tsv\"\n",
    "SAMPLEMAP = \"./data/phospho/samplemap_proteome.tsv\"\n",
    "RESULTS_DIR = \"./data/phospho/results_phospho_inference\"\n",
    "\n",
    "CONDPAIRS_LIST = [(\"egf_treated\", \"untreated\")] #this means each fc is egf_treated/untreated\n"
   ]
  }
 ],
 "metadata": {
  "language_info": {
   "name": "python"
  }
 },
 "nbformat": 4,
 "nbformat_minor": 2
}
