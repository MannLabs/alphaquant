{
 "cells": [
  {
   "cell_type": "markdown",
   "metadata": {},
   "source": [
    "# Performing differential expression analysis on PTM data w multiple conditions\n",
    "\n",
    "Here, we will take phospho data processed with Spectronaut and \n",
    " * perform phosphosite inference and perform differential expression analysis on the phospho sites\n",
    " * take proteome data and normalize the differential expression results"
   ]
  },
  {
   "cell_type": "markdown",
   "metadata": {},
   "source": [
    "## Defining input files\n",
    "As with the standard differential expression analysis, we need:\n",
    "\n",
    "* an input file from a proteomics search engine. We currently only support Spectronaut, DIA-NN will come soon\n",
    "* a sample mapping file that maps each sample to a condition (e.g.  sample 'brain_replicate_1' is mapped to condition 'brain'). In the GUI, there is some functionality to help create such a file\n",
    "* (optional) a results directory can be defined on where to save the data\n",
    "* (optional) a list where we specify, which conditions we compare\n",
    "\n",
    "Simple specifications on how to export the Spectronaut file for PTM analysis can be found in the [README](https://github.com/MannLabs/alphaquant/blob/master/README.md#preparing-input-files)."
   ]
  },
  {
   "cell_type": "code",
   "execution_count": 1,
   "metadata": {},
   "outputs": [],
   "source": [
    "PHOSPHO_FILE = \"./data/phospho/phospho_subset.tsv\"\n",
    "SAMPLEMAP_PHOSPHO = \"./data/phospho/samplemap_phospho.tsv\"\n",
    "RESULTS_DIR_PHOSPHO = \"./data/phospho/results_phospho_multicond\"\n",
    "\n",
    "PROTEOME_FILE = \"./data/phospho/proteome_subset.tsv\"\n",
    "SAMPLEMAP_PROTEOME = \"./data/phospho/samplemap_proteome.tsv\"\n",
    "RESULTS_DIR_PROTEOME = \"./data/phospho/results_proteome_multicond\"\n",
    "\n"
   ]
  },
  {
   "cell_type": "markdown",
   "metadata": {},
   "source": [
    "Let's quickly check what the phospho tables look like:"
   ]
  },
  {
   "cell_type": "code",
   "execution_count": 2,
   "metadata": {},
   "outputs": [
    {
     "name": "stderr",
     "output_type": "stream",
     "text": [
      "/var/folders/wb/j08kzzbd2hd8838tn3ll0jfm0000gn/T/ipykernel_33480/3128896955.py:3: DtypeWarning: Columns (8,31,32,34,35) have mixed types. Specify dtype option on import or set low_memory=False.\n",
      "  phospho_df = pd.read_csv(PHOSPHO_FILE, sep=\"\\t\")\n"
     ]
    },
    {
     "data": {
      "text/html": [
       "<div>\n",
       "<style scoped>\n",
       "    .dataframe tbody tr th:only-of-type {\n",
       "        vertical-align: middle;\n",
       "    }\n",
       "\n",
       "    .dataframe tbody tr th {\n",
       "        vertical-align: top;\n",
       "    }\n",
       "\n",
       "    .dataframe thead th {\n",
       "        text-align: right;\n",
       "    }\n",
       "</style>\n",
       "<table border=\"1\" class=\"dataframe\">\n",
       "  <thead>\n",
       "    <tr style=\"text-align: right;\">\n",
       "      <th></th>\n",
       "      <th>PG.ProteinGroups</th>\n",
       "      <th>R.FileName</th>\n",
       "      <th>R.Label</th>\n",
       "      <th>PG.Genes</th>\n",
       "      <th>PG.Organisms</th>\n",
       "      <th>PG.UniProtIds</th>\n",
       "      <th>PG.Quantity</th>\n",
       "      <th>PEP.NrOfMissedCleavages</th>\n",
       "      <th>PEP.PeptidePosition</th>\n",
       "      <th>PEP.StrippedSequence</th>\n",
       "      <th>...</th>\n",
       "      <th>F.FrgLossType</th>\n",
       "      <th>F.Rank</th>\n",
       "      <th>F.ExcludedFromQuantification</th>\n",
       "      <th>F.PeakArea</th>\n",
       "      <th>F.PeakHeight</th>\n",
       "      <th>F.HasChannelInterference</th>\n",
       "      <th>F.InterferenceScore</th>\n",
       "      <th>F.Log10SignalToNoise</th>\n",
       "      <th>F.Noise</th>\n",
       "      <th>F.PossibleInterference</th>\n",
       "    </tr>\n",
       "  </thead>\n",
       "  <tbody>\n",
       "    <tr>\n",
       "      <th>0</th>\n",
       "      <td>Q14676</td>\n",
       "      <td>202106022_TIMS03_EVO03_PaSk_SA_HeLa_Phospho_10...</td>\n",
       "      <td>202106022_TIMS03_EVO03_PaSk_SA_HeLa_Phospho_10...</td>\n",
       "      <td>MDC1</td>\n",
       "      <td>Homo sapiens</td>\n",
       "      <td>Q14676</td>\n",
       "      <td>6121.10498</td>\n",
       "      <td>0</td>\n",
       "      <td>784</td>\n",
       "      <td>AIPGDQHPESPVHTEPMGIQGR</td>\n",
       "      <td>...</td>\n",
       "      <td>noloss</td>\n",
       "      <td>0</td>\n",
       "      <td>False</td>\n",
       "      <td>10883.600586</td>\n",
       "      <td>102643.0</td>\n",
       "      <td>False</td>\n",
       "      <td>0.000000</td>\n",
       "      <td>2.375846</td>\n",
       "      <td>NaN</td>\n",
       "      <td>False</td>\n",
       "    </tr>\n",
       "    <tr>\n",
       "      <th>1</th>\n",
       "      <td>Q14676</td>\n",
       "      <td>202106022_TIMS03_EVO03_PaSk_SA_HeLa_Phospho_10...</td>\n",
       "      <td>202106022_TIMS03_EVO03_PaSk_SA_HeLa_Phospho_10...</td>\n",
       "      <td>MDC1</td>\n",
       "      <td>Homo sapiens</td>\n",
       "      <td>Q14676</td>\n",
       "      <td>6121.10498</td>\n",
       "      <td>0</td>\n",
       "      <td>784</td>\n",
       "      <td>AIPGDQHPESPVHTEPMGIQGR</td>\n",
       "      <td>...</td>\n",
       "      <td>NH3</td>\n",
       "      <td>1</td>\n",
       "      <td>True</td>\n",
       "      <td>449.196930</td>\n",
       "      <td>3710.0</td>\n",
       "      <td>False</td>\n",
       "      <td>0.225726</td>\n",
       "      <td>1.297532</td>\n",
       "      <td>NaN</td>\n",
       "      <td>False</td>\n",
       "    </tr>\n",
       "    <tr>\n",
       "      <th>2</th>\n",
       "      <td>Q14676</td>\n",
       "      <td>202106022_TIMS03_EVO03_PaSk_SA_HeLa_Phospho_10...</td>\n",
       "      <td>202106022_TIMS03_EVO03_PaSk_SA_HeLa_Phospho_10...</td>\n",
       "      <td>MDC1</td>\n",
       "      <td>Homo sapiens</td>\n",
       "      <td>Q14676</td>\n",
       "      <td>6121.10498</td>\n",
       "      <td>0</td>\n",
       "      <td>784</td>\n",
       "      <td>AIPGDQHPESPVHTEPMGIQGR</td>\n",
       "      <td>...</td>\n",
       "      <td>noloss</td>\n",
       "      <td>2</td>\n",
       "      <td>False</td>\n",
       "      <td>1254.857544</td>\n",
       "      <td>10727.0</td>\n",
       "      <td>False</td>\n",
       "      <td>0.225726</td>\n",
       "      <td>1.854387</td>\n",
       "      <td>NaN</td>\n",
       "      <td>False</td>\n",
       "    </tr>\n",
       "    <tr>\n",
       "      <th>3</th>\n",
       "      <td>Q14676</td>\n",
       "      <td>202106022_TIMS03_EVO03_PaSk_SA_HeLa_Phospho_10...</td>\n",
       "      <td>202106022_TIMS03_EVO03_PaSk_SA_HeLa_Phospho_10...</td>\n",
       "      <td>MDC1</td>\n",
       "      <td>Homo sapiens</td>\n",
       "      <td>Q14676</td>\n",
       "      <td>6121.10498</td>\n",
       "      <td>0</td>\n",
       "      <td>784</td>\n",
       "      <td>AIPGDQHPESPVHTEPMGIQGR</td>\n",
       "      <td>...</td>\n",
       "      <td>noloss</td>\n",
       "      <td>3</td>\n",
       "      <td>False</td>\n",
       "      <td>964.486145</td>\n",
       "      <td>7393.0</td>\n",
       "      <td>False</td>\n",
       "      <td>0.140666</td>\n",
       "      <td>1.670164</td>\n",
       "      <td>NaN</td>\n",
       "      <td>False</td>\n",
       "    </tr>\n",
       "    <tr>\n",
       "      <th>4</th>\n",
       "      <td>Q14676</td>\n",
       "      <td>202106022_TIMS03_EVO03_PaSk_SA_HeLa_Phospho_10...</td>\n",
       "      <td>202106022_TIMS03_EVO03_PaSk_SA_HeLa_Phospho_10...</td>\n",
       "      <td>MDC1</td>\n",
       "      <td>Homo sapiens</td>\n",
       "      <td>Q14676</td>\n",
       "      <td>6121.10498</td>\n",
       "      <td>0</td>\n",
       "      <td>784</td>\n",
       "      <td>AIPGDQHPESPVHTEPMGIQGR</td>\n",
       "      <td>...</td>\n",
       "      <td>noloss</td>\n",
       "      <td>4</td>\n",
       "      <td>False</td>\n",
       "      <td>790.209412</td>\n",
       "      <td>7567.0</td>\n",
       "      <td>False</td>\n",
       "      <td>0.197118</td>\n",
       "      <td>1.339848</td>\n",
       "      <td>NaN</td>\n",
       "      <td>False</td>\n",
       "    </tr>\n",
       "  </tbody>\n",
       "</table>\n",
       "<p>5 rows × 70 columns</p>\n",
       "</div>"
      ],
      "text/plain": [
       "  PG.ProteinGroups                                         R.FileName  \\\n",
       "0           Q14676  202106022_TIMS03_EVO03_PaSk_SA_HeLa_Phospho_10...   \n",
       "1           Q14676  202106022_TIMS03_EVO03_PaSk_SA_HeLa_Phospho_10...   \n",
       "2           Q14676  202106022_TIMS03_EVO03_PaSk_SA_HeLa_Phospho_10...   \n",
       "3           Q14676  202106022_TIMS03_EVO03_PaSk_SA_HeLa_Phospho_10...   \n",
       "4           Q14676  202106022_TIMS03_EVO03_PaSk_SA_HeLa_Phospho_10...   \n",
       "\n",
       "                                             R.Label PG.Genes  PG.Organisms  \\\n",
       "0  202106022_TIMS03_EVO03_PaSk_SA_HeLa_Phospho_10...     MDC1  Homo sapiens   \n",
       "1  202106022_TIMS03_EVO03_PaSk_SA_HeLa_Phospho_10...     MDC1  Homo sapiens   \n",
       "2  202106022_TIMS03_EVO03_PaSk_SA_HeLa_Phospho_10...     MDC1  Homo sapiens   \n",
       "3  202106022_TIMS03_EVO03_PaSk_SA_HeLa_Phospho_10...     MDC1  Homo sapiens   \n",
       "4  202106022_TIMS03_EVO03_PaSk_SA_HeLa_Phospho_10...     MDC1  Homo sapiens   \n",
       "\n",
       "  PG.UniProtIds  PG.Quantity  PEP.NrOfMissedCleavages PEP.PeptidePosition  \\\n",
       "0        Q14676   6121.10498                        0                 784   \n",
       "1        Q14676   6121.10498                        0                 784   \n",
       "2        Q14676   6121.10498                        0                 784   \n",
       "3        Q14676   6121.10498                        0                 784   \n",
       "4        Q14676   6121.10498                        0                 784   \n",
       "\n",
       "     PEP.StrippedSequence  ... F.FrgLossType  F.Rank  \\\n",
       "0  AIPGDQHPESPVHTEPMGIQGR  ...        noloss       0   \n",
       "1  AIPGDQHPESPVHTEPMGIQGR  ...           NH3       1   \n",
       "2  AIPGDQHPESPVHTEPMGIQGR  ...        noloss       2   \n",
       "3  AIPGDQHPESPVHTEPMGIQGR  ...        noloss       3   \n",
       "4  AIPGDQHPESPVHTEPMGIQGR  ...        noloss       4   \n",
       "\n",
       "  F.ExcludedFromQuantification    F.PeakArea  F.PeakHeight  \\\n",
       "0                        False  10883.600586      102643.0   \n",
       "1                         True    449.196930        3710.0   \n",
       "2                        False   1254.857544       10727.0   \n",
       "3                        False    964.486145        7393.0   \n",
       "4                        False    790.209412        7567.0   \n",
       "\n",
       "  F.HasChannelInterference  F.InterferenceScore  F.Log10SignalToNoise  \\\n",
       "0                    False             0.000000              2.375846   \n",
       "1                    False             0.225726              1.297532   \n",
       "2                    False             0.225726              1.854387   \n",
       "3                    False             0.140666              1.670164   \n",
       "4                    False             0.197118              1.339848   \n",
       "\n",
       "   F.Noise  F.PossibleInterference  \n",
       "0      NaN                   False  \n",
       "1      NaN                   False  \n",
       "2      NaN                   False  \n",
       "3      NaN                   False  \n",
       "4      NaN                   False  \n",
       "\n",
       "[5 rows x 70 columns]"
      ]
     },
     "metadata": {},
     "output_type": "display_data"
    },
    {
     "data": {
      "text/plain": [
       "['EG.PTMPositions [Phospho (STY)]',\n",
       " 'EG.PTMProbabilities [Phospho (STY)]',\n",
       " 'EG.PTMSites [Phospho (STY)]',\n",
       " 'EG.PTMLocalizationProbabilities',\n",
       " 'EG.PTMAssayCandidateScore',\n",
       " 'EG.PTMAssayProbability',\n",
       " 'EG.PTMPositions [Oxidation (M)]',\n",
       " 'EG.PTMPositions [Carbamidomethyl (C)]',\n",
       " 'EG.PTMPositions [Acetyl (Protein N-term)]',\n",
       " 'EG.PTMProbabilities [Oxidation (M)]',\n",
       " 'EG.PTMProbabilities [Carbamidomethyl (C)]',\n",
       " 'EG.PTMProbabilities [Acetyl (Protein N-term)]',\n",
       " 'EG.PTMSites [Oxidation (M)]',\n",
       " 'EG.PTMSites [Carbamidomethyl (C)]',\n",
       " 'EG.PTMSites [Acetyl (Protein N-term)]']"
      ]
     },
     "metadata": {},
     "output_type": "display_data"
    },
    {
     "data": {
      "text/html": [
       "<div>\n",
       "<style scoped>\n",
       "    .dataframe tbody tr th:only-of-type {\n",
       "        vertical-align: middle;\n",
       "    }\n",
       "\n",
       "    .dataframe tbody tr th {\n",
       "        vertical-align: top;\n",
       "    }\n",
       "\n",
       "    .dataframe thead th {\n",
       "        text-align: right;\n",
       "    }\n",
       "</style>\n",
       "<table border=\"1\" class=\"dataframe\">\n",
       "  <thead>\n",
       "    <tr style=\"text-align: right;\">\n",
       "      <th></th>\n",
       "      <th>sample</th>\n",
       "      <th>condition</th>\n",
       "    </tr>\n",
       "  </thead>\n",
       "  <tbody>\n",
       "    <tr>\n",
       "      <th>0</th>\n",
       "      <td>202106022_TIMS03_EVO03_PaSk_SA_HeLa_Phospho_10...</td>\n",
       "      <td>egf_treated</td>\n",
       "    </tr>\n",
       "    <tr>\n",
       "      <th>1</th>\n",
       "      <td>202106022_TIMS03_EVO03_PaSk_SA_HeLa_Phospho_10...</td>\n",
       "      <td>egf_treated</td>\n",
       "    </tr>\n",
       "    <tr>\n",
       "      <th>2</th>\n",
       "      <td>202106022_TIMS03_EVO03_PaSk_SA_HeLa_Phospho_10...</td>\n",
       "      <td>egf_treated</td>\n",
       "    </tr>\n",
       "    <tr>\n",
       "      <th>3</th>\n",
       "      <td>202106022_TIMS03_EVO03_PaSk_SA_HeLa_Phospho_10...</td>\n",
       "      <td>untreated</td>\n",
       "    </tr>\n",
       "    <tr>\n",
       "      <th>4</th>\n",
       "      <td>202106022_TIMS03_EVO03_PaSk_SA_HeLa_Phospho_10...</td>\n",
       "      <td>untreated</td>\n",
       "    </tr>\n",
       "  </tbody>\n",
       "</table>\n",
       "</div>"
      ],
      "text/plain": [
       "                                              sample    condition\n",
       "0  202106022_TIMS03_EVO03_PaSk_SA_HeLa_Phospho_10...  egf_treated\n",
       "1  202106022_TIMS03_EVO03_PaSk_SA_HeLa_Phospho_10...  egf_treated\n",
       "2  202106022_TIMS03_EVO03_PaSk_SA_HeLa_Phospho_10...  egf_treated\n",
       "3  202106022_TIMS03_EVO03_PaSk_SA_HeLa_Phospho_10...    untreated\n",
       "4  202106022_TIMS03_EVO03_PaSk_SA_HeLa_Phospho_10...    untreated"
      ]
     },
     "metadata": {},
     "output_type": "display_data"
    }
   ],
   "source": [
    "import pandas as pd\n",
    "\n",
    "phospho_df = pd.read_csv(PHOSPHO_FILE, sep=\"\\t\")\n",
    "samplemap_phospho_df = pd.read_csv(SAMPLEMAP_PHOSPHO, sep=\"\\t\")\n",
    "display(phospho_df.head())\n",
    "#check the ptm columns\n",
    "display([x for x in phospho_df.columns if \"EG.PTM\" in x])\n",
    "#show the samplemap\n",
    "display(samplemap_phospho_df.head())\n",
    "\n"
   ]
  },
  {
   "cell_type": "markdown",
   "metadata": {},
   "source": [
    "importantly, here are site probability columns for different types of variable modifications including phospho"
   ]
  },
  {
   "cell_type": "markdown",
   "metadata": {},
   "source": [
    "## Running AlphaQuant on phospho"
   ]
  },
  {
   "cell_type": "markdown",
   "metadata": {},
   "source": [
    "Calling AlphaQuant on ptm data, we additionally have to specify the modification we are interested in. In our case it is `[Phospho (STY)]` as listed in the headers above"
   ]
  },
  {
   "cell_type": "code",
   "execution_count": 3,
   "metadata": {},
   "outputs": [
    {
     "name": "stdout",
     "output_type": "stream",
     "text": [
      "filtered PTM peptides from 3219 to 2845\n"
     ]
    },
    {
     "name": "stderr",
     "output_type": "stream",
     "text": [
      "/Users/constantin/workspace/alphaquant/alphaquant/ptm/ptmsite_mapping.py:108: SettingWithCopyWarning: \n",
      "A value is trying to be set on a copy of a slice from a DataFrame.\n",
      "Try using .loc[row_indexer,col_indexer] = value instead\n",
      "\n",
      "See the caveats in the documentation: https://pandas.pydata.org/pandas-docs/stable/user_guide/indexing.html#returning-a-view-versus-a-copy\n",
      "  input_df.loc[:,\"REFPROT\"] = get_idmap_column(input_df[headers_dict.get(\"proteins\")],swissprot_ids)\n",
      "/Users/constantin/workspace/alphaquant/alphaquant/ptm/ptmsite_mapping.py:109: SettingWithCopyWarning: \n",
      "A value is trying to be set on a copy of a slice from a DataFrame.\n",
      "Try using .loc[row_indexer,col_indexer] = value instead\n",
      "\n",
      "See the caveats in the documentation: https://pandas.pydata.org/pandas-docs/stable/user_guide/indexing.html#returning-a-view-versus-a-copy\n",
      "  input_df.loc[:,\"IonID\"] = input_df[label_column] + input_df[fg_id_column]\n"
     ]
    },
    {
     "name": "stdout",
     "output_type": "stream",
     "text": [
      "assigned 60 of 2845 0.0210896309314587\n",
      "assigned 639 of 2845 0.22460456942003515\n",
      "assigned 867 of 2845 0.3047451669595782\n",
      "assigned 903 of 2845 0.31739894551845343\n",
      "assigned 1221 of 2845 0.42917398945518453\n",
      "assigned 1349 of 2845 0.47416520210896307\n",
      "assigned 2417 of 2845 0.8495606326889279\n",
      "assigned 2477 of 2845 0.8706502636203867\n",
      "assigned 2566 of 2845 0.901933216168717\n",
      "assigned 2612 of 2845 0.9181019332161687\n",
      "assigned 2693 of 2845 0.9465729349736379\n",
      "assigned 2774 of 2845 0.9750439367311072\n",
      "assigned 2832 of 2845 0.9954305799648506\n",
      "adding ptm info to spectronaut file\n",
      "100000 lines read\n",
      "using input type spectronaut_ptm_fragion_isotopes\n"
     ]
    },
    {
     "name": "stderr",
     "output_type": "stream",
     "text": [
      "/Users/constantin/workspace/alphaquant/alphaquant/diffquant/diffutils.py:242: ResourceWarning: unclosed file <_io.TextIOWrapper name='./data/phospho/results_phospho_multicond/aq_parameters.yaml' mode='r' encoding='UTF-8'>\n",
      "  return load_config(params_file)\n",
      "ResourceWarning: Enable tracemalloc to get the object allocation traceback\n"
     ]
    },
    {
     "name": "stdout",
     "output_type": "stream",
     "text": [
      "start processeing condpair ('egf_treated', 'median_reference')\n",
      "normalized within conditions\n",
      "median 0.0, mode -0.03856005789704242\n",
      "using median for shift\n",
      "shift comparison by -0.0\n",
      "normalized between conditions\n",
      "t_ion2nonan_sw 0.015542030334472656\n",
      "t_intensity_selection 0.16923213005065918\n",
      "t_ion2nonan_sw 0.020816326141357422\n",
      "t_intensity_selection 0.21327519416809082\n",
      "checked 0 of 6814 ions\n",
      "checked 2000 of 6814 ions\n",
      "checked 4000 of 6814 ions\n",
      "checked 6000 of 6814 ions\n",
      "checked 0 of 150 prots\n",
      "checked 100 of 150 prots\n",
      "\n",
      "condition pair ('egf_treated', 'median_reference') finished!\n",
      "\n",
      "start processeing condpair ('untreated', 'median_reference')\n",
      "normalized within conditions\n",
      "median 0.0, mode -0.008400963794364058\n",
      "using median for shift\n",
      "shift comparison by -0.0\n",
      "normalized between conditions\n",
      "t_ion2nonan_sw 0.013382911682128906\n",
      "t_intensity_selection 0.1453239917755127\n",
      "t_ion2nonan_sw 0.019543886184692383\n",
      "t_intensity_selection 0.2127361297607422\n",
      "checked 0 of 5857 ions\n",
      "checked 2000 of 5857 ions\n",
      "checked 4000 of 5857 ions\n",
      "checked 0 of 141 prots\n",
      "checked 100 of 141 prots\n",
      "\n",
      "condition pair ('untreated', 'median_reference') finished!\n",
      "\n"
     ]
    },
    {
     "name": "stderr",
     "output_type": "stream",
     "text": [
      "/Users/constantin/opt/anaconda3/envs/test/lib/python3.8/site-packages/numpy/lib/function_base.py:2846: RuntimeWarning: Degrees of freedom <= 0 for slice\n",
      "  c = cov(x, y, rowvar, dtype=dtype)\n",
      "/Users/constantin/opt/anaconda3/envs/test/lib/python3.8/site-packages/numpy/lib/function_base.py:2705: RuntimeWarning: divide by zero encountered in divide\n",
      "  c *= np.true_divide(1, fact)\n",
      "/Users/constantin/opt/anaconda3/envs/test/lib/python3.8/site-packages/numpy/lib/function_base.py:2705: RuntimeWarning: invalid value encountered in multiply\n",
      "  c *= np.true_divide(1, fact)\n",
      "/Users/constantin/opt/anaconda3/envs/test/lib/python3.8/site-packages/numpy/lib/function_base.py:2846: RuntimeWarning: Degrees of freedom <= 0 for slice\n",
      "  c = cov(x, y, rowvar, dtype=dtype)\n",
      "/Users/constantin/opt/anaconda3/envs/test/lib/python3.8/site-packages/numpy/lib/function_base.py:2705: RuntimeWarning: divide by zero encountered in divide\n",
      "  c *= np.true_divide(1, fact)\n",
      "/Users/constantin/opt/anaconda3/envs/test/lib/python3.8/site-packages/numpy/lib/function_base.py:2705: RuntimeWarning: invalid value encountered in multiply\n",
      "  c *= np.true_divide(1, fact)\n",
      "/Users/constantin/opt/anaconda3/envs/test/lib/python3.8/site-packages/numpy/lib/function_base.py:2846: RuntimeWarning: Degrees of freedom <= 0 for slice\n",
      "  c = cov(x, y, rowvar, dtype=dtype)\n",
      "/Users/constantin/opt/anaconda3/envs/test/lib/python3.8/site-packages/numpy/lib/function_base.py:2705: RuntimeWarning: divide by zero encountered in divide\n",
      "  c *= np.true_divide(1, fact)\n",
      "/Users/constantin/opt/anaconda3/envs/test/lib/python3.8/site-packages/numpy/lib/function_base.py:2705: RuntimeWarning: invalid value encountered in multiply\n",
      "  c *= np.true_divide(1, fact)\n",
      "/Users/constantin/opt/anaconda3/envs/test/lib/python3.8/site-packages/numpy/lib/function_base.py:2846: RuntimeWarning: Degrees of freedom <= 0 for slice\n",
      "  c = cov(x, y, rowvar, dtype=dtype)\n",
      "/Users/constantin/opt/anaconda3/envs/test/lib/python3.8/site-packages/numpy/lib/function_base.py:2705: RuntimeWarning: divide by zero encountered in divide\n",
      "  c *= np.true_divide(1, fact)\n",
      "/Users/constantin/opt/anaconda3/envs/test/lib/python3.8/site-packages/numpy/lib/function_base.py:2705: RuntimeWarning: invalid value encountered in multiply\n",
      "  c *= np.true_divide(1, fact)\n",
      "/Users/constantin/opt/anaconda3/envs/test/lib/python3.8/site-packages/numpy/lib/function_base.py:2846: RuntimeWarning: Degrees of freedom <= 0 for slice\n",
      "  c = cov(x, y, rowvar, dtype=dtype)\n",
      "/Users/constantin/opt/anaconda3/envs/test/lib/python3.8/site-packages/numpy/lib/function_base.py:2705: RuntimeWarning: divide by zero encountered in divide\n",
      "  c *= np.true_divide(1, fact)\n",
      "/Users/constantin/opt/anaconda3/envs/test/lib/python3.8/site-packages/numpy/lib/function_base.py:2705: RuntimeWarning: invalid value encountered in multiply\n",
      "  c *= np.true_divide(1, fact)\n",
      "/Users/constantin/opt/anaconda3/envs/test/lib/python3.8/site-packages/numpy/lib/function_base.py:2846: RuntimeWarning: Degrees of freedom <= 0 for slice\n",
      "  c = cov(x, y, rowvar, dtype=dtype)\n",
      "/Users/constantin/opt/anaconda3/envs/test/lib/python3.8/site-packages/numpy/lib/function_base.py:2705: RuntimeWarning: divide by zero encountered in divide\n",
      "  c *= np.true_divide(1, fact)\n",
      "/Users/constantin/opt/anaconda3/envs/test/lib/python3.8/site-packages/numpy/lib/function_base.py:2705: RuntimeWarning: invalid value encountered in multiply\n",
      "  c *= np.true_divide(1, fact)\n",
      "/Users/constantin/opt/anaconda3/envs/test/lib/python3.8/site-packages/numpy/lib/function_base.py:2846: RuntimeWarning: Degrees of freedom <= 0 for slice\n",
      "  c = cov(x, y, rowvar, dtype=dtype)\n",
      "/Users/constantin/opt/anaconda3/envs/test/lib/python3.8/site-packages/numpy/lib/function_base.py:2705: RuntimeWarning: divide by zero encountered in divide\n",
      "  c *= np.true_divide(1, fact)\n",
      "/Users/constantin/opt/anaconda3/envs/test/lib/python3.8/site-packages/numpy/lib/function_base.py:2705: RuntimeWarning: invalid value encountered in multiply\n",
      "  c *= np.true_divide(1, fact)\n",
      "/Users/constantin/opt/anaconda3/envs/test/lib/python3.8/site-packages/numpy/lib/function_base.py:2846: RuntimeWarning: Degrees of freedom <= 0 for slice\n",
      "  c = cov(x, y, rowvar, dtype=dtype)\n",
      "/Users/constantin/opt/anaconda3/envs/test/lib/python3.8/site-packages/numpy/lib/function_base.py:2705: RuntimeWarning: divide by zero encountered in divide\n",
      "  c *= np.true_divide(1, fact)\n",
      "/Users/constantin/opt/anaconda3/envs/test/lib/python3.8/site-packages/numpy/lib/function_base.py:2705: RuntimeWarning: invalid value encountered in multiply\n",
      "  c *= np.true_divide(1, fact)\n",
      "/Users/constantin/opt/anaconda3/envs/test/lib/python3.8/site-packages/numpy/lib/function_base.py:2846: RuntimeWarning: Degrees of freedom <= 0 for slice\n",
      "  c = cov(x, y, rowvar, dtype=dtype)\n",
      "/Users/constantin/opt/anaconda3/envs/test/lib/python3.8/site-packages/numpy/lib/function_base.py:2705: RuntimeWarning: divide by zero encountered in divide\n",
      "  c *= np.true_divide(1, fact)\n",
      "/Users/constantin/opt/anaconda3/envs/test/lib/python3.8/site-packages/numpy/lib/function_base.py:2705: RuntimeWarning: invalid value encountered in multiply\n",
      "  c *= np.true_divide(1, fact)\n",
      "/Users/constantin/opt/anaconda3/envs/test/lib/python3.8/site-packages/numpy/lib/function_base.py:2846: RuntimeWarning: Degrees of freedom <= 0 for slice\n",
      "  c = cov(x, y, rowvar, dtype=dtype)\n",
      "/Users/constantin/opt/anaconda3/envs/test/lib/python3.8/site-packages/numpy/lib/function_base.py:2705: RuntimeWarning: divide by zero encountered in divide\n",
      "  c *= np.true_divide(1, fact)\n",
      "/Users/constantin/opt/anaconda3/envs/test/lib/python3.8/site-packages/numpy/lib/function_base.py:2705: RuntimeWarning: invalid value encountered in multiply\n",
      "  c *= np.true_divide(1, fact)\n",
      "/Users/constantin/opt/anaconda3/envs/test/lib/python3.8/site-packages/numpy/lib/function_base.py:2846: RuntimeWarning: Degrees of freedom <= 0 for slice\n",
      "  c = cov(x, y, rowvar, dtype=dtype)\n",
      "/Users/constantin/opt/anaconda3/envs/test/lib/python3.8/site-packages/numpy/lib/function_base.py:2705: RuntimeWarning: divide by zero encountered in divide\n",
      "  c *= np.true_divide(1, fact)\n",
      "/Users/constantin/opt/anaconda3/envs/test/lib/python3.8/site-packages/numpy/lib/function_base.py:2705: RuntimeWarning: invalid value encountered in multiply\n",
      "  c *= np.true_divide(1, fact)\n",
      "/Users/constantin/opt/anaconda3/envs/test/lib/python3.8/site-packages/numpy/lib/function_base.py:2846: RuntimeWarning: Degrees of freedom <= 0 for slice\n",
      "  c = cov(x, y, rowvar, dtype=dtype)\n",
      "/Users/constantin/opt/anaconda3/envs/test/lib/python3.8/site-packages/numpy/lib/function_base.py:2705: RuntimeWarning: divide by zero encountered in divide\n",
      "  c *= np.true_divide(1, fact)\n",
      "/Users/constantin/opt/anaconda3/envs/test/lib/python3.8/site-packages/numpy/lib/function_base.py:2705: RuntimeWarning: invalid value encountered in multiply\n",
      "  c *= np.true_divide(1, fact)\n"
     ]
    }
   ],
   "source": [
    "import alphaquant.run_pipeline as aq_pipeline\n",
    "import warnings\n",
    "warnings.filterwarnings('always')\n",
    "\n",
    "\n",
    "aq_pipeline.run_pipeline(input_file=PHOSPHO_FILE, samplemap_file=SAMPLEMAP_PHOSPHO, results_dir=RESULTS_DIR_PHOSPHO, \n",
    "                         perform_ptm_mapping=True,modification_type=\"[Phospho (STY)]\",organism=\"human\", multicond_median_analysis=True)"
   ]
  },
  {
   "cell_type": "code",
   "execution_count": null,
   "metadata": {},
   "outputs": [],
   "source": []
  },
  {
   "cell_type": "markdown",
   "metadata": {},
   "source": [
    "### Inspecting and visualizing phospho results"
   ]
  },
  {
   "cell_type": "markdown",
   "metadata": {},
   "source": [
    "Let's check out the results table located in the results directory:"
   ]
  },
  {
   "cell_type": "code",
   "execution_count": 4,
   "metadata": {},
   "outputs": [],
   "source": [
    "results_file_phospho = RESULTS_DIR_PHOSPHO + \"/egf_treated_VS_median_reference.results.tsv\""
   ]
  },
  {
   "cell_type": "code",
   "execution_count": 5,
   "metadata": {},
   "outputs": [
    {
     "data": {
      "text/html": [
       "<div>\n",
       "<style scoped>\n",
       "    .dataframe tbody tr th:only-of-type {\n",
       "        vertical-align: middle;\n",
       "    }\n",
       "\n",
       "    .dataframe tbody tr th {\n",
       "        vertical-align: top;\n",
       "    }\n",
       "\n",
       "    .dataframe thead th {\n",
       "        text-align: right;\n",
       "    }\n",
       "</style>\n",
       "<table border=\"1\" class=\"dataframe\">\n",
       "  <thead>\n",
       "    <tr style=\"text-align: right;\">\n",
       "      <th></th>\n",
       "      <th>condition_pair</th>\n",
       "      <th>protein</th>\n",
       "      <th>p_value</th>\n",
       "      <th>log2fc</th>\n",
       "      <th>number_of_ions</th>\n",
       "      <th>quality_score</th>\n",
       "      <th>total_intensity</th>\n",
       "      <th>num_peptides</th>\n",
       "      <th>PEP.StrippedSequence</th>\n",
       "      <th>fdr</th>\n",
       "    </tr>\n",
       "  </thead>\n",
       "  <tbody>\n",
       "    <tr>\n",
       "      <th>0</th>\n",
       "      <td>egf_treated_VS_median_reference</td>\n",
       "      <td>PLEKHF1_Q96S99_['S227']</td>\n",
       "      <td>1.185990e-02</td>\n",
       "      <td>-0.169653</td>\n",
       "      <td>35</td>\n",
       "      <td>0.073318</td>\n",
       "      <td>305015.958198</td>\n",
       "      <td>1</td>\n",
       "      <td>QEEAEEQGAGSPGQPAHLAR</td>\n",
       "      <td>6.842759e-02</td>\n",
       "    </tr>\n",
       "    <tr>\n",
       "      <th>1</th>\n",
       "      <td>egf_treated_VS_median_reference</td>\n",
       "      <td>EGFR_P00533_['S1166']</td>\n",
       "      <td>1.206698e-05</td>\n",
       "      <td>-0.295915</td>\n",
       "      <td>64</td>\n",
       "      <td>0.050037</td>\n",
       "      <td>41119.144383</td>\n",
       "      <td>1</td>\n",
       "      <td>GSHQISLDNPDYQQDFFPK</td>\n",
       "      <td>1.064734e-04</td>\n",
       "    </tr>\n",
       "    <tr>\n",
       "      <th>2</th>\n",
       "      <td>egf_treated_VS_median_reference</td>\n",
       "      <td>MDC1_Q14676_['S453', 'T455']</td>\n",
       "      <td>5.084821e-14</td>\n",
       "      <td>0.622186</td>\n",
       "      <td>33</td>\n",
       "      <td>0.054241</td>\n",
       "      <td>13555.825239</td>\n",
       "      <td>1</td>\n",
       "      <td>SQTTTERDSDTDVEEEELPVENR</td>\n",
       "      <td>1.525446e-12</td>\n",
       "    </tr>\n",
       "    <tr>\n",
       "      <th>3</th>\n",
       "      <td>egf_treated_VS_median_reference</td>\n",
       "      <td>ITPK1_Q13572_[nan]</td>\n",
       "      <td>2.559631e-01</td>\n",
       "      <td>0.085198</td>\n",
       "      <td>35</td>\n",
       "      <td>0.073318</td>\n",
       "      <td>8987.787201</td>\n",
       "      <td>2</td>\n",
       "      <td>TCSASPGCCGSMMGQDAPWK</td>\n",
       "      <td>5.428911e-01</td>\n",
       "    </tr>\n",
       "    <tr>\n",
       "      <th>4</th>\n",
       "      <td>egf_treated_VS_median_reference</td>\n",
       "      <td>MDC1_Q14676_['S1820']</td>\n",
       "      <td>2.675591e-02</td>\n",
       "      <td>-0.080233</td>\n",
       "      <td>123</td>\n",
       "      <td>0.246965</td>\n",
       "      <td>187221.428480</td>\n",
       "      <td>1</td>\n",
       "      <td>SLATMDSPPHQK</td>\n",
       "      <td>1.254183e-01</td>\n",
       "    </tr>\n",
       "  </tbody>\n",
       "</table>\n",
       "</div>"
      ],
      "text/plain": [
       "                    condition_pair                       protein  \\\n",
       "0  egf_treated_VS_median_reference       PLEKHF1_Q96S99_['S227']   \n",
       "1  egf_treated_VS_median_reference         EGFR_P00533_['S1166']   \n",
       "2  egf_treated_VS_median_reference  MDC1_Q14676_['S453', 'T455']   \n",
       "3  egf_treated_VS_median_reference            ITPK1_Q13572_[nan]   \n",
       "4  egf_treated_VS_median_reference         MDC1_Q14676_['S1820']   \n",
       "\n",
       "        p_value    log2fc  number_of_ions  quality_score  total_intensity  \\\n",
       "0  1.185990e-02 -0.169653              35       0.073318    305015.958198   \n",
       "1  1.206698e-05 -0.295915              64       0.050037     41119.144383   \n",
       "2  5.084821e-14  0.622186              33       0.054241     13555.825239   \n",
       "3  2.559631e-01  0.085198              35       0.073318      8987.787201   \n",
       "4  2.675591e-02 -0.080233             123       0.246965    187221.428480   \n",
       "\n",
       "   num_peptides     PEP.StrippedSequence           fdr  \n",
       "0             1     QEEAEEQGAGSPGQPAHLAR  6.842759e-02  \n",
       "1             1      GSHQISLDNPDYQQDFFPK  1.064734e-04  \n",
       "2             1  SQTTTERDSDTDVEEEELPVENR  1.525446e-12  \n",
       "3             2     TCSASPGCCGSMMGQDAPWK  5.428911e-01  \n",
       "4             1             SLATMDSPPHQK  1.254183e-01  "
      ]
     },
     "metadata": {},
     "output_type": "display_data"
    }
   ],
   "source": [
    "import pandas as pd\n",
    "df_phospho = pd.read_csv(results_file_phospho, sep=\"\\t\")\n",
    "display(df_phospho.head())"
   ]
  },
  {
   "cell_type": "markdown",
   "metadata": {},
   "source": [
    "#### Volcano plot"
   ]
  },
  {
   "cell_type": "code",
   "execution_count": 6,
   "metadata": {},
   "outputs": [
    {
     "data": {
      "text/plain": [
       "(<Figure size 400x400 with 1 Axes>,\n",
       " <AxesSubplot:title={'center':'5 up, 1 down of 150'}, xlabel='log2(FC)', ylabel='-log10(fdr)'>)"
      ]
     },
     "execution_count": 6,
     "metadata": {},
     "output_type": "execute_result"
    },
    {
     "data": {
      "image/png": "[encoded data removed]",
      "text/plain": [
       "<Figure size 400x400 with 1 Axes>"
      ]
     },
     "metadata": {},
     "output_type": "display_data"
    }
   ],
   "source": [
    "import alphaquant.plotting.pairwise as aq_plotting_pairwise\n",
    "\n",
    "aq_plotting_pairwise.volcano_plot(df_phospho)"
   ]
  },
  {
   "cell_type": "markdown",
   "metadata": {},
   "source": [
    "#### Normalization check"
   ]
  },
  {
   "cell_type": "code",
   "execution_count": 7,
   "metadata": {},
   "outputs": [],
   "source": [
    "normalized_df = pd.read_csv(RESULTS_DIR_PHOSPHO + \"/egf_treated_VS_median_reference.results.tsv\", sep='\\t')\n",
    "samplemap_df = pd.read_csv(SAMPLEMAP_PHOSPHO, sep='\\t')"
   ]
  },
  {
   "cell_type": "markdown",
   "metadata": {},
   "source": [
    "## Run AlphaQuant on proteome data"
   ]
  },
  {
   "cell_type": "code",
   "execution_count": 8,
   "metadata": {},
   "outputs": [
    {
     "name": "stdout",
     "output_type": "stream",
     "text": [
      "using input type spectronaut_fragion_isotopes\n"
     ]
    },
    {
     "name": "stderr",
     "output_type": "stream",
     "text": [
      "/Users/constantin/workspace/alphaquant/alphaquant/diffquant/diffutils.py:242: ResourceWarning: unclosed file <_io.TextIOWrapper name='./data/phospho/results_proteome_multicond/aq_parameters.yaml' mode='r' encoding='UTF-8'>\n",
      "  return load_config(params_file)\n",
      "ResourceWarning: Enable tracemalloc to get the object allocation traceback\n"
     ]
    },
    {
     "name": "stdout",
     "output_type": "stream",
     "text": [
      "start processeing condpair ('egf_treated', 'median_reference')\n",
      "normalized within conditions\n",
      "median 0.05573198069801144, mode -0.036092576452580294\n",
      "using mode for shift\n",
      "shift comparison by 0.036092576452580294\n",
      "normalized between conditions\n",
      "t_ion2nonan_sw 0.010425090789794922\n",
      "t_intensity_selection 0.1659231185913086\n",
      "t_ion2nonan_sw 0.011487960815429688\n",
      "t_intensity_selection 0.18193268775939941\n",
      "checked 0 of 4577 ions\n",
      "checked 2000 of 4577 ions\n",
      "checked 4000 of 4577 ions\n",
      "checked 0 of 30 prots\n",
      "\n",
      "condition pair ('egf_treated', 'median_reference') finished!\n",
      "\n",
      "start processeing condpair ('untreated', 'median_reference')\n",
      "normalized within conditions\n",
      "median -0.3160028820820244, mode -0.336441253877095\n",
      "using median for shift\n",
      "shift comparison by 0.3160028820820244\n",
      "normalized between conditions\n",
      "t_ion2nonan_sw 0.010481834411621094\n",
      "t_intensity_selection 0.16202211380004883\n",
      "t_ion2nonan_sw 0.011647939682006836\n",
      "t_intensity_selection 0.1777968406677246\n",
      "checked 0 of 4567 ions\n",
      "checked 2000 of 4567 ions\n",
      "checked 4000 of 4567 ions\n",
      "checked 0 of 30 prots\n",
      "\n",
      "condition pair ('untreated', 'median_reference') finished!\n",
      "\n"
     ]
    },
    {
     "name": "stderr",
     "output_type": "stream",
     "text": [
      "/Users/constantin/opt/anaconda3/envs/test/lib/python3.8/site-packages/numpy/lib/function_base.py:2846: RuntimeWarning: Degrees of freedom <= 0 for slice\n",
      "  c = cov(x, y, rowvar, dtype=dtype)\n",
      "/Users/constantin/opt/anaconda3/envs/test/lib/python3.8/site-packages/numpy/lib/function_base.py:2705: RuntimeWarning: divide by zero encountered in divide\n",
      "  c *= np.true_divide(1, fact)\n",
      "/Users/constantin/opt/anaconda3/envs/test/lib/python3.8/site-packages/numpy/lib/function_base.py:2705: RuntimeWarning: invalid value encountered in multiply\n",
      "  c *= np.true_divide(1, fact)\n",
      "/Users/constantin/opt/anaconda3/envs/test/lib/python3.8/site-packages/numpy/lib/function_base.py:2846: RuntimeWarning: Degrees of freedom <= 0 for slice\n",
      "  c = cov(x, y, rowvar, dtype=dtype)\n",
      "/Users/constantin/opt/anaconda3/envs/test/lib/python3.8/site-packages/numpy/lib/function_base.py:2705: RuntimeWarning: divide by zero encountered in divide\n",
      "  c *= np.true_divide(1, fact)\n",
      "/Users/constantin/opt/anaconda3/envs/test/lib/python3.8/site-packages/numpy/lib/function_base.py:2705: RuntimeWarning: invalid value encountered in multiply\n",
      "  c *= np.true_divide(1, fact)\n",
      "/Users/constantin/opt/anaconda3/envs/test/lib/python3.8/site-packages/numpy/lib/function_base.py:2846: RuntimeWarning: Degrees of freedom <= 0 for slice\n",
      "  c = cov(x, y, rowvar, dtype=dtype)\n",
      "/Users/constantin/opt/anaconda3/envs/test/lib/python3.8/site-packages/numpy/lib/function_base.py:2705: RuntimeWarning: divide by zero encountered in divide\n",
      "  c *= np.true_divide(1, fact)\n",
      "/Users/constantin/opt/anaconda3/envs/test/lib/python3.8/site-packages/numpy/lib/function_base.py:2705: RuntimeWarning: invalid value encountered in multiply\n",
      "  c *= np.true_divide(1, fact)\n",
      "/Users/constantin/opt/anaconda3/envs/test/lib/python3.8/site-packages/numpy/lib/function_base.py:2846: RuntimeWarning: Degrees of freedom <= 0 for slice\n",
      "  c = cov(x, y, rowvar, dtype=dtype)\n",
      "/Users/constantin/opt/anaconda3/envs/test/lib/python3.8/site-packages/numpy/lib/function_base.py:2705: RuntimeWarning: divide by zero encountered in divide\n",
      "  c *= np.true_divide(1, fact)\n",
      "/Users/constantin/opt/anaconda3/envs/test/lib/python3.8/site-packages/numpy/lib/function_base.py:2705: RuntimeWarning: invalid value encountered in multiply\n",
      "  c *= np.true_divide(1, fact)\n",
      "/Users/constantin/opt/anaconda3/envs/test/lib/python3.8/site-packages/numpy/lib/function_base.py:2846: RuntimeWarning: Degrees of freedom <= 0 for slice\n",
      "  c = cov(x, y, rowvar, dtype=dtype)\n",
      "/Users/constantin/opt/anaconda3/envs/test/lib/python3.8/site-packages/numpy/lib/function_base.py:2705: RuntimeWarning: divide by zero encountered in divide\n",
      "  c *= np.true_divide(1, fact)\n",
      "/Users/constantin/opt/anaconda3/envs/test/lib/python3.8/site-packages/numpy/lib/function_base.py:2705: RuntimeWarning: invalid value encountered in multiply\n",
      "  c *= np.true_divide(1, fact)\n",
      "/Users/constantin/opt/anaconda3/envs/test/lib/python3.8/site-packages/numpy/lib/function_base.py:2846: RuntimeWarning: Degrees of freedom <= 0 for slice\n",
      "  c = cov(x, y, rowvar, dtype=dtype)\n",
      "/Users/constantin/opt/anaconda3/envs/test/lib/python3.8/site-packages/numpy/lib/function_base.py:2705: RuntimeWarning: divide by zero encountered in divide\n",
      "  c *= np.true_divide(1, fact)\n",
      "/Users/constantin/opt/anaconda3/envs/test/lib/python3.8/site-packages/numpy/lib/function_base.py:2705: RuntimeWarning: invalid value encountered in multiply\n",
      "  c *= np.true_divide(1, fact)\n",
      "/Users/constantin/opt/anaconda3/envs/test/lib/python3.8/site-packages/numpy/lib/function_base.py:2846: RuntimeWarning: Degrees of freedom <= 0 for slice\n",
      "  c = cov(x, y, rowvar, dtype=dtype)\n",
      "/Users/constantin/opt/anaconda3/envs/test/lib/python3.8/site-packages/numpy/lib/function_base.py:2705: RuntimeWarning: divide by zero encountered in divide\n",
      "  c *= np.true_divide(1, fact)\n",
      "/Users/constantin/opt/anaconda3/envs/test/lib/python3.8/site-packages/numpy/lib/function_base.py:2705: RuntimeWarning: invalid value encountered in multiply\n",
      "  c *= np.true_divide(1, fact)\n",
      "/Users/constantin/opt/anaconda3/envs/test/lib/python3.8/site-packages/numpy/lib/function_base.py:2846: RuntimeWarning: Degrees of freedom <= 0 for slice\n",
      "  c = cov(x, y, rowvar, dtype=dtype)\n",
      "/Users/constantin/opt/anaconda3/envs/test/lib/python3.8/site-packages/numpy/lib/function_base.py:2705: RuntimeWarning: divide by zero encountered in divide\n",
      "  c *= np.true_divide(1, fact)\n",
      "/Users/constantin/opt/anaconda3/envs/test/lib/python3.8/site-packages/numpy/lib/function_base.py:2705: RuntimeWarning: invalid value encountered in multiply\n",
      "  c *= np.true_divide(1, fact)\n"
     ]
    }
   ],
   "source": [
    "import alphaquant.run_pipeline as aq_pipeline\n",
    "\n",
    "aq_pipeline.run_pipeline(input_file=PROTEOME_FILE, samplemap_file=SAMPLEMAP_PROTEOME, results_dir=RESULTS_DIR_PROTEOME, multicond_median_analysis=True)"
   ]
  },
  {
   "cell_type": "markdown",
   "metadata": {},
   "source": [
    "### Volcano plot"
   ]
  },
  {
   "cell_type": "code",
   "execution_count": 9,
   "metadata": {},
   "outputs": [],
   "source": [
    "results_file_proteome = RESULTS_DIR_PROTEOME + \"/egf_treated_VS_median_reference.results.tsv\""
   ]
  },
  {
   "cell_type": "code",
   "execution_count": 10,
   "metadata": {},
   "outputs": [
    {
     "data": {
      "text/plain": [
       "(<Figure size 400x400 with 1 Axes>,\n",
       " <AxesSubplot:title={'center':'0 up, 0 down of 30'}, xlabel='log2(FC)', ylabel='-log10(fdr)'>)"
      ]
     },
     "execution_count": 10,
     "metadata": {},
     "output_type": "execute_result"
    },
    {
     "data": {
      "image/png": "[encoded data removed]",
      "text/plain": [
       "<Figure size 400x400 with 1 Axes>"
      ]
     },
     "metadata": {},
     "output_type": "display_data"
    }
   ],
   "source": [
    "import alphaquant.plotting.pairwise as aq_plotting_pairwise\n",
    "\n",
    "df_proteome = pd.read_csv(results_file_proteome, sep=\"\\t\")\n",
    "aq_plotting_pairwise.volcano_plot(df_proteome)"
   ]
  },
  {
   "cell_type": "markdown",
   "metadata": {},
   "source": [
    "There is very little regulation on the protein level."
   ]
  },
  {
   "cell_type": "markdown",
   "metadata": {},
   "source": [
    "## Combining phospho and proteome data by proteome-normalization"
   ]
  },
  {
   "cell_type": "markdown",
   "metadata": {},
   "source": [
    "The following command writes out the proteome normed files into a new results directory with the ending \"_protnormed\""
   ]
  },
  {
   "cell_type": "code",
   "execution_count": 11,
   "metadata": {},
   "outputs": [
    {
     "name": "stdout",
     "output_type": "stream",
     "text": [
      "wrote proteome normalized tables to: ./data/phospho/results_phospho_multicond_protnormed\n"
     ]
    },
    {
     "data": {
      "text/plain": [
       "<alphaquant.ptm.protein_ptm_normalization.PTMResultsNormalizer at 0x7f81feb28d30>"
      ]
     },
     "execution_count": 11,
     "metadata": {},
     "output_type": "execute_result"
    }
   ],
   "source": [
    "import alphaquant.ptm.protein_ptm_normalization as aq_ptm_normalization\n",
    "\n",
    "aq_ptm_normalization.PTMResultsNormalizer(results_dir_ptm=RESULTS_DIR_PHOSPHO, \n",
    "                                          results_dir_proteome=RESULTS_DIR_PROTEOME, organism=\"human\")"
   ]
  },
  {
   "cell_type": "markdown",
   "metadata": {},
   "source": [
    "### Volcano plot"
   ]
  },
  {
   "cell_type": "code",
   "execution_count": 12,
   "metadata": {},
   "outputs": [],
   "source": [
    "results_file_protnormed = f\"{RESULTS_DIR_PHOSPHO}_protnormed/egf_treated_VS_median_reference.results.tsv\""
   ]
  },
  {
   "cell_type": "code",
   "execution_count": 13,
   "metadata": {},
   "outputs": [
    {
     "data": {
      "text/plain": [
       "(<Figure size 400x400 with 1 Axes>,\n",
       " <AxesSubplot:title={'center':'4 up, 2 down of 143'}, xlabel='log2(FC)', ylabel='-log10(fdr)'>)"
      ]
     },
     "execution_count": 13,
     "metadata": {},
     "output_type": "execute_result"
    },
    {
     "data": {
      "image/png": "[encoded data removed]",
      "text/plain": [
       "<Figure size 400x400 with 1 Axes>"
      ]
     },
     "metadata": {},
     "output_type": "display_data"
    }
   ],
   "source": [
    "import alphaquant.plotting.pairwise as aq_plotting_pairwise\n",
    "\n",
    "df_protnormed = pd.read_csv(results_file_protnormed, sep=\"\\t\")\n",
    "aq_plotting_pairwise.volcano_plot(df_protnormed)"
   ]
  },
  {
   "cell_type": "markdown",
   "metadata": {},
   "source": [
    "As expected, there is little qualitative change to this plot, because the protein regulation is low. Let's investigate this a bit futher:"
   ]
  },
  {
   "cell_type": "code",
   "execution_count": 14,
   "metadata": {},
   "outputs": [
    {
     "data": {
      "text/plain": [
       "Text(0, 0.5, 'log2fc_proteome')"
      ]
     },
     "execution_count": 14,
     "metadata": {},
     "output_type": "execute_result"
    },
    {
     "data": {
      "image/png": "[encoded data removed]",
      "text/plain": [
       "<Figure size 640x480 with 1 Axes>"
      ]
     },
     "metadata": {},
     "output_type": "display_data"
    }
   ],
   "source": [
    "import matplotlib.pyplot as plt\n",
    "merged_df = df_phospho.merge(df_protnormed, on=\"protein\", how=\"inner\", suffixes=(\"_phospho\", \"_proteome\"))\n",
    "plt.scatter(merged_df[\"log2fc_phospho\"], merged_df[\"log2fc_proteome\"])\n",
    "plt.xlabel(\"log2fc_phospho\")\n",
    "plt.ylabel(\"log2fc_proteome\")"
   ]
  },
  {
   "cell_type": "markdown",
   "metadata": {},
   "source": [
    "Indeed we see few changes per phospo site, but some difference due to some protein fold changes, as expected."
   ]
  }
 ],
 "metadata": {
  "kernelspec": {
   "display_name": "alphaquant",
   "language": "python",
   "name": "python3"
  },
  "language_info": {
   "codemirror_mode": {
    "name": "ipython",
    "version": 3
   },
   "file_extension": ".py",
   "mimetype": "text/x-python",
   "name": "python",
   "nbconvert_exporter": "python",
   "pygments_lexer": "ipython3",
   "version": "3.8.18"
  }
 },
 "nbformat": 4,
 "nbformat_minor": 2
}
