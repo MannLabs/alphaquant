{
 "cells": [
  {
   "cell_type": "code",
   "execution_count": null,
   "metadata": {},
   "outputs": [],
   "source": [
    "# default_exp classify_ions"
   ]
  },
  {
   "cell_type": "code",
   "execution_count": null,
   "metadata": {},
   "outputs": [],
   "source": [
    "#export\n",
    "import numpy as np\n",
    "import pandas as pd\n",
    "def collect_node_parameters(all_nodes, w_annot = True):\n",
    "    ion2param2val = {}\n",
    "    all_headers = set()\n",
    "    for node in all_nodes:\n",
    "\n",
    "        param2val = { \"frac_mainclust\" : node.frac_mainclust, \"num_mainclusts\" : node.num_mainclusts,\n",
    "        \"variance_fcs\" : calc_variance_for_node(node), \"num_children\" : len(node.children), \"fraction_consistent\": node.fraction_consistent, \"num_leaves\" : len(node.leaves)}\n",
    "        if w_annot:\n",
    "            param2val.update({\"positive_example\" : node.positive_example, \"ion\" : node.name})\n",
    "        if node.type == 'mod_seq_charge':\n",
    "            if len(node.children) ==2:\n",
    "                fcfc_diff = abs(node.children[0].fc - node.children[1].fc)\n",
    "                param2val.update({\"ms1_ms2_fcfc_diff\" : fcfc_diff})\n",
    "\n",
    "            for child in node.children:\n",
    "                name_frac_mainclust = f\"child_type_{child.type}_frac_mainclust\"\n",
    "                name_num_mainclusts = f\"child_type_{child.type}_num_mainclusts\"\n",
    "                name_variance = f\"child_type_{child.type}_variance_fcs\"\n",
    "                param2val.update({name_frac_mainclust: child.frac_mainclust, name_num_mainclusts : child.num_mainclusts, name_variance : calc_variance_for_node(child)})\n",
    "        all_headers.update(param2val.keys())\n",
    "        ion2param2val[node.name] = param2val\n",
    "\n",
    "    return get_dataframe(ion2param2val, all_headers)\n",
    "\n",
    "def get_dataframe(ion2param2val, all_headers):\n",
    "    all_headers = list(all_headers)\n",
    "    rows = [[ion2param2val.get(ion).get(header, np.nan) for header in all_headers] for ion in ion2param2val.keys()]\n",
    "    df = pd.DataFrame(rows, columns = all_headers)\n",
    "    return df\n",
    "\n",
    "\n",
    "def calc_variance_for_node(node):\n",
    "    fcs_children = [x.fc for x in node.children]\n",
    "    #print(f\"fcs children are {fcs_children}, variance is {np.var(fcs_children)}\")\n",
    "\n",
    "    return np.var(fcs_children)"
   ]
  },
  {
   "cell_type": "code",
   "execution_count": null,
   "metadata": {},
   "outputs": [],
   "source": [
    "#export\n",
    "import anytree\n",
    "\n",
    "def get_positive_negative_samples(condpairtree,type):\n",
    "    all_nodes = []\n",
    "    for protein_node in condpairtree.children:\n",
    "        if protein_node.num_mainclusts <3:\n",
    "            continue\n",
    "        if protein_node.fraction_consistent < 0.7:\n",
    "            continue\n",
    "        type_nodes = anytree.search.findall(protein_node, filter_=lambda node: node.type == type)\n",
    "        for type_node in type_nodes:\n",
    "            fcdiff = abs(type_node.fc - protein_node.fc)\n",
    "\n",
    "            if fcdiff<0.3:\n",
    "                type_node.positive_example = True\n",
    "                all_nodes.append(type_node)\n",
    "                continue\n",
    "            if fcdiff>2:\n",
    "                type_node.positive_example = False\n",
    "                all_nodes.append(type_node)\n",
    "    return all_nodes"
   ]
  }
 ],
 "metadata": {
  "language_info": {
   "name": "python"
  }
 },
 "nbformat": 4,
 "nbformat_minor": 2
}
