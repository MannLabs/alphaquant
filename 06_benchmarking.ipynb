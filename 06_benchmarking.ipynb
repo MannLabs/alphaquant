{
 "cells": [
  {
   "cell_type": "code",
   "execution_count": null,
   "metadata": {},
   "outputs": [],
   "source": [
    "# default_exp benchmarking"
   ]
  },
  {
   "cell_type": "code",
   "execution_count": null,
   "metadata": {},
   "outputs": [],
   "source": [
    "#export\n",
    "from ms_empire.visualizations import *\n",
    "from ms_empire.diff_analysis_manager import *"
   ]
  },
  {
   "cell_type": "code",
   "execution_count": null,
   "metadata": {},
   "outputs": [],
   "source": [
    "#export\n",
    "import pandas as pd\n",
    "def get_tps_fps(result_df, prot2org_file, thresh = 0.05, fc_thresh = 0.3):\n",
    "    annotated = annotate_dataframe(result_df, prot2org_file)\n",
    "    condpairs = result_df[\"condpair\"].drop_duplicates()\n",
    "\n",
    "\n",
    "    for condpair in condpairs:\n",
    "        annotated_condpair = annotated[annotated[\"condpair\"]==condpair]\n",
    "        num_tps = sum(annotated_condpair[\"TP\"])\n",
    "        num_fps = sum(annotated_condpair[\"FP\"])\n",
    "        annotated_fcfilt = annotated_condpair[annotated[\"fc\"] >fc_thresh]\n",
    "        num_regulated_prots = sum(annotated_fcfilt[\"fdr\"]<thresh)\n",
    "        num_true_positives = sum(annotated_fcfilt[\"TP\"] &(annotated_fcfilt[\"fdr\"]<0.05))\n",
    "        num_false_positives = sum(annotated_fcfilt[\"FP\"] &(annotated_fcfilt[\"fdr\"]<0.05))\n",
    "\n",
    "        print(f'condpair {condpair}')\n",
    "        print(f\"total TPs {num_tps}\")\n",
    "        print(f\"total FPs {num_fps}\")\n",
    "        print(f'regulated {num_regulated_prots}')\n",
    "        print(f'false positives {num_false_positives}')\n",
    "        print(f'true positives {num_true_positives}')\n",
    "        print(f'regulated control {num_false_positives+num_true_positives}')\n",
    "        print(f'precision {num_false_positives/num_regulated_prots}')\n",
    "        print(f'precision {num_false_positives/num_regulated_prots}')\n",
    "\n",
    "\n",
    "def annotate_dataframe(result_df, prot2org_file):\n",
    "    prot2org = pd.read_csv(prot2org_file, sep = \"\\t\")\n",
    "    prot2org[\"FP\"] = (prot2org[\"organism\"] == \"Homo sapiens\")\n",
    "    prot2org[\"TP\"] = (prot2org[\"organism\"] == \"Saccharomyces cerevisiae\")\n",
    "    prot2org = prot2org[(prot2org[\"FP\"] | prot2org[\"TP\"])]\n",
    "    print(f\"df size before {len(result_df.index)}\")\n",
    "    annotated = pd.merge(result_df, prot2org, how='inner', on = \"protein\")\n",
    "    print(f\"df size after {len(annotated.index)}\")\n",
    "    return annotated"
   ]
  },
  {
   "cell_type": "code",
   "execution_count": null,
   "metadata": {},
   "outputs": [],
   "source": [
    "#export\n",
    "import pandas as pd\n",
    "import matplotlib.pyplot as plt\n",
    "def compare_to_reference(result_df, reference_file, condpair):#put in condpair as tuple\n",
    "    result_df = result_df[result_df[\"condpair\"]==condpair]\n",
    "\n",
    "    ref_df = pd.read_csv(reference_file, sep = \"\\t\")\n",
    "    merged = pd.merge(result_df, ref_df, how='inner', on = \"protein\",suffixes = [\"\", \"_ref\"])\n",
    "    ax_p = merged.plot.scatter(x='pval_ref',y='pval')\n",
    "    plt.show()\n",
    "    ax_fc = merged.plot.scatter(x='log2FC_ref',y='fc')\n",
    "    plt.show()\n",
    "    ax_fdr = merged.plot.scatter(x='fdr_ref',y='fdr')\n",
    "    plt.show()"
   ]
  },
  {
   "cell_type": "code",
   "execution_count": null,
   "metadata": {},
   "outputs": [],
   "source": [
    "#export\n",
    "import pandas as pd\n",
    "import matplotlib.pyplot as plt\n",
    "def compare_normalization(ref_normalization_file, norm1_df, norm2_df):\n",
    "    ref_normed = pd.read_csv(ref_normalization_file, sep =\"\\t\").set_index('peptide')\n",
    "\n",
    "    merged = pd.merge(norm1_df, norm2_df, how='inner',  left_index = True, right_index = True)\n",
    "    columns = merged.columns\n",
    "    merged = pd.merge(ref_normed, merged, how='inner', left_index = True, right_index = True, suffixes = [\"_ref\", \"\"])\n",
    "    \n",
    "    for i in range(len(columns)):\n",
    "        sample1 = columns[i]\n",
    "        sample2 = sample1+\"_ref\"\n",
    "        ax_p = merged.plot.scatter(x=sample1,y=sample2)\n",
    "        plt.show()"
   ]
  },
  {
   "cell_type": "code",
   "execution_count": null,
   "metadata": {},
   "outputs": [],
   "source": [
    "#export\n",
    "import pandas as pd\n",
    "import numpy as np\n",
    "\n",
    "def compare_to_reference(peptide_detail_file, result_df, peptide_df, protref_file, outdir):\n",
    "    protein_ref = pd.read_csv(peptide_detail_file, sep=\"\\t\", usecols=[\"protein\", \"protein_pval\", \"protein_fc\"]).drop_duplicates().rename(columns = {\"protein_pval\" : \"pval_ref\", \"protein_fc\": \"fc_ref\"})\n",
    "    peptide_ref = pd.read_csv(peptide_detail_file, sep='\\t', usecols = [\"peptide\", \"protein\", \"peptide_pval\",\"peptide_fc\"]).rename(columns = {\"peptide_pval\" :\"peptide_pval_ref\", \"peptide_fc\" : \"peptide_fc_ref\"})\n",
    "    compare_peptid_protein_overlaps(protein_ref, result_df, peptide_ref, peptide_df)\n",
    "    compare_significant_proteins(result_df, protref_file)\n",
    "\n",
    "    print_nonref_hits(protein_ref, result_df, peptide_ref, peptide_df, outdir)\n",
    "    prots_merged = pd.merge(protein_ref, result_df, on = \"protein\", how='inner')\n",
    "    peps_per_prot_ref = pd.DataFrame(peptide_ref.groupby(by=[\"protein\"])['peptide'].count()).rename(columns = {\"peptide\":\"num_peptides_ref\"}).reset_index()\n",
    "    prots_merged = pd.merge(prots_merged, peps_per_prot_ref, on = \"protein\", how='inner')\n",
    "\n",
    "    peptides_merged = pd.merge(peptide_ref, peptide_df, on = \"peptide\", how='inner')\n",
    "\n",
    "    peptides_merged[\"peptide_pval_diff\"] = ( peptides_merged[\"peptide_pval\"]/peptides_merged[\"peptide_pval_ref\"]).abs()\n",
    "    peptides_merged = peptides_merged.sort_values(by=['peptide_pval_diff'], ascending = False)\n",
    "    display(peptides_merged.head(10))\n",
    "    peptides_merged.to_csv(f\"{outdir}/merged_peptides.tsv\", sep = \"\\t\", index = False)\n",
    "    scatter_df_columns(prots_merged)\n",
    "    scatter_df_columns(peptides_merged)\n",
    "\n",
    "    prots_merged[\"pvaldiff\"] = (np.log2(prots_merged[\"pval\"]) - np.log2(prots_merged[\"pval_ref\"])).abs()\n",
    "    prots_merged = prots_merged.sort_values(by=['pvaldiff'], ascending = False)\n",
    "    peptides_merged.to_csv(f\"{outdir}/merged_proteins.tsv\", sep = \"\\t\", index = False)\n",
    "    display(prots_merged.head(10))\n",
    "    display(peptides_merged)\n",
    "\n",
    "\n",
    "    prots_merged[\"numpep_diff\"] = (prots_merged[\"num_peptides\"] - prots_merged[\"num_peptides_ref\"]).abs()\n",
    "    prots_merged = prots_merged.sort_values(by=['numpep_diff'], ascending = False)\n",
    "    display(prots_merged.head(10))"
   ]
  },
  {
   "cell_type": "code",
   "execution_count": null,
   "metadata": {},
   "outputs": [],
   "source": [
    "#export\n",
    "from matplotlib_venn import venn2\n",
    "from matplotlib import pyplot as plt\n",
    "\n",
    "def compare_significant_proteins(result_df, protref_file):\n",
    "    protein_ref = pd.read_csv(protref_file, sep=\"\\t\")\n",
    "    sigprots_ref = protein_ref[protein_ref[\"fdr\"]<0.05]\n",
    "    sigprots = result_df[result_df[\"fdr\"]<0.05]\n",
    "    prots_ref = set(sigprots_ref[\"protein\"].to_list())\n",
    "    prots = set(sigprots[\"protein\"].to_list())\n",
    "    print(f\"in ref only {prots_ref - prots}\")\n",
    "    print(f\"in AP only {prots-prots_ref}\")\n",
    "    venn2([prots_ref, prots], ('sigprots_ref', 'sigprots'))\n",
    "    plt.show()"
   ]
  },
  {
   "cell_type": "code",
   "execution_count": null,
   "metadata": {},
   "outputs": [],
   "source": [
    "#export\n",
    "def print_nonref_hits(protein_ref, protein_df, peptide_ref, peptide_df, outdir):\n",
    "    prots_nonref_df =  protein_df[~(protein_df[\"protein\"].isin(protein_ref[\"protein\"].to_list()))]#the tilde inverts the boolean vector\n",
    "    peps_nonref_df = peptide_df[~(peptide_df[\"peptide\"].isin(peptide_ref[\"peptide\"].to_list()))]\n",
    "    prots_nonref_df.to_csv(f\"{outdir}/nonref_proteins.tsv\", sep = \"\\t\", index = False)\n",
    "    peps_nonref_df.to_csv(f\"{outdir}/nonref_peptides.tsv\", sep = \"\\t\", index = False)\n",
    "    #display(peps_nonref_df)"
   ]
  },
  {
   "cell_type": "code",
   "execution_count": null,
   "metadata": {},
   "outputs": [],
   "source": [
    "#hide\n",
    "import pandas as pd\n",
    "import numpy as np\n",
    "\n",
    "def benchmark_proteomics(peptides_tsv, samplemap_tsv, prot2org):\n",
    "    #unnormed_df, sample2cond_df = read_tables(peptides_tsv, samplemap_tsv)\n",
    "    protein_df, peptide_df = run_pipeline(peptides_tsv, samplemap_tsv, outdir = None,pepheader = None, protheader = None, minrep = 2, outlier_correction = True, median_offset = True, pre_normed_intensity_file = \"./test_data/normed_intensities.tsv\")\n",
    "    #protein_df, peptide_df = run_pipeline(peptides_tsv, samplemap_tsv, pepheader = None, protheader = None, minrep = 2, outlier_correction = True, median_offset = True, pre_normed_intensity_file = \"./test_data/normed_intensities.tsv\")\n",
    "    #protein_df, peptide_df = run_pipeline(unnormed_df, sample2cond_df, 2)\n",
    "    #print(protein_df)\n",
    "    #plot_pvals(protein_df)\n",
    "    get_tps_fps(protein_df, prot2org)\n",
    "    return protein_df, peptide_df"
   ]
  },
  {
   "cell_type": "code",
   "execution_count": null,
   "metadata": {},
   "outputs": [
    {
     "ename": "NameError",
     "evalue": "name 'get_tps_fps' is not defined",
     "output_type": "error",
     "traceback": [
      "\u001b[0;31m---------------------------------------------------------------------------\u001b[0m",
      "\u001b[0;31mNameError\u001b[0m                                 Traceback (most recent call last)",
      "\u001b[0;32m<ipython-input-1-da189d4e2765>\u001b[0m in \u001b[0;36m<module>\u001b[0;34m\u001b[0m\n\u001b[1;32m      2\u001b[0m \u001b[0mprotein_df\u001b[0m \u001b[0;34m=\u001b[0m \u001b[0mpd\u001b[0m\u001b[0;34m.\u001b[0m\u001b[0mread_csv\u001b[0m\u001b[0;34m(\u001b[0m\u001b[0;34m\"./test_data/AP_protein_out.tsv\"\u001b[0m\u001b[0;34m,\u001b[0m \u001b[0msep\u001b[0m \u001b[0;34m=\u001b[0m \u001b[0;34m\"\\t\"\u001b[0m\u001b[0;34m)\u001b[0m\u001b[0;34m\u001b[0m\u001b[0;34m\u001b[0m\u001b[0m\n\u001b[1;32m      3\u001b[0m \u001b[0mpeptide_df\u001b[0m \u001b[0;34m=\u001b[0m \u001b[0mpd\u001b[0m\u001b[0;34m.\u001b[0m\u001b[0mread_csv\u001b[0m\u001b[0;34m(\u001b[0m\u001b[0;34m\"./test_data/AP_peptide_out.tsv\"\u001b[0m\u001b[0;34m,\u001b[0m \u001b[0msep\u001b[0m \u001b[0;34m=\u001b[0m \u001b[0;34m\"\\t\"\u001b[0m\u001b[0;34m)\u001b[0m\u001b[0;34m\u001b[0m\u001b[0;34m\u001b[0m\u001b[0m\n\u001b[0;32m----> 4\u001b[0;31m \u001b[0mget_tps_fps\u001b[0m\u001b[0;34m(\u001b[0m\u001b[0mprotein_df\u001b[0m\u001b[0;34m,\u001b[0m \u001b[0;34m\"./test_data/prot2organism.tsv\"\u001b[0m\u001b[0;34m,\u001b[0m \u001b[0;36m0.05\u001b[0m\u001b[0;34m,\u001b[0m \u001b[0;36m0.3\u001b[0m\u001b[0;34m)\u001b[0m\u001b[0;34m\u001b[0m\u001b[0;34m\u001b[0m\u001b[0m\n\u001b[0m\u001b[1;32m      5\u001b[0m \u001b[0mcompare_to_reference\u001b[0m\u001b[0;34m(\u001b[0m\u001b[0;34m\"./test_data/detail_pepinfos.tsv\"\u001b[0m\u001b[0;34m,\u001b[0m \u001b[0mprotein_df\u001b[0m\u001b[0;34m,\u001b[0m \u001b[0mpeptide_df\u001b[0m\u001b[0;34m,\u001b[0m \u001b[0;34m\"./test_data/reference_c1_vs_c2.tsv\"\u001b[0m\u001b[0;34m,\u001b[0m\u001b[0;34m\"./test_data/outdir/\"\u001b[0m\u001b[0;34m)\u001b[0m\u001b[0;34m\u001b[0m\u001b[0;34m\u001b[0m\u001b[0m\n",
      "\u001b[0;31mNameError\u001b[0m: name 'get_tps_fps' is not defined"
     ]
    }
   ],
   "source": [
    "#hide\n",
    "import pandas as pd\n",
    "protein_df = pd.read_csv(\"./test_data/AP_protein_out.tsv\", sep = \"\\t\")\n",
    "peptide_df = pd.read_csv(\"./test_data/AP_peptide_out.tsv\", sep = \"\\t\")\n",
    "get_tps_fps(protein_df, \"./test_data/prot2organism.tsv\", 0.05, 0.3)\n",
    "compare_to_reference(\"./test_data/detail_pepinfos.tsv\", protein_df, peptide_df, \"./test_data/reference_c1_vs_c2.tsv\",\"./test_data/outdir/\")"
   ]
  },
  {
   "cell_type": "code",
   "execution_count": null,
   "metadata": {},
   "outputs": [],
   "source": [
    "#hide\n",
    "compare_to_reference(result_df, \"./test_data/reference_c1_vs_c2.tsv\", \"c1_VS_c2\")\n",
    "assigned_df = annotate_dataframe(result_df, \"./test_data/prot2organism.tsv\")\n",
    "\n",
    "\n",
    "ref_df = pd.read_csv(\"./test_data/reference_c1_vs_c2.tsv\", sep = \"\\t\")\n",
    "merged = pd.merge(result_df, ref_df, how='inner', on = \"protein\", suffixes=[\"\", \"_ref\"])\n",
    "display(merged)\n",
    "merged[\"pval_diff\"] = np.absolute(merged[\"pval\"].to_numpy() - merged[\"pval_ref\"])\n",
    "merged[\"fc_diff\"] = np.absolute(merged[\"fc\"] - merged[\"log2FC_ref\"])\n",
    "merged = merged.sort_values(by=[\"pval_diff\",'fc_diff'], ascending = False)\n",
    "display(merged)"
   ]
  },
  {
   "cell_type": "code",
   "execution_count": null,
   "metadata": {},
   "outputs": [],
   "source": [
    "import pandas as pd\n",
    "import numpy as np\n",
    "import uuid\n",
    "import random\n",
    "\n",
    "def test_run_pipeline():\n",
    "\n",
    "    sample2cond_df = pd.DataFrame({'sample' : ['A1', 'A2', 'A3', 'B1', 'B2', 'B3','B4', 'B5', 'B6', 'B7', 'B8', 'B9','B10', 'B11', 'B12'],\n",
    "    'condition' : ['A', 'A', 'A', 'B', 'B', 'B','B', 'B', 'B','B', 'B', 'B','B', 'B', 'B']})\n",
    "    unnormed_df = generate_random_input(10000, sample2cond_df)\n",
    "    res_df, pep_df = run_pipeline(unnormed_df, sample2cond_df, 2, False)\n",
    "    plot_pvals(pep_df)\n",
    "\n",
    "def generate_random_input(num_pep,sample2cond_df ):\n",
    "    pepnames = list(map(lambda _idx : str(uuid.uuid4()), range(num_pep))) #gives uuid strings for each peptide\n",
    "    protnames = generate_protein_list(pepnames)\n",
    "    randarrays1 = 10+ 1.5*np.random.randn(num_pep,3)\n",
    "    randarrays2 = 10+ 3.5*np.random.randn(num_pep,12)\n",
    "    randarrays = np.concatenate((randarrays1, randarrays2), axis = 1)\n",
    "    df_intens = pd.DataFrame(randarrays, columns= sample2cond_df[\"sample\"].tolist())\n",
    "    df_intens.insert(1,\"protein\", protnames)\n",
    "    df_intens.insert(0, \"ion\", pepnames )\n",
    "    df_intens = df_intens.set_index(\"ion\")\n",
    "    return df_intens\n",
    "\n",
    "def generate_protein_list(pepnames):\n",
    "    res = []\n",
    "    assigned = 0\n",
    "    protcount = 0\n",
    "    while assigned < len(pepnames):\n",
    "        protstring = f\"P{protcount}\"\n",
    "        num_peps = random.randint(2,10)\n",
    "        for i in range(num_peps):\n",
    "            res.append(protstring)\n",
    "        assigned+=num_peps\n",
    "        protcount+=1\n",
    "    res = res[:len(pepnames)]\n",
    "    return res\n",
    "\n",
    "test_run_pipeline()"
   ]
  }
 ],
 "metadata": {
  "kernelspec": {
   "display_name": "Python 3.8.5 64-bit ('base': conda)",
   "name": "python385jvsc74a57bd0dca0ade3e726a953b501b15e8e990130d2b7799f14cfd9f4271676035ebe5511"
  }
 },
 "nbformat": 4,
 "nbformat_minor": 2
}
