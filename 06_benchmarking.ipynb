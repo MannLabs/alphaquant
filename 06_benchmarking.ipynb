{
 "cells": [
  {
   "cell_type": "code",
   "execution_count": null,
   "metadata": {},
   "outputs": [],
   "source": [
    "# default_exp benchmarking"
   ]
  },
  {
   "cell_type": "code",
   "execution_count": null,
   "metadata": {},
   "outputs": [],
   "source": [
    "#export\n",
    "from ms_empire.visualizations import *"
   ]
  },
  {
   "cell_type": "code",
   "execution_count": null,
   "metadata": {},
   "outputs": [],
   "source": [
    "#export\n",
    "import pandas as pd\n",
    "def get_tps_fps(result_df, prot2org_file, thresh = 0.05, fc_thresh = 0.3):\n",
    "    annotated = annotate_dataframe(result_df, prot2org_file)\n",
    "    display(annotated)\n",
    "    condpairs = result_df[\"condpair\"].drop_duplicates()\n",
    "    \n",
    "\n",
    "    for condpair in condpairs:\n",
    "        annotated_condpair = annotated[annotated[\"condpair\"]==condpair]\n",
    "        num_tps = sum(annotated_condpair[\"TP\"])\n",
    "        num_fps = sum(annotated_condpair[\"FP\"])\n",
    "        annotated_fcfilt = annotated_condpair[annotated[\"fc\"] >fc_thresh]\n",
    "        num_regulated_prots = sum(annotated_fcfilt[\"fdr\"]<thresh)\n",
    "        num_true_positives = sum(annotated_fcfilt[\"TP\"] &(annotated_fcfilt[\"fdr\"]<0.05))\n",
    "        num_false_positives = sum(annotated_fcfilt[\"FP\"] &(annotated_fcfilt[\"fdr\"]<0.05))\n",
    "\n",
    "        print(f'condpair {condpair}')\n",
    "        print(f\"total TPs {num_tps}\")\n",
    "        print(f\"total FPs {num_fps}\")\n",
    "        print(f'regulated {num_regulated_prots}')\n",
    "        print(f'false positives {num_false_positives}')\n",
    "        print(f'true positives {num_true_positives}')\n",
    "        print(f'regulated control {num_false_positives+num_true_positives}')\n",
    "        print(f'precision {num_false_positives/num_regulated_prots}')\n",
    "        print(f'precision {num_false_positives/num_regulated_prots}')\n",
    "\n",
    "\n",
    "def annotate_dataframe(result_df, prot2org_file):\n",
    "    prot2org = pd.read_csv(prot2org_file, sep = \"\\t\")\n",
    "    prot2org[\"FP\"] = (prot2org[\"organism\"] == \"Homo sapiens\")\n",
    "    prot2org[\"TP\"] = (prot2org[\"organism\"] == \"Saccharomyces cerevisiae\")\n",
    "    prot2org = prot2org[(prot2org[\"FP\"] | prot2org[\"TP\"])]\n",
    "    print(f\"df size before {len(result_df.index)}\")\n",
    "    annotated = pd.merge(result_df, prot2org, how='inner', on = \"protein\")\n",
    "    print(f\"df size after {len(annotated.index)}\")\n",
    "    return annotated"
   ]
  },
  {
   "cell_type": "code",
   "execution_count": null,
   "metadata": {},
   "outputs": [
    {
     "ename": "ModuleNotFoundError",
     "evalue": "No module named 'matplotlib.pyplot'",
     "output_type": "error",
     "traceback": [
      "\u001b[0;31m---------------------------------------------------------------------------\u001b[0m",
      "\u001b[0;31mModuleNotFoundError\u001b[0m                       Traceback (most recent call last)",
      "\u001b[0;32m<ipython-input-5-b4e223930130>\u001b[0m in \u001b[0;36m<module>\u001b[0;34m\u001b[0m\n\u001b[1;32m      1\u001b[0m \u001b[0;31m#export\u001b[0m\u001b[0;34m\u001b[0m\u001b[0;34m\u001b[0m\u001b[0;34m\u001b[0m\u001b[0m\n\u001b[1;32m      2\u001b[0m \u001b[0;32mimport\u001b[0m \u001b[0mpandas\u001b[0m \u001b[0;32mas\u001b[0m \u001b[0mpd\u001b[0m\u001b[0;34m\u001b[0m\u001b[0;34m\u001b[0m\u001b[0m\n\u001b[0;32m----> 3\u001b[0;31m \u001b[0;32mimport\u001b[0m \u001b[0mmatplotlib\u001b[0m\u001b[0;34m.\u001b[0m\u001b[0mpyplot\u001b[0m \u001b[0;32mas\u001b[0m \u001b[0mplt\u001b[0m\u001b[0;34m\u001b[0m\u001b[0;34m\u001b[0m\u001b[0m\n\u001b[0m\u001b[1;32m      4\u001b[0m \u001b[0;32mdef\u001b[0m \u001b[0mcompare_to_reference\u001b[0m\u001b[0;34m(\u001b[0m\u001b[0mresult_df\u001b[0m\u001b[0;34m,\u001b[0m \u001b[0mreference_file\u001b[0m\u001b[0;34m,\u001b[0m \u001b[0mcondpair\u001b[0m\u001b[0;34m)\u001b[0m\u001b[0;34m:\u001b[0m\u001b[0;31m#put in condpair as tuple\u001b[0m\u001b[0;34m\u001b[0m\u001b[0;34m\u001b[0m\u001b[0m\n\u001b[1;32m      5\u001b[0m     \u001b[0mresult_df\u001b[0m \u001b[0;34m=\u001b[0m \u001b[0mresult_df\u001b[0m\u001b[0;34m[\u001b[0m\u001b[0mresult_df\u001b[0m\u001b[0;34m[\u001b[0m\u001b[0;34m\"condpair\"\u001b[0m\u001b[0;34m]\u001b[0m\u001b[0;34m==\u001b[0m\u001b[0mcondpair\u001b[0m\u001b[0;34m]\u001b[0m\u001b[0;34m\u001b[0m\u001b[0;34m\u001b[0m\u001b[0m\n",
      "\u001b[0;31mModuleNotFoundError\u001b[0m: No module named 'matplotlib.pyplot'"
     ]
    }
   ],
   "source": [
    "#export\n",
    "import pandas as pd\n",
    "import matplotlib.pyplot as plt\n",
    "def compare_to_reference(result_df, reference_file, condpair):#put in condpair as tuple\n",
    "    result_df = result_df[result_df[\"condpair\"]==condpair]\n",
    "\n",
    "    ref_df = pd.read_csv(reference_file, sep = \"\\t\")\n",
    "    merged = pd.merge(result_df, ref_df, how='inner', on = \"protein\",suffixes = [\"\", \"_ref\"])\n",
    "    display(merged)\n",
    "    ax_p = merged.plot.scatter(x='pval_ref',y='pval')\n",
    "    plt.show()\n",
    "    ax_fc = merged.plot.scatter(x='log2FC_ref',y='fc')\n",
    "    plt.show()\n",
    "    ax_fdr = merged.plot.scatter(x='fdr_ref',y='fdr')\n",
    "    plt.show()\n"
   ]
  },
  {
   "cell_type": "code",
   "execution_count": null,
   "metadata": {},
   "outputs": [],
   "source": [
    "#export\n",
    "import pandas as pd\n",
    "import matplotlib.pyplot as plt\n",
    "def compare_normalization(ref_normalization_file, norm1_df, norm2_df):\n",
    "    ref_normed = pd.read_csv(ref_normalization_file, sep =\"\\t\").set_index('peptide')\n",
    "    display(ref_normed)\n",
    "\n",
    "    merged = pd.merge(norm1_df, norm2_df, how='inner',  left_index = True, right_index = True)\n",
    "    columns = merged.columns\n",
    "    merged = pd.merge(ref_normed, merged, how='inner', left_index = True, right_index = True, suffixes = [\"_ref\", \"\"])\n",
    "    display(merged)\n",
    "    for i in range(len(columns)):\n",
    "        sample1 = columns[i]\n",
    "        sample2 = sample1+\"_ref\"\n",
    "        ax_p = merged.plot.scatter(x=sample1,y=sample2)\n",
    "        plt.show()\n"
   ]
  },
  {
   "cell_type": "code",
   "execution_count": null,
   "metadata": {},
   "outputs": [],
   "source": [
    "#export\n",
    "import pandas as pd\n",
    "import numpy as np\n",
    "\n",
    "def compare_to_reference(peptide_detail_file, result_df, peptide_df, protref_file, outdir):\n",
    "    protein_ref = pd.read_csv(peptide_detail_file, sep=\"\\t\", usecols=[\"protein\", \"protein_pval\", \"protein_fc\"]).drop_duplicates().rename(columns = {\"protein_pval\" : \"pval_ref\", \"protein_fc\": \"fc_ref\"})\n",
    "    peptide_ref = pd.read_csv(peptide_detail_file, sep='\\t', usecols = [\"peptide\", \"protein\", \"peptide_pval\",\"peptide_fc\"]).rename(columns = {\"peptide_pval\" :\"peptide_pval_ref\", \"peptide_fc\" : \"peptide_fc_ref\"})\n",
    "    compare_peptid_protein_overlaps(protein_ref, result_df, peptide_ref, peptide_df)\n",
    "    compare_significant_proteins(result_df, protref_file)\n",
    "\n",
    "    print_nonref_hits(protein_ref, result_df, peptide_ref, peptide_df, outdir)\n",
    "    prots_merged = pd.merge(protein_ref, result_df, on = \"protein\", how='inner')\n",
    "    peps_per_prot_ref = pd.DataFrame(peptide_ref.groupby(by=[\"protein\"])['peptide'].count()).rename(columns = {\"peptide\":\"num_peptides_ref\"}).reset_index()\n",
    "    prots_merged = pd.merge(prots_merged, peps_per_prot_ref, on = \"protein\", how='inner')\n",
    "\n",
    "    peptides_merged = pd.merge(peptide_ref, peptide_df, on = \"peptide\", how='inner')\n",
    "    \n",
    "    peptides_merged[\"peptide_pval_diff\"] = ( peptides_merged[\"peptide_pval\"]/peptides_merged[\"peptide_pval_ref\"]).abs()\n",
    "    peptides_merged = peptides_merged.sort_values(by=['peptide_pval_diff'], ascending = False)\n",
    "    display(peptides_merged.head(10))\n",
    "    peptides_merged.to_csv(f\"{outdir}/merged_peptides.tsv\", sep = \"\\t\", index = False)\n",
    "    scatter_df_columns(prots_merged)\n",
    "    scatter_df_columns(peptides_merged)\n",
    "\n",
    "    prots_merged[\"pvaldiff\"] = (np.log2(prots_merged[\"pval\"]) - np.log2(prots_merged[\"pval_ref\"])).abs()\n",
    "    prots_merged = prots_merged.sort_values(by=['pvaldiff'], ascending = False)\n",
    "    peptides_merged.to_csv(f\"{outdir}/merged_proteins.tsv\", sep = \"\\t\", index = False)\n",
    "    display(prots_merged.head(10))\n",
    "    display(peptides_merged)\n",
    "\n",
    "\n",
    "    prots_merged[\"numpep_diff\"] = (prots_merged[\"num_peptides\"] - prots_merged[\"num_peptides_ref\"]).abs()\n",
    "    prots_merged = prots_merged.sort_values(by=['numpep_diff'], ascending = False)\n",
    "    display(prots_merged.head(10))\n"
   ]
  },
  {
   "cell_type": "code",
   "execution_count": null,
   "metadata": {},
   "outputs": [],
   "source": [
    "#export\n",
    "from matplotlib_venn import venn2\n",
    "from matplotlib import pyplot as plt\n",
    "\n",
    "def compare_significant_proteins(result_df, protref_file):\n",
    "    protein_ref = pd.read_csv(protref_file, sep=\"\\t\")\n",
    "    sigprots_ref = protein_ref[protein_ref[\"fdr\"]<0.05]\n",
    "    sigprots = result_df[result_df[\"fdr\"]<0.05]\n",
    "    prots_ref = set(sigprots_ref[\"protein\"].to_list())\n",
    "    prots = set(sigprots[\"protein\"].to_list())\n",
    "    print(f\"in ref only {prots_ref - prots}\")\n",
    "    print(f\"in AP only {prots-prots_ref}\")\n",
    "    venn2([prots_ref, prots], ('sigprots_ref', 'sigprots'))\n",
    "    plt.show()\n",
    "\n"
   ]
  },
  {
   "cell_type": "code",
   "execution_count": null,
   "metadata": {},
   "outputs": [],
   "source": [
    "#export\n",
    "def print_nonref_hits(protein_ref, protein_df, peptide_ref, peptide_df, outdir):\n",
    "    prots_nonref_df =  protein_df[~(protein_df[\"protein\"].isin(protein_ref[\"protein\"].to_list()))]#the tilde inverts the boolean vector\n",
    "    peps_nonref_df = peptide_df[~(peptide_df[\"peptide\"].isin(peptide_ref[\"peptide\"].to_list()))]\n",
    "    prots_nonref_df.to_csv(f\"{outdir}/nonref_proteins.tsv\", sep = \"\\t\", index = False)\n",
    "    peps_nonref_df.to_csv(f\"{outdir}/nonref_peptides.tsv\", sep = \"\\t\", index = False)\n",
    "    display(peps_nonref_df)\n"
   ]
  },
  {
   "cell_type": "code",
   "execution_count": null,
   "metadata": {},
   "outputs": [
    {
     "data": {
      "text/html": "<div>\n<style scoped>\n    .dataframe tbody tr th:only-of-type {\n        vertical-align: middle;\n    }\n\n    .dataframe tbody tr th {\n        vertical-align: top;\n    }\n\n    .dataframe thead th {\n        text-align: right;\n    }\n</style>\n<table border=\"1\" class=\"dataframe\">\n  <thead>\n    <tr style=\"text-align: right;\">\n      <th></th>\n      <th>c1</th>\n      <th>c2</th>\n      <th>c3</th>\n    </tr>\n  </thead>\n  <tbody>\n    <tr>\n      <td>0</td>\n      <td>a</td>\n      <td>c</td>\n      <td>b</td>\n    </tr>\n    <tr>\n      <td>1</td>\n      <td>a</td>\n      <td>b</td>\n      <td>e</td>\n    </tr>\n    <tr>\n      <td>2</td>\n      <td>a</td>\n      <td>g</td>\n      <td>b</td>\n    </tr>\n    <tr>\n      <td>3</td>\n      <td>b</td>\n      <td>j</td>\n      <td>k</td>\n    </tr>\n  </tbody>\n</table>\n</div>",
      "text/plain": "  c1 c2 c3\n0  a  c  b\n1  a  b  e\n2  a  g  b\n3  b  j  k"
     },
     "metadata": {},
     "output_type": "display_data"
    }
   ],
   "source": [
    "import pandas as pd\n",
    "l = [[\"a\", \"c\", \"b\"], [\"a\", \"b\", \"e\"], [\"a\", \"g\", \"b\"], [\"b\", \"j\", \"k\"]]\n",
    "\n",
    "df = pd.DataFrame(l, columns=[\"c1\", \"c2\", \"c3\"])\n",
    "display(df)"
   ]
  },
  {
   "cell_type": "code",
   "execution_count": null,
   "metadata": {},
   "outputs": [
    {
     "data": {
      "text/plain": "0    False\n1     True\n2    False\n3    False\nName: c2, dtype: bool"
     },
     "metadata": {},
     "output_type": "display_data"
    },
    {
     "data": {
      "text/html": "<div>\n<style scoped>\n    .dataframe tbody tr th:only-of-type {\n        vertical-align: middle;\n    }\n\n    .dataframe tbody tr th {\n        vertical-align: top;\n    }\n\n    .dataframe thead th {\n        text-align: right;\n    }\n</style>\n<table border=\"1\" class=\"dataframe\">\n  <thead>\n    <tr style=\"text-align: right;\">\n      <th></th>\n      <th>c1</th>\n      <th>c2</th>\n      <th>c3</th>\n    </tr>\n  </thead>\n  <tbody>\n    <tr>\n      <td>0</td>\n      <td>a</td>\n      <td>c</td>\n      <td>b</td>\n    </tr>\n    <tr>\n      <td>2</td>\n      <td>a</td>\n      <td>g</td>\n      <td>b</td>\n    </tr>\n    <tr>\n      <td>3</td>\n      <td>b</td>\n      <td>j</td>\n      <td>k</td>\n    </tr>\n  </tbody>\n</table>\n</div>",
      "text/plain": "  c1 c2 c3\n0  a  c  b\n2  a  g  b\n3  b  j  k"
     },
     "metadata": {},
     "output_type": "display_data"
    },
    {
     "data": {
      "text/html": "<div>\n<style scoped>\n    .dataframe tbody tr th:only-of-type {\n        vertical-align: middle;\n    }\n\n    .dataframe tbody tr th {\n        vertical-align: top;\n    }\n\n    .dataframe thead th {\n        text-align: right;\n    }\n</style>\n<table border=\"1\" class=\"dataframe\">\n  <thead>\n    <tr style=\"text-align: right;\">\n      <th></th>\n      <th>c1</th>\n      <th>c2</th>\n      <th>c3</th>\n    </tr>\n  </thead>\n  <tbody>\n    <tr>\n      <td>0</td>\n      <td>a</td>\n      <td>c</td>\n      <td>b</td>\n    </tr>\n    <tr>\n      <td>1</td>\n      <td>a</td>\n      <td>b</td>\n      <td>e</td>\n    </tr>\n    <tr>\n      <td>2</td>\n      <td>a</td>\n      <td>g</td>\n      <td>b</td>\n    </tr>\n    <tr>\n      <td>3</td>\n      <td>b</td>\n      <td>j</td>\n      <td>k</td>\n    </tr>\n  </tbody>\n</table>\n</div>",
      "text/plain": "  c1 c2 c3\n0  a  c  b\n1  a  b  e\n2  a  g  b\n3  b  j  k"
     },
     "metadata": {},
     "output_type": "display_data"
    }
   ],
   "source": [
    "display(df[\"c2\"].isin(df[\"c3\"]))\n",
    "df_subset = df[~df[\"c2\"].isin(df[\"c3\"].to_list())]\n",
    "display(df_subset)\n",
    "display(df)"
   ]
  },
  {
   "cell_type": "code",
   "execution_count": null,
   "metadata": {},
   "outputs": [
    {
     "data": {
      "text/html": "<div>\n<style scoped>\n    .dataframe tbody tr th:only-of-type {\n        vertical-align: middle;\n    }\n\n    .dataframe tbody tr th {\n        vertical-align: top;\n    }\n\n    .dataframe thead th {\n        text-align: right;\n    }\n</style>\n<table border=\"1\" class=\"dataframe\">\n  <thead>\n    <tr style=\"text-align: right;\">\n      <th></th>\n      <th>age</th>\n      <th>born</th>\n      <th>name</th>\n      <th>toy</th>\n    </tr>\n  </thead>\n  <tbody>\n    <tr>\n      <td>0</td>\n      <td>5.0</td>\n      <td>NaT</td>\n      <td>Alfred</td>\n      <td>None</td>\n    </tr>\n    <tr>\n      <td>1</td>\n      <td>6.0</td>\n      <td>1939-05-27</td>\n      <td>Batman</td>\n      <td>Batmobile</td>\n    </tr>\n    <tr>\n      <td>2</td>\n      <td>NaN</td>\n      <td>1940-04-25</td>\n      <td></td>\n      <td>Joker</td>\n    </tr>\n  </tbody>\n</table>\n</div>",
      "text/plain": "   age       born    name        toy\n0  5.0        NaT  Alfred       None\n1  6.0 1939-05-27  Batman  Batmobile\n2  NaN 1940-04-25              Joker"
     },
     "metadata": {},
     "output_type": "display_data"
    }
   ],
   "source": [
    "import numpy as np\n",
    "na_df = pd.DataFrame({'age': [5, 6, np.NaN],'born': [pd.NaT, pd.Timestamp('1939-05-27'), pd.Timestamp('1940-04-25')], 'name': ['Alfred', 'Batman', ''],'toy': [None, 'Batmobile', 'Joker']})\n",
    "display(na_df)"
   ]
  },
  {
   "cell_type": "code",
   "execution_count": null,
   "metadata": {},
   "outputs": [
    {
     "data": {
      "text/plain": "0                                    [5.0, Alfred]\n1    [6.0, 1939-05-27 00:00:00, Batman, Batmobile]\n2                   [1940-04-25 00:00:00, , Joker]\ndtype: object"
     },
     "metadata": {},
     "output_type": "display_data"
    },
    {
     "data": {
      "text/plain": [
       "{0: [5.0, 'Alfred'],\n",
       " 1: [6.0, Timestamp('1939-05-27 00:00:00'), 'Batman', 'Batmobile'],\n",
       " 2: [Timestamp('1940-04-25 00:00:00'), '', 'Joker']}"
      ]
     },
     "execution_count": null,
     "metadata": {},
     "output_type": "execute_result"
    }
   ],
   "source": [
    "df_refomr = na_df.apply(lambda x :x[x.notna()].to_list(), axis=1)\n",
    "display(df_refomr)\n",
    "df_refomr.to_dict()"
   ]
  },
  {
   "cell_type": "code",
   "execution_count": null,
   "metadata": {},
   "outputs": [],
   "source": [
    "df.set_index('ID').T.to_dict('list')\n",
    "{'p': [1, 3, 2], 'q': [4, 3, 2], 'r': [4, 0, 9]}"
   ]
  },
  {
   "cell_type": "code",
   "execution_count": null,
   "metadata": {},
   "outputs": [
    {
     "data": {
      "text/html": "<div>\n<style scoped>\n    .dataframe tbody tr th:only-of-type {\n        vertical-align: middle;\n    }\n\n    .dataframe tbody tr th {\n        vertical-align: top;\n    }\n\n    .dataframe thead th {\n        text-align: right;\n    }\n</style>\n<table border=\"1\" class=\"dataframe\">\n  <thead>\n    <tr style=\"text-align: right;\">\n      <th></th>\n      <th>rename_test</th>\n      <th>c2</th>\n    </tr>\n    <tr>\n      <th>c1</th>\n      <th></th>\n      <th></th>\n    </tr>\n  </thead>\n  <tbody>\n    <tr>\n      <td>a</td>\n      <td>3</td>\n      <td>3</td>\n    </tr>\n    <tr>\n      <td>b</td>\n      <td>1</td>\n      <td>1</td>\n    </tr>\n  </tbody>\n</table>\n</div>",
      "text/plain": "    rename_test  c2\nc1                 \na             3   3\nb             1   1"
     },
     "metadata": {},
     "output_type": "display_data"
    }
   ],
   "source": [
    "gb1 = pd.DataFrame(df.groupby(\"c1\")[\"c2\"].count())\n",
    "gb2 = pd.DataFrame(df.groupby(\"c1\")[\"c2\"].count())\n",
    "merged = pd.merge(gb1, gb2, left_index=True, right_index=True, suffixes=(\"_ref\", \"\")).rename(columns = {\"c2_ref\": \"rename_test\"})\n",
    "display(merged)"
   ]
  },
  {
   "cell_type": "code",
   "execution_count": null,
   "metadata": {},
   "outputs": [],
   "source": []
  }
 ],
 "metadata": {
  "kernelspec": {
   "display_name": "Python 3",
   "language": "python",
   "name": "python3"
  }
 },
 "nbformat": 4,
 "nbformat_minor": 2
}
