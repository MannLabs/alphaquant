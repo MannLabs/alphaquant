{
 "cells": [
  {
   "cell_type": "code",
   "execution_count": null,
   "metadata": {},
   "outputs": [],
   "source": [
    "# default_exp testfile_handling"
   ]
  },
  {
   "cell_type": "markdown",
   "metadata": {},
   "source": [
    "# Paths"
   ]
  },
  {
   "cell_type": "code",
   "execution_count": null,
   "metadata": {},
   "outputs": [],
   "source": [
    "#export\n",
    "import os\n",
    "import pathlib\n",
    "if \"__file__\" in globals():#only run in the nbdev translated python file, as __file__ is not defined with ipython\n",
    "    download_links = os.path.join(pathlib.Path(__file__).parent.absolute(), \"configs\", \"testfile_download_links.yaml\") #the yaml config is located one directory below the python library files\n",
    "\n"
   ]
  },
  {
   "cell_type": "markdown",
   "metadata": {},
   "source": [
    "# Downloading Testfiles"
   ]
  },
  {
   "cell_type": "code",
   "execution_count": null,
   "metadata": {},
   "outputs": [
    {
     "name": "stdout",
     "output_type": "stream",
     "text": [
      "{'./ptmsite_mapping//shortened_plugin_outputv4_loc_prob_75.txt.zip/': 'https://datashare.biochem.mpg.de/s/GqnXbsMNbk57BXp', './ptmsite_mapping//samplemap.tsv/': 'https://datashare.biochem.mpg.de/s/hpVYri1Xx5oN7jr', './ptmsite_mapping//FIHQQPQSSSPVYGSSAK.tsv/': 'https://datashare.biochem.mpg.de/s/xNBpilIk3ocaEbi', './ptmsite_mapping//shortened_aq.tsv.zip/': 'https://datashare.biochem.mpg.de/s/AQhyQPOLIzOr2ZM', './sensitivity_tests//Spectronaut_LargeFC//20210210_154121_S209-S-1-240min_Report.tsv/': 'https://datashare.biochem.mpg.de/s/Cby3nX5OLzaKYBT', './sensitivity_tests//Spectronaut_SmallFC//20210624_120140_MP-DIA-multi-organis_Report_smallfc_COMPLETE.tsv.zip/': 'https://datashare.biochem.mpg.de/s/0zOnHihjcG7Ku7l', './phospho_peptides//20210309_173814_DIA_dilution_benchmark_nLClib_5PTMs_20190523_Report.tsv/': 'https://datashare.biochem.mpg.de/s/pGn2lBdPT4qJwwW', './phospho_peptides//20190515_153557_dDIA_Report_Qvalue_noimput_LocNorm.xls/': 'https://datashare.biochem.mpg.de/s/oZBvhjVQxYVL2KH', './phospho_peptides//samplemap.tsv/': 'https://datashare.biochem.mpg.de/s/7GWgnGeSM2T0BNQ', './MaxQuant_LFQ//peptides.txt/': 'https://datashare.biochem.mpg.de/s/ocOp7c6DMMxjpZy', './ratio_tests//mann_labs_mouse_tissues//diann_results_mbr.tsv/': 'https://datashare.biochem.mpg.de/s/ARaIoDM1fchaNI8', './ratio_tests//mann_labs_mouse_tissues//samples.map.1techrep.tsv/': 'https://datashare.biochem.mpg.de/s/qZULkw5a3ODFGxJ', './ratio_tests//mann_labs_shortgradient//20211026_160136_20211011_Report.tsv.zip/': 'https://datashare.biochem.mpg.de/s/By6qgEbNDZ7Dn04', './ratio_tests//mann_labs_shortgradient//samplemap.tsv/': 'https://datashare.biochem.mpg.de/s/j641S0GWNbPJnM0', './ratio_tests//mann_labs_shortgradient//yeast_report_filt.tsv/': 'https://datashare.biochem.mpg.de/s/L1ywp1jkUVKprkM', './ratio_tests//mann_labs_longgradient//DIANN//DIANN_report.zip/': 'https://datashare.biochem.mpg.de/s/ADr3bHd7p51XJfI', './ratio_tests//mann_labs_longgradient//DIANN//samples.map.tsv/': 'https://datashare.biochem.mpg.de/s/v2paJsljQA3qjeK', './ratio_tests//mann_labs_longgradient//DIANN//yeast_report_fastafiltered.tsv/': 'https://datashare.biochem.mpg.de/s/wfiDqRMqTDTZgzP', './ratio_tests//mann_labs_longgradient//spectronaut//samples.map.tsv/': 'https://datashare.biochem.mpg.de/s/c4WdizcoJB8D3G5', './ratio_tests//mann_labs_longgradient//spectronaut//yeast_report_fastafiltered.tsv/': 'https://datashare.biochem.mpg.de/s/yubLHUQrkSOrKk6', './ratio_tests//mann_labs_longgradient//spectronaut//thermo_yeast_hela_marvin_more_cols.zip/': 'https://datashare.biochem.mpg.de/s/DnfQ8vVdJv7lWCS', './fastas//uniprot-proteome-up000005640_human.fasta/': 'https://datashare.biochem.mpg.de/s/pWdFejtw3IP4z9F', './fastas//uniprot-organism_Escherichia+coli+(strain+K12)+[83333].fasta/': 'https://datashare.biochem.mpg.de/s/u7KvMwo6veZhAb6', './fastas//Homo_sapiens.GRCh38.pep.all.fasta/': 'https://datashare.biochem.mpg.de/s/jzOxUkuXKXkWvkU', './fastas//uniprot-filtered-organism Homo+sapiens+(Human)+[9606] +AND+review--.fasta/': 'https://datashare.biochem.mpg.de/s/BIrwuWnZSglclsI'}\n"
     ]
    }
   ],
   "source": [
    "#export\n",
    "import yaml\n",
    "\n",
    "class TestFileDownloader():\n",
    "    def __init__(self, test_folder, links_yaml):\n",
    "        self._test_folder = test_folder\n",
    "        self._path2link = DownloadLinkConverter(links_yaml).load_path2link_from_yaml_file()\n",
    "        self.__initialize_wget_install_if_missing__()\n",
    "\n",
    "    def __initialize_wget_install_if_missing__():\n",
    "        try:\n",
    "            import wget\n",
    "        except ImportError:\n",
    "            %pip install wget\n",
    "            import wget\n",
    "\n",
    "    def download_missing_files(self):\n",
    "        missing_paths = self.__get_missing_paths__()\n",
    "        for missing_path in missing_paths:\n",
    "            self.__download_file__(missing_path)\n",
    "\n",
    "    def __get_missing_paths__(self):\n",
    "        all_paths = self._path2link.keys()\n",
    "        existing_paths = self.__get_existing_paths__()\n",
    "        return all_paths - existing_paths\n",
    "\n",
    "    def __download_file__(self, path):\n",
    "        link = self._path2link.get(path)\n",
    "        download_link = f\"{link}/download\"\n",
    "        wget.download(download_link, path)\n",
    "\n",
    "    def __get_existing_paths__(self):\n",
    "        all_elements = self.__get_all_elements_in_all_subdirs__(self._test_folder)\n",
    "        all_filepaths = self.__filter_for_files__(all_elements)\n",
    "        all_filepaths_relative = self.__convert_to_relative_paths__(all_filepaths, self._test_folder)\n",
    "        return all_filepaths_relative\n",
    "\n",
    "    @staticmethod\n",
    "    def __get_all_elements_in_all_subdirs__(base_dir):\n",
    "        return glob.glob(f\"{base_dir}/**\", recursive=True)\n",
    "    \n",
    "    @staticmethod\n",
    "    def __filter_for_files__(list_of_paths):\n",
    "        return (x for x in list_of_paths if os.path.isfile(x))\n",
    "\n",
    "    @staticmethod\n",
    "    def __convert_to_relative_paths__(list_of_absolute_paths, base_dir):\n",
    "        return {x.replace(base_dir, \".\") for x in list_of_absolute_paths}\n",
    "\n",
    "\n",
    "class DownloadLinkConverter():\n",
    "    def __init__(self, links_yaml):\n",
    "        self._links_yaml = links_yaml\n",
    "\n",
    "    def get_path2link_from_yaml_file(self):\n",
    "        yaml_dict = self.__load_dict_from_yaml_file__(self._links_yaml)\n",
    "        path2link = self.__convert_nested_dict_to_relpath_dict__(nested_dict=yaml_dict)\n",
    "        return path2link\n",
    "\n",
    "    @staticmethod\n",
    "    def __load_dict_from_yaml_file__(yaml_file):\n",
    "        stream = open(yaml_file, 'r')\n",
    "        return yaml.safe_load(stream)\n",
    "\n",
    "    def __convert_nested_dict_to_relpath_dict__(self, nested_dict , rel_path_so_far = \".\"):\n",
    "        for path, value in nested_dict.items():\n",
    "            updated_path = self.__get_updated_relpath__(rel_path_so_far, path)\n",
    "            is_dict = self.__check_if_value_is_dict__(value)\n",
    "            if is_dict:\n",
    "                self.__recursively_call_sub_dictionary__(sub_dictionary = value, updated_path=updated_path)\n",
    "            else:\n",
    "                self.__yield_path2link_pair__(updated_path=updated_path, link=value)\n",
    "\n",
    "    def __recursively_call_sub_dictionary__(self, sub_dictionary, updated_path):\n",
    "        yield from self.__convert_nested_dict_to_relpath_dict__(sub_dictionary, updated_path) #yield from allows to recursively trigger the generator\n",
    "    \n",
    "    @staticmethod\n",
    "    def __get_updated_relpath__(rel_path_so_far, new_path):\n",
    "        return f\"{rel_path_so_far}/{new_path}/\"\n",
    "    \n",
    "    @staticmethod\n",
    "    def __check_if_value_is_dict__(value, dict):\n",
    "        return isinstance(value, dict)\n",
    "\n",
    "    @staticmethod\n",
    "    def __yield_path2link_pair__(updated_path, link):\n",
    "        yield updated_path , link\n",
    "\n",
    "\n",
    "\n",
    "\n",
    "\n",
    "\n",
    "\n",
    "\n",
    "\n",
    "stream = open(, 'r')\n",
    "yamldict =  yaml.safe_load(stream)\n",
    "\n",
    "download_links = \"/Users/constantin/workspace/alphaquant/alphaquant/configs/download_links_for_testfiles.yaml\"\n",
    "\n",
    "\n",
    "\n",
    "relpath_dict = {x : y for x,y in __generate_relpaths_from_nested_dict__(yamldict)}\n",
    "\n",
    "print(relpath_dict)"
   ]
  },
  {
   "cell_type": "code",
   "execution_count": null,
   "metadata": {},
   "outputs": [
    {
     "name": "stdout",
     "output_type": "stream",
     "text": [
      "['/Users/constantin/workspace/alphaquant/test_data/oconnel_set/peptides.txt.ml_info_table.tsv', '/Users/constantin/workspace/alphaquant/test_data/oconnel_set/AP_peptide_out.tsv', '/Users/constantin/workspace/alphaquant/test_data/oconnel_set/normed_intensities.tsv', '/Users/constantin/workspace/alphaquant/test_data/oconnel_set/peptides.txt', '/Users/constantin/workspace/alphaquant/test_data/oconnel_set/samples.map.tsv', '/Users/constantin/workspace/alphaquant/test_data/oconnel_set/reference_c1_vs_c2.tsv', '/Users/constantin/workspace/alphaquant/test_data/oconnel_set/results/c2_VS_c3.normed.tsv', '/Users/constantin/workspace/alphaquant/test_data/oconnel_set/results/c1_VS_c3.iontrees.json', '/Users/constantin/workspace/alphaquant/test_data/oconnel_set/results/c2_VS_c3.iontrees.json', '/Users/constantin/workspace/alphaquant/test_data/oconnel_set/results/c1_VS_c2.results.ions.tsv', '/Users/constantin/workspace/alphaquant/test_data/oconnel_set/results/c2_VS_c3/compare_pertubed_unperturbed.pdf', '/Users/constantin/workspace/alphaquant/test_data/oconnel_set/results/c2_VS_c3/observed_offsets_ml_filtered.pdf', '/Users/constantin/workspace/alphaquant/test_data/oconnel_set/results/c2_VS_c3/perturbation_histogram.pdf', '/Users/constantin/workspace/alphaquant/test_data/oconnel_set/results/c2_VS_c3/ml_regression.pdf', '/Users/constantin/workspace/alphaquant/test_data/oconnel_set/results/c2_VS_c3/observed_offsets_nofilt.pdf', '/Users/constantin/workspace/alphaquant/test_data/oconnel_set/results/c2_VS_c3/ml_offsets_gaussian_fit.pdf', '/Users/constantin/workspace/alphaquant/test_data/oconnel_set/results/c2_VS_c3.results.ions.tsv', '/Users/constantin/workspace/alphaquant/test_data/oconnel_set/results/c1_VS_c2/compare_pertubed_unperturbed.pdf', '/Users/constantin/workspace/alphaquant/test_data/oconnel_set/results/c1_VS_c2/observed_offsets_ml_filtered.pdf', '/Users/constantin/workspace/alphaquant/test_data/oconnel_set/results/c1_VS_c2/perturbation_histogram.pdf', '/Users/constantin/workspace/alphaquant/test_data/oconnel_set/results/c1_VS_c2/ml_regression.pdf', '/Users/constantin/workspace/alphaquant/test_data/oconnel_set/results/c1_VS_c2/observed_offsets_nofilt.pdf', '/Users/constantin/workspace/alphaquant/test_data/oconnel_set/results/c1_VS_c2/ml_offsets_gaussian_fit.pdf', '/Users/constantin/workspace/alphaquant/test_data/oconnel_set/results/c1_VS_c2.results.tsv', '/Users/constantin/workspace/alphaquant/test_data/oconnel_set/results/c1_VS_c2.normed.tsv', '/Users/constantin/workspace/alphaquant/test_data/oconnel_set/results/c1_VS_c3/compare_pertubed_unperturbed.pdf', '/Users/constantin/workspace/alphaquant/test_data/oconnel_set/results/c1_VS_c3/observed_offsets_ml_filtered.pdf', '/Users/constantin/workspace/alphaquant/test_data/oconnel_set/results/c1_VS_c3/perturbation_histogram.pdf', '/Users/constantin/workspace/alphaquant/test_data/oconnel_set/results/c1_VS_c3/ml_regression.pdf', '/Users/constantin/workspace/alphaquant/test_data/oconnel_set/results/c1_VS_c3/observed_offsets_nofilt.pdf', '/Users/constantin/workspace/alphaquant/test_data/oconnel_set/results/c1_VS_c3/ml_offsets_gaussian_fit.pdf', '/Users/constantin/workspace/alphaquant/test_data/oconnel_set/results/c1_VS_c3.results.ions.tsv', '/Users/constantin/workspace/alphaquant/test_data/oconnel_set/results/c2_VS_c3.results.tsv', '/Users/constantin/workspace/alphaquant/test_data/oconnel_set/results/c1_VS_c3.results.tsv', '/Users/constantin/workspace/alphaquant/test_data/oconnel_set/results/c1_VS_c3.normed.tsv', '/Users/constantin/workspace/alphaquant/test_data/oconnel_set/results/c1_VS_c2.iontrees.json', '/Users/constantin/workspace/alphaquant/test_data/oconnel_set/results/aq_parameters.yaml', '/Users/constantin/workspace/alphaquant/test_data/oconnel_set/detail_pepinfos.tsv', '/Users/constantin/workspace/alphaquant/test_data/oconnel_set/outdir/merged_peptides.tsv', '/Users/constantin/workspace/alphaquant/test_data/oconnel_set/outdir/nonref_proteins.tsv', '/Users/constantin/workspace/alphaquant/test_data/oconnel_set/outdir/nonref_peptides.tsv', '/Users/constantin/workspace/alphaquant/test_data/oconnel_set/outdir/merged_proteins.tsv', '/Users/constantin/workspace/alphaquant/test_data/oconnel_set/prot2organism.tsv', '/Users/constantin/workspace/alphaquant/test_data/oconnel_set/peptides.txt.maxquant_peptides.aq_reformat.tsv', '/Users/constantin/workspace/alphaquant/test_data/oconnel_set/reference_c3_vs_c2.tsv', '/Users/constantin/workspace/alphaquant/test_data/oconnel_set/AP_protein_out.tsv', '/Users/constantin/workspace/alphaquant/test_data/oconnel_set/reference_c3_vs_c1.tsv', '/Users/constantin/workspace/alphaquant/test_data/ptmsite_mapping/shortened_plugin_outputv4_loc_prob_75.txt.zip', '/Users/constantin/workspace/alphaquant/test_data/ptmsite_mapping/uniprot_mapping.tsv', '/Users/constantin/workspace/alphaquant/test_data/ptmsite_mapping/samplemap.tsv', '/Users/constantin/workspace/alphaquant/test_data/ptmsite_mapping/FIHQQPQSSSPVYGSSAK.tsv', '/Users/constantin/workspace/alphaquant/test_data/ptmsite_mapping/shortened_aq.tsv.zip', '/Users/constantin/workspace/alphaquant/test_data/ptmsite_mapping/swissprot_mapping.tsv', '/Users/constantin/workspace/alphaquant/test_data/clusters/samples.map.tsv', '/Users/constantin/workspace/alphaquant/test_data/clusters/benchmark_subset.tsv.aq_reformat.tsv', '/Users/constantin/workspace/alphaquant/test_data/input_table_formats/diann.tsv', '/Users/constantin/workspace/alphaquant/test_data/input_table_formats/samplemap.spectronaut.tsv', '/Users/constantin/workspace/alphaquant/test_data/input_table_formats/spectronaut.frgions.large.tsv', '/Users/constantin/workspace/alphaquant/test_data/input_table_formats/spectronaut_frgion.tsv.aq_reformat.tsv', '/Users/constantin/workspace/alphaquant/test_data/input_table_formats/spectronaut.tsv', '/Users/constantin/workspace/alphaquant/test_data/input_table_formats/mq_evidence.txt', '/Users/constantin/workspace/alphaquant/test_data/input_table_formats/samplemap.spectronaut.frgions.tsv', '/Users/constantin/workspace/alphaquant/test_data/input_table_formats/diann.tsv.aq_reformat.precursor.tsv', '/Users/constantin/workspace/alphaquant/test_data/input_table_formats/samplemap.mq.test', '/Users/constantin/workspace/alphaquant/test_data/input_table_formats/samplemap.spectronaut.ptm.tsv', '/Users/constantin/workspace/alphaquant/test_data/input_table_formats/mq_peptides.txt', '/Users/constantin/workspace/alphaquant/test_data/input_table_formats/spectronaut.tsv.aq_reformat.precursor.tsv', '/Users/constantin/workspace/alphaquant/test_data/input_table_formats/spectronaut_ptm.tsv', '/Users/constantin/workspace/alphaquant/test_data/input_table_formats/samplemap.diann.tsv', '/Users/constantin/workspace/alphaquant/test_data/input_table_formats/spectronaut_frgion.tsv', '/Users/constantin/workspace/alphaquant/test_data/input_table_formats/samplemap.mq.tsv', '/Users/constantin/workspace/alphaquant/test_data/input_table_formats/spectronaut_frgion.tsv.aq_reformat.precursor.tsv', '/Users/constantin/workspace/alphaquant/test_data/cluster_ions/samples.map.tsv', '/Users/constantin/workspace/alphaquant/test_data/cluster_ions/filtered_fragions.aq_reformat.tsv', '/Users/constantin/workspace/alphaquant/test_data/background_distributions/ion2nonans_c2.tsv', '/Users/constantin/workspace/alphaquant/test_data/background_distributions/ion2nonans_c1.tsv', '/Users/constantin/workspace/alphaquant/test_data/background_distributions/idx2ion_c1.tsv', '/Users/constantin/workspace/alphaquant/test_data/background_distributions/idx2ion_c2.tsv', '/Users/constantin/workspace/alphaquant/test_data/background_distributions/DGSLAWLRPDTK_diffdist_infos.tsv', '/Users/constantin/workspace/alphaquant/test_data/background_distributions/c2_bgdist_infos_res.tsv']\n"
     ]
    }
   ],
   "source": [
    "test_folder = \"/Users/constantin/workspace/alphaquant/test_data\"\n",
    "\n",
    "all_elements = glob.glob(f\"{test_folder}/**\", recursive=True)\n",
    "files = [x for x in all_elements if os.path.isfile(x)]\n",
    "print(files)"
   ]
  }
 ],
 "metadata": {
  "kernelspec": {
   "display_name": "Python 3.8.5 ('base')",
   "language": "python",
   "name": "python3"
  }
 },
 "nbformat": 4,
 "nbformat_minor": 2
}
