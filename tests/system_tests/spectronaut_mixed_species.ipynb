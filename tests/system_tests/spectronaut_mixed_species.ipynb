{
 "cells": [
  {
   "cell_type": "code",
   "execution_count": null,
   "metadata": {},
   "outputs": [],
   "source": [
    "import os\n",
    "os.chdir(\"../../test_data/system_tests/Spectronaut_LargeFC/\")"
   ]
  },
  {
   "cell_type": "code",
   "execution_count": null,
   "metadata": {},
   "outputs": [],
   "source": [
    "import os\n",
    "\n",
    "INPUT_FILE = \"20210210_154121_S209-S-1-240min_Reportv2.tsv\"\n",
    "SAMPLEMAP_FILE = \"samples.map.tsv\"\n",
    "RESULTS_DIR = \"results\"\n",
    "PROTEIN_SUBSET_FOR_NORMALIZATION=\"housekeeping_proteins.tsv\" #\"housekeeping_genes.tsv\"\n",
    "SPECTRONAUT_FILE = \"MP-LFC-OT.xlsx\"\n",
    "CONDPAIR = (\"S1\", \"S2\")\n",
    "SHARED_PEPTIDES_BETWEEN_SPECIES_FILE = \"../../databases/intersecting_peptides_human_yeast_cael_ecoli.tsv\""
   ]
  },
  {
   "cell_type": "code",
   "execution_count": null,
   "metadata": {},
   "outputs": [],
   "source": [
    "import alphaquant.run_pipeline as run_pipeline\n",
    "\n",
    "run_pipeline.run_pipeline(input_file=INPUT_FILE, samplemap_file=SAMPLEMAP_FILE, results_dir=RESULTS_DIR, runtime_plots=True, protein_subset_for_normalization_file=PROTEIN_SUBSET_FOR_NORMALIZATION, \n",
    "                        annotation_columns=[\"PG.Organisms\"], condpairs_list=[CONDPAIR], peptides_to_exclude_file=SHARED_PEPTIDES_BETWEEN_SPECIES_FILE, input_type_to_use=\"spectronaut_fragion_isotopes_protein\",\n",
    "                        minrep_c1 = 2, minrep_c2 = 0)"
   ]
  },
  {
   "cell_type": "code",
   "execution_count": null,
   "metadata": {},
   "outputs": [],
   "source": [
    "import pandas as pd\n",
    "\n",
    "alphaquant_file = f\"{RESULTS_DIR}/{CONDPAIR[0]}_VS_{CONDPAIR[1]}.results.tsv\"\n",
    "df_alphaquant = pd.read_csv(alphaquant_file, sep='\\t')[[\"protein\", \"log2fc\", \"fdr\", \"quality_score\", \"PG.Organisms\", \"total_intensity\"]]\n",
    "df_alphaquant = df_alphaquant.rename(columns={\"PG.Organisms\": \"organism\", \"total_intensity\" : \"intensity_alphaquant\", \"fdr\" : \"fdr_alphaquant\", \"log2fc\" : \"log2fc_alphaquant\"})\n",
    "df_alphaquant = df_alphaquant.dropna(subset=[\"organism\"])\n",
    "df_alphaquant = df_alphaquant[[\";\" not in x for x in df_alphaquant[\"organism\"]]]\n",
    "\n",
    "df_spectronaut = pd.read_excel(SPECTRONAUT_FILE, sheet_name=2)\n",
    "display(df_spectronaut)\n",
    "display(df_alphaquant)"
   ]
  },
  {
   "cell_type": "code",
   "execution_count": null,
   "metadata": {},
   "outputs": [],
   "source": [
    "import alphaquant.benchm.sensitivity as aq_benchm_sensititivy\n",
    "classification_benchmark = aq_benchm_sensititivy.RatioClassificationTableGenerator(df_alphaquant, method_suffixes=[\"_alphaquant\"] ,decoy_organism=\"Homo sapiens\")\n",
    "classification_df = classification_benchmark.per_species_results_df\n",
    "display(classification_df)\n",
    "ax = aq_benchm_sensititivy.plot_sighits_barplot(classification_benchmark.per_species_results_df, ['_alphaquant'], 'Homo sapiens')\n",
    "\n"
   ]
  },
  {
   "cell_type": "code",
   "execution_count": null,
   "metadata": {},
   "outputs": [],
   "source": [
    "def assert_fdr_is_not_violated(classification_df, suffix = \"_alphaquant\",  decoy_organism=\"Homo sapiens\"):\n",
    "    idx_of_decoy_organism = classification_df[classification_df[\"organism\"] == decoy_organism].index\n",
    "    num_allowed_hits = classification_df.loc[idx_of_decoy_organism, f\"allowed_decoy_hits{suffix}\"].values[0]\n",
    "    num_allowed_hits_w_tolerance = int(1.1*num_allowed_hits)\n",
    "    num_actual_hits =  classification_df.loc[idx_of_decoy_organism,f\"hits{suffix}\"].values[0]\n",
    "\n",
    "    assert num_actual_hits < num_allowed_hits_w_tolerance , \"more false postives than expected\"\n",
    "\n",
    "\n",
    "\n",
    "def assert_sensitivity_is_as_expected(classification_df, suffix=\"_alphaquant\"):\n",
    "    organism2numsig = dict(zip(classification_df[\"organism\"],classification_df[f\"hits{suffix}\"]))\n",
    "    assert organism2numsig[\"Saccharomyces cerevisiae (strain ATCC 204508 / S288c)\"] > 370, \"sensitivity of Saccharomyces cerevisiae (strain ATCC 204508 / S288c) lower than expected\"\n",
    "    assert organism2numsig[\"Escherichia coli (strain K12)\"] > 445, \"sensitivity of Escherichia coli lower than expected\"\n",
    "    assert organism2numsig[\"Caenorhabditis elegans\"] > 1100, \"sensitivity of Caenorhabditis elegans lower than expected\"\n",
    "\n",
    "assert_fdr_is_not_violated(classification_df)\n",
    "assert_sensitivity_is_as_expected(classification_df)"
   ]
  },
  {
   "cell_type": "code",
   "execution_count": null,
   "metadata": {},
   "outputs": [],
   "source": [
    "%reload_ext autoreload\n",
    "%autoreload 2"
   ]
  },
  {
   "cell_type": "code",
   "execution_count": null,
   "metadata": {},
   "outputs": [],
   "source": [
    "import alphaquant.benchm.ratios as aq_benchm_ratios\n",
    "df_alphaquant_onlyyeast = df_alphaquant[df_alphaquant[\"organism\"].str.contains(\"Saccharomyces cerevisiae\")]\n",
    "scatter_plotter = aq_benchm_ratios.MixedSpeciesScatterPlotter(df_combined=df_alphaquant, method_suffixes=[\"_alphaquant\"], expected_log2fcs=[-2.2, -1.2,0,  2], figure_size=[10, 6])\n",
    "aq_benchm_ratios.MixedSpeciesBoxPlotter(df_combined=df_alphaquant, method_suffixes=[\"_alphaquant\"], expected_log2fcs=[-2.2, -1.2,0,  2], figure_size=[6, 6])\n",
    "\n",
    "\n"
   ]
  },
  {
   "cell_type": "code",
   "execution_count": null,
   "metadata": {},
   "outputs": [],
   "source": []
  }
 ],
 "metadata": {
  "kernelspec": {
   "display_name": "Python 3.8.5 ('base')",
   "language": "python",
   "name": "python3"
  },
  "language_info": {
   "codemirror_mode": {
    "name": "ipython",
    "version": 3
   },
   "file_extension": ".py",
   "mimetype": "text/x-python",
   "name": "python",
   "nbconvert_exporter": "python",
   "pygments_lexer": "ipython3",
   "version": "3.8.13"
  }
 },
 "nbformat": 4,
 "nbformat_minor": 2
}
