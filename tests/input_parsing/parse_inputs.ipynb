{
 "cells": [
  {
   "cell_type": "code",
   "execution_count": null,
   "metadata": {},
   "outputs": [
    {
     "name": "stdout",
     "output_type": "stream",
     "text": [
      "/Users/constantin/workspace/EmpiRe/alphaquant/tests/input_parsing/results\n",
      "recols\t ['Leading razor protein', 'Sequence', 'Potential contaminant', 'Reverse']\n",
      "recols\t ['Protein.Group', 'Precursor.Id', 'Precursor.Quantity', 'Quantity.Quality', 'Run']\n",
      "recols\t ['F.FrgIon', 'FG.ShapeQualityScore (MS2)', 'EG.IsDecoy', 'F.FrgLossType', 'FG.Id', 'F.Charge', 'PEP.StrippedSequence', 'FG.Charge', 'F.PossibleInterference', 'F.PeakArea', 'EG.ModifiedSequence', 'PG.ProteinGroups', 'R.Label']\n",
      "spectronaut_fragion headers in format longtable detected. Importing and re-formating.\n"
     ]
    },
    {
     "data": {
      "text/html": "<div>\n<style scoped>\n    .dataframe tbody tr th:only-of-type {\n        vertical-align: middle;\n    }\n\n    .dataframe tbody tr th {\n        vertical-align: top;\n    }\n\n    .dataframe thead th {\n        text-align: right;\n    }\n</style>\n<table border=\"1\" class=\"dataframe\">\n  <thead>\n    <tr style=\"text-align: right;\">\n      <th>R.Label</th>\n      <th>protein</th>\n      <th>ion</th>\n      <th>E_D170331_S209-S-1-240min_MHRM_R01_T0.htrms</th>\n      <th>E_D170331_S209-S-1-240min_MHRM_R02_T0.htrms</th>\n    </tr>\n  </thead>\n  <tbody>\n    <tr>\n      <th>0</th>\n      <td>A0A061ACL3;O76618;Q965I6</td>\n      <td>SEQ_DHSVFDDLAK_MOD__DHSVFDDLAK__CHARGE_2_FRGIO...</td>\n      <td>4478.637695</td>\n      <td>3952.850586</td>\n    </tr>\n    <tr>\n      <th>1</th>\n      <td>A0A061ACL3;O76618;Q965I6</td>\n      <td>SEQ_DHSVFDDLAK_MOD__DHSVFDDLAK__CHARGE_2_FRGIO...</td>\n      <td>4571.351562</td>\n      <td>4435.643066</td>\n    </tr>\n    <tr>\n      <th>2</th>\n      <td>A0A061ACL3;O76618;Q965I6</td>\n      <td>SEQ_DHSVFDDLAK_MOD__DHSVFDDLAK__CHARGE_2_FRGIO...</td>\n      <td>2414.011719</td>\n      <td>2030.733521</td>\n    </tr>\n    <tr>\n      <th>3</th>\n      <td>A0A061ACL3;O76618;Q965I6</td>\n      <td>SEQ_DHSVFDDLAK_MOD__DHSVFDDLAK__CHARGE_2_FRGIO...</td>\n      <td>3537.567139</td>\n      <td>1472.773438</td>\n    </tr>\n    <tr>\n      <th>4</th>\n      <td>A0A061ACL3;O76618;Q965I6</td>\n      <td>SEQ_DHSVFDDLAK_MOD__DHSVFDDLAK__CHARGE_2_FRGIO...</td>\n      <td>9704.987305</td>\n      <td>8190.450684</td>\n    </tr>\n    <tr>\n      <th>...</th>\n      <td>...</td>\n      <td>...</td>\n      <td>...</td>\n      <td>...</td>\n    </tr>\n    <tr>\n      <th>692757</th>\n      <td>V6CIS4;V6CIS8;V6CJX7;V6CL74;V6CL75;V6CLA2;V6CL...</td>\n      <td>SEQ_ITQVDGAVK_MOD__ITQVDGAVK__CHARGE_2_FRGION_...</td>\n      <td>17542.169922</td>\n      <td>0.000000</td>\n    </tr>\n    <tr>\n      <th>692758</th>\n      <td>V6CIS4;V6CIS8;V6CJX7;V6CL74;V6CL75;V6CLA2;V6CL...</td>\n      <td>SEQ_ITQVDGAVK_MOD__ITQVDGAVK__CHARGE_2_FRGION_...</td>\n      <td>71277.781250</td>\n      <td>0.000000</td>\n    </tr>\n    <tr>\n      <th>692759</th>\n      <td>V6CIS4;V6CIS8;V6CJX7;V6CL74;V6CL75;V6CLA2;V6CL...</td>\n      <td>SEQ_TFIPALCK_MOD__TFIPALC[Carbamidomethyl (C)]...</td>\n      <td>14574.911133</td>\n      <td>0.000000</td>\n    </tr>\n    <tr>\n      <th>692760</th>\n      <td>V6CIS4;V6CIS8;V6CJX7;V6CL74;V6CL75;V6CLA2;V6CL...</td>\n      <td>SEQ_TFIPALCK_MOD__TFIPALC[Carbamidomethyl (C)]...</td>\n      <td>54397.476562</td>\n      <td>0.000000</td>\n    </tr>\n    <tr>\n      <th>692761</th>\n      <td>V6CIS4;V6CIS8;V6CJX7;V6CL74;V6CL75;V6CLA2;V6CL...</td>\n      <td>SEQ_TFIPALCK_MOD__TFIPALC[Carbamidomethyl (C)]...</td>\n      <td>24750.234375</td>\n      <td>0.000000</td>\n    </tr>\n  </tbody>\n</table>\n<p>692762 rows × 4 columns</p>\n</div>",
      "text/plain": "R.Label                                            protein  \\\n0                                 A0A061ACL3;O76618;Q965I6   \n1                                 A0A061ACL3;O76618;Q965I6   \n2                                 A0A061ACL3;O76618;Q965I6   \n3                                 A0A061ACL3;O76618;Q965I6   \n4                                 A0A061ACL3;O76618;Q965I6   \n...                                                    ...   \n692757   V6CIS4;V6CIS8;V6CJX7;V6CL74;V6CL75;V6CLA2;V6CL...   \n692758   V6CIS4;V6CIS8;V6CJX7;V6CL74;V6CL75;V6CLA2;V6CL...   \n692759   V6CIS4;V6CIS8;V6CJX7;V6CL74;V6CL75;V6CLA2;V6CL...   \n692760   V6CIS4;V6CIS8;V6CJX7;V6CL74;V6CL75;V6CLA2;V6CL...   \n692761   V6CIS4;V6CIS8;V6CJX7;V6CL74;V6CL75;V6CLA2;V6CL...   \n\nR.Label                                                ion  \\\n0        SEQ_DHSVFDDLAK_MOD__DHSVFDDLAK__CHARGE_2_FRGIO...   \n1        SEQ_DHSVFDDLAK_MOD__DHSVFDDLAK__CHARGE_2_FRGIO...   \n2        SEQ_DHSVFDDLAK_MOD__DHSVFDDLAK__CHARGE_2_FRGIO...   \n3        SEQ_DHSVFDDLAK_MOD__DHSVFDDLAK__CHARGE_2_FRGIO...   \n4        SEQ_DHSVFDDLAK_MOD__DHSVFDDLAK__CHARGE_2_FRGIO...   \n...                                                    ...   \n692757   SEQ_ITQVDGAVK_MOD__ITQVDGAVK__CHARGE_2_FRGION_...   \n692758   SEQ_ITQVDGAVK_MOD__ITQVDGAVK__CHARGE_2_FRGION_...   \n692759   SEQ_TFIPALCK_MOD__TFIPALC[Carbamidomethyl (C)]...   \n692760   SEQ_TFIPALCK_MOD__TFIPALC[Carbamidomethyl (C)]...   \n692761   SEQ_TFIPALCK_MOD__TFIPALC[Carbamidomethyl (C)]...   \n\nR.Label  E_D170331_S209-S-1-240min_MHRM_R01_T0.htrms  \\\n0                                        4478.637695   \n1                                        4571.351562   \n2                                        2414.011719   \n3                                        3537.567139   \n4                                        9704.987305   \n...                                              ...   \n692757                                  17542.169922   \n692758                                  71277.781250   \n692759                                  14574.911133   \n692760                                  54397.476562   \n692761                                  24750.234375   \n\nR.Label  E_D170331_S209-S-1-240min_MHRM_R02_T0.htrms  \n0                                        3952.850586  \n1                                        4435.643066  \n2                                        2030.733521  \n3                                        1472.773438  \n4                                        8190.450684  \n...                                              ...  \n692757                                      0.000000  \n692758                                      0.000000  \n692759                                      0.000000  \n692760                                      0.000000  \n692761                                      0.000000  \n\n[692762 rows x 4 columns]"
     },
     "metadata": {},
     "output_type": "display_data"
    },
    {
     "data": {
      "text/plain": "['ion',\n 'E_D170331_S209-S-1-240min_MHRM_R01_T0.htrms',\n 'E_D170331_S209-S-1-240min_MHRM_R02_T0.htrms']"
     },
     "metadata": {},
     "output_type": "display_data"
    },
    {
     "data": {
      "text/html": "<div>\n<style scoped>\n    .dataframe tbody tr th:only-of-type {\n        vertical-align: middle;\n    }\n\n    .dataframe tbody tr th {\n        vertical-align: top;\n    }\n\n    .dataframe thead th {\n        text-align: right;\n    }\n</style>\n<table border=\"1\" class=\"dataframe\">\n  <thead>\n    <tr style=\"text-align: right;\">\n      <th></th>\n      <th>sample</th>\n      <th>condition</th>\n    </tr>\n  </thead>\n  <tbody>\n    <tr>\n      <th>0</th>\n      <td>E_D170331_S209-S-1-240min_MHRM_R01_T0.htrms</td>\n      <td>S1</td>\n    </tr>\n    <tr>\n      <th>1</th>\n      <td>E_D170331_S209-S-1-240min_MHRM_R02_T0.htrms</td>\n      <td>S1</td>\n    </tr>\n    <tr>\n      <th>2</th>\n      <td>E_D170331_S209-S-1-240min_MHRM_R03_T0.htrms</td>\n      <td>S1</td>\n    </tr>\n    <tr>\n      <th>3</th>\n      <td>E_D170331_S209-S-2-240min_MHRM_R01_T0.htrms</td>\n      <td>S2</td>\n    </tr>\n    <tr>\n      <th>4</th>\n      <td>E_D170331_S209-S-2-240min_MHRM_R02_T0.htrms</td>\n      <td>S2</td>\n    </tr>\n    <tr>\n      <th>5</th>\n      <td>E_D170331_S209-S-2-240min_MHRM_R03_T0.htrms</td>\n      <td>S2</td>\n    </tr>\n  </tbody>\n</table>\n</div>",
      "text/plain": "                                        sample condition\n0  E_D170331_S209-S-1-240min_MHRM_R01_T0.htrms        S1\n1  E_D170331_S209-S-1-240min_MHRM_R02_T0.htrms        S1\n2  E_D170331_S209-S-1-240min_MHRM_R03_T0.htrms        S1\n3  E_D170331_S209-S-2-240min_MHRM_R01_T0.htrms        S2\n4  E_D170331_S209-S-2-240min_MHRM_R02_T0.htrms        S2\n5  E_D170331_S209-S-2-240min_MHRM_R03_T0.htrms        S2"
     },
     "metadata": {},
     "output_type": "display_data"
    },
    {
     "data": {
      "text/html": "<div>\n<style scoped>\n    .dataframe tbody tr th:only-of-type {\n        vertical-align: middle;\n    }\n\n    .dataframe tbody tr th {\n        vertical-align: top;\n    }\n\n    .dataframe thead th {\n        text-align: right;\n    }\n</style>\n<table border=\"1\" class=\"dataframe\">\n  <thead>\n    <tr style=\"text-align: right;\">\n      <th>R.Label</th>\n      <th>protein</th>\n      <th>E_D170331_S209-S-1-240min_MHRM_R01_T0.htrms</th>\n      <th>E_D170331_S209-S-1-240min_MHRM_R02_T0.htrms</th>\n    </tr>\n    <tr>\n      <th>ion</th>\n      <th></th>\n      <th></th>\n      <th></th>\n    </tr>\n  </thead>\n  <tbody>\n    <tr>\n      <th>SEQ_DHSVFDDLAK_MOD__DHSVFDDLAK__CHARGE_2_FRGION_b3__H2O__1_</th>\n      <td>A0A061ACL3;O76618;Q965I6</td>\n      <td>12.128844</td>\n      <td>11.948678</td>\n    </tr>\n    <tr>\n      <th>SEQ_DHSVFDDLAK_MOD__DHSVFDDLAK__CHARGE_2_FRGION_b3__noloss__1_</th>\n      <td>A0A061ACL3;O76618;Q965I6</td>\n      <td>12.158405</td>\n      <td>12.114928</td>\n    </tr>\n    <tr>\n      <th>SEQ_DHSVFDDLAK_MOD__DHSVFDDLAK__CHARGE_2_FRGION_b7__noloss__1_</th>\n      <td>A0A061ACL3;O76618;Q965I6</td>\n      <td>11.237217</td>\n      <td>10.987785</td>\n    </tr>\n    <tr>\n      <th>SEQ_DHSVFDDLAK_MOD__DHSVFDDLAK__CHARGE_2_FRGION_y6__noloss__1_</th>\n      <td>A0A061ACL3;O76618;Q965I6</td>\n      <td>11.788542</td>\n      <td>10.524320</td>\n    </tr>\n    <tr>\n      <th>SEQ_DHSVFDDLAK_MOD__DHSVFDDLAK__CHARGE_2_FRGION_y8__noloss__1_</th>\n      <td>A0A061ACL3;O76618;Q965I6</td>\n      <td>13.244511</td>\n      <td>12.999727</td>\n    </tr>\n    <tr>\n      <th>...</th>\n      <td>...</td>\n      <td>...</td>\n      <td>...</td>\n    </tr>\n    <tr>\n      <th>SEQ_ITQVDGAVK_MOD__ITQVDGAVK__CHARGE_2_FRGION_y8__H2O__1_</th>\n      <td>V6CIS4;V6CIS8;V6CJX7;V6CL74;V6CL75;V6CLA2;V6CL...</td>\n      <td>14.098540</td>\n      <td>NaN</td>\n    </tr>\n    <tr>\n      <th>SEQ_ITQVDGAVK_MOD__ITQVDGAVK__CHARGE_2_FRGION_y8__noloss__1_</th>\n      <td>V6CIS4;V6CIS8;V6CJX7;V6CL74;V6CL75;V6CLA2;V6CL...</td>\n      <td>16.121165</td>\n      <td>NaN</td>\n    </tr>\n    <tr>\n      <th>SEQ_TFIPALCK_MOD__TFIPALC[Carbamidomethyl (C)]K__CHARGE_2_FRGION_y3__noloss__1_</th>\n      <td>V6CIS4;V6CIS8;V6CJX7;V6CL74;V6CL75;V6CLA2;V6CL...</td>\n      <td>13.831199</td>\n      <td>NaN</td>\n    </tr>\n    <tr>\n      <th>SEQ_TFIPALCK_MOD__TFIPALC[Carbamidomethyl (C)]K__CHARGE_2_FRGION_y5__noloss__1_</th>\n      <td>V6CIS4;V6CIS8;V6CJX7;V6CL74;V6CL75;V6CLA2;V6CL...</td>\n      <td>15.731252</td>\n      <td>NaN</td>\n    </tr>\n    <tr>\n      <th>SEQ_TFIPALCK_MOD__TFIPALC[Carbamidomethyl (C)]K__CHARGE_2_FRGION_y6__noloss__1_</th>\n      <td>V6CIS4;V6CIS8;V6CJX7;V6CL74;V6CL75;V6CLA2;V6CL...</td>\n      <td>14.595155</td>\n      <td>NaN</td>\n    </tr>\n  </tbody>\n</table>\n<p>692762 rows × 3 columns</p>\n</div>",
      "text/plain": "R.Label                                                                                       protein  \\\nion                                                                                                     \nSEQ_DHSVFDDLAK_MOD__DHSVFDDLAK__CHARGE_2_FRGION...                           A0A061ACL3;O76618;Q965I6   \nSEQ_DHSVFDDLAK_MOD__DHSVFDDLAK__CHARGE_2_FRGION...                           A0A061ACL3;O76618;Q965I6   \nSEQ_DHSVFDDLAK_MOD__DHSVFDDLAK__CHARGE_2_FRGION...                           A0A061ACL3;O76618;Q965I6   \nSEQ_DHSVFDDLAK_MOD__DHSVFDDLAK__CHARGE_2_FRGION...                           A0A061ACL3;O76618;Q965I6   \nSEQ_DHSVFDDLAK_MOD__DHSVFDDLAK__CHARGE_2_FRGION...                           A0A061ACL3;O76618;Q965I6   \n...                                                                                               ...   \nSEQ_ITQVDGAVK_MOD__ITQVDGAVK__CHARGE_2_FRGION_y...  V6CIS4;V6CIS8;V6CJX7;V6CL74;V6CL75;V6CLA2;V6CL...   \nSEQ_ITQVDGAVK_MOD__ITQVDGAVK__CHARGE_2_FRGION_y...  V6CIS4;V6CIS8;V6CJX7;V6CL74;V6CL75;V6CLA2;V6CL...   \nSEQ_TFIPALCK_MOD__TFIPALC[Carbamidomethyl (C)]K...  V6CIS4;V6CIS8;V6CJX7;V6CL74;V6CL75;V6CLA2;V6CL...   \nSEQ_TFIPALCK_MOD__TFIPALC[Carbamidomethyl (C)]K...  V6CIS4;V6CIS8;V6CJX7;V6CL74;V6CL75;V6CLA2;V6CL...   \nSEQ_TFIPALCK_MOD__TFIPALC[Carbamidomethyl (C)]K...  V6CIS4;V6CIS8;V6CJX7;V6CL74;V6CL75;V6CLA2;V6CL...   \n\nR.Label                                             E_D170331_S209-S-1-240min_MHRM_R01_T0.htrms  \\\nion                                                                                               \nSEQ_DHSVFDDLAK_MOD__DHSVFDDLAK__CHARGE_2_FRGION...                                    12.128844   \nSEQ_DHSVFDDLAK_MOD__DHSVFDDLAK__CHARGE_2_FRGION...                                    12.158405   \nSEQ_DHSVFDDLAK_MOD__DHSVFDDLAK__CHARGE_2_FRGION...                                    11.237217   \nSEQ_DHSVFDDLAK_MOD__DHSVFDDLAK__CHARGE_2_FRGION...                                    11.788542   \nSEQ_DHSVFDDLAK_MOD__DHSVFDDLAK__CHARGE_2_FRGION...                                    13.244511   \n...                                                                                         ...   \nSEQ_ITQVDGAVK_MOD__ITQVDGAVK__CHARGE_2_FRGION_y...                                    14.098540   \nSEQ_ITQVDGAVK_MOD__ITQVDGAVK__CHARGE_2_FRGION_y...                                    16.121165   \nSEQ_TFIPALCK_MOD__TFIPALC[Carbamidomethyl (C)]K...                                    13.831199   \nSEQ_TFIPALCK_MOD__TFIPALC[Carbamidomethyl (C)]K...                                    15.731252   \nSEQ_TFIPALCK_MOD__TFIPALC[Carbamidomethyl (C)]K...                                    14.595155   \n\nR.Label                                             E_D170331_S209-S-1-240min_MHRM_R02_T0.htrms  \nion                                                                                              \nSEQ_DHSVFDDLAK_MOD__DHSVFDDLAK__CHARGE_2_FRGION...                                    11.948678  \nSEQ_DHSVFDDLAK_MOD__DHSVFDDLAK__CHARGE_2_FRGION...                                    12.114928  \nSEQ_DHSVFDDLAK_MOD__DHSVFDDLAK__CHARGE_2_FRGION...                                    10.987785  \nSEQ_DHSVFDDLAK_MOD__DHSVFDDLAK__CHARGE_2_FRGION...                                    10.524320  \nSEQ_DHSVFDDLAK_MOD__DHSVFDDLAK__CHARGE_2_FRGION...                                    12.999727  \n...                                                                                         ...  \nSEQ_ITQVDGAVK_MOD__ITQVDGAVK__CHARGE_2_FRGION_y...                                          NaN  \nSEQ_ITQVDGAVK_MOD__ITQVDGAVK__CHARGE_2_FRGION_y...                                          NaN  \nSEQ_TFIPALCK_MOD__TFIPALC[Carbamidomethyl (C)]K...                                          NaN  \nSEQ_TFIPALCK_MOD__TFIPALC[Carbamidomethyl (C)]K...                                          NaN  \nSEQ_TFIPALCK_MOD__TFIPALC[Carbamidomethyl (C)]K...                                          NaN  \n\n[692762 rows x 3 columns]"
     },
     "metadata": {},
     "output_type": "display_data"
    },
    {
     "data": {
      "text/html": "<div>\n<style scoped>\n    .dataframe tbody tr th:only-of-type {\n        vertical-align: middle;\n    }\n\n    .dataframe tbody tr th {\n        vertical-align: top;\n    }\n\n    .dataframe thead th {\n        text-align: right;\n    }\n</style>\n<table border=\"1\" class=\"dataframe\">\n  <thead>\n    <tr style=\"text-align: right;\">\n      <th></th>\n      <th>sample</th>\n      <th>condition</th>\n    </tr>\n  </thead>\n  <tbody>\n    <tr>\n      <th>0</th>\n      <td>E_D170331_S209-S-1-240min_MHRM_R01_T0.htrms</td>\n      <td>S1</td>\n    </tr>\n    <tr>\n      <th>1</th>\n      <td>E_D170331_S209-S-1-240min_MHRM_R02_T0.htrms</td>\n      <td>S1</td>\n    </tr>\n  </tbody>\n</table>\n</div>",
      "text/plain": "                                        sample condition\n0  E_D170331_S209-S-1-240min_MHRM_R01_T0.htrms        S1\n1  E_D170331_S209-S-1-240min_MHRM_R02_T0.htrms        S1"
     },
     "metadata": {},
     "output_type": "display_data"
    },
    {
     "ename": "ValueError",
     "evalue": "No objects to concatenate",
     "output_type": "error",
     "traceback": [
      "\u001b[0;31m---------------------------------------------------------------------------\u001b[0m",
      "\u001b[0;31mValueError\u001b[0m                                Traceback (most recent call last)",
      "\u001b[0;32m<ipython-input-1-1d21876d6d23>\u001b[0m in \u001b[0;36m<module>\u001b[0;34m\u001b[0m\n\u001b[1;32m     38\u001b[0m \u001b[0;34m\u001b[0m\u001b[0m\n\u001b[1;32m     39\u001b[0m \u001b[0;31m#run the pipeline, plots are deactivated (runtime_plots actually set False as default also)\u001b[0m\u001b[0;34m\u001b[0m\u001b[0;34m\u001b[0m\u001b[0;34m\u001b[0m\u001b[0m\n\u001b[0;32m---> 40\u001b[0;31m \u001b[0mdiffmgr\u001b[0m\u001b[0;34m.\u001b[0m\u001b[0mrun_pipeline\u001b[0m\u001b[0;34m(\u001b[0m\u001b[0minput_processed\u001b[0m\u001b[0;34m,\u001b[0m \u001b[0msamplemap_df_processed\u001b[0m\u001b[0;34m,\u001b[0m \u001b[0mresults_folder\u001b[0m\u001b[0;34m,\u001b[0m\u001b[0mruntime_plots\u001b[0m\u001b[0;34m=\u001b[0m\u001b[0;32mFalse\u001b[0m\u001b[0;34m)\u001b[0m\u001b[0;34m\u001b[0m\u001b[0;34m\u001b[0m\u001b[0m\n\u001b[0m",
      "\u001b[0;32m~/workspace/EmpiRe/alphaquant/alphaquant/diff_analysis_manager.py\u001b[0m in \u001b[0;36mrun_pipeline\u001b[0;34m(unnormed_df, labelmap_df, results_dir, condpair_combinations, minrep, outlier_correction, median_offset, pre_normed_intensity_file, dia_fragment_selection, runtime_plots, volcano_fdr, volcano_fcthresh, annotation_file)\u001b[0m\n\u001b[1;32m     54\u001b[0m         \u001b[0mpep_dfs\u001b[0m\u001b[0;34m.\u001b[0m\u001b[0mappend\u001b[0m\u001b[0;34m(\u001b[0m\u001b[0mpeps\u001b[0m\u001b[0;34m)\u001b[0m\u001b[0;34m\u001b[0m\u001b[0;34m\u001b[0m\u001b[0m\n\u001b[1;32m     55\u001b[0m \u001b[0;34m\u001b[0m\u001b[0m\n\u001b[0;32m---> 56\u001b[0;31m     \u001b[0mres_df\u001b[0m \u001b[0;34m=\u001b[0m \u001b[0mpd\u001b[0m\u001b[0;34m.\u001b[0m\u001b[0mconcat\u001b[0m\u001b[0;34m(\u001b[0m\u001b[0mres_dfs\u001b[0m\u001b[0;34m)\u001b[0m\u001b[0;34m\u001b[0m\u001b[0;34m\u001b[0m\u001b[0m\n\u001b[0m\u001b[1;32m     57\u001b[0m     \u001b[0mpep_df\u001b[0m \u001b[0;34m=\u001b[0m \u001b[0mpd\u001b[0m\u001b[0;34m.\u001b[0m\u001b[0mconcat\u001b[0m\u001b[0;34m(\u001b[0m\u001b[0mpep_dfs\u001b[0m\u001b[0;34m)\u001b[0m\u001b[0;34m\u001b[0m\u001b[0;34m\u001b[0m\u001b[0m\n\u001b[1;32m     58\u001b[0m \u001b[0;34m\u001b[0m\u001b[0m\n",
      "\u001b[0;32m/opt/anaconda3/lib/python3.8/site-packages/pandas/core/reshape/concat.py\u001b[0m in \u001b[0;36mconcat\u001b[0;34m(objs, axis, join, ignore_index, keys, levels, names, verify_integrity, sort, copy)\u001b[0m\n\u001b[1;32m    272\u001b[0m     \u001b[0mValueError\u001b[0m\u001b[0;34m:\u001b[0m \u001b[0mIndexes\u001b[0m \u001b[0mhave\u001b[0m \u001b[0moverlapping\u001b[0m \u001b[0mvalues\u001b[0m\u001b[0;34m:\u001b[0m \u001b[0;34m[\u001b[0m\u001b[0;34m'a'\u001b[0m\u001b[0;34m]\u001b[0m\u001b[0;34m\u001b[0m\u001b[0;34m\u001b[0m\u001b[0m\n\u001b[1;32m    273\u001b[0m     \"\"\"\n\u001b[0;32m--> 274\u001b[0;31m     op = _Concatenator(\n\u001b[0m\u001b[1;32m    275\u001b[0m         \u001b[0mobjs\u001b[0m\u001b[0;34m,\u001b[0m\u001b[0;34m\u001b[0m\u001b[0;34m\u001b[0m\u001b[0m\n\u001b[1;32m    276\u001b[0m         \u001b[0maxis\u001b[0m\u001b[0;34m=\u001b[0m\u001b[0maxis\u001b[0m\u001b[0;34m,\u001b[0m\u001b[0;34m\u001b[0m\u001b[0;34m\u001b[0m\u001b[0m\n",
      "\u001b[0;32m/opt/anaconda3/lib/python3.8/site-packages/pandas/core/reshape/concat.py\u001b[0m in \u001b[0;36m__init__\u001b[0;34m(self, objs, axis, join, keys, levels, names, ignore_index, verify_integrity, copy, sort)\u001b[0m\n\u001b[1;32m    329\u001b[0m \u001b[0;34m\u001b[0m\u001b[0m\n\u001b[1;32m    330\u001b[0m         \u001b[0;32mif\u001b[0m \u001b[0mlen\u001b[0m\u001b[0;34m(\u001b[0m\u001b[0mobjs\u001b[0m\u001b[0;34m)\u001b[0m \u001b[0;34m==\u001b[0m \u001b[0;36m0\u001b[0m\u001b[0;34m:\u001b[0m\u001b[0;34m\u001b[0m\u001b[0;34m\u001b[0m\u001b[0m\n\u001b[0;32m--> 331\u001b[0;31m             \u001b[0;32mraise\u001b[0m \u001b[0mValueError\u001b[0m\u001b[0;34m(\u001b[0m\u001b[0;34m\"No objects to concatenate\"\u001b[0m\u001b[0;34m)\u001b[0m\u001b[0;34m\u001b[0m\u001b[0;34m\u001b[0m\u001b[0m\n\u001b[0m\u001b[1;32m    332\u001b[0m \u001b[0;34m\u001b[0m\u001b[0m\n\u001b[1;32m    333\u001b[0m         \u001b[0;32mif\u001b[0m \u001b[0mkeys\u001b[0m \u001b[0;32mis\u001b[0m \u001b[0;32mNone\u001b[0m\u001b[0;34m:\u001b[0m\u001b[0;34m\u001b[0m\u001b[0;34m\u001b[0m\u001b[0m\n",
      "\u001b[0;31mValueError\u001b[0m: No objects to concatenate"
     ]
    }
   ],
   "source": [
    "import alphaquant.diffquant_utils as aqutils\n",
    "import alphaquant.diff_analysis_manager as diffmgr\n",
    "import os\n",
    "tabledir = os.path.join(\"..\", \"..\", \"test_data\", \"input_table_formats\")\n",
    "results_folder = os.path.join(\".\", \"results\")\n",
    "print(os.path.abspath(results_folder))\n",
    "\n",
    "\n",
    "#input_file = os.path.join(tabledir,\"diann.tsv\" )\n",
    "#input_file = os.path.join(tabledir, \"spectronaut.tsv\")\n",
    "input_file = os.path.join(tabledir, \"spectronaut_frgion.tsv\")\n",
    "#input_file = os.path.join(tabledir, \"mq_peptides.txt\")\n",
    "\n",
    "#samplemap_file = os.path.join(tabledir, \"samplemap.diann.tsv\")\n",
    "#samplemap_file = os.path.join(tabledir, \"samplemap.spectronaut.tsv\")\n",
    "samplemap_file = os.path.join(tabledir, \"samplemap.spectronaut.frgions.tsv\")\n",
    "#samplemap_file = os.path.join(tabledir, \"samplemap.mq.tsv\")\n",
    "\n",
    "#import the input table once the input and the results folder are specified. \n",
    "# The function automatically recognizes the format (Currently MQ, Spectronaut, DIA-NN configured)\n",
    "input_data = aqutils.import_data(input_file, results_folder=results_folder)\n",
    "display(input_data)\n",
    "\n",
    "#get sample names from the imported table\n",
    "samplenames = aqutils.get_samplenames(input_data)\n",
    "display(samplenames)\n",
    "\n",
    "#load the samplemap dataframe (in case the user uploads a file. Basically a pandas import + separator check)\n",
    "samplemap_df = aqutils.load_samplemap(samplemap_file)\n",
    "display(samplemap_df)\n",
    "\n",
    "#compare samplemap and actual table, merge & logtransform intensities\n",
    "input_processed, samplemap_df_processed = aqutils.prepare_loaded_tables(input_data, samplemap_df)\n",
    "\n",
    "display(input_processed)\n",
    "display(samplemap_df_processed)\n",
    "\n",
    "\n",
    "#run the pipeline, plots are deactivated (runtime_plots actually set False as default also)\n",
    "diffmgr.run_pipeline(input_processed, samplemap_df_processed, results_folder,runtime_plots=False, condpair_combinations=[('H100Y1', 'H100Y100')]) #these condpair combiantions now just work for DIA-NN"
   ]
  }
 ],
 "metadata": {},
 "nbformat": 4,
 "nbformat_minor": 2
}
