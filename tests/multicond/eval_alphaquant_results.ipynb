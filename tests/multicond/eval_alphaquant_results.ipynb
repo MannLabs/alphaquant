{
 "cells": [
  {
   "cell_type": "code",
   "execution_count": 1,
   "metadata": {},
   "outputs": [],
   "source": [
    "%reload_ext autoreload\n",
    "%autoreload 2"
   ]
  },
  {
   "cell_type": "code",
   "execution_count": 2,
   "metadata": {},
   "outputs": [],
   "source": [
    "import os\n",
    "\n",
    "os.chdir('../../test_data/system_tests/multicond')"
   ]
  },
  {
   "cell_type": "code",
   "execution_count": 3,
   "metadata": {},
   "outputs": [],
   "source": [
    "RESULTS_DIR = \"results\""
   ]
  },
  {
   "cell_type": "code",
   "execution_count": 26,
   "metadata": {},
   "outputs": [],
   "source": [
    "import alphaquant.utils.utils as utils\n",
    "import pandas as pd\n",
    "\n",
    "class MedianRefResultLoader():\n",
    "    def __init__(self, results_dir):\n",
    "        self._results_dir = results_dir\n",
    "        self.condpair2tree = {}\n",
    "\n",
    "        self._define_condpair2tree()\n",
    "    \n",
    "    def _define_condpair2tree(self):\n",
    "        self.condpair2tree = utils.read_all_trees_in_results_folder(self._results_dir)\n",
    "        self._remove_all_condpairs_w_no_medianref()\n",
    "    \n",
    "    def _remove_all_condpairs_w_no_medianref(self):\n",
    "        keys_to_remove = [x for x in self.condpair2tree.keys() if \"median_reference\" not in x]\n",
    "        for key in keys_to_remove:\n",
    "            del self.condpair2tree[key]\n",
    "    \n",
    "    \n",
    "\n",
    "class MedianRefConditionCombiner():\n",
    "    def __init__(self, condpair2tree):\n",
    "        self._condpair2tree = condpair2tree\n",
    "\n",
    "        self.protein2nodes = {}\n",
    "        self.peptide_resolved_proteoform_df = None\n",
    "\n",
    "        self._define_protein2nodes()      \n",
    "        self._define_combined_dataframe()\n",
    "\n",
    "    def _define_protein2nodes(self):\n",
    "        for tree in self._condpair2tree.values():\n",
    "            cond = tree.name[0]\n",
    "            for protnode in tree.children:\n",
    "                self._extend_protein2nodes(protnode, cond)\n",
    "\n",
    "    def _extend_protein2nodes(self, protnode, cond):\n",
    "        protnode.cond = cond\n",
    "        if protnode.name not in self.protein2nodes:\n",
    "            self.protein2nodes[protnode.name] = []\n",
    "        self.protein2nodes[protnode.name].append(protnode)\n",
    "\n",
    "    def _define_combined_dataframe(self):\n",
    "        list_of_proteoform_dfs = []\n",
    "        for protein, nodes in self.protein2nodes.items():\n",
    "            proteoform_df = ProteoformConditionAligner(nodes).proteoform_df\n",
    "            list_of_proteoform_dfs.append(proteoform_df)\n",
    "        self.peptide_resolved_proteoform_df = pd.concat(list_of_proteoform_dfs)\n",
    "    \n"
   ]
  },
  {
   "cell_type": "code",
   "execution_count": null,
   "metadata": {},
   "outputs": [],
   "source": []
  },
  {
   "cell_type": "code",
   "execution_count": null,
   "metadata": {},
   "outputs": [],
   "source": []
  },
  {
   "cell_type": "code",
   "execution_count": 32,
   "metadata": {},
   "outputs": [
    {
     "ename": "NameError",
     "evalue": "name 'peptide_resolved_proteoform_df' is not defined",
     "output_type": "error",
     "traceback": [
      "\u001b[0;31m---------------------------------------------------------------------------\u001b[0m",
      "\u001b[0;31mNameError\u001b[0m                                 Traceback (most recent call last)",
      "\u001b[1;32m/Users/constantin/workspace/alphaquant/tests/multicond/eval_alphaquant_results.ipynb Cell 11\u001b[0m line \u001b[0;36m<cell line: 27>\u001b[0;34m()\u001b[0m\n\u001b[1;32m     <a href='vscode-notebook-cell:/Users/constantin/workspace/alphaquant/tests/multicond/eval_alphaquant_results.ipynb#W6sZmlsZQ%3D%3D?line=22'>23</a>\u001b[0m         is_first_proteoform \u001b[39m=\u001b[39m [x\u001b[39m.\u001b[39mendswith(\u001b[39m\"\u001b[39m\u001b[39m_0\u001b[39m\u001b[39m\"\u001b[39m) \u001b[39mfor\u001b[39;00m x \u001b[39min\u001b[39;00m \u001b[39mself\u001b[39m\u001b[39m.\u001b[39mpeptide_resolved_proteoform_df[\u001b[39m\"\u001b[39m\u001b[39mproteoform_id\u001b[39m\u001b[39m\"\u001b[39m]]\n\u001b[1;32m     <a href='vscode-notebook-cell:/Users/constantin/workspace/alphaquant/tests/multicond/eval_alphaquant_results.ipynb#W6sZmlsZQ%3D%3D?line=23'>24</a>\u001b[0m         \u001b[39mself\u001b[39m\u001b[39m.\u001b[39mprotein_df_pform0 \u001b[39m=\u001b[39m \u001b[39mself\u001b[39m\u001b[39m.\u001b[39mpeptide_resolved_proteoform_df[is_first_proteoform]\u001b[39m.\u001b[39mgroupby(\u001b[39m'\u001b[39m\u001b[39mprotein_name\u001b[39m\u001b[39m'\u001b[39m)\u001b[39m.\u001b[39mmean()\u001b[39m.\u001b[39mreset_index()\n\u001b[0;32m---> <a href='vscode-notebook-cell:/Users/constantin/workspace/alphaquant/tests/multicond/eval_alphaquant_results.ipynb#W6sZmlsZQ%3D%3D?line=26'>27</a>\u001b[0m df_reformatter \u001b[39m=\u001b[39m CombinedProteoformDfFormatter(peptide_resolved_proteoform_df)\n\u001b[1;32m     <a href='vscode-notebook-cell:/Users/constantin/workspace/alphaquant/tests/multicond/eval_alphaquant_results.ipynb#W6sZmlsZQ%3D%3D?line=28'>29</a>\u001b[0m display(peptide_resolved_proteoform_df)\n\u001b[1;32m     <a href='vscode-notebook-cell:/Users/constantin/workspace/alphaquant/tests/multicond/eval_alphaquant_results.ipynb#W6sZmlsZQ%3D%3D?line=29'>30</a>\u001b[0m display(df_reformatter\u001b[39m.\u001b[39mproteoform_df)\n",
      "\u001b[0;31mNameError\u001b[0m: name 'peptide_resolved_proteoform_df' is not defined"
     ]
    }
   ],
   "source": [
    "\n",
    "df_reformatter = CombinedProteoformDfFormatter(peptide_resolved_proteoform_df)\n",
    "\n",
    "display(peptide_resolved_proteoform_df)\n",
    "display(df_reformatter.proteoform_df)\n",
    "display(df_reformatter.protein_df_average)\n",
    "display(df_reformatter.protein_df_pform0)\n"
   ]
  },
  {
   "cell_type": "code",
   "execution_count": null,
   "metadata": {},
   "outputs": [],
   "source": [
    "\n",
    "\n",
    "def ends_with_zero(x):\n",
    "    return x.endswith('0')\n",
    "\n",
    "count_ends_with_zero = peptide_resolved_proteoform_df[peptide_resolved_proteoform_df['proteoform_id'].apply(ends_with_zero)].groupby('protein_name').size()\n",
    "\n",
    "total_count = peptide_resolved_proteoform_df.groupby('protein_name').size()\n",
    "\n",
    "fraction_ends_with_zero = count_ends_with_zero / total_count\n",
    "\n",
    "display(fraction_ends_with_zero)\n",
    "\n",
    "import matplotlib.pyplot as plt\n",
    "\n",
    "plt.hist(fraction_ends_with_zero, cumulative=False, density=True)\n",
    "\n",
    "\n"
   ]
  }
 ],
 "metadata": {
  "kernelspec": {
   "display_name": "directlfq",
   "language": "python",
   "name": "python3"
  },
  "language_info": {
   "codemirror_mode": {
    "name": "ipython",
    "version": 3
   },
   "file_extension": ".py",
   "mimetype": "text/x-python",
   "name": "python",
   "nbconvert_exporter": "python",
   "pygments_lexer": "ipython3",
   "version": "3.8.13"
  },
  "orig_nbformat": 4
 },
 "nbformat": 4,
 "nbformat_minor": 2
}
