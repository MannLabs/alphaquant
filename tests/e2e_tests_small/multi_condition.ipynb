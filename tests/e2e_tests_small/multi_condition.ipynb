{
 "cells": [
  {
   "cell_type": "markdown",
   "metadata": {},
   "source": [
    "# Quicktests on Mixed Species Dataset Multi-Condition\n",
    "\n",
    "This notebook runs AlphaQuant on a Mixed Species dataset, subsetted to only around 60 proteins. We run Alphaquant in 'multicond_median_analysis' mode, which means, that a median reference is created against which the other conditions are compared. We then check that the comparisons against this median conditon neither violate fdr nor are less sensitive than expected. We additionally check if the ratios are as expected."
   ]
  },
  {
   "cell_type": "code",
   "execution_count": null,
   "metadata": {},
   "outputs": [],
   "source": [
    "#download test files for benchmarking\n",
    "\n",
    "import alphaquant.benchm.testfile_handling\n",
    "test_folder = \"../../test_data/\"\n",
    "links_yaml_quicktest_files = \"../../alphaquant/config/download_links_for_testfiles_quicktest.yaml\"\n",
    "\n",
    "\n",
    "\n",
    "testfieldownloader = alphaquant.benchm.testfile_handling.TestFileDownloader(test_folder=test_folder, links_yaml=links_yaml_quicktest_files, subfolder_of_interest=\"mixed_species\")\n",
    "testfieldownloader = alphaquant.benchm.testfile_handling.TestFileDownloader(test_folder=test_folder, links_yaml=links_yaml_quicktest_files, subfolder_of_interest=\"databases\")"
   ]
  },
  {
   "cell_type": "code",
   "execution_count": null,
   "metadata": {},
   "outputs": [],
   "source": [
    "import os\n",
    "\n",
    "os.chdir(\"../../test_data/quicktests/mixed_species\")"
   ]
  },
  {
   "cell_type": "code",
   "execution_count": null,
   "metadata": {},
   "outputs": [],
   "source": [
    "INPUT_FILE = \"20210210_154121_S209-S-1-240min_Report_quicktest_shortened.tsv.zip\"\n",
    "SAMPLEMAP = \"samplemap.tsv\"\n",
    "RESULTS_DIR = \"results_multicond\"\n",
    "SHARED_PEPTIDES_BETWEEN_SPECIES_FILE = \"../../databases/intersecting_peptides_human_yeast_cael_ecoli.tsv\""
   ]
  },
  {
   "cell_type": "code",
   "execution_count": null,
   "metadata": {},
   "outputs": [],
   "source": [
    "import alphaquant.run_pipeline as run_pipeline\n",
    "\n",
    "run_pipeline.run_pipeline(input_file=INPUT_FILE, samplemap_file=SAMPLEMAP, results_dir=RESULTS_DIR, runtime_plots=True, minrep_either= 2, take_median_ion= True, multicond_median_analysis=True,\n",
    "                           annotation_columns=[\"PG.Genes\", \"PG.Organisms\"], input_type_to_use= \"spectronaut_fragion_ms1_protein\", peptides_to_exclude_file=SHARED_PEPTIDES_BETWEEN_SPECIES_FILE)"
   ]
  },
  {
   "cell_type": "code",
   "execution_count": null,
   "metadata": {},
   "outputs": [],
   "source": [
    "import pandas as pd\n",
    "results_table_s1 = f\"{RESULTS_DIR}/S1_VS_median_reference.results.tsv\"\n",
    "results_table_s2 = f\"{RESULTS_DIR}/S2_VS_median_reference.results.tsv\"\n",
    "\n",
    "results_df_s1 = pd.read_csv(results_table_s1, sep=\"\\t\")\n",
    "results_df_s2 = pd.read_csv(results_table_s2, sep=\"\\t\")\n",
    "\n",
    "results_df_reformat_s1 = results_df_s1[[\"protein\", \"PG.Organisms\", \"log2fc\", \"fdr\"]].rename(columns={\"PG.Organisms\": \"organism_alphaquant\",\"log2fc\": \"log2fc_alphaquant\", \n",
    "                                                                                               \"fdr\": \"fdr_alphaquant\"})\n",
    "results_df_reformat_s2 = results_df_s2[[\"protein\", \"PG.Organisms\", \"log2fc\", \"fdr\"]].rename(columns={\"PG.Organisms\": \"organism_alphaquant\",\"log2fc\": \"log2fc_alphaquant\",\n",
    "                                                                                                  \"fdr\": \"fdr_alphaquant\"})"
   ]
  },
  {
   "cell_type": "code",
   "execution_count": null,
   "metadata": {},
   "outputs": [],
   "source": [
    "import numpy as np\n",
    "import alphaquant.benchm.sensitivity as aq_benchm_sensitivity\n",
    "\n",
    "classification_benchmark_s1 = aq_benchm_sensitivity.RatioClassificationTableGenerator(results_df_reformat_s1, decoy_organism=\"Homo sapiens\", method_suffixes=[\"_alphaquant\"])\n",
    "classification_df_s1 = classification_benchmark_s1.per_species_results_df.replace(np.nan, 0)\n",
    "display(classification_df_s1)\n",
    "\n",
    "aq_benchm_sensitivity.plot_sighits_barplot(classification_df_s1, suffixes=[\"_alphaquant\"], decoy_organism=\"Homo sapiens\")\n",
    "\n",
    "\n",
    "classification_benchmark_s2 = aq_benchm_sensitivity.RatioClassificationTableGenerator(results_df_reformat_s1, decoy_organism=\"Homo sapiens\", method_suffixes=[\"_alphaquant\"])\n",
    "classification_df_s2 = classification_benchmark_s2.per_species_results_df.replace(np.nan, 0)\n",
    "display(classification_df_s2)\n",
    "\n",
    "aq_benchm_sensitivity.plot_sighits_barplot(classification_df_s2, suffixes=[\"_alphaquant\"], decoy_organism=\"Homo sapiens\")\n",
    "\n"
   ]
  },
  {
   "cell_type": "code",
   "execution_count": null,
   "metadata": {},
   "outputs": [],
   "source": [
    "def assert_fdr_is_not_violated(classification_df, suffix = \"_alphaquant\",  decoy_organism=\"Homo sapiens\"):\n",
    "    idx_of_decoy_organism = classification_df[classification_df.index == decoy_organism].index\n",
    "    num_allowed_hits = classification_df.loc[idx_of_decoy_organism, f\"allowed_decoy_hits{suffix}\"].values[0]\n",
    "    num_allowed_hits_w_tolerance = int(1.1*num_allowed_hits)\n",
    "    num_actual_hits =  classification_df.loc[idx_of_decoy_organism,f\"hits{suffix}\"].values[0]\n",
    "\n",
    "    assert num_actual_hits < num_allowed_hits_w_tolerance , \"more false postives than expected\"\n",
    "\n",
    "\n",
    "def assert_sensitivity_is_as_expected(classification_df):\n",
    "    assert classification_df.loc[\"Caenorhabditis elegans\", \"hits_alphaquant\"] >=19\n",
    "    assert classification_df.loc[\"Escherichia coli (strain K12)\", \"hits_alphaquant\"] >=14\n",
    "    assert classification_df.loc[\"Saccharomyces cerevisiae (strain ATCC 204508 / S288c)\", \"hits_alphaquant\"] >=13\n",
    "\n",
    "\n",
    "assert_fdr_is_not_violated(classification_df_s1)\n",
    "assert_sensitivity_is_as_expected(classification_df_s1)\n",
    "\n",
    "assert_fdr_is_not_violated(classification_df_s2)\n",
    "assert_sensitivity_is_as_expected(classification_df_s2)\n"
   ]
  },
  {
   "cell_type": "code",
   "execution_count": null,
   "metadata": {},
   "outputs": [],
   "source": [
    "import matplotlib.pyplot as plt\n",
    "medianref_table = f\"{RESULTS_DIR}/medianref_protein_alphaquant.tsv\"\n",
    "\n",
    "df_medianref = pd.read_csv(medianref_table, sep=\"\\t\")\n",
    "\n",
    "df_medianref[\"fcdiff\"] = df_medianref[\"S1\"] - df_medianref[\"S2\"]\n",
    "\n",
    "fig, ax = plt.subplots()\n",
    "df_medianref.hist(column=\"fcdiff\", bins=20, ax=ax)\n",
    "\n",
    "expected_log2fcs= np.array([-2.2, -1.2, 0,2])\n",
    "for fc in expected_log2fcs:\n",
    "    ax.axvline(x=fc, color='r', linestyle='--')\n",
    "\n",
    "fcdiff_values = df_medianref[\"fcdiff\"].dropna().values\n",
    "\n",
    "within_tolerance_list = []\n",
    "for fc in fcdiff_values:\n",
    "    within_tolerance = np.any(np.abs(expected_log2fcs - fc) < 0.4)\n",
    "    within_tolerance_list.append(within_tolerance)\n",
    "\n",
    "fraction_within_tolerance = sum(within_tolerance_list)/ len(within_tolerance_list)\n",
    "\n",
    "assert fraction_within_tolerance > 0.95\n",
    "\n"
   ]
  },
  {
   "cell_type": "code",
   "execution_count": null,
   "metadata": {},
   "outputs": [],
   "source": []
  }
 ],
 "metadata": {
  "kernelspec": {
   "display_name": "alphaquant",
   "language": "python",
   "name": "python3"
  },
  "language_info": {
   "codemirror_mode": {
    "name": "ipython",
    "version": 3
   },
   "file_extension": ".py",
   "mimetype": "text/x-python",
   "name": "python",
   "nbconvert_exporter": "python",
   "pygments_lexer": "ipython3",
   "version": "3.9.20"
  }
 },
 "nbformat": 4,
 "nbformat_minor": 2
}
