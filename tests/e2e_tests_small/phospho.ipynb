{
 "cells": [
  {
   "cell_type": "markdown",
   "metadata": {},
   "source": [
    "# Quicktests on Mixed Species Dataset\n",
    "\n",
    "This notebook runs AlphaQuant on a subsetted phospho dataset, where little to no regulation should be happening. This checks wether the ptmsite mapping is working correctly and additionally checks, wether the fdr is violated by detecting too many regulated ptm sites."
   ]
  },
  {
   "cell_type": "code",
   "execution_count": null,
   "metadata": {},
   "outputs": [],
   "source": [
    "#download test files for benchmarking\n",
    "\n",
    "#download test files for benchmarking\n",
    "import alphabase.tools.data_downloader\n",
    "\n",
    "downloader_phospho = alphabase.tools.data_downloader.DataShareDownloader(\"https://datashare.biochem.mpg.de/s/ZBffHKLZqSbYwtG\", output_dir=\"../../test_data/quicktests/\")\n",
    "downloader_databases = alphabase.tools.data_downloader.DataShareDownloader(\"https://datashare.biochem.mpg.de/s/v9q2lhFPDljN755\", output_dir=\"../../test_data/\")\n",
    "\n",
    "downloader_phospho.download()\n",
    "downloader_databases.download()\n",
    "\n"
   ]
  },
  {
   "cell_type": "code",
   "execution_count": null,
   "metadata": {},
   "outputs": [],
   "source": [
    "import os\n",
    "os.chdir(\"../../test_data/quicktests/phospho\")"
   ]
  },
  {
   "cell_type": "code",
   "execution_count": null,
   "metadata": {},
   "outputs": [],
   "source": [
    "RESULTS_DIR = \"results\"\n",
    "INPUT_FILE = \"quicktest_set_human.tsv.zip\"\n",
    "SAMPLEMAP_FILE = \"samplemap.tsv\"\n",
    "PEPTIDES_TO_REMOVE = \"../../databases/intersecting_peptides_human_yeast_cael_ecoli.tsv\"\n"
   ]
  },
  {
   "cell_type": "code",
   "execution_count": null,
   "metadata": {},
   "outputs": [],
   "source": [
    "import alphaquant.run_pipeline as aq_run_pipeline\n",
    "\n",
    "aq_run_pipeline.run_pipeline(input_file=INPUT_FILE, samplemap_file=SAMPLEMAP_FILE,  results_dir=RESULTS_DIR, minrep_both=2, modification_type=\"[Phospho (STY)]\",\n",
    "                             perform_ptm_mapping=True,organism=\"human\", runtime_plots=True,peptides_to_exclude_file=PEPTIDES_TO_REMOVE, normalize=True)"
   ]
  },
  {
   "cell_type": "code",
   "execution_count": null,
   "metadata": {},
   "outputs": [],
   "source": [
    "import pandas as pd\n",
    "results_df = pd.read_csv(RESULTS_DIR + \"/Y150_VS_Y200.results.tsv\", sep = \"\\t\")\n",
    "\n",
    "assert sum(results_df[\"fdr\"]<0.01)<2"
   ]
  }
 ],
 "metadata": {
  "kernelspec": {
   "display_name": "alphaquant",
   "language": "python",
   "name": "python3"
  },
  "language_info": {
   "codemirror_mode": {
    "name": "ipython",
    "version": 3
   },
   "file_extension": ".py",
   "mimetype": "text/x-python",
   "name": "python",
   "nbconvert_exporter": "python",
   "pygments_lexer": "ipython3",
   "version": "3.11.11"
  }
 },
 "nbformat": 4,
 "nbformat_minor": 2
}
