{
 "cells": [
  {
   "cell_type": "code",
   "execution_count": null,
   "metadata": {},
   "outputs": [],
   "source": [
    "TEST_FILE_DIR = \"../../test_data/quicktests/quant_reader_tables\"\n"
   ]
  },
  {
   "cell_type": "code",
   "execution_count": null,
   "metadata": {},
   "outputs": [],
   "source": [
    "import alphabase.tools.data_downloader as ab_data_downloader\n",
    "\n",
    "downloader = ab_data_downloader.DataShareDownloader(\"https://datashare.biochem.mpg.de/s/8OQTYwtKkpVwOys\", output_dir=f\"{TEST_FILE_DIR}/..\")#this downloads the folder quant_reader_tables into the specified path\n",
    "\n",
    "downloader.download()"
   ]
  },
  {
   "cell_type": "code",
   "execution_count": null,
   "metadata": {},
   "outputs": [],
   "source": [
    "import pandas as pd\n",
    "import os\n",
    "import alphaquant.run_pipeline as aq_run_pipeline\n",
    "\n",
    "input_files = [ \"diann.parquet\",\"spectronaut.frgions.large.tsv\", \"mq_peptides.txt\", \"mq_evidence.txt\", \"fragpipe.tsv\"]\n",
    "samplemap_map = {\n",
    "\t\"diann.parquet\": f\"{TEST_FILE_DIR}/samplemap_diann_parquet.tsv\",\n",
    "\t\"spectronaut.frgions.large.tsv\": f\"{TEST_FILE_DIR}/samplemap_spectronaut.tsv\",\n",
    "\t\"mq_peptides.txt\": f\"{TEST_FILE_DIR}/samplemap_maxquant.tsv\",\n",
    "\t\"mq_evidence.txt\": f\"{TEST_FILE_DIR}/samplemap_maxquant.tsv\",\n",
    "\t\"fragpipe.tsv\": f\"{TEST_FILE_DIR}/samplemap_fragpipe.tsv\"\n",
    "}\n",
    "results_dir_map = {\n",
    "\t\"diann.tsv\": f\"{TEST_FILE_DIR}/results_diann_tsv\",\n",
    "\t\"diann.parquet\": f\"{TEST_FILE_DIR}/results_diann_parquet\",\n",
    "\t\"spectronaut.frgions.large.tsv\": f\"{TEST_FILE_DIR}/results_spectronaut\",\n",
    "\t\"mq_peptides.txt\": f\"{TEST_FILE_DIR}/results_mq_peptides\",\n",
    "\t\"mq_evidence.txt\": f\"{TEST_FILE_DIR}/results_mq_evidence\",\n",
    "\t\"fragpipe.tsv\": f\"{TEST_FILE_DIR}/results_fragpipe\"\n",
    "}\n",
    "\n",
    "for input_file in input_files:\n",
    "\tif input_file ==\"fragpipe.tsv\":\n",
    "\t\taq_run_pipeline.run_pipeline(input_file=os.path.join(TEST_FILE_DIR, input_file), samplemap_file=samplemap_map[input_file], results_dir=results_dir_map[input_file], reset_progress_folder=True, multicond_median_analysis=True)\n",
    "\telse:\n",
    "\t\taq_run_pipeline.run_pipeline(input_file=os.path.join(TEST_FILE_DIR, input_file), samplemap_file=samplemap_map[input_file], results_dir=results_dir_map[input_file], reset_progress_folder=True)\n",
    "\n",
    "\n"
   ]
  }
 ],
 "metadata": {
  "kernelspec": {
   "display_name": "test",
   "language": "python",
   "name": "python3"
  },
  "language_info": {
   "codemirror_mode": {
    "name": "ipython",
    "version": 3
   },
   "file_extension": ".py",
   "mimetype": "text/x-python",
   "name": "python",
   "nbconvert_exporter": "python",
   "pygments_lexer": "ipython3",
   "version": "3.12.8"
  }
 },
 "nbformat": 4,
 "nbformat_minor": 2
}
