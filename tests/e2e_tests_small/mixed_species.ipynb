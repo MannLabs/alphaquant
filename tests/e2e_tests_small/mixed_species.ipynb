{
 "cells": [
  {
   "cell_type": "markdown",
   "metadata": {},
   "source": [
    "# Quicktests on Mixed Species Dataset\n",
    "\n",
    "This notebook runs AlphaQuant on a Mixed Species dataset, subsetted to only around 60 proteins. We check that the results of the differential expression neither violate fdr nor are less sensitive than expected."
   ]
  },
  {
   "cell_type": "code",
   "execution_count": null,
   "metadata": {},
   "outputs": [],
   "source": [
    "#download test files for benchmarking\n",
    "import alphabase.tools.data_downloader\n",
    "\n",
    "downloader_mixed_species = alphabase.tools.data_downloader.DataShareDownloader(\"https://datashare.biochem.mpg.de/s/T3DmcLRBLPBqcax\", output_dir=\"../../test_data/quicktests/\")\n",
    "downloader_databases = alphabase.tools.data_downloader.DataShareDownloader(\"https://datashare.biochem.mpg.de/s/v9q2lhFPDljN755\", output_dir=\"../../test_data/\")\n",
    "\n",
    "downloader_mixed_species.download()\n",
    "downloader_databases.download()\n",
    "\n"
   ]
  },
  {
   "cell_type": "code",
   "execution_count": null,
   "metadata": {},
   "outputs": [],
   "source": [
    "INPUT_FILE = \"../../test_data/quicktests/mixed_species/20210210_154121_S209-S-1-240min_Report_quicktest_shortened.tsv.zip\"\n",
    "SAMPLEMAP = \"../../test_data/quicktests/mixed_species/samplemap.tsv\"\n",
    "RESULTS_DIR = \"../../test_data/quicktests/mixed_species/results\"\n",
    "SHARED_PEPTIDES_BETWEEN_SPECIES_FILE = \"../../test_data/databases/intersecting_peptides_human_yeast_cael_ecoli.tsv\""
   ]
  },
  {
   "cell_type": "code",
   "execution_count": null,
   "metadata": {},
   "outputs": [],
   "source": [
    "import alphaquant.run_pipeline as run_pipeline\n",
    "\n",
    "run_pipeline.run_pipeline(input_file=INPUT_FILE, samplemap_file=SAMPLEMAP, results_dir=RESULTS_DIR, runtime_plots=True, minrep_either= 2, take_median_ion= True,\n",
    "                           annotation_columns=[\"PG.Genes\", \"PG.Organisms\"], input_type_to_use= \"spectronaut_fragion_ms1_protein\", peptides_to_exclude_file=SHARED_PEPTIDES_BETWEEN_SPECIES_FILE)"
   ]
  },
  {
   "cell_type": "code",
   "execution_count": null,
   "metadata": {},
   "outputs": [],
   "source": [
    "import pandas as pd\n",
    "resuls_table = f\"{RESULTS_DIR}/S1_VS_S2.results.tsv\"\n",
    "\n",
    "results_df = pd.read_csv(resuls_table, sep=\"\\t\")\n",
    "display(results_df)\n",
    "\n",
    "results_df_reformat = results_df[[\"protein\", \"PG.Organisms\", \"log2fc\", \"fdr\"]].rename(columns={\"PG.Organisms\": \"organism_alphaquant\",\"log2fc\": \"log2fc_alphaquant\",\n",
    "                                                                                               \"fdr\": \"fdr_alphaquant\"})"
   ]
  },
  {
   "cell_type": "code",
   "execution_count": null,
   "metadata": {},
   "outputs": [],
   "source": [
    "import numpy as np\n",
    "import alphaquant.benchm.sensitivity as aq_benchm_sensitivity\n",
    "\n",
    "classification_benchmark = aq_benchm_sensitivity.RatioClassificationTableGenerator(results_df_reformat, decoy_organism=\"Homo sapiens\", method_suffixes=[\"_alphaquant\"])\n",
    "classification_df = classification_benchmark.per_species_results_df.replace(np.nan, 0)\n",
    "display(classification_df)\n",
    "\n",
    "aq_benchm_sensitivity.plot_sighits_barplot(classification_df, suffixes=[\"_alphaquant\"], decoy_organism=\"Homo sapiens\")\n",
    "\n"
   ]
  },
  {
   "cell_type": "code",
   "execution_count": null,
   "metadata": {},
   "outputs": [],
   "source": [
    "def assert_fdr_is_not_violated(classification_df, suffix = \"_alphaquant\",  decoy_organism=\"Homo sapiens\"):\n",
    "    idx_of_decoy_organism = classification_df[classification_df.index == decoy_organism].index\n",
    "    num_allowed_hits = classification_df.loc[idx_of_decoy_organism, f\"allowed_decoy_hits{suffix}\"].values[0]\n",
    "    num_allowed_hits_w_tolerance = int(1.1*num_allowed_hits)\n",
    "    num_actual_hits =  classification_df.loc[idx_of_decoy_organism,f\"hits{suffix}\"].values[0]\n",
    "\n",
    "    assert num_actual_hits < num_allowed_hits_w_tolerance , \"more false postives than expected\"\n",
    "\n",
    "\n",
    "def assert_sensitivity_is_as_expected(classification_df):\n",
    "    assert classification_df.loc[\"Caenorhabditis elegans\", \"hits_alphaquant\"] >=19\n",
    "    assert classification_df.loc[\"Escherichia coli (strain K12)\", \"hits_alphaquant\"] >=14\n",
    "    assert classification_df.loc[\"Saccharomyces cerevisiae (strain ATCC 204508 / S288c)\", \"hits_alphaquant\"] >=13\n",
    "\n",
    "\n",
    "assert_fdr_is_not_violated(classification_df)\n",
    "assert_sensitivity_is_as_expected(classification_df)"
   ]
  },
  {
   "cell_type": "code",
   "execution_count": null,
   "metadata": {},
   "outputs": [],
   "source": [
    "import alphaquant.benchm.ratios as aq_benchm_ratios\n",
    "\n",
    "results_df_ratio = results_df[[\"protein\", \"total_intensity\", \"log2fc\", \"PG.Organisms\"]].rename(columns={\"PG.Organisms\": \"organism_alphaquant\",\"log2fc\": \"log2fc_alphaquant\", \"total_intensity\": \"intensity_alphaquant\"})\n",
    "\n",
    "species_plotter = aq_benchm_ratios.MixedSpeciesScatterPlotter(results_df_ratio, method_suffixes=[\"_alphaquant\"], expected_log2fcs=[-2.2, -1.2, 0,2])\n",
    "species_plotter = aq_benchm_ratios.MixedSpeciesBoxPlotter(results_df_ratio, method_suffixes=[\"_alphaquant\"], expected_log2fcs=[-2.2, -1.2, 0,2], figure_size=[6, 8])\n"
   ]
  },
  {
   "cell_type": "code",
   "execution_count": null,
   "metadata": {},
   "outputs": [],
   "source": []
  },
  {
   "cell_type": "code",
   "execution_count": null,
   "metadata": {},
   "outputs": [],
   "source": []
  }
 ],
 "metadata": {
  "kernelspec": {
   "display_name": "test",
   "language": "python",
   "name": "python3"
  },
  "language_info": {
   "codemirror_mode": {
    "name": "ipython",
    "version": 3
   },
   "file_extension": ".py",
   "mimetype": "text/x-python",
   "name": "python",
   "nbconvert_exporter": "python",
   "pygments_lexer": "ipython3",
   "version": "3.12.8"
  }
 },
 "nbformat": 4,
 "nbformat_minor": 2
}
