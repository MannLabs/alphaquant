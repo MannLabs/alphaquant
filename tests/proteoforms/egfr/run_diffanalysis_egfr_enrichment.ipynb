{
 "cells": [
  {
   "cell_type": "code",
   "execution_count": 1,
   "metadata": {},
   "outputs": [],
   "source": [
    "input_file = \"../../../test_data/system_tests/proteoforms/mann_labs_egfr/20230411_100022_20230330_Constantin_aQ2_Report.tsv.spectronaut_fragion_isotopes.aq_reformat.tsv\"\n",
    "#input_file = \"../../test_data/system_tests/quicktests/100protein_set_spectronaut.tsv.spectronaut_fragion_isotopes.aq_reformat.tsv\"\n",
    "samplemap = \"../../../test_data/system_tests/proteoforms/mann_labs_egfr/samplemap_egfr_100ng.tsv\"\n",
    "#samplemap = \"../../test_data/system_tests/quicktests/samplemap.tsv\"\n",
    "\n",
    "results_dir = \"../../../test_data/system_tests/proteoforms/mann_labs_egfr/results\"\n",
    "results_dir_minrep5_fewclusterfilt = \"../../../test_data/system_tests/ystem_tests/proteoforms/mann_labs_egfr/results_minrep5_fewclusterfilt/\"\n",
    "\n",
    "condpair_combinations=[('untreated', 'egf_treated')]\n"
   ]
  },
  {
   "cell_type": "code",
   "execution_count": 4,
   "metadata": {},
   "outputs": [],
   "source": [
    "if False:\n",
    "    import alphaquant.diff_analysis_manager as diffmgr\n",
    "    diffmgr.run_pipeline(input_file=input_file, samplemap_file=samplemap, results_dir=results_dir, condpair_combinations=condpair_combinations, take_median_ion=False,minrep=None, runtime_plots=True)"
   ]
  },
  {
   "cell_type": "code",
   "execution_count": 4,
   "metadata": {},
   "outputs": [],
   "source": [
    "if False:\n",
    "    import alphaquant.diff_analysis_manager as diffmgr\n",
    "    diffmgr.run_pipeline(input_file=input_file, samplemap_file=samplemap, results_dir=results_dir_minrep5_fewclusterfilt, condpair_combinations=condpair_combinations, take_median_ion=False,minrep=5, runtime_plots=True,\n",
    "                         cluster_threshold_pval = 0.001, cluster_threshold_fcfc = 0.5)"
   ]
  },
  {
   "cell_type": "code",
   "execution_count": null,
   "metadata": {},
   "outputs": [],
   "source": []
  }
 ],
 "metadata": {
  "interpreter": {
   "hash": "931024bdde5a0139e842e686d0aa86179bbd98c103c57a8c1ff07e7a4f076145"
  },
  "kernelspec": {
   "display_name": "Python 3.8.13 ('alphaquant')",
   "language": "python",
   "name": "python3"
  },
  "language_info": {
   "codemirror_mode": {
    "name": "ipython",
    "version": 3
   },
   "file_extension": ".py",
   "mimetype": "text/x-python",
   "name": "python",
   "nbconvert_exporter": "python",
   "pygments_lexer": "ipython3",
   "version": "3.8.13"
  },
  "orig_nbformat": 4
 },
 "nbformat": 4,
 "nbformat_minor": 2
}
