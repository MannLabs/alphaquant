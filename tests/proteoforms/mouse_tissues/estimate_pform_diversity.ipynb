{
 "cells": [
  {
   "cell_type": "code",
   "execution_count": 1,
   "metadata": {},
   "outputs": [],
   "source": [
    "%reload_ext autoreload\n",
    "%autoreload 2"
   ]
  },
  {
   "cell_type": "code",
   "execution_count": 2,
   "metadata": {},
   "outputs": [],
   "source": [
    "import os\n",
    "\n",
    "os.chdir(\"../../../test_data/system_tests/proteoforms/mouse_tissues\")"
   ]
  },
  {
   "cell_type": "code",
   "execution_count": 3,
   "metadata": {},
   "outputs": [],
   "source": [
    "RESULTS_DIR = \"results_200ng\"\n",
    "EXAMPLE_CONDPAIR = ('brain', 'testis')"
   ]
  },
  {
   "cell_type": "code",
   "execution_count": 4,
   "metadata": {},
   "outputs": [
    {
     "name": "stdout",
     "output_type": "stream",
     "text": [
      "{'lungs', 'kidney', 'brain', 'testis', 'spleen'}\n",
      "[('lungs', 'kidney'), ('lungs', 'spleen'), ('testis', 'spleen'), ('testis', 'kidney'), ('lungs', 'brain'), ('lungs', 'testis'), ('kidney', 'spleen'), ('brain', 'testis'), ('brain', 'kidney'), ('brain', 'spleen')]\n"
     ]
    }
   ],
   "source": [
    "import alphaquant.utils.utils as aqutils\n",
    "list_of_condpairnames = [f.replace('.iontrees.json', '') for f in os.listdir(RESULTS_DIR) if f.endswith('.iontrees.json')]\n",
    "unique_conds = set([c for cp in list_of_condpairnames for c in cp.split('_VS_')])\n",
    "\n",
    "list_of_condpairs = [tuple(aqutils.get_condpair_from_condpairname(cp)) for cp in list_of_condpairnames]\n",
    "print(unique_conds)\n",
    "print(list_of_condpairs)"
   ]
  },
  {
   "cell_type": "code",
   "execution_count": 5,
   "metadata": {},
   "outputs": [],
   "source": [
    "import alphaquant.cluster.outlier_scoring as aqoutlier\n",
    "import alphaquant.utils.utils as aqutils\n",
    "\n",
    "condpair_tree = aqutils.read_condpair_tree(cond1=EXAMPLE_CONDPAIR[0], cond2=EXAMPLE_CONDPAIR[1], results_folder=RESULTS_DIR)\n",
    "\n",
    "outlier_handler = aqoutlier.OutlierHandler(condpair_tree)\n",
    "clusterdiff_list = outlier_handler.get_diffclust_overview_list()"
   ]
  },
  {
   "cell_type": "code",
   "execution_count": 43,
   "metadata": {},
   "outputs": [],
   "source": [
    "import statistics\n",
    "\n",
    "def get_fraction_mainclust_per_condpair(list_of_condpairs, results_folder):\n",
    "    mean_fraction_per_condpair = []\n",
    "\n",
    "    for condpair in list_of_condpairs:\n",
    "        condpair_tree = aqutils.read_condpair_tree(cond1=condpair[0], cond2=condpair[1], results_folder=results_folder)\n",
    "        mainclust_fractions = get_list_of_mainclust_fractions(condpair_tree)\n",
    "        mean_fraction_per_condpair.append(statistics.mean(mainclust_fractions))\n",
    "    return mean_fraction_per_condpair\n",
    "\n",
    "\n",
    "def get_list_of_mainclust_fractions(condpair_tree):\n",
    "    mainclust_fractions = []\n",
    "    for protnode in condpair_tree.children:\n",
    "        mainclust_fractions.append(get_fraction_mainclust(protnode))\n",
    "    return mainclust_fractions   \n",
    "    \n",
    "def get_fraction_mainclust(protnode):\n",
    "    peptides = protnode.children\n",
    "    mainclust_count = 0\n",
    "    for peptide in peptides:\n",
    "        if peptide.cluster ==0:\n",
    "            mainclust_count += 1\n",
    "    return mainclust_count/len(peptides)\n",
    "\n",
    "\n",
    "\n",
    "\n",
    "mean_fraction_per_condpair = get_fraction_mainclust_per_condpair(list_of_condpairs, RESULTS_DIR)\n",
    "\n",
    "\n",
    "\n"
   ]
  },
  {
   "cell_type": "code",
   "execution_count": 79,
   "metadata": {},
   "outputs": [
    {
     "data": {
      "image/png": "[encoded data removed]",
      "text/plain": [
       "<Figure size 360x432 with 2 Axes>"
      ]
     },
     "metadata": {
      "needs_background": "light"
     },
     "output_type": "display_data"
    }
   ],
   "source": [
    "import matplotlib.pyplot as plt\n",
    "import numpy as np\n",
    "from matplotlib.colors import ListedColormap\n",
    "\n",
    "# # Given lists\n",
    "# pairs = [('lungs', 'kidney'), ('lungs', 'spleen'), ('testis', 'spleen'), \n",
    "#          ('testis', 'kidney'), ('lungs', 'brain'), ('lungs', 'testis'), \n",
    "#          ('kidney', 'spleen'), ('brain', 'testis'), ('brain', 'kidney'), \n",
    "#          ('brain', 'spleen')]\n",
    "\n",
    "# values = [0.5, 0.6, 0.2, 0.8, 0.45, 0.55, 0.65, 0.75, 0.85, 0.95]  # Assuming these dummy values\n",
    "\n",
    "pairs = list_of_condpairs\n",
    "values = mean_fraction_per_condpair\n",
    "# Unique tissues, sorted\n",
    "tissues = sorted(list(set([t for pair in pairs for t in pair])))\n",
    "\n",
    "# Ensure pairs are in the form (t1, t2) where t1 comes before t2 in the sorted list\n",
    "sorted_pairs = []\n",
    "for t1, t2 in pairs:\n",
    "    if tissues.index(t1) > tissues.index(t2):\n",
    "        t1, t2 = t2, t1  # swap\n",
    "    sorted_pairs.append((t1, t2))\n",
    "\n",
    "# Create an empty matrix\n",
    "matrix = np.zeros((len(tissues), len(tissues)))\n",
    "\n",
    "# Fill in the values\n",
    "for (t1, t2), value in zip(sorted_pairs, values):\n",
    "    idx1 = tissues.index(t1)\n",
    "    idx2 = tissues.index(t2)\n",
    "    matrix[idx1, idx2] = value\n",
    "\n",
    "# Create a custom colormap\n",
    "cmap = plt.cm.coolwarm\n",
    "my_cmap = cmap(np.arange(cmap.N))\n",
    "my_cmap[0, :3] = 1.0  # Set the RGB values of the first entry (i.e., zero values) to white\n",
    "my_cmap = ListedColormap(my_cmap)\n",
    "\n",
    "# Plot\n",
    "fig, ax = plt.subplots(figsize=(5, 6))\n",
    "cax = ax.matshow(matrix, cmap='Blues', vmin = 0.8, vmax = 1)\n",
    "fig.colorbar(cax, fraction=0.046, pad=0.04)\n",
    "ax.set_xticks(np.arange(len(tissues)),)\n",
    "ax.set_yticks(np.arange(len(tissues)), )\n",
    "ax.set_xticklabels(tissues, rotation=45,  fontsize=12)\n",
    "ax.set_yticklabels(tissues, fontsize=12)\n",
    "\n",
    "# Annotate each cell with the numeric value\n",
    "for i in range(matrix.shape[0]):\n",
    "    for j in range(matrix.shape[1]):\n",
    "        if matrix[i, j] != 0:\n",
    "            ax.text(j, i, f\"{matrix[i, j]:.2f}\", va='center', ha='center', color='black' if matrix[i, j] < 0.7 else 'white', fontsize=12)\n",
    "\n",
    "plt.show()\n",
    "\n",
    "fig.savefig('heatmap_mainclust_fraction_per_condpair.pdf', dpi=300, bbox_inches='tight')\n",
    "\n",
    "\n"
   ]
  },
  {
   "cell_type": "code",
   "execution_count": null,
   "metadata": {},
   "outputs": [],
   "source": [
    "import matplotlib.pyplot as plt\n",
    "import numpy as np\n",
    "\n",
    "# Given lists\n",
    "pairs = [('lungs', 'kidney'), ('lungs', 'spleen'), ('testis', 'spleen'), \n",
    "         ('testis', 'kidney'), ('lungs', 'brain'), ('lungs', 'testis'), \n",
    "         ('kidney', 'spleen'), ('brain', 'testis'), ('brain', 'kidney'), \n",
    "         ('brain', 'spleen')]\n",
    "\n",
    "values = [0.5, 0.6, 0.2, 0.8, 0.45, 0.55, 0.65, 0.75, 0.85, 0.95]  # Assuming these dummy values\n",
    "\n",
    "# Unique tissues, sorted\n",
    "tissues = sorted(list(set([t for pair in pairs for t in pair])))\n",
    "\n",
    "# Ensure pairs are in the form (t1, t2) where t1 comes before t2 in the sorted list\n",
    "sorted_pairs = []\n",
    "for t1, t2 in pairs:\n",
    "    if tissues.index(t1) > tissues.index(t2):\n",
    "        t1, t2 = t2, t1  # swap\n",
    "    sorted_pairs.append((t1, t2))\n",
    "\n",
    "# Create an empty matrix\n",
    "matrix = np.zeros((len(tissues), len(tissues)))\n",
    "\n",
    "# Fill in the values\n",
    "for (t1, t2), value in zip(sorted_pairs, values):\n",
    "    idx1 = tissues.index(t1)\n",
    "    idx2 = tissues.index(t2)\n",
    "    matrix[idx1, idx2] = value\n",
    "\n",
    "# Adjust color range to data range\n",
    "data_min = min(values)\n",
    "data_max = max(values)\n",
    "\n",
    "# Plot\n",
    "fig, ax = plt.subplots(figsize=(10, 8))\n",
    "cax = ax.matshow(matrix, cmap='Blues', vmin=data_min, vmax=data_max)\n",
    "\n",
    "# Adjust colorbar size and position\n",
    "cbar = fig.colorbar(cax, ax=ax, fraction=0.046, pad=0.04)\n",
    "cbar.ax.tick_params(labelsize=12)  # Increase font size for colorbar ticks\n",
    "\n",
    "# Set tick labels and font size\n",
    "ax.set_xticks(np.arange(len(tissues)))\n",
    "ax.set_yticks(np.arange(len(tissues)))\n",
    "ax.set_xticklabels(tissues, rotation=45, fontsize=12)  # Increased font size\n",
    "ax.set_yticklabels(tissues, fontsize=12)  # Increased font size\n",
    "\n",
    "# Set title with increased font size\n",
    "ax.set_title('Heatmap of Mean Fraction of Main Cluster', pad=20, fontsize=14)\n",
    "\n",
    "# Annotate each cell with the numeric value with increased font size\n",
    "for i in range(matrix.shape[0]):\n",
    "    for j in range(matrix.shape[1]):\n",
    "        if matrix[i, j] != 0:\n",
    "            ax.text(j, i, f\"{matrix[i, j]:.2f}\", va='center', ha='center', fontsize=10, color='black' if matrix[i, j] < 0.7 else 'white')\n",
    "\n",
    "plt.tight_layout()\n",
    "plt.show()\n"
   ]
  }
 ],
 "metadata": {
  "kernelspec": {
   "display_name": "alphaquant",
   "language": "python",
   "name": "python3"
  },
  "language_info": {
   "codemirror_mode": {
    "name": "ipython",
    "version": 3
   },
   "file_extension": ".py",
   "mimetype": "text/x-python",
   "name": "python",
   "nbconvert_exporter": "python",
   "pygments_lexer": "ipython3",
   "version": "3.8.13"
  },
  "orig_nbformat": 4
 },
 "nbformat": 4,
 "nbformat_minor": 2
}
