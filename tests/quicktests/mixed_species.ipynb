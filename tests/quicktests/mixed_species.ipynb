{
 "cells": [
  {
   "cell_type": "markdown",
   "metadata": {},
   "source": [
    "# Quicktests on Mixed Species Dataset\n",
    "\n",
    "This notebook runs AlphaQuant on a Mixed Species dataset, subsetted to only around 60 proteins. We check that the results of the differential expression neither violate fdr nor are less sensitive than expected."
   ]
  },
  {
   "cell_type": "code",
   "execution_count": null,
   "metadata": {},
   "outputs": [],
   "source": [
    "#download test files for benchmarking\n",
    "\n",
    "import alphaquant.benchm.testfile_handling\n",
    "test_folder = \"../../test_data/\"\n",
    "links_yaml_quicktest_files = \"../../alphaquant/config/download_links_for_testfiles_quicktest.yaml\"\n",
    "\n",
    "\n",
    "\n",
    "testfieldownloader = alphaquant.benchm.testfile_handling.TestFileDownloader(test_folder=test_folder, links_yaml=links_yaml_quicktest_files, subfolder_of_interest=\"mixed_species\")\n",
    "testfieldownloader = alphaquant.benchm.testfile_handling.TestFileDownloader(test_folder=test_folder, links_yaml=links_yaml_quicktest_files, subfolder_of_interest=\"databases\")\n",
    "testfieldownloader.download_missing_files()"
   ]
  },
  {
   "cell_type": "code",
   "execution_count": null,
   "metadata": {},
   "outputs": [],
   "source": [
    "import os\n",
    "os.chdir(\"../../test_data/quicktests/mixed_species\")"
   ]
  },
  {
   "cell_type": "code",
   "execution_count": null,
   "metadata": {},
   "outputs": [],
   "source": [
    "INPUT_FILE = \"20210210_154121_S209-S-1-240min_Report_quicktest_shortened.tsv.zip\"\n",
    "SAMPLEMAP = \"samplemap.tsv\"\n",
    "RESULTS_DIR = \"results\"\n",
    "SHARED_PEPTIDES_BETWEEN_SPECIES_FILE = \"../../databases/intersecting_peptides_human_yeast_cael_ecoli.tsv\""
   ]
  },
  {
   "cell_type": "code",
   "execution_count": null,
   "metadata": {},
   "outputs": [],
   "source": [
    "import alphaquant.run_pipeline as run_pipeline\n",
    "\n",
    "run_pipeline.run_pipeline(input_file=INPUT_FILE, samplemap_file=SAMPLEMAP, results_dir=RESULTS_DIR, runtime_plots=True, minrep_either= 2, take_median_ion= True,\n",
    "                           annotation_columns=[\"PG.Genes\", \"PG.Organisms\"], input_type_to_use= \"spectronaut_fragion_isotopes_protein\", peptides_to_exclude_file=SHARED_PEPTIDES_BETWEEN_SPECIES_FILE)"
   ]
  },
  {
   "cell_type": "code",
   "execution_count": null,
   "metadata": {},
   "outputs": [],
   "source": [
    "import pandas as pd\n",
    "resuls_table = f\"{RESULTS_DIR}/S1_VS_S2.results.tsv\"\n",
    "\n",
    "results_df = pd.read_csv(resuls_table, sep=\"\\t\")\n",
    "display(results_df)\n",
    "\n",
    "results_df_reformat = results_df[[\"protein\", \"PG.Organisms\", \"log2fc\", \"fdr\"]].rename(columns={\"PG.Organisms\": \"organism_alphaquant\",\"log2fc\": \"log2fc_alphaquant\", \n",
    "                                                                                               \"fdr\": \"fdr_alphaquant\"})"
   ]
  },
  {
   "cell_type": "code",
   "execution_count": null,
   "metadata": {},
   "outputs": [],
   "source": [
    "import numpy as np\n",
    "import alphaquant.benchm.sensitivity as aq_benchm_sensitivity\n",
    "\n",
    "classification_benchmark = aq_benchm_sensitivity.RatioClassificationTableGenerator(results_df_reformat, decoy_organism=\"Homo sapiens\", method_suffixes=[\"_alphaquant\"])\n",
    "classification_df = classification_benchmark.per_species_results_df.replace(np.nan, 0)\n",
    "display(classification_df)\n",
    "\n",
    "aq_benchm_sensitivity.plot_sighits_barplot(classification_df, suffixes=[\"_alphaquant\"], decoy_organism=\"Homo sapiens\")\n",
    "\n"
   ]
  },
  {
   "cell_type": "code",
   "execution_count": null,
   "metadata": {},
   "outputs": [],
   "source": [
    "def assert_fdr_is_not_violated(classification_df, suffix = \"_alphaquant\",  decoy_organism=\"Homo sapiens\"):\n",
    "    idx_of_decoy_organism = classification_df[classification_df.index == decoy_organism].index\n",
    "    num_allowed_hits = classification_df.loc[idx_of_decoy_organism, f\"allowed_decoy_hits{suffix}\"].values[0]\n",
    "    num_allowed_hits_w_tolerance = int(1.1*num_allowed_hits)\n",
    "    num_actual_hits =  classification_df.loc[idx_of_decoy_organism,f\"hits{suffix}\"].values[0]\n",
    "\n",
    "    assert num_actual_hits < num_allowed_hits_w_tolerance , \"more false postives than expected\"\n",
    "\n",
    "\n",
    "def assert_sensitivity_is_as_expected(classification_df):\n",
    "    assert classification_df.loc[\"Caenorhabditis elegans\", \"hits_alphaquant\"] >=19\n",
    "    assert classification_df.loc[\"Escherichia coli (strain K12)\", \"hits_alphaquant\"] >=14\n",
    "    assert classification_df.loc[\"Saccharomyces cerevisiae (strain ATCC 204508 / S288c)\", \"hits_alphaquant\"] >=13\n",
    "\n",
    "\n",
    "assert_fdr_is_not_violated(classification_df)\n",
    "assert_sensitivity_is_as_expected(classification_df)"
   ]
  },
  {
   "cell_type": "code",
   "execution_count": null,
   "metadata": {},
   "outputs": [],
   "source": [
    "import alphaquant.benchm.ratios as aq_benchm_ratios\n",
    "\n",
    "results_df_ratio = results_df[[\"protein\", \"total_intensity\", \"log2fc\", \"PG.Organisms\"]].rename(columns={\"PG.Organisms\": \"organism_alphaquant\",\"log2fc\": \"log2fc_alphaquant\", \"total_intensity\": \"intensity_alphaquant\"})\n",
    "\n",
    "species_plotter = aq_benchm_ratios.MixedSpeciesScatterPlotter(results_df_ratio, method_suffixes=[\"_alphaquant\"], expected_log2fcs=[-2.2, -1.2, 0,2])\n",
    "species_plotter = aq_benchm_ratios.MixedSpeciesBoxPlotter(results_df_ratio, method_suffixes=[\"_alphaquant\"], expected_log2fcs=[-2.2, -1.2, 0,2], figure_size=[6, 8])\n"
   ]
  }
 ],
 "metadata": {
  "kernelspec": {
   "display_name": "alphaquant",
   "language": "python",
   "name": "python3"
  },
  "language_info": {
   "codemirror_mode": {
    "name": "ipython",
    "version": 3
   },
   "file_extension": ".py",
   "mimetype": "text/x-python",
   "name": "python",
   "nbconvert_exporter": "python",
   "pygments_lexer": "ipython3",
   "version": "3.9.19"
  }
 },
 "nbformat": 4,
 "nbformat_minor": 2
}
