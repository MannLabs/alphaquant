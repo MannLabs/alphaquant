{
 "cells": [
  {
   "cell_type": "markdown",
   "metadata": {},
   "source": [
    "# Quicktests on Mixed Species Dataset\n",
    "\n",
    "This notebook runs AlphaQuant on a subsetted phospho dataset, where little to no regulation should be happening. This checks wether the ptmsite mapping is working correctly and additionally checks, wether the fdr is violated by detecting too many regulated ptm sites."
   ]
  },
  {
   "cell_type": "code",
   "execution_count": 1,
   "metadata": {},
   "outputs": [
    {
     "name": "stdout",
     "output_type": "stream",
     "text": [
      "Requirement already satisfied: wget in /Users/constantin/opt/anaconda3/envs/alphaquant/lib/python3.9/site-packages (3.2)\n",
      "Requirement already satisfied: wget in /Users/constantin/opt/anaconda3/envs/alphaquant/lib/python3.9/site-packages (3.2)\n"
     ]
    },
    {
     "name": "stderr",
     "output_type": "stream",
     "text": [
      "2024-07-16 16:34:24,006 - alphaquant.benchm.testfile_handling - INFO - {'./databases/intersecting_peptides_human_yeast_cael_ecoli.tsv'}\n",
      "2024-07-16 16:34:24,007 - alphaquant.benchm.testfile_handling - INFO - ./databases/intersecting_peptides_human_yeast_cael_ecoli.tsv\n",
      "2024-07-16 16:34:24,007 - alphaquant.benchm.testfile_handling - INFO - ./databases/intersecting_peptides_human_yeast_cael_ecoli.tsv\n"
     ]
    }
   ],
   "source": [
    "#download test files for benchmarking\n",
    "\n",
    "import alphaquant.benchm.testfile_handling\n",
    "test_folder = \"../../test_data/\"\n",
    "links_yaml_quicktest_files = \"../../alphaquant/config/download_links_for_testfiles_quicktest.yaml\"\n",
    "\n",
    "\n",
    "\n",
    "testfieldownloader = alphaquant.benchm.testfile_handling.TestFileDownloader(test_folder=test_folder, links_yaml=links_yaml_quicktest_files, subfolder_of_interest=\"phospho\")\n",
    "testfieldownloader = alphaquant.benchm.testfile_handling.TestFileDownloader(test_folder=test_folder, links_yaml=links_yaml_quicktest_files, subfolder_of_interest=\"databases\")"
   ]
  },
  {
   "cell_type": "code",
   "execution_count": null,
   "metadata": {},
   "outputs": [],
   "source": [
    "import os\n",
    "os.chdir(\"../../test_data/quicktests/phospho\")"
   ]
  },
  {
   "cell_type": "code",
   "execution_count": null,
   "metadata": {},
   "outputs": [],
   "source": [
    "RESULTS_DIR = \"results\"\n",
    "INPUT_FILE = \"quicktest_set_human.tsv.zip\"\n",
    "SAMPLEMAP_FILE = \"samplemap.tsv\"\n",
    "PEPTIDES_TO_REMOVE = \"../../databases/intersecting_peptides_human_yeast_cael_ecoli.tsv\"\n"
   ]
  },
  {
   "cell_type": "code",
   "execution_count": null,
   "metadata": {},
   "outputs": [],
   "source": [
    "import alphaquant.run_pipeline as aq_run_pipeline\n",
    "\n",
    "aq_run_pipeline.run_pipeline(input_file=INPUT_FILE, samplemap_file=SAMPLEMAP_FILE,  results_dir=RESULTS_DIR, minrep_both=2, modification_type=\"[Phospho (STY)]\",\n",
    "                             perform_ptm_mapping=True,organism=\"human\", runtime_plots=True,peptides_to_exclude_file=PEPTIDES_TO_REMOVE, normalize=True)"
   ]
  },
  {
   "cell_type": "code",
   "execution_count": null,
   "metadata": {},
   "outputs": [],
   "source": [
    "import pandas as pd\n",
    "results_df = pd.read_csv(RESULTS_DIR + \"/Y150_VS_Y200.results.tsv\", sep = \"\\t\")\n",
    "\n",
    "assert sum(results_df[\"fdr\"]<0.01)<2"
   ]
  }
 ],
 "metadata": {
  "kernelspec": {
   "display_name": "alphaquant",
   "language": "python",
   "name": "python3"
  },
  "language_info": {
   "codemirror_mode": {
    "name": "ipython",
    "version": 3
   },
   "file_extension": ".py",
   "mimetype": "text/x-python",
   "name": "python",
   "nbconvert_exporter": "python",
   "pygments_lexer": "ipython3",
   "version": "3.9.19"
  }
 },
 "nbformat": 4,
 "nbformat_minor": 2
}
