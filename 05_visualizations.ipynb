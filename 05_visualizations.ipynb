{
 "cells": [
  {
   "cell_type": "code",
   "execution_count": null,
   "metadata": {},
   "outputs": [],
   "source": [
    "# default_exp visualizations"
   ]
  },
  {
   "cell_type": "code",
   "execution_count": null,
   "metadata": {},
   "outputs": [],
   "source": [
    "#export\n",
    "import matplotlib.pyplot as plt\n",
    "import numpy as np\n",
    "\n",
    "def plot_pvals(result_df):\n",
    "    pvals = result_df[\"peptide_pval\"].to_list()\n",
    "    plt.hist(pvals,99,cumulative=True,density=True, histtype='step')\n",
    "    x = np.linspace(0,1,100)\n",
    "    plt.plot(x, x)\n",
    "    plt.show()"
   ]
  },
  {
   "cell_type": "code",
   "execution_count": null,
   "metadata": {},
   "outputs": [],
   "source": [
    "#export\n",
    "from scipy.stats import norm\n",
    "import matplotlib.pyplot as plt\n",
    "\n",
    "def plot_bgdist(bgdist):\n",
    "    fc2counts_rescaled = tranform_fc2count_to_fc_space(bgdist.fc2counts, bgdist.cumulative[-1],1/100.0)\n",
    "\n",
    "    plt.bar(list(fc2counts_rescaled.keys()), fc2counts_rescaled.values(),width=0.01,color='g')\n",
    "    axes2 = plt.twinx()\n",
    "    x = np.linspace(-4, 4, 1000)\n",
    "    axes2.plot(x, norm.pdf(x, 0, bgdist.SD)/1.15)\n",
    "    axes2.set_ylim(0.0, 0.4)\n",
    "    plt.show()\n",
    "\n",
    "def tranform_fc2count_to_fc_space(fc2counts, num_fcs, rescale_factor):\n",
    "    fc2counts_fcscales = {}\n",
    "    for fc, count in fc2counts.items():\n",
    "        fc2counts_fcscales[fc*rescale_factor] = count/num_fcs\n",
    "\n",
    "    return fc2counts_fcscales"
   ]
  },
  {
   "cell_type": "code",
   "execution_count": null,
   "metadata": {},
   "outputs": [],
   "source": [
    "#export\n",
    "import matplotlib.pyplot as plt\n",
    "from scipy import stats\n",
    "\n",
    "def plot_betweencond_fcs(df_c1_normed, df_c2_normed, get_median):\n",
    "    both_idx = df_c1_normed.index.intersection(df_c2_normed.index)\n",
    "    df1 = df_c1_normed.loc[both_idx]\n",
    "    df2 = df_c2_normed.loc[both_idx]\n",
    "    if get_median:\n",
    "        df1 = df1.median(axis = 1, skipna = True).to_frame()\n",
    "        df2 = df2.median(axis = 1, skipna = True).to_frame()\n",
    "    for col1 in df1.columns:\n",
    "        for col2 in df2.columns:\n",
    "            diff_fcs = df1[col1].to_numpy() - df2[col2].to_numpy()\n",
    "            mode = stats.mode(diff_fcs, nan_policy='omit')[0][0]\n",
    "            median = np.nanmedian(diff_fcs)\n",
    "            #plt.axvline(mode, color = 'blue')\n",
    "            plt.axvline(median, color = 'red')\n",
    "            plt.hist(diff_fcs,99,density=True, histtype='step')\n",
    "    plt.show()"
   ]
  },
  {
   "cell_type": "code",
   "execution_count": null,
   "metadata": {},
   "outputs": [
    {
     "name": "stdout",
     "output_type": "stream",
     "text": [
      "[1]\n"
     ]
    }
   ],
   "source": [
    "from scipy import stats\n",
    "mode = stats.mode([1,3,4,5,6,7,8,4,3,2,46,1,1,1])[0]\n",
    "print(mode)"
   ]
  },
  {
   "cell_type": "code",
   "execution_count": null,
   "metadata": {},
   "outputs": [],
   "source": [
    "#export\n",
    "import matplotlib.pyplot as plt\n",
    "def scatter_df_columns(merged_df, log_axes = False):\n",
    "    col = (0.2, 0.4, 0.6, 0.1)\n",
    "    ref_columns = list(filter(lambda x : \"_ref\" in x, merged_df.columns.to_list())) #filter the reference columns from the merged df\n",
    "\n",
    "    for ref in ref_columns:\n",
    "        compare = ref.replace(\"_ref\", \"\")\n",
    "        ax_p = merged_df.plot.scatter(x=ref,y=compare, color = col)\n",
    "        corr = merged_df[ref].corr(merged_df[compare])\n",
    "        plt.title(f\"{ref} vs. {compare} corr {corr}\")\n",
    "        x = np.linspace(0,merged_df[ref].max(),100)\n",
    "        plt.plot(x, x)\n",
    "        if log_axes:\n",
    "            plt.xscale('log')\n",
    "            plt.yscale('log')\n",
    "        plt.show()"
   ]
  },
  {
   "cell_type": "code",
   "execution_count": null,
   "metadata": {},
   "outputs": [],
   "source": [
    "#export\n",
    "import matplotlib.pyplot as plt\n",
    "def plot_cumhist_dfcols(merged_df):\n",
    "    col = (0.2, 0.4, 0.6, 0.4)\n",
    "    ref_columns = list(filter(lambda x : \"_ref\" in x, merged_df.columns.to_list())) #filter the reference columns from the merged df\n",
    "\n",
    "    for ref in ref_columns:\n",
    "        compare = ref.replace(\"_ref\", \"\")\n",
    "        plt.hist(merged_df[ref], 100, density=True, histtype='step', label='reference')\n",
    "        plt.hist(merged_df[compare], 100, density=True, histtype='step',label='compare')\n",
    "        corr = merged_df[ref].corr(merged_df[compare])\n",
    "        plt.title(f\"{ref} vs. {compare} corr {corr}\")\n",
    "        plt.show()"
   ]
  },
  {
   "cell_type": "code",
   "execution_count": null,
   "metadata": {},
   "outputs": [],
   "source": [
    "#export\n",
    "from matplotlib_venn import venn2\n",
    "from matplotlib import pyplot as plt\n",
    "def compare_peptid_protein_overlaps(protein_ref, protein_comp, peptide_ref, peptide_comp):\n",
    "    protIDs_ref = set(protein_ref[\"protein\"].to_list())\n",
    "    protIDs_comp = set(protein_comp[\"protein\"].to_list())\n",
    "    venn2([protIDs_ref, protIDs_comp], ('protIDs_ref', 'protIDs_comp'))\n",
    "    plt.show()\n",
    "    pepIDs_ref = set(peptide_ref[\"peptide\"].to_list())\n",
    "    pepIDs_comp = set(peptide_comp[\"peptide\"].to_list())\n",
    "    venn2([pepIDs_ref, pepIDs_comp], ('pepIDs_ref', 'pepIDs_comp'))\n",
    "    plt.show()"
   ]
  },
  {
   "cell_type": "code",
   "execution_count": null,
   "metadata": {},
   "outputs": [],
   "source": [
    "#export\n",
    "import matplotlib.pyplot as plt\n",
    "import seaborn as sns\n",
    "\n",
    "def plot_fold_change(df, key1, key2):\n",
    "    to_plot = df.copy()\n",
    "    to_plot[f'Ratio ({key1}/{key2})'] = np.log2(to_plot[key1] / to_plot[key2])\n",
    "    to_plot[f'Inten_{key1}'] = np.log10(to_plot[key1])\n",
    "\n",
    "    species = 'Human'\n",
    "    val = to_plot.loc[to_plot['species']==species, f'Ratio ({key1}/{key2})'].values\n",
    "    val = val[~np.isnan(val)&~np.isinf(val)&~np.isneginf(val)]\n",
    "    print(f'Species={species}, n={len(val)}, median={np.median(val)}, dev={np.std(val)}')\n",
    "    species='Ecoli'\n",
    "    val = to_plot.loc[to_plot['species']==species, f'Ratio ({key1}/{key2})'].values\n",
    "    val = val[~np.isnan(val)&~np.isinf(val)&~np.isneginf(val)]\n",
    "    print(f'species={species}, n={len(val)}, median={np.median(val)}, dev={np.std(val)}')\n",
    "\n",
    "    plt.figure(figsize=(7,7))\n",
    "    ax = sns.scatterplot(x=f'Ratio ({key1}/{key2})', y=f'Inten_{key1}', hue=\"species\", data=to_plot, alpha=0.5)\n",
    "    plt.title('Fold Change')\n",
    "    plt.xlim([-4.5, 6.5])\n",
    "    #plt.ylim([6,11.5])\n",
    "    plt.show()"
   ]
  }
 ],
 "metadata": {
  "kernelspec": {
   "display_name": "Python 3",
   "language": "python",
   "name": "python3"
  },
  "language_info": {
   "version": "3.8.5-final"
  }
 },
 "nbformat": 4,
 "nbformat_minor": 2
}