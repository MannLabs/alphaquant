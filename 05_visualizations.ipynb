{
 "cells": [
  {
   "cell_type": "code",
   "execution_count": null,
   "metadata": {},
   "outputs": [],
   "source": [
    "# default_exp visualizations"
   ]
  },
  {
   "cell_type": "code",
   "execution_count": 2,
   "metadata": {},
   "outputs": [],
   "source": [
    "#export\n",
    "import sys\n",
    "sys.path.append('/Users/constantin/workspace/EmpiRe/MS-EmpiRe_Python/')\n",
    "from ms_empire.diffquant_utils import *"
   ]
  },
  {
   "cell_type": "code",
   "execution_count": null,
   "metadata": {},
   "outputs": [],
   "source": [
    "#export\n",
    "import matplotlib.pyplot as plt\n",
    "import numpy as np\n",
    "\n",
    "def plot_pvals(result_df):\n",
    "    pvals = result_df[\"peptide_pval\"].to_list()\n",
    "    plt.hist(pvals,99,cumulative=True,density=True, histtype='step')\n",
    "    x = np.linspace(0,1,100)\n",
    "    plt.plot(x, x)\n",
    "    plt.show()"
   ]
  },
  {
   "cell_type": "code",
   "execution_count": null,
   "metadata": {},
   "outputs": [],
   "source": [
    "#export\n",
    "from scipy.stats import norm\n",
    "import matplotlib.pyplot as plt\n",
    "\n",
    "def plot_bgdist(bgdist):\n",
    "    fc2counts_rescaled = tranform_fc2count_to_fc_space(bgdist.fc2counts, bgdist.cumulative[-1],1/100.0)\n",
    "    \n",
    "    plt.bar(list(fc2counts_rescaled.keys()), fc2counts_rescaled.values(),width=0.01,color='g')\n",
    "    axes2 = plt.twinx()\n",
    "    x = np.linspace(-4, 4, 1000)\n",
    "    axes2.plot(x, norm.pdf(x, 0, bgdist.SD)/1.15)\n",
    "    axes2.set_ylim(0.0, 0.4)\n",
    "    plt.show()\n",
    "\n",
    "def tranform_fc2count_to_fc_space(fc2counts, num_fcs, rescale_factor):\n",
    "    fc2counts_fcscales = {}\n",
    "    for fc, count in fc2counts.items():\n",
    "        fc2counts_fcscales[fc*rescale_factor] = count/num_fcs\n",
    "\n",
    "    return fc2counts_fcscales"
   ]
  },
  {
   "cell_type": "code",
   "execution_count": null,
   "metadata": {},
   "outputs": [],
   "source": [
    "#export\n",
    "import matplotlib.pyplot as plt\n",
    "from scipy import stats\n",
    "\n",
    "def plot_betweencond_fcs(df_c1_normed, df_c2_normed, get_median):\n",
    "    if get_median:\n",
    "        df_c1_normed = df_c1_normed.median(axis = 1, skipna = True).to_frame()\n",
    "        df_c2_normed = df_c2_normed.median(axis = 1, skipna = True).to_frame()\n",
    "    both_idx = df_c1_normed.index.intersection(df_c2_normed.index)\n",
    "    df1 = df_c1_normed.loc[both_idx]\n",
    "    df2 = df_c2_normed.loc[both_idx]\n",
    "\n",
    "    for col1 in df1.columns:\n",
    "        for col2 in df2.columns:\n",
    "            diff_fcs = df1[col1].to_numpy() - df2[col2].to_numpy()\n",
    "            median = np.nanmedian(diff_fcs)\n",
    "            #plt.axvline(mode, color = 'blue')\n",
    "            plt.axvline(median, color = 'red')\n",
    "            plt.hist(diff_fcs,99,density=True, histtype='step', range=(-3.5,3.5))\n",
    "    plt.xlabel(\"log2(fc)\")\n",
    "    plt.show()"
   ]
  },
  {
   "cell_type": "code",
   "execution_count": null,
   "metadata": {},
   "outputs": [],
   "source": [
    "#export\n",
    "import matplotlib.pyplot as plt\n",
    "from scipy import stats\n",
    "import itertools\n",
    "\n",
    "def plot_withincond_fcs(df, xlim = None):\n",
    "    combs = list(itertools.combinations(df.columns, 2))\n",
    "    for cpair in combs:\n",
    "        col1 = cpair[0]\n",
    "        col2 = cpair[1]\n",
    "        diff_fcs = df[col1].to_numpy() - df[col2].to_numpy()\n",
    "        mode = stats.mode(diff_fcs, nan_policy='omit')[0][0]\n",
    "        median = np.nanmedian(diff_fcs)\n",
    "        #plt.axvline(mode, color = 'blue')\n",
    "        #plt.axvline(median, color = 'red')\n",
    "        plt.hist(diff_fcs,99,density=True, histtype='step',range=(-2,2))\n",
    "        plt.xlabel(\"log2 peptide fcs\")\n",
    "        \n",
    "    if xlim is not None:\n",
    "        plt.xlim(xlim) \n",
    "    plt.show()"
   ]
  },
  {
   "cell_type": "code",
   "execution_count": null,
   "metadata": {},
   "outputs": [
    {
     "name": "stdout",
     "output_type": "stream",
     "text": [
      "[1]\n"
     ]
    }
   ],
   "source": [
    "from scipy import stats\n",
    "mode = stats.mode([1,3,4,5,6,7,8,4,3,2,46,1,1,1])[0]\n",
    "print(mode)"
   ]
  },
  {
   "cell_type": "code",
   "execution_count": null,
   "metadata": {},
   "outputs": [],
   "source": [
    "#export\n",
    "import matplotlib.pyplot as plt\n",
    "def scatter_df_columns(merged_df, log_axes = False):\n",
    "    col = (0.2, 0.4, 0.6, 0.1)\n",
    "    ref_columns = list(filter(lambda x : \"_ref\" in x, merged_df.columns.to_list())) #filter the reference columns from the merged df\n",
    "\n",
    "    for ref in ref_columns:\n",
    "        compare = ref.replace(\"_ref\", \"\")\n",
    "        ax_p = merged_df.plot.scatter(x=ref,y=compare, color = col)\n",
    "        corr = merged_df[ref].corr(merged_df[compare])\n",
    "        plt.title(f\"{ref} vs. {compare} corr {corr}\")\n",
    "        x = np.linspace(0,merged_df[ref].max(),100)\n",
    "        plt.plot(x, x)\n",
    "        if log_axes:\n",
    "            plt.xscale('log')\n",
    "            plt.yscale('log')\n",
    "        plt.show()"
   ]
  },
  {
   "cell_type": "code",
   "execution_count": null,
   "metadata": {},
   "outputs": [],
   "source": [
    "#export\n",
    "import matplotlib.pyplot as plt\n",
    "def plot_cumhist_dfcols(merged_df):\n",
    "    col = (0.2, 0.4, 0.6, 0.4)\n",
    "    ref_columns = list(filter(lambda x : \"_ref\" in x, merged_df.columns.to_list())) #filter the reference columns from the merged df\n",
    "\n",
    "    for ref in ref_columns:\n",
    "        compare = ref.replace(\"_ref\", \"\")\n",
    "        plt.hist(merged_df[ref], 100, density=True, histtype='step', label='reference')\n",
    "        plt.hist(merged_df[compare], 100, density=True, histtype='step',label='compare')\n",
    "        corr = merged_df[ref].corr(merged_df[compare])\n",
    "        plt.title(f\"{ref} vs. {compare} corr {corr}\")\n",
    "        plt.show()"
   ]
  },
  {
   "cell_type": "code",
   "execution_count": null,
   "metadata": {},
   "outputs": [],
   "source": [
    "#export\n",
    "from matplotlib_venn import venn2\n",
    "from matplotlib import pyplot as plt\n",
    "def compare_peptid_protein_overlaps(protein_ref, protein_comp, peptide_ref, peptide_comp):\n",
    "    protIDs_ref = set(protein_ref[\"protein\"].to_list())\n",
    "    protIDs_comp = set(protein_comp[\"protein\"].to_list())\n",
    "    venn2([protIDs_ref, protIDs_comp], ('protIDs_ref', 'protIDs_comp'))\n",
    "    plt.show()\n",
    "    pepIDs_ref = set(peptide_ref[\"ion\"].to_list())\n",
    "    pepIDs_comp = set(peptide_comp[\"ion\"].to_list())\n",
    "    venn2([pepIDs_ref, pepIDs_comp], ('pepIDs_ref', 'pepIDs_comp'))\n",
    "    plt.show()"
   ]
  },
  {
   "cell_type": "code",
   "execution_count": null,
   "metadata": {},
   "outputs": [],
   "source": [
    "#export\n",
    "import matplotlib.pyplot as plt\n",
    "import seaborn as sns\n",
    "\n",
    "def plot_fold_change(df, key1, key2):\n",
    "    to_plot = df.copy()\n",
    "    to_plot[f'Ratio ({key1}/{key2})'] = np.log2(to_plot[key1] / to_plot[key2])\n",
    "    to_plot[f'Inten_{key1}'] = np.log10(to_plot[key1])\n",
    "\n",
    "    species = 'Human'\n",
    "    val = to_plot.loc[to_plot['species']==species, f'Ratio ({key1}/{key2})'].values\n",
    "    val = val[~np.isnan(val)&~np.isinf(val)&~np.isneginf(val)]\n",
    "    print(f'Species={species}, n={len(val)}, median={np.median(val)}, dev={np.std(val)}')\n",
    "    species='Ecoli'\n",
    "    val = to_plot.loc[to_plot['species']==species, f'Ratio ({key1}/{key2})'].values\n",
    "    val = val[~np.isnan(val)&~np.isinf(val)&~np.isneginf(val)]\n",
    "    print(f'species={species}, n={len(val)}, median={np.median(val)}, dev={np.std(val)}')\n",
    "\n",
    "    plt.figure(figsize=(7,7))\n",
    "    ax = sns.scatterplot(x=f'Ratio ({key1}/{key2})', y=f'Inten_{key1}', hue=\"species\", data=to_plot, alpha=0.5)\n",
    "    plt.title('Fold Change')\n",
    "    plt.xlim([-4.5, 6.5])\n",
    "    #plt.ylim([6,11.5])\n",
    "    plt.show()\n"
   ]
  },
  {
   "cell_type": "code",
   "execution_count": null,
   "metadata": {},
   "outputs": [],
   "source": [
    "#export\n",
    "import matplotlib.pyplot as plt\n",
    "\n",
    "import numpy as np\n",
    "\n",
    "def volcano_plot(result_df, fc_header = \"log2fc\", fdr_header = \"fdr\", significance_cutoff = 0.05, log2fc_cutoff = 0.5,ybound = None, xbound =None):\n",
    "    result_df[fdr_header] = result_df[fdr_header].replace(0, np.min(result_df[fdr_header].replace(0, 1.0)))\n",
    "    fdrs = result_df[fdr_header].to_numpy()\n",
    "    fcs = result_df[fc_header].to_numpy()\n",
    "    sighits_down = sum((fdrs<significance_cutoff) & (fcs <= -log2fc_cutoff))\n",
    "    sighits_up = sum((fdrs<significance_cutoff) & (fcs >= log2fc_cutoff))\n",
    "    plt.title(f\"{sighits_up} up, {sighits_down} down of {len(fcs)}\")\n",
    "    plt.scatter(result_df[fc_header],-np.log10(result_df[fdr_header]),s=10, c='grey', alpha = 0.1)\n",
    "    plt.xlabel('log2 FC',fontsize = 14)\n",
    "    plt.ylabel('-log10 FDR',fontsize = 14)\n",
    "\n",
    "    if ybound==None:\n",
    "        plt.ylim(0,max(-np.log10(result_df[fdr_header]))+0.5)\n",
    "    else:\n",
    "        plt.ylim(ybound)\n",
    "    if significance_cutoff>0:\n",
    "        plt.axhline(y=-np.log10(significance_cutoff), color='g', linestyle='-')\n",
    "    if log2fc_cutoff >0:\n",
    "        plt.axvline(x=log2fc_cutoff, color='g', linestyle='-')\n",
    "        plt.axvline(x=-log2fc_cutoff, color='g', linestyle='-')\n",
    "    maxfc = max(abs(result_df[fc_header]))+0.5\n",
    "    if xbound==None:\n",
    "        plt.xlim(-maxfc,maxfc)\n",
    "    else:\n",
    "        plt.xlim(xbound)\n",
    "    plt.show()\n"
   ]
  },
  {
   "cell_type": "code",
   "execution_count": 3,
   "metadata": {},
   "outputs": [],
   "source": [
    "#export\n",
    "import seaborn as sns\n",
    "import matplotlib.pyplot as plt\n",
    "\n",
    "def beeswarm_ion_plot(protein,diffresults_df,normed_df, sample2cond,saveloc = None,ion_header = 'ion'):\n",
    "    diffresults_line = diffresults_df.loc[protein]\n",
    "    fdr = diffresults_line[\"fdr\"]\n",
    "    value_vars = set.intersection(set(normed_df.columns), set(sample2cond.keys()))\n",
    "    protein_df = normed_df.loc[[protein]]\n",
    "    df_melted = pd.melt(protein_df, value_vars= value_vars, id_vars=[ion_header], value_name=\"intensity\", var_name=\"sample\")\n",
    "    df_melted[\"condition\"] = [sample2cond.get(x) for x in df_melted[\"sample\"]]\n",
    "    pal2 = [(0.94, 0.94, 0.94),(1.0, 1.0, 1.0)]\n",
    "    ax = sns.boxplot(x=\"ion\", y=\"intensity\", hue=\"condition\", data=df_melted, palette=pal2)\n",
    "    ax = sns.swarmplot(x=\"ion\", y=\"intensity\", hue=\"condition\", data=df_melted, palette=\"Set2\", dodge=True)\n",
    "    handles, labels = ax.get_legend_handles_labels()\n",
    "\n",
    "    l = plt.legend(handles[2:4], labels[2:4])\n",
    "\n",
    "    plt.xticks(rotation=90)\n",
    "    if \"gene\" in diffresults_df.columns:\n",
    "        gene = diffresults_line[\"gene\"].values[0]\n",
    "        plt.title(f\"{gene} ({protein}) FDR: {fdr:e.1}\")\n",
    "    else:\n",
    "        plt.title(f\"{protein} FDR: {fdr:e}\")\n",
    "    if saveloc is not None:\n",
    "        plt.savefig(saveloc)\n",
    "    \n",
    "    plt.show()"
   ]
  },
  {
   "cell_type": "code",
   "execution_count": null,
   "metadata": {},
   "outputs": [],
   "source": [
    "#export\n",
    "import pandas as pd\n",
    "\n",
    "def initialize_result_dataframes_per_condpair(cond1, cond2, result_folder, diffresults = \"default\", samplemap = \"samples.map\"):\n",
    "    'reads the standard AQ output tables for a given pair of conditions and initializes diffprots_df, normed_peptides_df, and sample2cond_dict'\n",
    "    condpair = get_condpairname([cond1, cond2])\n",
    "    if diffresults == \"default\":\n",
    "        diffresults = f\"{result_folder}/diffresults/{condpair}.results.tsv\" \n",
    "    diffprots = pd.read_csv(diffresults, sep = \"\\t\")\n",
    "    diffprots = diffprots[(diffprots[\"condpair\"] == condpair)]\n",
    "    samplemap_df, sample2cond = initialize_sample2cond(samplemap)\n",
    "    normed_peptides = pd.read_csv(f\"{result_folder}/diffresults/{condpair}.normed.tsv\", sep = \"\\t\")\n",
    "    normed_peptides[samplemap_df[\"sample\"].values] = np.log2(normed_peptides[samplemap_df[\"sample\"].values].replace(0, np.nan))\n",
    "    diffprots[\"-log10fdr\"] = -np.log10(diffprots[\"fdr\"])\n",
    "    diffprots = diffprots.set_index(\"protein\")\n",
    "    normed_peptides = normed_peptides.set_index(\"protein\")\n",
    "    return diffprots, normed_peptides, sample2cond\n"
   ]
  },
  {
   "cell_type": "code",
   "execution_count": null,
   "metadata": {},
   "outputs": [],
   "source": [
    "#export\n",
    "import pandas as pd\n",
    "\n",
    "def initialize_sample2cond(samplemap = \"samples.map\"):\n",
    "    samplemap_df = pd.read_csv(samplemap, sep = \"\\t\")\n",
    "    sample2cond = dict(zip(samplemap_df[\"sample\"], samplemap_df[\"condition\"]))\n",
    "    return samplemap_df, sample2cond"
   ]
  }
 ],
 "metadata": {
  "kernelspec": {
   "display_name": "Python 3.8.5 64-bit ('base': conda)",
   "name": "python385jvsc74a57bd0dca0ade3e726a953b501b15e8e990130d2b7799f14cfd9f4271676035ebe5511"
  },
  "language_info": {
   "codemirror_mode": {
    "name": "ipython",
    "version": 3
   },
   "file_extension": ".py",
   "mimetype": "text/x-python",
   "name": "python",
   "nbconvert_exporter": "python",
   "pygments_lexer": "ipython3",
   "version": "3.8.5-final"
  }
 },
 "nbformat": 4,
 "nbformat_minor": 2
}